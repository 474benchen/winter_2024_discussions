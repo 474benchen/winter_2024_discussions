{
 "cells": [
  {
   "cell_type": "markdown",
   "id": "9ac70a89",
   "metadata": {
    "slideshow": {
     "slide_type": "skip"
    }
   },
   "source": [
    "**note**: for anyone trying to view this as a slideshow, run 'pip install rise', reload your notebook, then click on the button that looks like a bar graph to the right of the command palette at the top."
   ]
  },
  {
   "cell_type": "markdown",
   "id": "0aaa7f3e",
   "metadata": {
    "slideshow": {
     "slide_type": "slide"
    }
   },
   "source": [
    "<center><h1>Discussion 7</h1></center>\n",
    "<center><h2>DSC 20, Winter 2024</h2><center>"
   ]
  },
  {
   "cell_type": "markdown",
   "id": "75c5e119",
   "metadata": {
    "slideshow": {
     "slide_type": "fragment"
    }
   },
   "source": [
    "<center><h3>Midterm Review</h3></center>\n",
    "\n",
    "<center>No worksheet today, go over past questions, look over practice exams</center>"
   ]
  },
  {
   "cell_type": "markdown",
   "id": "24d4d7ac",
   "metadata": {
    "slideshow": {
     "slide_type": "slide"
    }
   },
   "source": [
    "<center><h3> Announcements </h3></center>\n",
    "\n",
    "- midterm office hours tomorrow 4-7pm (HDSI 355)\n",
    "- midterm on friday, check the sheet for your seat and room\n",
    "- skill tests retake will happen afterwards"
   ]
  },
  {
   "cell_type": "markdown",
   "id": "172f9b03",
   "metadata": {
    "slideshow": {
     "slide_type": "slide"
    }
   },
   "source": [
    "<center><h3>Meme of the Week</h3></center>\n",
    "<br>\n",
    "\n",
    "<center><img src='imgs/meme.png' width = 550></center>"
   ]
  },
  {
   "cell_type": "markdown",
   "id": "c8f91290",
   "metadata": {
    "slideshow": {
     "slide_type": "slide"
    }
   },
   "source": [
    "<center><h3>Agenda</h3></center>\n",
    "\n",
    "Topics:\n",
    "- Basics\n",
    "- Loops\n",
    "- Data Types\n",
    "- return vs print\n",
    "- Files\n",
    "- List Comp\n",
    "- Lambda\n",
    "- Iterator/map/filter\n",
    "- HOF\n",
    "- Complexity\n",
    "- Advanced argument passing\n",
    "- Recursion"
   ]
  },
  {
   "cell_type": "markdown",
   "id": "9a54e733",
   "metadata": {
    "slideshow": {
     "slide_type": "slide"
    }
   },
   "source": [
    "<center> <h3>Basic Operations</h3> </center>\n",
    "\n",
    "<b style=\"color:blue;\">+</b> - Numerical addition / concatenation operator\n",
    "\n",
    "<b style=\"color:blue;\">-</b> - Numerical Subtraction operator\n",
    "\n",
    "<b style=\"color:blue;\">/</b> - Classic Division operator\n",
    "\n",
    "<b style=\"color:blue;\">//</b> - Floor Division operator\n",
    "\n",
    "<b style=\"color:blue;\">*</b> - Numerical Multiplication / repetition operator\n",
    "\n",
    "<b style=\"color:blue;\">**</b> - Numerical Exponential operator\n",
    "\n",
    "<b style=\"color:blue;\">%</b> - Numeric remainder operator"
   ]
  },
  {
   "cell_type": "markdown",
   "id": "e7ea9906",
   "metadata": {
    "slideshow": {
     "slide_type": "slide"
    }
   },
   "source": [
    "<center><h3 style = 'color:blue'> Checkpoint </h3></center>\n",
    "\n",
    "<center>What is the result of this expression?</center>"
   ]
  },
  {
   "cell_type": "code",
   "execution_count": null,
   "id": "ad2aa731",
   "metadata": {
    "slideshow": {
     "slide_type": "fragment"
    }
   },
   "outputs": [],
   "source": [
    "2 ** ((int(3.7) // 2) % 2)"
   ]
  },
  {
   "cell_type": "markdown",
   "id": "8fb5a4f2",
   "metadata": {
    "slideshow": {
     "slide_type": "fragment"
    }
   },
   "source": [
    "A. 0\n",
    "\n",
    "B. 1\n",
    "\n",
    "C. 2\n",
    "\n",
    "D. 4"
   ]
  },
  {
   "cell_type": "markdown",
   "id": "0e046256",
   "metadata": {
    "slideshow": {
     "slide_type": "slide"
    }
   },
   "source": [
    "<center><h3 style = 'color:blue'> Checkpoint Solution </h3></center>"
   ]
  },
  {
   "cell_type": "code",
   "execution_count": 8,
   "id": "9103a48e",
   "metadata": {
    "slideshow": {
     "slide_type": "fragment"
    }
   },
   "outputs": [
    {
     "data": {
      "text/plain": [
       "2"
      ]
     },
     "execution_count": 8,
     "metadata": {},
     "output_type": "execute_result"
    }
   ],
   "source": [
    "2 ** ((int(3.7) // 2) % 2)"
   ]
  },
  {
   "cell_type": "markdown",
   "id": "a3140403",
   "metadata": {
    "slideshow": {
     "slide_type": "slide"
    }
   },
   "source": [
    "<center> <h3>Boolean Operators</h3> </center>\n",
    "\n",
    "<u>Logical Operators (in order priority)</u>:\n",
    "<ul>\n",
    "    <li> <b style = \"color:purple;\">not</b> - reverses the outcome of the following expression\n",
    "    <li> <b style = \"color:purple;\">and</b> - all expressions compared with “and” must be True to evaluate True\n",
    "    <li> <b style = \"color:purple;\">or</b> - at least one expression compared with “or” must be True to evaluate True\n",
    "</ul>\n",
    "\n",
    "<u>Comparison Operators (generates booleans)</u>:\n",
    "<ul>\n",
    "    <li> <b style = \"color:purple;\">==</b> - equality check\n",
    "    <li> <b style = \"color:purple;\">!=</b> - inequality check\n",
    "    <li> <b style = \"color:purple;\">>, >=, <, <=</b> directional check\n",
    "</ul>\n",
    "\n",
    "note: order of evaluation is overriden by parentheses (just like PEMDAS)"
   ]
  },
  {
   "cell_type": "markdown",
   "id": "9803c380",
   "metadata": {
    "slideshow": {
     "slide_type": "slide"
    }
   },
   "source": [
    "<center> <h3>Short-circuits</h3> </center>\n",
    "\n",
    "- In python, expressions are evaluated from left to right\n",
    "- With certain operations, a \"short-ciruit\" can happen if conditions are met\n",
    "- Certain functions within python also act as short-circuits -> return is a short circuit\n"
   ]
  },
  {
   "cell_type": "markdown",
   "id": "27f6b923",
   "metadata": {
    "slideshow": {
     "slide_type": "slide"
    }
   },
   "source": [
    "<center> <h3>Conditional Statements</h3> </center>\n",
    "\n",
    "if (boolean expression):\n",
    "\t<p> &emsp;<mark>//Do stuff</mark></p>\n",
    "    \n",
    "elif (other boolean expression):  \n",
    "\n",
    "<b>note: </b>elif is optional, can have as many elifs as necessary\n",
    "\t<p> &emsp;<mark>//Do other stuff</mark></p>\n",
    "    \n",
    "else: \n",
    "\n",
    "<b>note: </b>else is optional, will execute only if the conditions in the “if” and “elif” statements are not true. \"else\" is the final part of a chained conditional statement.\n",
    "\t<p> &emsp;<mark>//Do other other stuff</mark></p>\n",
    "\n"
   ]
  },
  {
   "cell_type": "markdown",
   "id": "f60ed1c4",
   "metadata": {
    "slideshow": {
     "slide_type": "slide"
    }
   },
   "source": [
    "<center><h3 style = 'color:blue'> Checkpoint </h3></center>\n",
    "\n",
    "<center>What is the result of this expression?</center>"
   ]
  },
  {
   "cell_type": "code",
   "execution_count": null,
   "id": "07746c05",
   "metadata": {
    "slideshow": {
     "slide_type": "fragment"
    }
   },
   "outputs": [],
   "source": [
    "def foo(x):\n",
    "    if x%2==0 and x//0:\n",
    "        return x\n",
    "    else:\n",
    "        return 'oops'\n",
    "foo(3)"
   ]
  },
  {
   "cell_type": "markdown",
   "id": "d452aea3",
   "metadata": {
    "slideshow": {
     "slide_type": "fragment"
    }
   },
   "source": [
    "A. 'oops'\n",
    "\n",
    "B. 3\n",
    "\n",
    "C. Error"
   ]
  },
  {
   "cell_type": "markdown",
   "id": "bf85a189",
   "metadata": {
    "slideshow": {
     "slide_type": "slide"
    }
   },
   "source": [
    "<center><h3 style = 'color:blue'> Checkpoint Solution </h3></center>\n"
   ]
  },
  {
   "cell_type": "code",
   "execution_count": 10,
   "id": "3d67a978",
   "metadata": {
    "slideshow": {
     "slide_type": "fragment"
    }
   },
   "outputs": [
    {
     "data": {
      "text/plain": [
       "'oops'"
      ]
     },
     "execution_count": 10,
     "metadata": {},
     "output_type": "execute_result"
    }
   ],
   "source": [
    "def foo(x):\n",
    "    if x%2==0 and x//0:\n",
    "        return x\n",
    "    else:\n",
    "        return 'oops'\n",
    "foo(3)"
   ]
  },
  {
   "cell_type": "markdown",
   "id": "af634b17",
   "metadata": {
    "slideshow": {
     "slide_type": "slide"
    }
   },
   "source": [
    "<center> <h3>return vs print</h3> </center>\n",
    "\n",
    "<b>'return'</b> is a very important and special keyword in python\n",
    "- It's python's functional way to pass a value out of a function\n",
    "- not every function needs a return (but many have one)\n",
    "- functions with no explicitly defined return will return None by default\n",
    "\n",
    "<b>'print'</b> displays some output onto a console\n",
    "- commonly used for debugging, sometimes integral to the purpose of a function.\n",
    "- print's result is None (it doesn't \"return\" a meaningful value)"
   ]
  },
  {
   "cell_type": "markdown",
   "id": "9c3c16b7",
   "metadata": {
    "slideshow": {
     "slide_type": "slide"
    }
   },
   "source": [
    "<center><h3>Doctests</h3></center>\n",
    "<ul>\n",
    "    <li> Tests to check that your function works as intended\n",
    "    <li> denoted by the '>>> ' symbol (space included)!\n",
    "    <li> the line right after the '>>> ' represents the intended output\n",
    "    <li> well written doctests make sure your code is logically sound\n",
    "</ul>"
   ]
  },
  {
   "cell_type": "markdown",
   "id": "ba696659",
   "metadata": {
    "slideshow": {
     "slide_type": "slide"
    }
   },
   "source": [
    "<center><h3 style = 'color:blue'> Checkpoint </h3></center>\n",
    "\n",
    "<center>What is the result of this expression?</center>"
   ]
  },
  {
   "cell_type": "code",
   "execution_count": null,
   "id": "de2a6098",
   "metadata": {
    "slideshow": {
     "slide_type": "fragment"
    }
   },
   "outputs": [],
   "source": [
    "def fizz(x):\n",
    "    return print(x)\n",
    "fizz(10)"
   ]
  },
  {
   "cell_type": "markdown",
   "id": "023c7e18",
   "metadata": {
    "slideshow": {
     "slide_type": "fragment"
    }
   },
   "source": [
    "A. None\n",
    "\n",
    "B. None\n",
    "None\n",
    "\n",
    "C. 10\n",
    "10\n",
    "\n",
    "D. 10\n",
    "None"
   ]
  },
  {
   "cell_type": "markdown",
   "id": "91236da6",
   "metadata": {
    "slideshow": {
     "slide_type": "slide"
    }
   },
   "source": [
    "<center><h3 style = 'color:blue'> Checkpoint Solution </h3></center>"
   ]
  },
  {
   "cell_type": "code",
   "execution_count": 14,
   "id": "089b1fda",
   "metadata": {
    "slideshow": {
     "slide_type": "fragment"
    }
   },
   "outputs": [
    {
     "name": "stdout",
     "output_type": "stream",
     "text": [
      "10\n",
      "None\n"
     ]
    }
   ],
   "source": [
    "def fizz(x):\n",
    "    return print(x)\n",
    "x=fizz(10)\n",
    "print(x)"
   ]
  },
  {
   "cell_type": "markdown",
   "id": "9d99bd91",
   "metadata": {
    "slideshow": {
     "slide_type": "slide"
    }
   },
   "source": [
    "<center> <h3>Loops</h3> </center>\n",
    "\n",
    "<center>Loops are used to <b style = 'color:blue'>repeat computations</b> many times.</center>\n",
    "\n",
    "- Two types of loops:\n",
    "    - <mark style= \"color:blue; background-color: white\" >While loop</mark>: Uses  logical conditions, useful for when the number of iterations is unknown (as long as a condition is true, code will run).\n",
    "    - <mark style= \"color:blue; background-color: white\" >For loop </mark>: Uses an iterable object (ex. list), usually for when the number repetition is known."
   ]
  },
  {
   "cell_type": "markdown",
   "id": "86f15031",
   "metadata": {
    "slideshow": {
     "slide_type": "slide"
    }
   },
   "source": [
    "<center> <h3>Mutability</h3> </center>\n",
    "\n",
    "<ul>\n",
    "    <li> Object is mutable if it can be directly changed after it is created\n",
    "    <li> If it can't, it is immutable\n",
    "    <li> Lists are <b style='color:blue'>mutable</b>\n",
    "    <li> strings, tuples, and numbers are <b style='color:red'>immutable</b>\n",
    "</ul>"
   ]
  },
  {
   "cell_type": "markdown",
   "id": "45699f40",
   "metadata": {
    "slideshow": {
     "slide_type": "slide"
    }
   },
   "source": [
    "<center><h3 style = 'color:blue'> Checkpoint </h3></center>\n",
    "\n",
    "<center>What is the result of this expression?</center>"
   ]
  },
  {
   "cell_type": "code",
   "execution_count": null,
   "id": "79f7344f",
   "metadata": {
    "slideshow": {
     "slide_type": "fragment"
    }
   },
   "outputs": [],
   "source": [
    "def buzz(x):\n",
    "    output = ''\n",
    "    for i in x:\n",
    "        if i.isnumeric():\n",
    "            output +=i\n",
    "        else:\n",
    "            i = 'Z'\n",
    "            output +=i\n",
    "    return output\n",
    "\n",
    "buzz('abc123')"
   ]
  },
  {
   "cell_type": "markdown",
   "id": "a1428684",
   "metadata": {
    "slideshow": {
     "slide_type": "fragment"
    }
   },
   "source": [
    "A. 'ZZZ123'\n",
    "\n",
    "B. 'ZZZZZZ'\n",
    "\n",
    "C. 'abcZZZ'\n",
    "\n",
    "D. Error"
   ]
  },
  {
   "cell_type": "markdown",
   "id": "772741ed",
   "metadata": {
    "slideshow": {
     "slide_type": "slide"
    }
   },
   "source": [
    "<center><h3 style = 'color:blue'> Checkpoint Solution </h3></center>"
   ]
  },
  {
   "cell_type": "code",
   "execution_count": 15,
   "id": "396bd5d3",
   "metadata": {
    "slideshow": {
     "slide_type": "fragment"
    }
   },
   "outputs": [
    {
     "data": {
      "text/plain": [
       "'ZZZ123'"
      ]
     },
     "execution_count": 15,
     "metadata": {},
     "output_type": "execute_result"
    }
   ],
   "source": [
    "def buzz(x):\n",
    "    output = ''\n",
    "    for i in x:\n",
    "        if i.isnumeric():\n",
    "            output +=i\n",
    "        else:\n",
    "            i = 'Z'\n",
    "            output +=i\n",
    "    return output\n",
    "\n",
    "buzz('abc123')"
   ]
  },
  {
   "cell_type": "markdown",
   "id": "b581e4c7",
   "metadata": {
    "slideshow": {
     "slide_type": "slide"
    }
   },
   "source": [
    "<center> <h3>Lists, Tuples, Sets</h3> </center>\n",
    "\n",
    "<u>List</u>\n",
    "- Mutable vector of values\n",
    "- Can store any data type, multiple types at a time\n",
    "- Elements are acccessed via indexing\n",
    "\n",
    "<u>Tuple</u>\n",
    "- <b>Immutable</b> vector of values\n",
    "- all else equal to list\n",
    "\n",
    "<u>Set</u>\n",
    "- Mutable vector of values\n",
    "- Only stores unique elements (removes duplicates)\n",
    "- otherwise, list like behavior"
   ]
  },
  {
   "cell_type": "markdown",
   "id": "2f48dd12",
   "metadata": {
    "slideshow": {
     "slide_type": "slide"
    }
   },
   "source": [
    "<center><h3>Indexing/Slicing</h3></center>\n",
    "\n",
    "<center> Indexing/slicing refers to accessing specific element(s) from an iterable object. Two of the most common cases for this are lists and strings. Indexing results in a copy (unless reasssigned)!</center>\n",
    "\n",
    "- iterable[start:stop:skip] (start:inclusive, stop: NOT inclusive)\n",
    "- not every section needs to be specified (can just use start or stop or skip)\n",
    "- sub indexes can be applied (ex. lst[0][0] -> takes the first element of the first element)\n",
    "- Trying to access an index that doesn't exist in the list will result in an error"
   ]
  },
  {
   "cell_type": "markdown",
   "id": "4da542ac",
   "metadata": {
    "slideshow": {
     "slide_type": "slide"
    }
   },
   "source": [
    "<center><h3 style = 'color:blue'> Checkpoint </h3></center>\n",
    "\n",
    "<center>What is the result of this expression?</center>"
   ]
  },
  {
   "cell_type": "code",
   "execution_count": null,
   "id": "766241cb",
   "metadata": {
    "slideshow": {
     "slide_type": "fragment"
    }
   },
   "outputs": [],
   "source": [
    "lst = list(range(0,11))\n",
    "lst[3:8:2][::-1]"
   ]
  },
  {
   "cell_type": "markdown",
   "id": "fac83185",
   "metadata": {
    "slideshow": {
     "slide_type": "fragment"
    }
   },
   "source": [
    "A. [7, 5, 3]\n",
    "\n",
    "B. [3, 5, 7]\n",
    "\n",
    "C. [2, 4, 6]\n",
    "\n",
    "D. [6, 4, 2]"
   ]
  },
  {
   "cell_type": "markdown",
   "id": "2ee553fc",
   "metadata": {
    "slideshow": {
     "slide_type": "slide"
    }
   },
   "source": [
    "<center><h3 style = 'color:blue'> Checkpoint Solution </h3></center>"
   ]
  },
  {
   "cell_type": "code",
   "execution_count": 22,
   "id": "19acb96e",
   "metadata": {
    "slideshow": {
     "slide_type": "fragment"
    }
   },
   "outputs": [
    {
     "data": {
      "text/plain": [
       "[7, 5, 3]"
      ]
     },
     "execution_count": 22,
     "metadata": {},
     "output_type": "execute_result"
    }
   ],
   "source": [
    "lst = list(range(0,11))\n",
    "lst[3:8:2][::-1]"
   ]
  },
  {
   "cell_type": "markdown",
   "id": "8dbe6e08",
   "metadata": {
    "slideshow": {
     "slide_type": "slide"
    }
   },
   "source": [
    "<center><h3> List Comprehension </h3> </center>\n",
    "<ul>\n",
    "    <li> Fancy, shorthand method of writing for loops\n",
    "    <li> Syntax changes depending on use case\n",
    "    <li> can be nested in each other, just like lists\n",
    "    <li> Can contain multiple for loops in one list comp\n",
    "    <li> Can also be a nested loop\n",
    "        \n",
    "<br>\n",
    "<b style='color:blue'>Syntax</b>\n",
    "<ul>\n",
    "    <li> [x for x in iterable]\n",
    "    <li> [x for x in iterable if (condition)]\n",
    "    <li> [x if (condition) else y for x in iterable]\n",
    "    <li> [x if (condition) else y if (condition) else z for x in iterable]"
   ]
  },
  {
   "cell_type": "markdown",
   "id": "387a1af5",
   "metadata": {
    "slideshow": {
     "slide_type": "slide"
    }
   },
   "source": [
    "<center><h3> Dictionaries </h3></center>\n",
    "<ul>\n",
    "    <li> Mutable storage of key, value pairs\n",
    "    <li> Can store any data type, multiple at a time\n",
    "    <li> Elements are acccessed via keys\n",
    "    <li> keys must be <b style = 'color:blue'>hashable</b> and <b style = 'color:blue'>unique</b>\n",
    "</ul>\n",
    "\n",
    "<u> methods </u>\n",
    "- accessing keys (as a list) -> dict.keys()\n",
    "- accessing values (as a list) -> dict.values()\n",
    "- accessing key,value pairs (as a list of tuples) -> dict.items()\n",
    "\n",
    "<center>\n",
    "<b style = 'color:blue'>note</b>: hashablility correlates to the stability of the data - essentially, <b>data that <b style = 'color:blue'>can't</b> change is hashable</b> (int, str, tuple, etc.) while <b>data that <b style = 'color:blue'>can</b> change is not hashable (list, dictionary). Basically, it's all about mutability!</b> </center>"
   ]
  },
  {
   "cell_type": "markdown",
   "id": "c12e10d3",
   "metadata": {
    "slideshow": {
     "slide_type": "slide"
    }
   },
   "source": [
    "<center><h3>Dictionary Comprehension</h3></center>\n",
    "\n",
    "<ul>\n",
    "    <li> Fancy, shorthand method of populating dictionaries\n",
    "    <li> Syntax changes depending on use case\n",
    "</ul>\n",
    "\n",
    "<b style='color:blue'>Syntax</b>\n",
    "\n",
    "- basically the same as list comp, but now it expects key:value\n",
    "- can include a list comp!"
   ]
  },
  {
   "cell_type": "markdown",
   "id": "6bebcae1",
   "metadata": {
    "slideshow": {
     "slide_type": "slide"
    }
   },
   "source": [
    "<center><h3 style = 'color:blue'> Checkpoint </h3></center>\n",
    "\n",
    "<center>Write an expression to yield the value 'marina'</center>"
   ]
  },
  {
   "cell_type": "code",
   "execution_count": 23,
   "id": "bd382198",
   "metadata": {
    "slideshow": {
     "slide_type": "fragment"
    }
   },
   "outputs": [],
   "source": [
    "dct = {\n",
    "    \"nikki\":{\"nikki\":1}, \n",
    "    ('a','b','c'):[1, {'nikki':'marina'}], \n",
    "    'max':'nikki'\n",
    "}"
   ]
  },
  {
   "cell_type": "markdown",
   "id": "1f7e9988",
   "metadata": {
    "slideshow": {
     "slide_type": "fragment"
    }
   },
   "source": [
    "A. list(dct[('a','b','c')][0].items())[0][1]\n",
    "\n",
    "B. dct['nikki']['nikki']\n",
    "\n",
    "C. dct[('a','b','c')][1][0]\n",
    "\n",
    "D. list(dct[('a','b','c')][1].values())[0]"
   ]
  },
  {
   "cell_type": "markdown",
   "id": "7426ec55",
   "metadata": {
    "slideshow": {
     "slide_type": "slide"
    }
   },
   "source": [
    "<center><h3 style = 'color:blue'> Checkpoint Solution </h3></center>"
   ]
  },
  {
   "cell_type": "code",
   "execution_count": 1,
   "id": "b58276b8",
   "metadata": {
    "slideshow": {
     "slide_type": "fragment"
    }
   },
   "outputs": [
    {
     "data": {
      "text/plain": [
       "'marina'"
      ]
     },
     "execution_count": 1,
     "metadata": {},
     "output_type": "execute_result"
    }
   ],
   "source": [
    "dct = {\n",
    "    \"nikki\":{\"nikki\":1}, \n",
    "    ('a','b','c'):[1, {'nikki':'marina'}], \n",
    "    'max':'nikki'\n",
    "}\n",
    "list(dct[('a','b','c')][1].values())[0]"
   ]
  },
  {
   "cell_type": "markdown",
   "id": "ff813754",
   "metadata": {
    "slideshow": {
     "slide_type": "slide"
    }
   },
   "source": [
    "<center><h3 style = 'color:blue'> Checkpoint </h3></center>\n",
    "\n",
    "<center>What is the result of this expression? (Bonus: What is the function calculating?)</center>"
   ]
  },
  {
   "cell_type": "code",
   "execution_count": null,
   "id": "4ac44b32",
   "metadata": {
    "slideshow": {
     "slide_type": "fragment"
    }
   },
   "outputs": [],
   "source": [
    "def boo(x):\n",
    "    return {a:[b for b in range(1,a+1) if a%b==0] for a in range(1,x+1)}\n",
    "boo(6)"
   ]
  },
  {
   "cell_type": "markdown",
   "id": "d61aed96",
   "metadata": {
    "slideshow": {
     "slide_type": "fragment"
    }
   },
   "source": [
    "A. {1: [1], 2: [1, 2], 3: [1, 3], 4: [1, 2, 3, 4], 5: [1, 5], 6: [1, 3, 6]}\n",
    "\n",
    "B. {1: [1], 2: [1, 2], 3: [1, 2, 3], 4: [1, 2, 4], 5: [1, 2, 5], 6: [1, 2, 3, 4, 6]}\n",
    "\n",
    "C. {1: [1], 2: [1, 2], 3: [1, 2, 3], 4: [1, 2, 3, 4], 5: [1, 2, 3, 4, 5], 6: [1, 2, 3, 4, 5, 6]}\n",
    "\n",
    "D. {1: [1], 2: [1, 2], 3: [1, 3], 4: [1, 2, 4], 5: [1, 5], 6: [1, 2, 3, 6]}"
   ]
  },
  {
   "cell_type": "markdown",
   "id": "163a610a",
   "metadata": {
    "slideshow": {
     "slide_type": "slide"
    }
   },
   "source": [
    "<center><h3 style = 'color:blue'> Checkpoint Solution </h3></center>"
   ]
  },
  {
   "cell_type": "code",
   "execution_count": 35,
   "id": "e43a05da",
   "metadata": {
    "slideshow": {
     "slide_type": "fragment"
    }
   },
   "outputs": [
    {
     "data": {
      "text/plain": [
       "{1: [1], 2: [1, 2], 3: [1, 3], 4: [1, 2, 4], 5: [1, 5], 6: [1, 2, 3, 6]}"
      ]
     },
     "execution_count": 35,
     "metadata": {},
     "output_type": "execute_result"
    }
   ],
   "source": [
    "def factor_decomposer(x):\n",
    "    return {a:[b for b in range(1,a+1) if a%b==0] for a in range(1,x+1)}\n",
    "factor_decomposer(6)"
   ]
  },
  {
   "cell_type": "markdown",
   "id": "cc5a9156",
   "metadata": {
    "slideshow": {
     "slide_type": "slide"
    }
   },
   "source": [
    "<center><h3> Files </h3></center>\n",
    "<ul>\n",
    "    <li> storage for data (think csv's from DSC10, txt's from assignments, etc.)\n",
    "    <li> unique methods to access within code\n",
    "</ul>\n",
    "\n",
    "<u> Access Modes </u>\n",
    "\n",
    "<b> Write </b>: 'w' -> every time the file is opened in write mode, the file is wiped. Calling file.write() will add in your data.\n",
    "\n",
    "<b> Append </b>: 'a' -> file.write() will append your data to what existed in the file beforehand.\n",
    "\n",
    "<b> Read </b>: 'r' -> no writing privilege, can only pull the data from the file with relevant methods.\n",
    "\n",
    "<b>note</b>: If you try to open a file in write mode that doesn't exist, python will create it."
   ]
  },
  {
   "cell_type": "markdown",
   "id": "a74cfc54",
   "metadata": {
    "slideshow": {
     "slide_type": "slide"
    }
   },
   "source": [
    "<center><h3>Text Processing</h3></center>\n",
    "\n",
    "<u>reading data</u>:\n",
    "- file.read() -> reads in all the data as a single string\n",
    "- file.readline() -> reads in data line by line (has to be recalled)\n",
    "- file.readlines() -> reads in all the data as a list where each line is another element of the list\n",
    "\n",
    "<center> After reading in the data, you can transform it however you'd like, and then rewrite it back into the file using .write() (if this is relevant).</center>"
   ]
  },
  {
   "cell_type": "markdown",
   "id": "579411da",
   "metadata": {
    "slideshow": {
     "slide_type": "slide"
    }
   },
   "source": [
    "<center><h3>Assert Statements</h3></center>\n",
    "<ul>\n",
    "    <li> Used to evaluate written code\n",
    "    <li> <b style='color:blue'>asserts</b> -> input validation (are the arguments the correct types?)\n",
    "    <li> Often combined with boolean functions (any(), all(), etc.)"
   ]
  },
  {
   "cell_type": "markdown",
   "id": "b97d8096",
   "metadata": {
    "slideshow": {
     "slide_type": "slide"
    }
   },
   "source": [
    "<center><h3> Lambda Functions </h3></center>\n",
    "<ul>\n",
    "    <li> known as anonymous functions (their functions are so simple, they don't need a name)\n",
    "    <li> syntax: lambda (input): (some operation)\n",
    "    <li> within the scope of this course, lambda is used in conjunction with map and filter"
   ]
  },
  {
   "cell_type": "markdown",
   "id": "78300e88",
   "metadata": {
    "slideshow": {
     "slide_type": "slide"
    }
   },
   "source": [
    "<center><h3>Iterator</h3></center>\n",
    "Iterator -\n",
    "<b>Syntax: iter(iterable)</b>, <b>next(iterator)</b>\n",
    "<ul>\n",
    "    <li> An iterator in Python is an object that can be iterated upon, meaning that you can traverse through all the values.\n",
    "    <li> Typically, an iterator is created from an iterable using the <code>iter()</code> function and the elements are accessed via the <code>next()</code> function.\n",
    "    <li> Iterators remember the state as you traverse through them. The next call to <code>next()</code> starts off where the previous one stopped.\n",
    "</ul>\n"
   ]
  },
  {
   "cell_type": "markdown",
   "id": "5ee1197d",
   "metadata": {
    "slideshow": {
     "slide_type": "slide"
    }
   },
   "source": [
    "<center><h3>Map</h3></center>\n",
    "Map -\n",
    "<b>Syntax: map(function, iterable)</b>\n",
    "<ul>\n",
    "    <li> Map allows you to apply a function to all elements to an iterable input\n",
    "    <li> very common to use a lambda function as the function to apply\n",
    "    <li> returns a lazy iterator through the iterable object, applying the function as it traverses\n",
    "</ul>"
   ]
  },
  {
   "cell_type": "markdown",
   "id": "29e5b041",
   "metadata": {
    "slideshow": {
     "slide_type": "slide"
    }
   },
   "source": [
    "<center><h3>Filter</h3></center>\n",
    "\n",
    "Filter - \n",
    "<b>Syntax: filter(function, iterable)</b>\n",
    "<ul>\n",
    "    <li> Filter takes in a function that returns a boolean and only keeps elements that satisfy the function (i.e. return True).\n",
    "    <li> Very common to use a lambda function as the function to apply, but keep in mind the function <b>must return a boolean</b>.\n",
    "    <li> Returns a lazy iterator through the iterable object that only yields values that pass the function.\n",
    "</ul>"
   ]
  },
  {
   "cell_type": "markdown",
   "id": "b6404d3b",
   "metadata": {
    "slideshow": {
     "slide_type": "slide"
    }
   },
   "source": [
    "<center><h3 style = 'color:blue'> Checkpoint </h3></center>\n",
    "\n",
    "<center>Given a file with the following content, use map/filter/lambda to create a dictionary consisting of entries from people from 'California' who are above 18.</center>"
   ]
  },
  {
   "cell_type": "code",
   "execution_count": null,
   "id": "cf2f5e53",
   "metadata": {
    "slideshow": {
     "slide_type": "fragment"
    }
   },
   "outputs": [],
   "source": [
    "marina,Russia,30\n",
    "ben,Taiwan,21\n",
    "bryce,California,20\n",
    "Anish,California,18"
   ]
  },
  {
   "cell_type": "code",
   "execution_count": null,
   "id": "3d6e4b56",
   "metadata": {
    "slideshow": {
     "slide_type": "fragment"
    }
   },
   "outputs": [],
   "source": [
    "def people_filter(file_path):\n",
    "    \"\"\"\n",
    "    >>> people_filter('files/people.txt')\n",
    "    {'bryce':['California', '20']}\n",
    "    \"\"\"\n",
    "    # Either try writing it\n",
    "    # or think about what steps you would do"
   ]
  },
  {
   "cell_type": "markdown",
   "id": "2984b324",
   "metadata": {
    "slideshow": {
     "slide_type": "slide"
    }
   },
   "source": [
    "<center><h3 style = 'color:blue'> Checkpoint Solution </h3></center>"
   ]
  },
  {
   "cell_type": "code",
   "execution_count": 46,
   "id": "5fcd4a09",
   "metadata": {
    "slideshow": {
     "slide_type": "fragment"
    }
   },
   "outputs": [],
   "source": [
    "def people_filter(file_path):\n",
    "    with open(file_path, 'r') as f:\n",
    "        data = f.readlines()\n",
    "    filtered_cali = filter(lambda x: x.split(',')[1]=='California', data)\n",
    "    filtered_age = filter(lambda x: int(x.split(',')[2]) > 18, filtered_cali)\n",
    "    stripped = map(lambda x: x.strip(), filtered_age)\n",
    "    return dict(map(lambda x: (x.split(',')[0], x.split(',')[1:]),stripped))"
   ]
  },
  {
   "cell_type": "code",
   "execution_count": 47,
   "id": "459e1116",
   "metadata": {
    "slideshow": {
     "slide_type": "fragment"
    }
   },
   "outputs": [
    {
     "data": {
      "text/plain": [
       "{'bryce': ['California', '20']}"
      ]
     },
     "execution_count": 47,
     "metadata": {},
     "output_type": "execute_result"
    }
   ],
   "source": [
    "people_filter('files/people.txt')"
   ]
  },
  {
   "cell_type": "markdown",
   "id": "bb94c8a2",
   "metadata": {
    "slideshow": {
     "slide_type": "slide"
    }
   },
   "source": [
    "<center><h3>HOF</h3></center>\n",
    "\n",
    "- Algorithm design framework to create generalized code\n",
    "\n",
    "- Functions that either return functions or use other functions\n",
    "\n",
    "- Helper functions!\n",
    "\n",
    "- Many uses, including abstraction, scope protection, etc."
   ]
  },
  {
   "cell_type": "markdown",
   "id": "8a1ce680",
   "metadata": {
    "slideshow": {
     "slide_type": "slide"
    }
   },
   "source": [
    "<center><h3>Complexity Fundamentals</h3></center>\n",
    "\n",
    "<center>Time complexity is an empirical method to measure the efficiency of code. Since everyone's computer is different, we can't compare code with actual numbers. Instead, we classify them into different runtime categories that allow us to infer its runtime relative to our input.</center>\n",
    "\n",
    "1. Code should be quantified into big O values\n",
    "\n",
    "2. Nested code will have compounded big O values\n",
    "\n",
    "3. The largest term dictates the growth rate (i.e. only largest term matters)\n",
    "\n",
    "4. Constants are irrelevant\n",
    "\n",
    "5. big O analysis uses similar ideas to calculus and limits - reference your math knowledge\n"
   ]
  },
  {
   "cell_type": "markdown",
   "id": "d851326c",
   "metadata": {
    "slideshow": {
     "slide_type": "slide"
    }
   },
   "source": [
    "<center><h3>Complexity - Calculation</h3></center>\n",
    "\n",
    "<b style='color:blue'>tips</b>:\n",
    "1. Always look for \"hallmark features\" (ex. if I see i // 2, there's probably log involved)\n",
    "2. If there are loops, check the iteration count (don't assume n runtime)\n",
    "3. Order of Growth follows mathematical principles. Only consider the largest term\n",
    "\n",
    "<center><img src='imgs/graph_ref.png' width = 600></center>\n",
    "<center><a href='https://www.bigocheatsheet.com/'>source</a></center>"
   ]
  },
  {
   "cell_type": "markdown",
   "id": "7d0a9583",
   "metadata": {
    "slideshow": {
     "slide_type": "slide"
    }
   },
   "source": [
    "<center><h3 style = 'color:blue'> Checkpoint </h3></center>\n",
    "\n",
    "<center>What is the runtime of the following function?</center>"
   ]
  },
  {
   "cell_type": "code",
   "execution_count": 9,
   "id": "35fb4b5c",
   "metadata": {
    "slideshow": {
     "slide_type": "fragment"
    }
   },
   "outputs": [
    {
     "name": "stdout",
     "output_type": "stream",
     "text": [
      "[1, 2, 3]\n",
      "[2, 1, 3]\n",
      "[3, 1, 2]\n",
      "[1, 3, 2]\n",
      "[2, 3, 1]\n",
      "[3, 2, 1]\n"
     ]
    }
   ],
   "source": [
    "def permute_list(lst):\n",
    "    n = len(lst)\n",
    "    c = [0] * n\n",
    "    print(lst)  \n",
    "    \n",
    "    i = 0  \n",
    "    while i < n:\n",
    "        if c[i] < i:\n",
    "            if i % 2 == 0:  \n",
    "                lst[0], lst[i] = lst[i], lst[0]\n",
    "            else:  \n",
    "                lst[c[i]], lst[i] = lst[i], lst[c[i]]\n",
    "\n",
    "            print(lst)  \n",
    "            c[i] += 1  \n",
    "            i = 0 \n",
    "        else:\n",
    "            c[i] = 0\n",
    "            i += 1\n",
    "\n",
    "permute_list([1, 2, 3])"
   ]
  },
  {
   "cell_type": "markdown",
   "id": "25334ccf",
   "metadata": {
    "slideshow": {
     "slide_type": "fragment"
    }
   },
   "source": [
    "<center>hint: Instead of reading the code, think about what it's doing - there's a natural answer that arises.</center>"
   ]
  },
  {
   "cell_type": "markdown",
   "id": "7e1b243e",
   "metadata": {
    "slideshow": {
     "slide_type": "slide"
    }
   },
   "source": [
    "<center><h3 style = 'color:blue'> Checkpoint Solution </h3></center>"
   ]
  },
  {
   "cell_type": "markdown",
   "id": "c52f04e3",
   "metadata": {
    "slideshow": {
     "slide_type": "fragment"
    }
   },
   "source": [
    "The time complexity of this function is O(n!), where n is the length of the list.\n",
    "\n",
    "This is because the function generates all possible orderings of the list elements. There are n! (factorial of n) such orderings.\n",
    "\n",
    "For each recursive call, the function iterates over the elements of the list, making n recursive calls at the first level, n-1 at the next level, and so on, down to 1. This results in n! calls in total."
   ]
  },
  {
   "cell_type": "markdown",
   "id": "ae376788",
   "metadata": {
    "slideshow": {
     "slide_type": "slide"
    }
   },
   "source": [
    "<center><h3>*args</h3></center>\n",
    "\n",
    "<ul>\n",
    "    <li> Used when an unknown number of arguments will be passed into a function\n",
    "    <li> Denoted by * in the method header (IMPORTANT)\n",
    "    <li> processed in a similar manner to a list\n",
    "</ul>"
   ]
  },
  {
   "cell_type": "markdown",
   "id": "4c910470",
   "metadata": {
    "slideshow": {
     "slide_type": "slide"
    }
   },
   "source": [
    "<center><h3>**kwargs</h3></center>\n",
    "\n",
    "<ul>\n",
    "    <li> Used when an unknown number of <b>keyworded</b> arguments will be passed into a function\n",
    "    <li> Denoted by ** in the method header (IMPORTANT)\n",
    "    <li> processed in a similar manner to a dictionary\n",
    "</ul>"
   ]
  },
  {
   "cell_type": "markdown",
   "id": "1634d4b2",
   "metadata": {
    "slideshow": {
     "slide_type": "slide"
    }
   },
   "source": [
    "<center><h3>default_arguments</h3></center>\n",
    "\n",
    "<ul>\n",
    "    <li> Basically normal arguments, but with a default value\n",
    "    <li> if no value is passed, default value is set\n",
    "    <li> if a value is passed, default value is overwritten\n",
    "</ul>"
   ]
  },
  {
   "cell_type": "markdown",
   "id": "5d0461a7",
   "metadata": {
    "slideshow": {
     "slide_type": "slide"
    }
   },
   "source": [
    "<center><h3>note</h3></center>\n",
    "\n",
    "<center>complex argument ordering gets really messy</center>"
   ]
  },
  {
   "cell_type": "code",
   "execution_count": 19,
   "id": "6478dfc5",
   "metadata": {
    "slideshow": {
     "slide_type": "fragment"
    }
   },
   "outputs": [
    {
     "data": {
      "text/plain": [
       "[42, [1, 1, 1, 1, 1, 1, 3], 10, {'test': 1}]"
      ]
     },
     "execution_count": 19,
     "metadata": {},
     "output_type": "execute_result"
    }
   ],
   "source": [
    "def func(norm, *args, darg=2, **kwargs):\n",
    "    return [norm, list(args), darg, dict(kwargs)]\n",
    "func(42,1,1,1,1,1,1,3,darg=10, test=1)"
   ]
  },
  {
   "cell_type": "code",
   "execution_count": 16,
   "id": "3070239d",
   "metadata": {
    "slideshow": {
     "slide_type": "fragment"
    }
   },
   "outputs": [
    {
     "data": {
      "text/plain": [
       "[42, [1, 1, 1, 1, 1, 1, 3], 4, {'test': 1}]"
      ]
     },
     "execution_count": 16,
     "metadata": {},
     "output_type": "execute_result"
    }
   ],
   "source": [
    "def func(norm, darg=2, *args, **kwargs):\n",
    "    return [norm, list(args), darg, dict(kwargs)]\n",
    "func(42,4,1,1,1,1,1,1,3,test=1)"
   ]
  },
  {
   "cell_type": "markdown",
   "id": "09da3b9c",
   "metadata": {
    "slideshow": {
     "slide_type": "slide"
    }
   },
   "source": [
    "<center><h3 style = 'color:blue'> Checkpoint </h3></center>\n",
    "\n",
    "<center>What is the result of the following expression?</center>"
   ]
  },
  {
   "cell_type": "code",
   "execution_count": 27,
   "id": "6592818a",
   "metadata": {
    "slideshow": {
     "slide_type": "fragment"
    }
   },
   "outputs": [
    {
     "ename": "ZeroDivisionError",
     "evalue": "integer division or modulo by zero",
     "output_type": "error",
     "traceback": [
      "\u001b[0;31m---------------------------------------------------------------------------\u001b[0m",
      "\u001b[0;31mZeroDivisionError\u001b[0m                         Traceback (most recent call last)",
      "Cell \u001b[0;32mIn[27], line 3\u001b[0m\n\u001b[1;32m      1\u001b[0m \u001b[38;5;28;01mdef\u001b[39;00m \u001b[38;5;21mpermute_division\u001b[39m(\u001b[38;5;241m*\u001b[39mn):\n\u001b[1;32m      2\u001b[0m     \u001b[38;5;28;01mreturn\u001b[39;00m [a\u001b[38;5;241m/\u001b[39m\u001b[38;5;241m/\u001b[39mb \u001b[38;5;28;01mfor\u001b[39;00m a \u001b[38;5;129;01min\u001b[39;00m n \u001b[38;5;28;01mfor\u001b[39;00m b \u001b[38;5;129;01min\u001b[39;00m \u001b[38;5;28mrange\u001b[39m(\u001b[38;5;28mmax\u001b[39m(n))]\n\u001b[0;32m----> 3\u001b[0m \u001b[43mpermute_division\u001b[49m\u001b[43m(\u001b[49m\u001b[38;5;241;43m5\u001b[39;49m\u001b[43m)\u001b[49m\n",
      "Cell \u001b[0;32mIn[27], line 2\u001b[0m, in \u001b[0;36mpermute_division\u001b[0;34m(*n)\u001b[0m\n\u001b[1;32m      1\u001b[0m \u001b[38;5;28;01mdef\u001b[39;00m \u001b[38;5;21mpermute_division\u001b[39m(\u001b[38;5;241m*\u001b[39mn):\n\u001b[0;32m----> 2\u001b[0m     \u001b[38;5;28;01mreturn\u001b[39;00m [a\u001b[38;5;241m/\u001b[39m\u001b[38;5;241m/\u001b[39mb \u001b[38;5;28;01mfor\u001b[39;00m a \u001b[38;5;129;01min\u001b[39;00m n \u001b[38;5;28;01mfor\u001b[39;00m b \u001b[38;5;129;01min\u001b[39;00m \u001b[38;5;28mrange\u001b[39m(\u001b[38;5;28mmax\u001b[39m(n))]\n",
      "Cell \u001b[0;32mIn[27], line 2\u001b[0m, in \u001b[0;36m<listcomp>\u001b[0;34m(.0)\u001b[0m\n\u001b[1;32m      1\u001b[0m \u001b[38;5;28;01mdef\u001b[39;00m \u001b[38;5;21mpermute_division\u001b[39m(\u001b[38;5;241m*\u001b[39mn):\n\u001b[0;32m----> 2\u001b[0m     \u001b[38;5;28;01mreturn\u001b[39;00m [\u001b[43ma\u001b[49m\u001b[38;5;241;43m/\u001b[39;49m\u001b[38;5;241;43m/\u001b[39;49m\u001b[43mb\u001b[49m \u001b[38;5;28;01mfor\u001b[39;00m a \u001b[38;5;129;01min\u001b[39;00m n \u001b[38;5;28;01mfor\u001b[39;00m b \u001b[38;5;129;01min\u001b[39;00m \u001b[38;5;28mrange\u001b[39m(\u001b[38;5;28mmax\u001b[39m(n))]\n",
      "\u001b[0;31mZeroDivisionError\u001b[0m: integer division or modulo by zero"
     ]
    }
   ],
   "source": [
    "def permute_division(*n):\n",
    "    return [a//b for a in n for b in range(max(n))]\n",
    "permute_division(5)"
   ]
  },
  {
   "cell_type": "markdown",
   "id": "7adad693",
   "metadata": {
    "slideshow": {
     "slide_type": "fragment"
    }
   },
   "source": [
    "A. [1, 1, 1, 2]\n",
    "\n",
    "B. [1, 1, 2, 5]\n",
    "\n",
    "C. [5, 2, 1, 1]\n",
    "\n",
    "D. Error"
   ]
  },
  {
   "cell_type": "markdown",
   "id": "7439966d",
   "metadata": {
    "slideshow": {
     "slide_type": "slide"
    }
   },
   "source": [
    "<center><h3 style = 'color:blue'> Checkpoint Solution</h3></center>"
   ]
  },
  {
   "cell_type": "code",
   "execution_count": 23,
   "id": "813600a1",
   "metadata": {
    "slideshow": {
     "slide_type": "fragment"
    }
   },
   "outputs": [
    {
     "ename": "ZeroDivisionError",
     "evalue": "integer division or modulo by zero",
     "output_type": "error",
     "traceback": [
      "\u001b[0;31m---------------------------------------------------------------------------\u001b[0m",
      "\u001b[0;31mZeroDivisionError\u001b[0m                         Traceback (most recent call last)",
      "Cell \u001b[0;32mIn[23], line 3\u001b[0m\n\u001b[1;32m      1\u001b[0m \u001b[38;5;28;01mdef\u001b[39;00m \u001b[38;5;21mpermute_division\u001b[39m(\u001b[38;5;241m*\u001b[39mn):\n\u001b[1;32m      2\u001b[0m     \u001b[38;5;28;01mreturn\u001b[39;00m [a\u001b[38;5;241m/\u001b[39m\u001b[38;5;241m/\u001b[39mb \u001b[38;5;28;01mfor\u001b[39;00m a \u001b[38;5;129;01min\u001b[39;00m n \u001b[38;5;28;01mfor\u001b[39;00m b \u001b[38;5;129;01min\u001b[39;00m \u001b[38;5;28mrange\u001b[39m(\u001b[38;5;28mmax\u001b[39m(n))]\n\u001b[0;32m----> 3\u001b[0m \u001b[43mpermute_division\u001b[49m\u001b[43m(\u001b[49m\u001b[38;5;241;43m5\u001b[39;49m\u001b[43m)\u001b[49m\n",
      "Cell \u001b[0;32mIn[23], line 2\u001b[0m, in \u001b[0;36mpermute_division\u001b[0;34m(*n)\u001b[0m\n\u001b[1;32m      1\u001b[0m \u001b[38;5;28;01mdef\u001b[39;00m \u001b[38;5;21mpermute_division\u001b[39m(\u001b[38;5;241m*\u001b[39mn):\n\u001b[0;32m----> 2\u001b[0m     \u001b[38;5;28;01mreturn\u001b[39;00m [a\u001b[38;5;241m/\u001b[39m\u001b[38;5;241m/\u001b[39mb \u001b[38;5;28;01mfor\u001b[39;00m a \u001b[38;5;129;01min\u001b[39;00m n \u001b[38;5;28;01mfor\u001b[39;00m b \u001b[38;5;129;01min\u001b[39;00m \u001b[38;5;28mrange\u001b[39m(\u001b[38;5;28mmax\u001b[39m(n))]\n",
      "Cell \u001b[0;32mIn[23], line 2\u001b[0m, in \u001b[0;36m<listcomp>\u001b[0;34m(.0)\u001b[0m\n\u001b[1;32m      1\u001b[0m \u001b[38;5;28;01mdef\u001b[39;00m \u001b[38;5;21mpermute_division\u001b[39m(\u001b[38;5;241m*\u001b[39mn):\n\u001b[0;32m----> 2\u001b[0m     \u001b[38;5;28;01mreturn\u001b[39;00m [\u001b[43ma\u001b[49m\u001b[38;5;241;43m/\u001b[39;49m\u001b[38;5;241;43m/\u001b[39;49m\u001b[43mb\u001b[49m \u001b[38;5;28;01mfor\u001b[39;00m a \u001b[38;5;129;01min\u001b[39;00m n \u001b[38;5;28;01mfor\u001b[39;00m b \u001b[38;5;129;01min\u001b[39;00m \u001b[38;5;28mrange\u001b[39m(\u001b[38;5;28mmax\u001b[39m(n))]\n",
      "\u001b[0;31mZeroDivisionError\u001b[0m: integer division or modulo by zero"
     ]
    }
   ],
   "source": [
    "def permute_division(*n):\n",
    "    return [a//b for a in n for b in range(max(n))]\n",
    "permute_division(5)"
   ]
  },
  {
   "cell_type": "markdown",
   "id": "8512ba32",
   "metadata": {
    "slideshow": {
     "slide_type": "slide"
    }
   },
   "source": [
    "<center><h3>Recursion</h3></center>\n",
    "\n",
    "<center>Recursion is a design method for code - it refers to a class of functions that call on itself repeatedly</center>\n",
    "\n",
    "<b> Base Case: </b>\n",
    "\n",
    "Base case(s) are regarded as the most important part of a recursive function. They determine the stop point for recursion and begin the argument passing up the \"stack\" of recursive calls. Without a well written base case, recursion will either never end or end incorrectly. When writing recursion questions, always start with determining the base case.\n",
    "\n",
    "<b> Recursive Calls: </b>\n",
    "\n",
    "The crux of a recursive function working is the recursive calls. These calls will repeat until the base case is reached, creating the \"stack\" of recursive calls that will begin resolving at the base case. Keep in mind when writing recursive calls that every call needs to trend towards the base case."
   ]
  },
  {
   "cell_type": "markdown",
   "id": "ef242310",
   "metadata": {
    "slideshow": {
     "slide_type": "slide"
    }
   },
   "source": [
    "<center><h3 style = 'color:blue'> Checkpoint </h3></center>\n",
    "\n",
    "<center> What is the time complexity of the following expression? </center>"
   ]
  },
  {
   "cell_type": "code",
   "execution_count": 7,
   "id": "b5476a58",
   "metadata": {
    "slideshow": {
     "slide_type": "fragment"
    }
   },
   "outputs": [
    {
     "data": {
      "text/plain": [
       "0"
      ]
     },
     "execution_count": 7,
     "metadata": {},
     "output_type": "execute_result"
    }
   ],
   "source": [
    "def foo(x):\n",
    "    if x%10==0:\n",
    "        return x\n",
    "    else:\n",
    "        return foo(x-1)\n",
    "foo(9)"
   ]
  },
  {
   "cell_type": "markdown",
   "id": "8f4ec285",
   "metadata": {
    "slideshow": {
     "slide_type": "fragment"
    }
   },
   "source": [
    "A. $O(1)$\n",
    "\n",
    "B. $O(log(n))$\n",
    "\n",
    "C. $O(n)$\n",
    "\n",
    "D. $O(n^2)$\n",
    "\n",
    "E. Other"
   ]
  },
  {
   "cell_type": "markdown",
   "id": "9f707ccf",
   "metadata": {
    "slideshow": {
     "slide_type": "slide"
    }
   },
   "source": [
    "<center><h3 style = 'color:blue'> Checkpoint Solution </h3></center>"
   ]
  },
  {
   "cell_type": "code",
   "execution_count": 16,
   "id": "344d6cc9",
   "metadata": {
    "slideshow": {
     "slide_type": "fragment"
    }
   },
   "outputs": [
    {
     "name": "stdout",
     "output_type": "stream",
     "text": [
      "[0, 0, 0, 0, 0, 0, 0, 0, 0, 0, 10, 10, 10, 10, 10, 10, 10, 10, 10, 10]\n"
     ]
    }
   ],
   "source": [
    "def foo(x):\n",
    "    if x%10==0:\n",
    "        return x\n",
    "    else:\n",
    "        return foo(x-1)\n",
    "print([foo(x) for x in range(20)])"
   ]
  },
  {
   "cell_type": "markdown",
   "id": "dbb30a58",
   "metadata": {
    "slideshow": {
     "slide_type": "fragment"
    }
   },
   "source": [
    "<center><b style = 'color:blue'> Solution </b>: $O(1)$</center>\n",
    "\n",
    "<center> Regardless of the input to this function, the maximum number of times it can occur recursively is 9 (i.e. if I pass in any number that ends in 9, that is the \"worst case\" for this function). Since the runtime is <b> deterministic</b>, the time complexity of this function is $O(1)$."
   ]
  },
  {
   "cell_type": "markdown",
   "id": "8ef79f81",
   "metadata": {
    "slideshow": {
     "slide_type": "slide"
    }
   },
   "source": [
    "<center><h3 style = 'color:blue'> Checkpoint </h3></center>\n",
    "\n",
    "<center>Write a recursive function to check if a given string is a palindrome</center>"
   ]
  },
  {
   "cell_type": "code",
   "execution_count": 19,
   "id": "306e9a50",
   "metadata": {
    "slideshow": {
     "slide_type": "fragment"
    }
   },
   "outputs": [],
   "source": [
    "def check_palindrome(x):\n",
    "    \"\"\"\n",
    "    >>> check_palindrome('chatgpt')\n",
    "    False\n",
    "    >>> check_palindrome('racecar')\n",
    "    True\n",
    "    \"\"\"\n",
    "    # Try it or think about what you would write"
   ]
  },
  {
   "cell_type": "markdown",
   "id": "de0dc6a0",
   "metadata": {
    "slideshow": {
     "slide_type": "slide"
    }
   },
   "source": [
    "<center><h3 style = 'color:blue'> Checkpoint Solution </h3></center>"
   ]
  },
  {
   "cell_type": "code",
   "execution_count": 23,
   "id": "c6c18e8f",
   "metadata": {
    "slideshow": {
     "slide_type": "fragment"
    }
   },
   "outputs": [],
   "source": [
    "def check_palindrome(x):\n",
    "    \"\"\"\n",
    "    >>> check_palindrome('chatgpt')\n",
    "    False\n",
    "    >>> check_palindrome('racecar')\n",
    "    True\n",
    "    \"\"\"\n",
    "    if len(x)<=1:\n",
    "        return True\n",
    "    \n",
    "    return all([x[0]==x[-1], check_palindrome(x[1:-1])])"
   ]
  },
  {
   "cell_type": "code",
   "execution_count": 24,
   "id": "bbc0a316",
   "metadata": {
    "slideshow": {
     "slide_type": "fragment"
    }
   },
   "outputs": [
    {
     "data": {
      "text/plain": [
       "False"
      ]
     },
     "execution_count": 24,
     "metadata": {},
     "output_type": "execute_result"
    }
   ],
   "source": [
    "check_palindrome('chatgpt')"
   ]
  },
  {
   "cell_type": "code",
   "execution_count": 11,
   "id": "eb56cf38",
   "metadata": {
    "slideshow": {
     "slide_type": "slide"
    }
   },
   "outputs": [],
   "source": [
    "# for i in range(10):\n",
    "#     print('beginning'+ str(i))\n",
    "#     i*=2\n",
    "#     print('end'+ str(i))"
   ]
  },
  {
   "cell_type": "markdown",
   "id": "49030538",
   "metadata": {
    "slideshow": {
     "slide_type": "slide"
    }
   },
   "source": [
    "<center> <h1>Thanks for coming!</h1></center>"
   ]
  },
  {
   "cell_type": "code",
   "execution_count": null,
   "id": "aecf0425",
   "metadata": {
    "slideshow": {
     "slide_type": "skip"
    }
   },
   "outputs": [],
   "source": []
  }
 ],
 "metadata": {
  "celltoolbar": "Slideshow",
  "kernelspec": {
   "display_name": "Python 3 (ipykernel)",
   "language": "python",
   "name": "python3"
  },
  "language_info": {
   "codemirror_mode": {
    "name": "ipython",
    "version": 3
   },
   "file_extension": ".py",
   "mimetype": "text/x-python",
   "name": "python",
   "nbconvert_exporter": "python",
   "pygments_lexer": "ipython3",
   "version": "3.10.8"
  },
  "rise": {
   "enable_chalkboard": true
  }
 },
 "nbformat": 4,
 "nbformat_minor": 5
}
