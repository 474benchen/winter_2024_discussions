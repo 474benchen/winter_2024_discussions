{
 "cells": [
  {
   "cell_type": "markdown",
   "id": "9ac70a89",
   "metadata": {
    "slideshow": {
     "slide_type": "skip"
    }
   },
   "source": [
    "**note**: for anyone trying to view this as a slideshow, run 'pip install rise', reload your notebook, then click on the button that looks like a bar graph to the right of the command palette at the top."
   ]
  },
  {
   "cell_type": "markdown",
   "id": "0aaa7f3e",
   "metadata": {
    "slideshow": {
     "slide_type": "slide"
    }
   },
   "source": [
    "<center><h1>Discussion 10</h1></center>\n",
    "<center><h2>DSC 20, Winter 2024</h2><center>"
   ]
  },
  {
   "cell_type": "markdown",
   "id": "00203057",
   "metadata": {
    "slideshow": {
     "slide_type": "slide"
    }
   },
   "source": [
    "<center><h2>Final Exam Review🫡</h2><center>"
   ]
  },
  {
   "cell_type": "markdown",
   "id": "d3553d72",
   "metadata": {
    "slideshow": {
     "slide_type": "slide"
    }
   },
   "source": [
    "<center><h2>Meme of the week</h2></center>\n",
    "\n",
    "<center><img src='imgs/meme.png' width=450></center>"
   ]
  },
  {
   "cell_type": "markdown",
   "id": "0bca6afb",
   "metadata": {
    "slideshow": {
     "slide_type": "slide"
    }
   },
   "source": [
    "<center><h3>Logistics</h3></center>\n",
    "\n",
    "- Final Exam takes place Saturday, March 16th\n",
    "- 3pm - 6pm\n",
    "- Location: refer to EDstem (CSB 01, CSB 02, SOLIS 104, SOLIS 107)\n",
    "- Seating chart will be released soon\n",
    "- cheatsheet allowed (normal A4 double-sided)\n",
    "- make sure to bring ID and pencils"
   ]
  },
  {
   "cell_type": "markdown",
   "id": "8565a888",
   "metadata": {
    "slideshow": {
     "slide_type": "slide"
    }
   },
   "source": [
    "<center> <h2>Midterm 1 Content</h2> </center>\n",
    "\n",
    "- Basics\n",
    "- Conditional Statements\n",
    "- Doctests\n",
    "- Loops\n",
    "- List, tuple, set, Dictionaries\n",
    "- List/Dict comp\n",
    "- indexing/slicing\n",
    "- files/text processing\n",
    "- asserts"
   ]
  },
  {
   "cell_type": "markdown",
   "id": "5d0942b6",
   "metadata": {
    "slideshow": {
     "slide_type": "slide"
    }
   },
   "source": [
    "<center> <h3>Basic Operations</h3> </center>\n",
    "<br></br>\n",
    "\n",
    "<b style=\"color:blue;\">+</b> - Numerical addition / concatenation operator\n",
    "\n",
    "<b style=\"color:blue;\">-</b> - Numerical Subtraction operator\n",
    "\n",
    "<b style=\"color:blue;\">/</b> - Classic Division operator\n",
    "\n",
    "<b style=\"color:blue;\">//</b> - Floor Division operator\n",
    "\n",
    "<b style=\"color:blue;\">*</b> - Numerical Multiplication / repetition operator\n",
    "\n",
    "<b style=\"color:blue;\">**</b> - Numerical Exponential operator\n",
    "\n",
    "<b style=\"color:blue;\">%</b> - Numeric remainder operator\n",
    "\n"
   ]
  },
  {
   "cell_type": "markdown",
   "id": "41ad2fd5",
   "metadata": {
    "slideshow": {
     "slide_type": "slide"
    }
   },
   "source": [
    "<center> <h3>Basic Data Types</h3> </center>\n",
    "<br></br>\n",
    "\n",
    "\n",
    "<b style=\"color:blue;\">String</b> - Data type for text\n",
    "\n",
    "<b style=\"color:blue;\">Int</b> - Data type for whole numbers\n",
    "    \n",
    "<b style=\"color:blue;\">Float</b> - Data type for non-integers\n",
    "    \n",
    "<b style=\"color:blue;\">Bool</b> - True or False\n",
    " \n",
    "note: <b style=\"color:blue;\">None</b> is technically its own type"
   ]
  },
  {
   "cell_type": "markdown",
   "id": "6ad20c63",
   "metadata": {
    "slideshow": {
     "slide_type": "slide"
    }
   },
   "source": [
    "<center> <h3>Boolean Operators</h3> </center>\n",
    "\n",
    "<u>Logical Operators (in order priority)</u>:\n",
    "<ul>\n",
    "    <li> <b style = \"color:purple;\">not</b> - reverses the outcome of the following expression\n",
    "    <li> <b style = \"color:purple;\">and</b> - all expressions compared with “and” must be True to evaluate True\n",
    "    <li> <b style = \"color:purple;\">or</b> - at least one expression compared with “or” must be True to evaluate True\n",
    "</ul>\n",
    "\n",
    "<u>Comparison Operators (generates booleans)</u>:\n",
    "<ul>\n",
    "    <li> <b style = \"color:purple;\">==</b> - equality check\n",
    "    <li> <b style = \"color:purple;\">!=</b> - inequality check\n",
    "    <li> <b style = \"color:purple;\">>, >=, <, <=</b> directional check\n",
    "</ul>\n",
    "\n",
    "note: order of evaluation is overriden by parentheses (just like PEMDAS)"
   ]
  },
  {
   "cell_type": "markdown",
   "id": "f9df3447",
   "metadata": {
    "slideshow": {
     "slide_type": "slide"
    }
   },
   "source": [
    "<center><h3 style = 'color:blue'> Checkpoint </h3></center>\n",
    "\n",
    "<center>What is the output of the following code?</center>"
   ]
  },
  {
   "cell_type": "code",
   "execution_count": null,
   "id": "36f56cd6",
   "metadata": {
    "slideshow": {
     "slide_type": "fragment"
    }
   },
   "outputs": [],
   "source": [
    "bool(-100)"
   ]
  },
  {
   "cell_type": "markdown",
   "id": "2cdfdefc",
   "metadata": {
    "slideshow": {
     "slide_type": "slide"
    }
   },
   "source": [
    "<center><h3 style = 'color:blue'> Checkpoint Solution </h3></center>"
   ]
  },
  {
   "cell_type": "code",
   "execution_count": 2,
   "id": "90f6f163",
   "metadata": {
    "slideshow": {
     "slide_type": "fragment"
    }
   },
   "outputs": [
    {
     "data": {
      "text/plain": [
       "True"
      ]
     },
     "execution_count": 2,
     "metadata": {},
     "output_type": "execute_result"
    }
   ],
   "source": [
    "bool(-100)"
   ]
  },
  {
   "cell_type": "markdown",
   "id": "1b67be95",
   "metadata": {
    "slideshow": {
     "slide_type": "slide"
    }
   },
   "source": [
    "<center> <h3>Conditional Statements</h3> </center>\n",
    "\n",
    "if (boolean expression):\n",
    "\t<p> &emsp;<mark>//Do stuff</mark></p>\n",
    "    \n",
    "elif (other boolean expression):  \n",
    "\n",
    "<b>note: </b>elif is optional, can have as many elifs as necessary\n",
    "\t<p> &emsp;<mark>//Do other stuff</mark></p>\n",
    "    \n",
    "else: \n",
    "\n",
    "<b>note: </b>else is optional, will execute only if the conditions in the “if” and “elif” statements are not true\n",
    "\t<p> &emsp;<mark>//Do other other stuff</mark></p>\n",
    "\n"
   ]
  },
  {
   "cell_type": "markdown",
   "id": "16aa5eb2",
   "metadata": {
    "slideshow": {
     "slide_type": "slide"
    }
   },
   "source": [
    "<center> <h3>Short-circuits, 'return', 'print'</h3> </center>\n",
    "\n",
    "- In python, expressions are evaluated from left to right\n",
    "- With certain operations, a \"short-ciruit\" can happen if conditions are met\n",
    "    - ex: True or 1/0 -> \"or\" only requires 1 True, so the expression is done evaluating before 1/0 can trigger an error.\n",
    "<br></br>\n",
    "- <b>'return'</b> is a very important and special keyword in python\n",
    "    - all statements with return will short-circuit the function afterwards\n",
    "    - It's python's functional way to pass a value out of a function\n",
    "    - not every function needs a return (but most do)\n",
    "<br></br>\n",
    "- <b>'print'</b> displays some object (int, str, bool, etc.) onto a console\n",
    "    - commonly used for debugging, sometimes integral to the purpose of a function.\n",
    "    - print's result is None (it doesn't \"return\" a meaningful value)"
   ]
  },
  {
   "cell_type": "markdown",
   "id": "18cf11bd",
   "metadata": {
    "slideshow": {
     "slide_type": "slide"
    }
   },
   "source": [
    "<center><h3 style = 'color:blue'> Checkpoint </h3></center>\n",
    "\n",
    "<center>Which terminal command(s) runs all doctests?</center>\n",
    "\n",
    "1. python doctest code.py\n",
    "2. python -i doctest code.py\n",
    "3. python -m doctest code.py\n",
    "4. python -m -v doctest code.py"
   ]
  },
  {
   "cell_type": "markdown",
   "id": "c0793a98",
   "metadata": {
    "slideshow": {
     "slide_type": "slide"
    }
   },
   "source": [
    "<center><h3 style = 'color:blue'> Checkpoint Solution </h3></center>\n",
    "\n",
    "3 - python -m doctest code.py\n",
    "\n",
    "<center> (according to past final exam performances, I did in fact need to include this.) </center>"
   ]
  },
  {
   "cell_type": "markdown",
   "id": "5dc4761c",
   "metadata": {
    "slideshow": {
     "slide_type": "slide"
    }
   },
   "source": [
    "<center><h3>Doctests</h3></center>\n",
    "<ul>\n",
    "    <li> Tests to check that your function works as intended\n",
    "    <li> denoted by the '>>> ' symbol (space included)!\n",
    "    <li> the line right after the '>>> ' represents the intended output\n",
    "    <li> well written doctests make sure your code is logically sound\n",
    "</ul>\n",
    "\n",
    "to run doctests: terminal -> file location -> <b>python -m doctest [filename].py</b>\n",
    "\n",
    "<b>note</b>: if you want to see the doctests you passed when you run them, add a '-v' at the end."
   ]
  },
  {
   "cell_type": "markdown",
   "id": "c10f1048",
   "metadata": {
    "slideshow": {
     "slide_type": "slide"
    }
   },
   "source": [
    "<center><h3>Assert Statements</h3></center>\n",
    "<ul>\n",
    "    <li> Used to evaluate written code\n",
    "    <li> <b style='color:blue'>asserts</b> -> input validation (are the arguments the correct types?)\n",
    "    <li> Often combined with boolean functions (any(), all(), etc.) and list comp\n",
    "    <li> result should be a boolean (True = pass, False = error)\n",
    "    <li> check naive cases first, then more specific cases"
   ]
  },
  {
   "cell_type": "markdown",
   "id": "6af695a6",
   "metadata": {
    "slideshow": {
     "slide_type": "slide"
    }
   },
   "source": [
    "<center> <h3>Loops</h3> </center>\n",
    "\n",
    "<center>Loops are used to <b style = 'color:blue'>repeat computations</b> many times.</center>\n",
    "\n",
    "- Two types of loops:\n",
    "    - <mark style= \"color:blue; background-color: white\" >While loop</mark>: Uses  logical conditions, useful for when the number of iterations is unknown (as long as a condition is true, code will run).\n",
    "    - <mark style= \"color:blue; background-color: white\" >For loop </mark>: Uses an iterable object (ex. list), usually for when the number repetition is known."
   ]
  },
  {
   "cell_type": "code",
   "execution_count": 3,
   "id": "1a31aa1f",
   "metadata": {
    "slideshow": {
     "slide_type": "fragment"
    }
   },
   "outputs": [
    {
     "ename": "IndentationError",
     "evalue": "expected an indented block after 'while' statement on line 1 (2958723921.py, line 3)",
     "output_type": "error",
     "traceback": [
      "\u001b[0;36m  Cell \u001b[0;32mIn[3], line 3\u001b[0;36m\u001b[0m\n\u001b[0;31m    for value in x:\u001b[0m\n\u001b[0m    ^\u001b[0m\n\u001b[0;31mIndentationError\u001b[0m\u001b[0;31m:\u001b[0m expected an indented block after 'while' statement on line 1\n"
     ]
    }
   ],
   "source": [
    "while x is True:\n",
    "    # do something\n",
    "for value in x:\n",
    "    # do something"
   ]
  },
  {
   "cell_type": "markdown",
   "id": "91f7db81",
   "metadata": {
    "slideshow": {
     "slide_type": "slide"
    }
   },
   "source": [
    "<center> <h3>Mutability</h3> </center>\n",
    "\n",
    "<ul>\n",
    "    <li> Object is mutable if it can be changed after it is created\n",
    "    <li> If it can't, it is immutable\n",
    "    <li> Lists are <b style='color:blue'>mutable</b>\n",
    "    <li> strings, tuples, and numbers are <b style='color:red'>immutable</b>\n",
    "</ul>"
   ]
  },
  {
   "cell_type": "markdown",
   "id": "c94f7edd",
   "metadata": {
    "slideshow": {
     "slide_type": "slide"
    }
   },
   "source": [
    "<center> <h3>Lists, Tuples, Sets</h3> </center>\n",
    "\n",
    "<u>List</u>\n",
    "- Mutable vector of values\n",
    "- Can store any data type, multiple types at a time\n",
    "- Elements are acccessed via indexing\n",
    "\n",
    "<u>Tuple</u>\n",
    "- <b>Immutable</b> vector of values\n",
    "- all else equal to list\n",
    "\n",
    "<u>Set</u>\n",
    "- Mutable vector of values\n",
    "- Only stores unique elements (removes duplicates)\n",
    "- Order is not preserved"
   ]
  },
  {
   "cell_type": "markdown",
   "id": "af01cc4a",
   "metadata": {
    "slideshow": {
     "slide_type": "slide"
    }
   },
   "source": [
    "<center><h3> List Comprehension </h3> </center>\n",
    "<ul>\n",
    "    <li> Shorthand method of writing for loops\n",
    "    <li> Syntax changes depending on use case\n",
    "    <li> can be nested, just like lists\n",
    "    <li> Can contain multiple for loops in one list comp\n",
    "        \n",
    "<br>\n",
    "<b style='color:blue'>Syntax</b>\n",
    "<ul>\n",
    "    <li> [x for x in iterable]\n",
    "    <li> [x for x in iterable if (condition)]\n",
    "    <li> [x if (condition) else y for x in iterable]\n",
    "    <li> [x if (condition) else y if (condition) else z for x in iterable]"
   ]
  },
  {
   "cell_type": "code",
   "execution_count": 2,
   "id": "1ea429aa",
   "metadata": {
    "slideshow": {
     "slide_type": "fragment"
    }
   },
   "outputs": [
    {
     "data": {
      "text/plain": [
       "[1, 2, 3, 4, 5, 6]"
      ]
     },
     "execution_count": 2,
     "metadata": {},
     "output_type": "execute_result"
    }
   ],
   "source": [
    "temp = [[1], [2,3], [4,5,6]]\n",
    "[x for sub in temp for x in sub]"
   ]
  },
  {
   "cell_type": "markdown",
   "id": "d6575a4a",
   "metadata": {
    "slideshow": {
     "slide_type": "slide"
    }
   },
   "source": [
    "<center><h3>Indexing/Slicing</h3></center>\n",
    "\n",
    "<center> Indexing/slicing refers to accessing specific element(s) from an iterable object. Two of the most common cases for this are lists and strings. Indexing results in a copy (unless reassigned)!</center>\n",
    "\n",
    "- iterable[start:stop:skip] (start:inclusive, stop: NOT inclusive)\n",
    "- not every section needs to be specified (can just use start or stop or skip)\n",
    "- Trying to access an index that doesn't exist in the list will result in an error\n",
    "- Slicing beyond the range will yield an empty output"
   ]
  },
  {
   "cell_type": "code",
   "execution_count": 4,
   "id": "404d705e",
   "metadata": {
    "slideshow": {
     "slide_type": "fragment"
    }
   },
   "outputs": [
    {
     "name": "stdout",
     "output_type": "stream",
     "text": [
      "original list: [2, 3, 4, 5, 6]\n",
      "reversed list: [6, 5, 4, 3, 2]\n",
      "the 2nd to 4th element: [4, 5]\n",
      "every third element from the 1st to 10th element: [3, 6]\n",
      "slicing outside of range: []\n"
     ]
    }
   ],
   "source": [
    "lst = list(range(2,7))\n",
    "print(\"original list: \" + str(lst))\n",
    "print(\"reversed list: \" + str(lst[::-1]))\n",
    "print(\"the 2nd to 4th element: \" + str(lst[2:4]))\n",
    "print(\"every third element from the 1st to 10th element: \" + str(lst[1:10:3]))\n",
    "print(\"slicing outside of range: \" +  str(lst[11:]))"
   ]
  },
  {
   "cell_type": "markdown",
   "id": "5821222b",
   "metadata": {
    "slideshow": {
     "slide_type": "slide"
    }
   },
   "source": [
    "<center><h3> Dictionaries </h3></center>\n",
    "<ul>\n",
    "    <li> Mutable storage of key, value pairs\n",
    "    <li> Can store any data type, multiple at a time\n",
    "    <li> Elements are acccessed via keys (dct[key])\n",
    "    <li> keys must be <b style = 'color:blue'>hashable</b> and <b style = 'color:blue'>unique</b>\n",
    "</ul>\n",
    "\n",
    "<u> methods </u>\n",
    "- accessing keys (as a list) -> dict.keys()\n",
    "- accessing values (as a list) -> dict.values()\n",
    "- accessing key,value pairs (as a list of tuples) -> dict.items()\n",
    "\n",
    "<center>\n",
    "<b style = 'color:blue'>note</b>: hashablility correlates to the stability of the data - essentially, <b>data that <b style = 'color:blue'>can't</b> change is hashable</b> (int, str, tuple, etc.) while <b>data that <b style = 'color:blue'>can</b> change is not hashable (list, dictionary). Basically, it's all about mutability!</b> </center>"
   ]
  },
  {
   "cell_type": "markdown",
   "id": "8c7907c4",
   "metadata": {
    "slideshow": {
     "slide_type": "slide"
    }
   },
   "source": [
    "<center><h3>Dictionary Comprehension</h3></center>\n",
    "\n",
    "<ul>\n",
    "    <li> Fancy, shorthand method of populating dictionaries\n",
    "    <li> Syntax changes depending on use case\n",
    "</ul>\n",
    "\n",
    "<b style='color:blue'>Syntax</b>\n",
    "\n",
    "- basically the same as list comp, but now it expects key:value\n",
    "- can include a list comp!"
   ]
  },
  {
   "cell_type": "code",
   "execution_count": 3,
   "id": "bbc81210",
   "metadata": {
    "slideshow": {
     "slide_type": "fragment"
    }
   },
   "outputs": [
    {
     "data": {
      "text/plain": [
       "{0: 'a', 2: 'c', 4: 'e'}"
      ]
     },
     "execution_count": 3,
     "metadata": {},
     "output_type": "execute_result"
    }
   ],
   "source": [
    "data = ['a','b','c','d','e']\n",
    "{i:data[i] for i in range(len(data)) if i%2==0}"
   ]
  },
  {
   "cell_type": "markdown",
   "id": "cbc187cf",
   "metadata": {
    "slideshow": {
     "slide_type": "slide"
    }
   },
   "source": [
    "<center><h3> Files </h3></center>\n",
    "<ul>\n",
    "    <li> storage for data (csv, txt, json, parquet, etc.)\n",
    "    <li> unique methods to access within code\n",
    "</ul>\n",
    "\n",
    "<u> Access Modes </u>\n",
    "\n",
    "<b> Write </b>: 'w' -> every time the file is opened in write mode, the file is wiped. Calling file.write() will add in your data.\n",
    "\n",
    "<b> Append </b>: 'a' -> file.write() will append your data to what existed in the file beforehand.\n",
    "\n",
    "<b> Read </b>: 'r' -> no writing privilege, can only pull the data from the file with relevant methods."
   ]
  },
  {
   "cell_type": "markdown",
   "id": "a7193a9a",
   "metadata": {
    "slideshow": {
     "slide_type": "slide"
    }
   },
   "source": [
    "<center><h3 style = 'color:blue'> Checkpoint </h3></center>\n",
    "\n",
    "<center> What happens when I try to open a file in my current folder that doesn't exist yet in write mode? </center>"
   ]
  },
  {
   "cell_type": "markdown",
   "id": "bb714c52",
   "metadata": {
    "slideshow": {
     "slide_type": "slide"
    }
   },
   "source": [
    "<center><h3 style = 'color:blue'> Checkpoint Solution</h3></center>\n",
    "\n",
    "<center>Python will automatically write an empty file with the provided filename.</center>"
   ]
  },
  {
   "cell_type": "markdown",
   "id": "1023a709",
   "metadata": {
    "slideshow": {
     "slide_type": "slide"
    }
   },
   "source": [
    "<center><h3>Text Processing</h3></center>\n",
    "\n",
    "<u>reading data</u>:\n",
    "- file.read() -> reads in all the data as a single string\n",
    "- file.readline() -> reads in data line by line (has to be recalled)\n",
    "- file.readlines() -> reads in all the data as a list where each line is another element of the list\n",
    "\n",
    "<center> After reading in the data, you can transform it however you'd like, and then rewrite it back into the file using .write() (if this is relevant).</center>"
   ]
  },
  {
   "cell_type": "code",
   "execution_count": 3,
   "id": "a1f470a0",
   "metadata": {
    "slideshow": {
     "slide_type": "fragment"
    }
   },
   "outputs": [
    {
     "name": "stdout",
     "output_type": "stream",
     "text": [
      "Final Exam is coming up!\n",
      "Good luck!\n",
      "['Final Exam is coming up!\\n', 'Good luck!']\n"
     ]
    }
   ],
   "source": [
    "with open('files/sample.txt', 'r') as f:\n",
    "    print(f.read())\n",
    "with open('files/sample.txt', 'r') as f:\n",
    "    print(f.readlines())"
   ]
  },
  {
   "cell_type": "markdown",
   "id": "40ad9787",
   "metadata": {
    "slideshow": {
     "slide_type": "slide"
    }
   },
   "source": [
    "<center><h3 style = 'color:blue'> Checkpoint </h3></center>\n",
    "\n",
    "<center>What is the result of this expression?</center>"
   ]
  },
  {
   "cell_type": "code",
   "execution_count": null,
   "id": "5c372808",
   "metadata": {
    "slideshow": {
     "slide_type": "fragment"
    }
   },
   "outputs": [],
   "source": [
    "def fizz(x):\n",
    "    return print(x)\n",
    "print(fizz(10))"
   ]
  },
  {
   "cell_type": "markdown",
   "id": "869015f3",
   "metadata": {
    "slideshow": {
     "slide_type": "fragment"
    }
   },
   "source": [
    "A. None\n",
    "\n",
    "B. None\n",
    "None\n",
    "\n",
    "C. 10\n",
    "10\n",
    "\n",
    "D. 10\n",
    "None"
   ]
  },
  {
   "cell_type": "markdown",
   "id": "44b2153b",
   "metadata": {
    "slideshow": {
     "slide_type": "slide"
    }
   },
   "source": [
    "<center><h3 style = 'color:blue'> Checkpoint Solution </h3></center>"
   ]
  },
  {
   "cell_type": "code",
   "execution_count": 1,
   "id": "d3739f02",
   "metadata": {
    "slideshow": {
     "slide_type": "fragment"
    }
   },
   "outputs": [
    {
     "name": "stdout",
     "output_type": "stream",
     "text": [
      "10\n",
      "None\n"
     ]
    }
   ],
   "source": [
    "def fizz(x):\n",
    "    return print(x)\n",
    "print(fizz(10))"
   ]
  },
  {
   "cell_type": "markdown",
   "id": "0160a935",
   "metadata": {
    "slideshow": {
     "slide_type": "slide"
    }
   },
   "source": [
    "<center> <h2>Midterm 2 Content</h2> </center>\n",
    "\n",
    "- lambda/map/filter\n",
    "- HOF\n",
    "- advanced argument passing\n",
    "- time complexity\n",
    "- recursion"
   ]
  },
  {
   "cell_type": "markdown",
   "id": "04bff37f",
   "metadata": {
    "slideshow": {
     "slide_type": "slide"
    }
   },
   "source": [
    "<center><h3> Lambda Functions </h3></center>\n",
    "\n",
    "- known as anonymous functions (their functions are so simple, they don't need a name)\n",
    "\n",
    "- syntax: lambda (input): (some operation)\n",
    "\n",
    "- Lambdas cannot take in ```for``` or ```return```"
   ]
  },
  {
   "cell_type": "code",
   "execution_count": 8,
   "id": "0f5c6966",
   "metadata": {
    "slideshow": {
     "slide_type": "fragment"
    }
   },
   "outputs": [
    {
     "ename": "SyntaxError",
     "evalue": "invalid syntax (666032754.py, line 1)",
     "output_type": "error",
     "traceback": [
      "\u001b[0;36m  Cell \u001b[0;32mIn[8], line 1\u001b[0;36m\u001b[0m\n\u001b[0;31m    lambda x: return x\u001b[0m\n\u001b[0m              ^\u001b[0m\n\u001b[0;31mSyntaxError\u001b[0m\u001b[0;31m:\u001b[0m invalid syntax\n"
     ]
    }
   ],
   "source": [
    "lambda x: return x"
   ]
  },
  {
   "cell_type": "code",
   "execution_count": 14,
   "id": "724c8f1e",
   "metadata": {
    "slideshow": {
     "slide_type": "fragment"
    }
   },
   "outputs": [
    {
     "ename": "SyntaxError",
     "evalue": "invalid syntax (1170893433.py, line 1)",
     "output_type": "error",
     "traceback": [
      "\u001b[0;36m  Cell \u001b[0;32mIn[14], line 1\u001b[0;36m\u001b[0m\n\u001b[0;31m    lambda x: for i in range(len(x))\u001b[0m\n\u001b[0m              ^\u001b[0m\n\u001b[0;31mSyntaxError\u001b[0m\u001b[0;31m:\u001b[0m invalid syntax\n"
     ]
    }
   ],
   "source": [
    "lambda x: for i in range(len(x))"
   ]
  },
  {
   "cell_type": "markdown",
   "id": "6c31dba9",
   "metadata": {
    "slideshow": {
     "slide_type": "slide"
    }
   },
   "source": [
    "<center><h3>Map</h3></center>\n",
    "Map -\n",
    "<b>Syntax: map(function, iterable)</b>\n",
    "<ul>\n",
    "    <li> Map allows you to apply a function to all elements to an iterable input\n",
    "    <li> very common to use a lambda function as the function to apply\n",
    "    <li> returns an iterator through the iterable object, applying the function as it traverses\n",
    "</ul>"
   ]
  },
  {
   "cell_type": "markdown",
   "id": "9df49d00",
   "metadata": {
    "slideshow": {
     "slide_type": "slide"
    }
   },
   "source": [
    "<center><h3>Filter</h3></center>\n",
    "\n",
    "Filter - \n",
    "<b>Syntax: filter(function, iterable)</b>\n",
    "<ul>\n",
    "    <li> Filter takes in a function that returns a boolean and only keeps elements that satisfy the function (i.e. return True).\n",
    "    <li> Very common to use a lambda function as the function to apply, but keep in mind the function <b>must return a boolean</b>.\n",
    "    <li> Returns an iterator through the iterable object that only yields values that pass the function.\n",
    "</ul>\n",
    "\n",
    "<center> I literally cannot emphasize this more, Filter's lambda has to return a boolean </center>"
   ]
  },
  {
   "cell_type": "markdown",
   "id": "fda25f40",
   "metadata": {
    "slideshow": {
     "slide_type": "slide"
    }
   },
   "source": [
    "<center><h3>HOF</h3></center>\n",
    "\n",
    "- Algorithm design framework to create generalized code\n",
    "\n",
    "- Functions that either return functions or use other functions\n",
    "\n",
    "- Helper functions!\n",
    "\n",
    "- Many uses, including abstraction, scope protection, etc."
   ]
  },
  {
   "cell_type": "markdown",
   "id": "d202508f",
   "metadata": {
    "slideshow": {
     "slide_type": "slide"
    }
   },
   "source": [
    "<center><h3>*args</h3></center>\n",
    "\n",
    "<ul>\n",
    "    <li> Used when an unknown number of arguments will be passed into a function\n",
    "    <li> Denoted by * preceding the name in the method header\n",
    "    <li> processed in a similar manner to a list\n",
    "</ul>"
   ]
  },
  {
   "cell_type": "code",
   "execution_count": 9,
   "id": "4d140b62",
   "metadata": {
    "slideshow": {
     "slide_type": "fragment"
    }
   },
   "outputs": [
    {
     "name": "stdout",
     "output_type": "stream",
     "text": [
      "0\n",
      "15\n"
     ]
    }
   ],
   "source": [
    "def summation(*nums):\n",
    "    return sum(nums)\n",
    "print(summation())\n",
    "print(summation(1,2,3,4,5))"
   ]
  },
  {
   "cell_type": "markdown",
   "id": "eeee35a1",
   "metadata": {
    "slideshow": {
     "slide_type": "slide"
    }
   },
   "source": [
    "<center><h3>**kwargs</h3></center>\n",
    "\n",
    "<ul>\n",
    "    <li> Used when an unknown number of <b>keyworded</b> arguments will be passed into a function\n",
    "    <li> Denoted by ** preceding the name in the method header \n",
    "    <li> processed in a similar manner to a dictionary\n",
    "</ul>"
   ]
  },
  {
   "cell_type": "code",
   "execution_count": 15,
   "id": "d2233223",
   "metadata": {
    "slideshow": {
     "slide_type": "fragment"
    }
   },
   "outputs": [
    {
     "name": "stdout",
     "output_type": "stream",
     "text": [
      "{}\n",
      "{'marina': 1, 'langlois': 2}\n"
     ]
    }
   ],
   "source": [
    "def create_dct(**entry):\n",
    "    return dict(entry)\n",
    "print(create_dct())\n",
    "print(create_dct(marina=1, langlois=2))"
   ]
  },
  {
   "cell_type": "markdown",
   "id": "cae45e6a",
   "metadata": {
    "slideshow": {
     "slide_type": "slide"
    }
   },
   "source": [
    "<center><h3>default_arguments</h3></center>\n",
    "\n",
    "<ul>\n",
    "    <li> Basically normal arguments, but with a default value\n",
    "    <li> if no value is passed, default value is set\n",
    "    <li> if a value is passed, default value is overwritten\n",
    "</ul>"
   ]
  },
  {
   "cell_type": "markdown",
   "id": "c98d99c0",
   "metadata": {
    "slideshow": {
     "slide_type": "slide"
    }
   },
   "source": [
    "<center><h3>Complexity Fundamentals</h3></center>\n",
    "\n",
    "1. Code should be quantified into big O values\n",
    "\n",
    "2. Nested code will have compounded big O values\n",
    "\n",
    "3. The largest term dictates the growth rate (i.e. only largest term matters)\n",
    "\n",
    "4. Constants are irrelevant\n",
    "\n",
    "5. big O analysis uses similar ideas to calculus and limits - reference your math knowledge\n"
   ]
  },
  {
   "cell_type": "markdown",
   "id": "d2e0d4f5",
   "metadata": {
    "slideshow": {
     "slide_type": "slide"
    }
   },
   "source": [
    "<center><h3>Time Complexity</h3></center>\n",
    "\n",
    "<center>Utilize mathematical principles to classify code as runtime families to quantify their relative efficiency</center>\n",
    "\n",
    "<b style='color:blue'>tips</b>:\n",
    "1. Always look for \"hallmark features\" (ex. if I see i // 2, there's probably log involved)\n",
    "2. If there are loops, check the iteration count AND the inside operations (don't assume n runtime)\n",
    "3. Order of Growth follows mathematical principles. Only consider the largest term (without constants)\n",
    "\n",
    "<center><img src='imgs/graph_ref.png' width = 550></center>\n",
    "<center><a href='https://www.bigocheatsheet.com/'>source</a></center>"
   ]
  },
  {
   "cell_type": "markdown",
   "id": "8d40459f",
   "metadata": {
    "slideshow": {
     "slide_type": "slide"
    }
   },
   "source": [
    "<center><h3 style = 'color:blue'> Checkpoint </h3></center>\n",
    "\n",
    "What is the runtime of the following code?\n",
    "\n",
    "```\n",
    "for _ in range(n, n^2, 1):\n",
    "    print('hi')\n",
    "```"
   ]
  },
  {
   "cell_type": "markdown",
   "id": "cb34ac82",
   "metadata": {
    "slideshow": {
     "slide_type": "fragment"
    }
   },
   "source": [
    "<center><h3 style = 'color:blue'> Checkpoint Solution</h3></center>\n",
    "\n",
    "<center> $O(n^2)$</center>\n",
    "\n",
    "<center> Does $n^2 - n$ become $n$ or $n^2$? <a href='https://www.desmos.com/calculator/peouatjipa'>desmos</a></center>"
   ]
  },
  {
   "cell_type": "markdown",
   "id": "a494936d",
   "metadata": {
    "slideshow": {
     "slide_type": "slide"
    }
   },
   "source": [
    "<center><h3>Recursion - Base Case</h3></center>\n",
    "\n",
    "<center> Base case(s) are regarded as the most important part of a recursive function. They determine the stop point for recursion and begin the argument passing up the \"stack\" of recursive calls. Without a well written base case, recursion will either never end or end incorrectly. When writing recursion questions, always start with determining the base case. </center>"
   ]
  },
  {
   "cell_type": "markdown",
   "id": "5a4e8e0a",
   "metadata": {
    "slideshow": {
     "slide_type": "slide"
    }
   },
   "source": [
    "<center><h3>Recursion - Recursive Calls</h3></center>\n",
    "\n",
    "<center>The crux of a recursive function working is the recursive calls. These calls will repeat until the base case is reached, creating the \"stack\" of recursive calls that will begin resolving at the base case. Keep in mind when writing recursive calls that every call needs to trend towards the base case.</center>"
   ]
  },
  {
   "cell_type": "markdown",
   "id": "bb634e20",
   "metadata": {
    "slideshow": {
     "slide_type": "slide"
    }
   },
   "source": [
    "<center> <h2>New Content</h2> </center>\n",
    "\n",
    "- classes\n",
    "- inheritance\n",
    "- special methods\n",
    "- ASCII"
   ]
  },
  {
   "cell_type": "markdown",
   "id": "d13ca0dc",
   "metadata": {
    "slideshow": {
     "slide_type": "slide"
    }
   },
   "source": [
    "<center><h3> Classes </h3></center>\n",
    "\n",
    "- aggregate code into function bodies\n",
    "- custom defined objects for specialized use"
   ]
  },
  {
   "cell_type": "code",
   "execution_count": 11,
   "id": "8ef4abb9",
   "metadata": {
    "slideshow": {
     "slide_type": "fragment"
    }
   },
   "outputs": [],
   "source": [
    "class phone:\n",
    "    \"\"\"\n",
    "    Class representation of a regular phone.\n",
    "    \"\"\"\n",
    "    pass"
   ]
  },
  {
   "cell_type": "markdown",
   "id": "e072d9e4",
   "metadata": {
    "slideshow": {
     "slide_type": "slide"
    }
   },
   "source": [
    "<center><h3> Constructors </h3></center>\n",
    "\n",
    "- denoted by \\_\\_init\\_\\_ (special function)\n",
    "- should ingest self as the first parameter (ALWAYS)\n",
    "- populates instance with attributes\n",
    "- if no constructor is explicitly defined, a default one is used"
   ]
  },
  {
   "cell_type": "markdown",
   "id": "744ce505",
   "metadata": {
    "slideshow": {
     "slide_type": "slide"
    }
   },
   "source": [
    "<center><h3> Working with self </h3></center>\n",
    "\n",
    "- Think of classes as a blueprint and everytime you create an instance of one, you've produced a \"physical\" manifestation. \n",
    "- We use the self keyword to interact with THIS specific instance of the class. \n",
    "- Try to think of 'self' as referencing a <b>specific, singular</b> instance of the class. Every method that works with a specific instance's values must be passed in self as an argument.</center>"
   ]
  },
  {
   "cell_type": "code",
   "execution_count": 18,
   "id": "0253825e",
   "metadata": {
    "slideshow": {
     "slide_type": "slide"
    }
   },
   "outputs": [],
   "source": [
    "class phone:\n",
    "    \"\"\"\n",
    "    Class representation of a regular phone.\n",
    "    \"\"\"\n",
    "    id_num = 1 # class variable\n",
    "    def __init__(self, maker, version, owner):\n",
    "        self.maker = maker\n",
    "        self.version = version\n",
    "        self.owner = owner\n",
    "        self.id = phone.id_num\n",
    "        phone.id_num+=1\n",
    "        # instance variables\n",
    "        self.apps = []\n",
    "        self.free_memory = 800\n",
    "    \n",
    "    def install_app(self, app, memory):\n",
    "        if self.free_memory - memory >= 0:\n",
    "            self.apps.append(app)\n",
    "            self.free_memory -= memory\n",
    "            return True\n",
    "        return False # class method"
   ]
  },
  {
   "cell_type": "markdown",
   "id": "c9a35ba2",
   "metadata": {
    "slideshow": {
     "slide_type": "slide"
    }
   },
   "source": [
    "<center><h3>@classmethod</h3></center>\n",
    "\n",
    "The `@classmethod` decorator modifies a method to become a class method. Class methods affect the class itself and are called on the class rather than its instances. This means that they receive the class as their first argument (`cls`) instead of the instance (`self`).\n",
    "\n",
    "- **Class-Level Operation:** `@classmethod` allows a method to modify class state that applies across all instances or to call other class methods.\n",
    "\n",
    "- **Access to Instance Variables:** While class methods can access class attributes, they do not have direct access to instance variables unless explicitly passed an instance. This is because they are not bound to a specific instance but to the class itself.\n"
   ]
  },
  {
   "cell_type": "markdown",
   "id": "f997f6de",
   "metadata": {
    "slideshow": {
     "slide_type": "slide"
    }
   },
   "source": [
    "<center><h3>@staticmethod</h3></center>\n",
    "\n",
    "The `@staticmethod` decorator transforms a method into a static method. Static methods, unlike class methods or instance methods, do not require a reference to the instance (`self`) or class (`cls`). This makes them behave more like plain functions that happen to reside within the class.\n",
    "\n",
    "- **No Automatic Arguments:** `@staticmethod` functions do not automatically receive the `cls` or `self` arguments. They behave like regular functions but belong to the class's scope.\n",
    "\n",
    "- **Use Cases:** Static methods are used when some processing is related to the class but does not require the class or its instances to perform its task. They can be called on the class itself or on instances of the class and are usually utility or helper functions."
   ]
  },
  {
   "cell_type": "markdown",
   "id": "0fe13590",
   "metadata": {
    "slideshow": {
     "slide_type": "slide"
    }
   },
   "source": [
    "<center><h3> Inheritance </h3></center>\n",
    "\n",
    "- classes can have a \"parent-child\" relationship\n",
    "- child class(es) \"inherit\" methods from their parent class\n",
    "- use \"is-a\" paradigm to distinguish; given a parent class phone and a child class pearphone:\n",
    "    - pearphones are phones (child is a parent)\n",
    "    - but not all phones are pearphones (parents are not children)\n",
    "- Though not required, child classes can **overwrite** methods of their parent class\n",
    "- if certain things are to be retained, super() is a useful function to use\n",
    "\n",
    "note: super refers to the direct parent of a class"
   ]
  },
  {
   "cell_type": "code",
   "execution_count": 20,
   "id": "30db066f",
   "metadata": {
    "slideshow": {
     "slide_type": "slide"
    }
   },
   "outputs": [],
   "source": [
    "class pearphone(phone):\n",
    "    def __init__(self, maker, version, owner, age):\n",
    "        # self is implicitly passed with super()\n",
    "        super().__init__(maker, version, owner)\n",
    "        self.age = age\n",
    "        \n",
    "        self.apps = []\n",
    "        self.free_memory = 800\n",
    "        \n",
    "    def install_app(self, app, memory):\n",
    "        '''install_app but better (whoo pear phones!)'''\n",
    "        if self.free_memory - memory//2 >= 0:\n",
    "            self.apps.append(app)\n",
    "            self.free_memory -= memory//2\n",
    "            return True\n",
    "        return False"
   ]
  },
  {
   "cell_type": "markdown",
   "id": "6242db21",
   "metadata": {
    "slideshow": {
     "slide_type": "slide"
    }
   },
   "source": [
    "<center><h3>Special Methods</h3></center>\n",
    "\n",
    "- Unique class methods that impose specific functionality\n",
    "- Denoted by \\_\\_ prepending and appending method names\n",
    "- The one you're most familiar with is \\_\\_init\\_\\_\n",
    "- Also called Dunder Methods!"
   ]
  },
  {
   "cell_type": "markdown",
   "id": "606b43db",
   "metadata": {
    "slideshow": {
     "slide_type": "slide"
    }
   },
   "source": [
    "<center><h3>__str__</h3></center>\n",
    "\n",
    "- human readable representation of a class\n",
    "- invoked when the string representation of a class is necessary (i.e. in a print or casted to a string)\n",
    "- does not invoke \\_\\_repr\\_\\_"
   ]
  },
  {
   "cell_type": "markdown",
   "id": "357e8e1a",
   "metadata": {
    "slideshow": {
     "slide_type": "slide"
    }
   },
   "source": [
    "<center><h3>__repr__</h3></center>\n",
    "\n",
    "- computer/technical representation of a class\n",
    "- commonly written so that the returned value can be used to recreate the object\n",
    "- if no \\_\\_str\\_\\_ is implemeneted, \\_\\_repr\\_\\_ will be used in lieu"
   ]
  },
  {
   "cell_type": "markdown",
   "id": "5ee69200",
   "metadata": {
    "slideshow": {
     "slide_type": "slide"
    }
   },
   "source": [
    "<center><h3>__(lt, gt, eq, etc.)__</h3></center>\n",
    "\n",
    "- encode operation between class instances"
   ]
  },
  {
   "cell_type": "code",
   "execution_count": 7,
   "id": "c30f61b2",
   "metadata": {
    "slideshow": {
     "slide_type": "fragment"
    }
   },
   "outputs": [],
   "source": [
    "class phone:\n",
    "    def __init__(self, name, owner, memory):\n",
    "        self.name = name\n",
    "        self.owner = owner\n",
    "        self.memory = memory\n",
    "    \n",
    "    def __repr__(self):\n",
    "        return f'phone(\"{self.name}\", \"{self.owner}\", {self.memory})'\n",
    "    \n",
    "    def __lt__(self, other_phone):\n",
    "        return self.memory < other_phone.memory\n",
    "    \n",
    "    def __eq__(self, other_phone):\n",
    "        return self.name == other_phone.name"
   ]
  },
  {
   "cell_type": "code",
   "execution_count": 8,
   "id": "46d449ea",
   "metadata": {
    "slideshow": {
     "slide_type": "fragment"
    }
   },
   "outputs": [
    {
     "name": "stdout",
     "output_type": "stream",
     "text": [
      "is the iphone less than the samsung (memory): True\n",
      "is the iphone less than the samsung (memory): False\n",
      "is the iphone less than the samsung (memory): False\n",
      "are the two phones the same (name): False\n"
     ]
    }
   ],
   "source": [
    "iphone = phone('iPhoneIX', 'nikki',800)\n",
    "samsung = phone('SamsungEarth', 'nikki',1600)\n",
    "print(f'is the iphone less than the samsung (memory): {iphone<samsung}')\n",
    "print(f'is the iphone less than the samsung (memory): {samsung<iphone}')\n",
    "print(f'is the iphone less than the samsung (memory): {iphone>samsung}')\n",
    "print(f'are the two phones the same (name): {iphone==samsung}')"
   ]
  },
  {
   "cell_type": "markdown",
   "id": "e629ca75",
   "metadata": {
    "slideshow": {
     "slide_type": "slide"
    }
   },
   "source": [
    "<center><h3> Exceptions </h3></center>\n",
    "\n",
    "- Python class that represents Errors\n",
    "- Triggered by any event that disrupts normal program flow\n",
    "- utilizes `raise` keyword"
   ]
  },
  {
   "cell_type": "markdown",
   "id": "a5232ff1",
   "metadata": {
    "slideshow": {
     "slide_type": "slide"
    }
   },
   "source": [
    "<center><h3> Common Exception Types and Cases </h3></center>\n",
    "\n",
    "<ul>\n",
    "    <li> <b style ='color:blue'>KeyError</b> - related to dictionaries; attempted access using a key not present in the object\n",
    "    <li> <b style ='color:blue'>IndexError</b> - related to lists/strings; attempted acccess of an index that's out of range\n",
    "    <li> <b style ='color:blue'>TypeError</b> - attempt to unify non - matching data types (ex. str + int) or attempt to access unknown attribute of datatype\n",
    "    <li> <b style ='color:blue'>FileNotFoundError</b> - related to files; attempted to open a file name that can't be found"
   ]
  },
  {
   "cell_type": "markdown",
   "id": "5cb3bd0c",
   "metadata": {
    "slideshow": {
     "slide_type": "slide"
    }
   },
   "source": [
    "<center><h3> raise </h3></center>\n",
    "\n",
    "<center>python keyword to throw an error.</center>\n",
    "\n",
    "<center><b>syntax</b>: raise [exception class](error message // optional)</center>"
   ]
  },
  {
   "cell_type": "code",
   "execution_count": 2,
   "id": "7bfa0893",
   "metadata": {
    "slideshow": {
     "slide_type": "fragment"
    }
   },
   "outputs": [
    {
     "ename": "ValueError",
     "evalue": "too young to drink...",
     "output_type": "error",
     "traceback": [
      "\u001b[0;31m---------------------------------------------------------------------------\u001b[0m",
      "\u001b[0;31mValueError\u001b[0m                                Traceback (most recent call last)",
      "Cell \u001b[0;32mIn[2], line 4\u001b[0m\n\u001b[1;32m      2\u001b[0m     \u001b[38;5;28;01mif\u001b[39;00m age \u001b[38;5;241m<\u001b[39m \u001b[38;5;241m21\u001b[39m:\n\u001b[1;32m      3\u001b[0m         \u001b[38;5;28;01mraise\u001b[39;00m \u001b[38;5;167;01mValueError\u001b[39;00m(\u001b[38;5;124m\"\u001b[39m\u001b[38;5;124mtoo young to drink...\u001b[39m\u001b[38;5;124m\"\u001b[39m)\n\u001b[0;32m----> 4\u001b[0m \u001b[43mbar_entry\u001b[49m\u001b[43m(\u001b[49m\u001b[38;5;241;43m18\u001b[39;49m\u001b[43m)\u001b[49m\n",
      "Cell \u001b[0;32mIn[2], line 3\u001b[0m, in \u001b[0;36mbar_entry\u001b[0;34m(age)\u001b[0m\n\u001b[1;32m      1\u001b[0m \u001b[38;5;28;01mdef\u001b[39;00m \u001b[38;5;21mbar_entry\u001b[39m(age):\n\u001b[1;32m      2\u001b[0m     \u001b[38;5;28;01mif\u001b[39;00m age \u001b[38;5;241m<\u001b[39m \u001b[38;5;241m21\u001b[39m:\n\u001b[0;32m----> 3\u001b[0m         \u001b[38;5;28;01mraise\u001b[39;00m \u001b[38;5;167;01mValueError\u001b[39;00m(\u001b[38;5;124m\"\u001b[39m\u001b[38;5;124mtoo young to drink...\u001b[39m\u001b[38;5;124m\"\u001b[39m)\n",
      "\u001b[0;31mValueError\u001b[0m: too young to drink..."
     ]
    }
   ],
   "source": [
    "def bar_entry(age):\n",
    "    if age < 21:\n",
    "        raise ValueError(\"too young to drink...\")\n",
    "bar_entry(18)"
   ]
  },
  {
   "cell_type": "markdown",
   "id": "9de3da4b",
   "metadata": {
    "slideshow": {
     "slide_type": "slide"
    }
   },
   "source": [
    "<center><h3> try except else finally</h3></center>\n",
    "\n",
    "- Exceptions can be handled in `try-except` blocks, preventing code from terminating the moment an error happens.\n",
    "- `Except` generally handles specific error classes (ex. except `zerodivisionerror`)\n",
    "- just like with files, it's common to specify a handle for easier processing (`as e`)\n",
    "- `else` is code that's ran in the case of no errors occurring\n",
    "- `finally` is code that will always run"
   ]
  },
  {
   "cell_type": "code",
   "execution_count": 3,
   "id": "ed476ba1",
   "metadata": {
    "slideshow": {
     "slide_type": "fragment"
    }
   },
   "outputs": [
    {
     "name": "stdout",
     "output_type": "stream",
     "text": [
      "too young to drink...\n",
      "--------------------------------------\n",
      "welcome in!\n",
      "--------------------------------------\n"
     ]
    }
   ],
   "source": [
    "def attempt_bar_entry(age):\n",
    "    try:\n",
    "        bar_entry(age)\n",
    "    except ValueError as e:\n",
    "        print(e)\n",
    "    else:\n",
    "        print('welcome in!')\n",
    "    finally:\n",
    "        print('--------------------------------------')\n",
    "        \n",
    "attempt_bar_entry(18)\n",
    "attempt_bar_entry(21)"
   ]
  },
  {
   "cell_type": "markdown",
   "id": "cbeb68b1",
   "metadata": {
    "slideshow": {
     "slide_type": "slide"
    }
   },
   "source": [
    "<center><h3> try-except vs assert </h3></center>\n",
    "\n",
    "<center>Assert statements are used to validate inputs and prevent logical errors. Try-except is used to catch error generating inputs / code. </center>\n",
    "\n",
    "<center> Ex. Asserts can't ascertain that a filepath exists, while try-except can prevent errors like this from happening </center>"
   ]
  },
  {
   "cell_type": "markdown",
   "id": "3ed0a826",
   "metadata": {
    "slideshow": {
     "slide_type": "slide"
    }
   },
   "source": [
    "<center><h3> is vs == </h3></center>\n",
    "\n",
    "- The ```==``` operator is used to check the equality of the values of two objects\n",
    "- The ```is``` operator is used to check if two variables refer to the same object in memory\n",
    "\n",
    "tl;dr: ```==``` checks for equality of values, while ```is``` checks for identity"
   ]
  },
  {
   "cell_type": "code",
   "execution_count": 4,
   "id": "0aa088f3",
   "metadata": {
    "slideshow": {
     "slide_type": "fragment"
    }
   },
   "outputs": [
    {
     "name": "stdout",
     "output_type": "stream",
     "text": [
      "True\n",
      "False\n",
      "True\n"
     ]
    }
   ],
   "source": [
    "a = [1,2,3]\n",
    "b = [1,2,3]\n",
    "c = a\n",
    "print(a == b)\n",
    "print(a is b)\n",
    "print(c is a)"
   ]
  },
  {
   "cell_type": "markdown",
   "id": "91ecaf4b",
   "metadata": {
    "slideshow": {
     "slide_type": "slide"
    }
   },
   "source": [
    "<center><h3>In-place vs Not In-place Algorithms</h3></center>\n",
    "\n",
    "- `In-place algorithms` transform data without needing extra space, or by using a minimal amount of additional space. The operation happens on the original data structure rather than a copy.\n",
    "\n",
    "- `Not in-place algorithms` require additional space proportional to the input data size and create a copy of the data.\n"
   ]
  },
  {
   "cell_type": "code",
   "execution_count": 5,
   "id": "84943876",
   "metadata": {
    "slideshow": {
     "slide_type": "fragment"
    }
   },
   "outputs": [
    {
     "name": "stdout",
     "output_type": "stream",
     "text": [
      "[1, 2, 3]\n",
      "[1, 3, 2]\n"
     ]
    }
   ],
   "source": [
    "lst = [1,3,2]\n",
    "print(sorted(lst))\n",
    "print(lst)"
   ]
  },
  {
   "cell_type": "code",
   "execution_count": 6,
   "id": "98103296",
   "metadata": {
    "slideshow": {
     "slide_type": "fragment"
    }
   },
   "outputs": [
    {
     "name": "stdout",
     "output_type": "stream",
     "text": [
      "[1, 2, 3]\n"
     ]
    }
   ],
   "source": [
    "lst.sort()\n",
    "print(lst)"
   ]
  },
  {
   "cell_type": "markdown",
   "id": "49030538",
   "metadata": {
    "slideshow": {
     "slide_type": "slide"
    }
   },
   "source": [
    "<center> <h1>Good luck on the final!</h1></center>"
   ]
  },
  {
   "cell_type": "code",
   "execution_count": 13,
   "id": "b94d3fe7",
   "metadata": {},
   "outputs": [
    {
     "ename": "TypeError",
     "evalue": "unhashable type: 'list'",
     "output_type": "error",
     "traceback": [
      "\u001b[0;31m---------------------------------------------------------------------------\u001b[0m",
      "\u001b[0;31mTypeError\u001b[0m                                 Traceback (most recent call last)",
      "Cell \u001b[0;32mIn[13], line 3\u001b[0m\n\u001b[1;32m      1\u001b[0m temp \u001b[38;5;241m=\u001b[39m(\u001b[38;5;241m1\u001b[39m,[\u001b[38;5;241m0\u001b[39m])\n\u001b[1;32m      2\u001b[0m dct \u001b[38;5;241m=\u001b[39m {}\n\u001b[0;32m----> 3\u001b[0m \u001b[43mdct\u001b[49m\u001b[43m[\u001b[49m\u001b[43mtemp\u001b[49m\u001b[43m]\u001b[49m \u001b[38;5;241m=\u001b[39m \u001b[38;5;241m1\u001b[39m\n\u001b[1;32m      4\u001b[0m dct\n",
      "\u001b[0;31mTypeError\u001b[0m: unhashable type: 'list'"
     ]
    }
   ],
   "source": [
    "temp =(1,[0])\n",
    "dct = {}\n",
    "dct[temp] = 1\n",
    "dct"
   ]
  },
  {
   "cell_type": "code",
   "execution_count": null,
   "id": "1e60d5be",
   "metadata": {
    "slideshow": {
     "slide_type": "skip"
    }
   },
   "outputs": [],
   "source": []
  }
 ],
 "metadata": {
  "celltoolbar": "Slideshow",
  "kernelspec": {
   "display_name": "Python 3 (ipykernel)",
   "language": "python",
   "name": "python3"
  },
  "language_info": {
   "codemirror_mode": {
    "name": "ipython",
    "version": 3
   },
   "file_extension": ".py",
   "mimetype": "text/x-python",
   "name": "python",
   "nbconvert_exporter": "python",
   "pygments_lexer": "ipython3",
   "version": "3.10.8"
  },
  "rise": {
   "enable_chalkboard": true
  }
 },
 "nbformat": 4,
 "nbformat_minor": 5
}
