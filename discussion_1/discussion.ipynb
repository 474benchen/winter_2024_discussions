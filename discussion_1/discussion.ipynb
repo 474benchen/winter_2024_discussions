{
 "cells": [
  {
   "cell_type": "markdown",
   "id": "9ac70a89",
   "metadata": {
    "slideshow": {
     "slide_type": "skip"
    }
   },
   "source": [
    "**note**: for anyone trying to view this as a slideshow, run 'pip install rise', reload your notebook, then click on the button that looks like a bar graph to the right of the command palette at the top."
   ]
  },
  {
   "cell_type": "markdown",
   "id": "0aaa7f3e",
   "metadata": {
    "slideshow": {
     "slide_type": "slide"
    }
   },
   "source": [
    "<center><h1>Discussion 1</h1></center>\n",
    "<center><h2>DSC 20, Winter 2024</h2><center>"
   ]
  },
  {
   "cell_type": "markdown",
   "id": "d963d1cf",
   "metadata": {
    "slideshow": {
     "slide_type": "slide"
    }
   },
   "source": [
    " <center><h2>Welcome to DSC 20! 🎉</h2></center>"
   ]
  },
  {
   "cell_type": "markdown",
   "id": "c8f91290",
   "metadata": {
    "slideshow": {
     "slide_type": "slide"
    }
   },
   "source": [
    "<center><h2>Agenda</h2></center>\n",
    "<ul>\n",
    "    <li> How discussion will work this quarter </li>\n",
    "    <li> Skill Tests</li>\n",
    "    <li> <b>Content</b> </li>\n",
    "    <ul>\n",
    "        <li> basic operators\n",
    "        <li> basic data types\n",
    "        <li> type casting\n",
    "        <li> booleans\n",
    "        <li> return vs print keyword\n",
    "        <li> short-circuits\n",
    "        <li> if conditions\n",
    "    </ul>\n",
    "    <li> Discussion Questions </li>\n",
    "    <li> File Structure </li>\n",
    "    <li> Style </li>\n",
    "    <li> Doctests </li>\n",
    "    <li> Skill Test Demo </li>\n",
    "    <li> Class Advice (time permitting) </li>\n",
    "</ul>"
   ]
  },
  {
   "cell_type": "markdown",
   "id": "5b6ada72",
   "metadata": {
    "slideshow": {
     "slide_type": "slide"
    }
   },
   "source": [
    "<center><h2> About Me </h2></center>\n",
    "<center> <h3>Benjamin (call me Ben)</h3> </center>\n",
    "<ul>\n",
    "<li> Originally from the Bay Area (San Jose/Fremont)\n",
    "<li> Fourth year Data Science major\n",
    "<li> 7th(?) quarter teaching DSC 20\n",
    "<li> Outside the classroom 👨‍🏫: track & field, badminton, marching band, reading, video games, anime, cooking, eating, travelling, bracelet making, video/photo editing, etc.\n",
    "</ul>"
   ]
  },
  {
   "cell_type": "markdown",
   "id": "fb5aea9d",
   "metadata": {
    "slideshow": {
     "slide_type": "slide"
    }
   },
   "source": [
    "<center><h2> How discussion will work this quarter </h2></center>\n",
    "\n",
    "<center><img src='imgs/discussion.png' width=700></center>\n",
    "\n",
    "- after reinforcing content, discussions will feature 4 practice questions on physical worksheets.\n",
    "- attendance is taken using webclicker; they will be feedback regarding the practice questions.\n",
    "- webclicker is geo-locked; you have to be in/near the room to get points"
   ]
  },
  {
   "cell_type": "markdown",
   "id": "09c7d92b",
   "metadata": {
    "slideshow": {
     "slide_type": "slide"
    }
   },
   "source": [
    "<center><h2> Skill Tests </h2></center>\n",
    "\n",
    "<center><img src='imgs/skilltest.png' width=700></center>\n",
    "\n",
    "- skill tests will be held remotely (more detail coming soon)"
   ]
  },
  {
   "cell_type": "markdown",
   "id": "426849e9",
   "metadata": {
    "slideshow": {
     "slide_type": "slide"
    }
   },
   "source": [
    "<center><h2>Content</h2></center>"
   ]
  },
  {
   "cell_type": "markdown",
   "id": "353b6fc4",
   "metadata": {
    "slideshow": {
     "slide_type": "slide"
    }
   },
   "source": [
    "<center> <h3>Basic Operations</h3> </center>\n",
    "\n",
    "<b style=\"color:blue;\">+</b> - Numerical addition / concatenation operator\n",
    "\n",
    "<b style=\"color:blue;\">-</b> - Numerical Subtraction operator\n",
    "\n",
    "<b style=\"color:blue;\">/</b> - Classic Division operator\n",
    "\n",
    "<b style=\"color:blue;\">//</b> - Floor Division operator\n",
    "\n",
    "<b style=\"color:blue;\">*</b> - Numerical Multiplication / repetition operator\n",
    "\n",
    "<b style=\"color:blue;\">**</b> - Numerical Exponential operator\n",
    "\n",
    "<b style=\"color:blue;\">%</b> - Numeric remainder operator"
   ]
  },
  {
   "cell_type": "markdown",
   "id": "fc3e010c",
   "metadata": {
    "slideshow": {
     "slide_type": "slide"
    }
   },
   "source": [
    "<center> <h3>Basic Data Types</h3> </center>\n",
    "\n",
    "<b style=\"color:blue;\">String</b> - Data type for text\n",
    "\n",
    "<b style=\"color:blue;\">Int</b> - Data type for whole numbers\n",
    "    \n",
    "<b style=\"color:blue;\">Float</b> - Data type for non-integers\n",
    "    \n",
    "<b style=\"color:blue;\">Bool</b> - True or False\n",
    " \n",
    "note: <b style=\"color:blue;\">None</b> is technically its own type"
   ]
  },
  {
   "cell_type": "code",
   "execution_count": 8,
   "id": "5dd381d4",
   "metadata": {
    "slideshow": {
     "slide_type": "fragment"
    }
   },
   "outputs": [
    {
     "name": "stdout",
     "output_type": "stream",
     "text": [
      "this is a string: abc\n",
      "this is an int: 1\n",
      "this is a float: 1.5\n",
      "this is a bool: True\n"
     ]
    }
   ],
   "source": [
    "print(f'this is a string: {\"abc\"}')\n",
    "print(f'this is an int: {1}')\n",
    "print(f'this is a float: {1.5}')\n",
    "print(f'this is a bool: {True}')"
   ]
  },
  {
   "cell_type": "markdown",
   "id": "dcc71bee",
   "metadata": {
    "slideshow": {
     "slide_type": "slide"
    }
   },
   "source": [
    "<center> <h3>Type Casting in Python</h3> </center>\n",
    "\n",
    "- refers to converting a variable from one type to another\n",
    "- **Casting can fail** if the conversion is not logically possible\n",
    "- Some automatic conversions happen ex.converting integers to floats in math operations"
   ]
  },
  {
   "cell_type": "code",
   "execution_count": 18,
   "id": "574055a4",
   "metadata": {
    "slideshow": {
     "slide_type": "fragment"
    }
   },
   "outputs": [
    {
     "data": {
      "text/plain": [
       "1"
      ]
     },
     "execution_count": 18,
     "metadata": {},
     "output_type": "execute_result"
    }
   ],
   "source": [
    "a=1\n",
    "a"
   ]
  },
  {
   "cell_type": "code",
   "execution_count": 19,
   "id": "552dfc29",
   "metadata": {
    "slideshow": {
     "slide_type": "fragment"
    }
   },
   "outputs": [
    {
     "data": {
      "text/plain": [
       "'1'"
      ]
     },
     "execution_count": 19,
     "metadata": {},
     "output_type": "execute_result"
    }
   ],
   "source": [
    "str(a)"
   ]
  },
  {
   "cell_type": "code",
   "execution_count": 20,
   "id": "2991ff0d",
   "metadata": {
    "slideshow": {
     "slide_type": "fragment"
    }
   },
   "outputs": [
    {
     "data": {
      "text/plain": [
       "1.0"
      ]
     },
     "execution_count": 20,
     "metadata": {},
     "output_type": "execute_result"
    }
   ],
   "source": [
    "float(a)"
   ]
  },
  {
   "cell_type": "code",
   "execution_count": 21,
   "id": "c4a59f8a",
   "metadata": {
    "slideshow": {
     "slide_type": "fragment"
    }
   },
   "outputs": [
    {
     "data": {
      "text/plain": [
       "True"
      ]
     },
     "execution_count": 21,
     "metadata": {},
     "output_type": "execute_result"
    }
   ],
   "source": [
    "bool(a)"
   ]
  },
  {
   "cell_type": "markdown",
   "id": "e903d93e",
   "metadata": {
    "slideshow": {
     "slide_type": "slide"
    }
   },
   "source": [
    "<center><h3 style = 'color:blue'> Checkpoint </h3></center>\n",
    "\n",
    "<center>What is the type of the result from the resulting expression?</center>"
   ]
  },
  {
   "cell_type": "code",
   "execution_count": 7,
   "id": "8d6dd626",
   "metadata": {
    "slideshow": {
     "slide_type": "fragment"
    }
   },
   "outputs": [],
   "source": [
    "def fractional_addition(x,y):\n",
    "    return float(x) + y\n",
    "\n",
    "fractional_addition(4, 5)"
   ]
  },
  {
   "cell_type": "markdown",
   "id": "6a97a748",
   "metadata": {
    "slideshow": {
     "slide_type": "slide"
    }
   },
   "source": [
    "<center><h3 style = 'color:blue'> Checkpoint Solution </h3></center>"
   ]
  },
  {
   "cell_type": "code",
   "execution_count": 8,
   "id": "d742f8e6",
   "metadata": {
    "slideshow": {
     "slide_type": "fragment"
    }
   },
   "outputs": [
    {
     "data": {
      "text/plain": [
       "9.0"
      ]
     },
     "execution_count": 8,
     "metadata": {},
     "output_type": "execute_result"
    }
   ],
   "source": [
    "fractional_addition(4, 5)"
   ]
  },
  {
   "cell_type": "markdown",
   "id": "1e282ad2",
   "metadata": {
    "slideshow": {
     "slide_type": "slide"
    }
   },
   "source": [
    "<center> <h3>Boolean Operators</h3> </center>\n",
    "\n",
    "<u>Logical Operators (in order priority)</u>:\n",
    "<ul>\n",
    "    <li> <b style = \"color:purple;\">not</b> - reverses the outcome of the following expression\n",
    "    <li> <b style = \"color:purple;\">and</b> - all expressions compared with “and” must be True to evaluate True\n",
    "    <li> <b style = \"color:purple;\">or</b> - at least one expression compared with “or” must be True to evaluate True\n",
    "</ul>\n",
    "\n",
    "<u>Comparison Operators (generates booleans)</u>:\n",
    "<ul>\n",
    "    <li> <b style = \"color:purple;\">==</b> - equality check\n",
    "    <li> <b style = \"color:purple;\">!=</b> - inequality check\n",
    "    <li> <b style = \"color:purple;\">>, >=, <, <=</b> directional check\n",
    "</ul>\n",
    "\n",
    "note: order of evaluation is overriden by parentheses (just like PEMDAS)"
   ]
  },
  {
   "cell_type": "markdown",
   "id": "032a7f6f",
   "metadata": {
    "slideshow": {
     "slide_type": "slide"
    }
   },
   "source": [
    "<center><h3 style = 'color:blue'> Checkpoint </h3></center>\n",
    "\n",
    "<center>What is the result of the following expression?</center>"
   ]
  },
  {
   "cell_type": "code",
   "execution_count": 11,
   "id": "288e013b",
   "metadata": {
    "slideshow": {
     "slide_type": "fragment"
    }
   },
   "outputs": [],
   "source": [
    "(5 > 2) and not (10 == 0) and not (4 != 4)"
   ]
  },
  {
   "cell_type": "markdown",
   "id": "c055512d",
   "metadata": {
    "slideshow": {
     "slide_type": "slide"
    }
   },
   "source": [
    "<center><h3 style = 'color:blue'> Checkpoint Solution </h3></center>"
   ]
  },
  {
   "cell_type": "code",
   "execution_count": 13,
   "id": "96923804",
   "metadata": {
    "slideshow": {
     "slide_type": "fragment"
    }
   },
   "outputs": [
    {
     "data": {
      "text/plain": [
       "True"
      ]
     },
     "execution_count": 13,
     "metadata": {},
     "output_type": "execute_result"
    }
   ],
   "source": [
    "(5 > 2) and not (10 == 0) and not (4 != 4)"
   ]
  },
  {
   "cell_type": "markdown",
   "id": "54567759",
   "metadata": {
    "slideshow": {
     "slide_type": "slide"
    }
   },
   "source": [
    "<center> <h3>return vs print</h3> </center>\n",
    "\n",
    "<b>'return'</b> is a very important and special keyword in python\n",
    "- It's python's functional way to pass a value out of a function\n",
    "- not every function needs a return (but many have one)\n",
    "\n",
    "<b>'print'</b> displays some output onto a console\n",
    "- commonly used for debugging, sometimes integral to the purpose of a function.\n",
    "- print's result is None (it doesn't \"return\" a meaningful value)"
   ]
  },
  {
   "cell_type": "code",
   "execution_count": 6,
   "id": "30344c2b",
   "metadata": {
    "slideshow": {
     "slide_type": "slide"
    }
   },
   "outputs": [
    {
     "data": {
      "text/plain": [
       "'marina'"
      ]
     },
     "execution_count": 6,
     "metadata": {},
     "output_type": "execute_result"
    }
   ],
   "source": [
    "def returning(x):\n",
    "    return x\n",
    "def printing(x):\n",
    "    print(x)\n",
    "\n",
    "a = returning('marina')\n",
    "a"
   ]
  },
  {
   "cell_type": "code",
   "execution_count": 7,
   "id": "6cf648f8",
   "metadata": {
    "slideshow": {
     "slide_type": "fragment"
    }
   },
   "outputs": [
    {
     "name": "stdout",
     "output_type": "stream",
     "text": [
      "marina\n"
     ]
    }
   ],
   "source": [
    "b = printing('marina')"
   ]
  },
  {
   "cell_type": "code",
   "execution_count": 21,
   "id": "9463d76a",
   "metadata": {
    "slideshow": {
     "slide_type": "fragment"
    }
   },
   "outputs": [
    {
     "name": "stdout",
     "output_type": "stream",
     "text": [
      "the output of a is: marina\n",
      "the output of b is: None\n"
     ]
    }
   ],
   "source": [
    "print(f'the output of a is: {a}')\n",
    "print(f'the output of b is: {b}')"
   ]
  },
  {
   "cell_type": "markdown",
   "id": "20dda745",
   "metadata": {
    "slideshow": {
     "slide_type": "slide"
    }
   },
   "source": [
    "<center> <h3>Short-circuits</h3> </center>\n",
    "\n",
    "- In python, expressions are evaluated from left to right\n",
    "- With certain operations, a \"short-ciruit\" can happen if conditions are met\n",
    "- Certain functions within python also act as short-circuits -> return is a short circuit\n"
   ]
  },
  {
   "cell_type": "code",
   "execution_count": 23,
   "id": "cdefb61f",
   "metadata": {
    "slideshow": {
     "slide_type": "fragment"
    }
   },
   "outputs": [
    {
     "data": {
      "text/plain": [
       "True"
      ]
     },
     "execution_count": 23,
     "metadata": {},
     "output_type": "execute_result"
    }
   ],
   "source": [
    "# expression short circuited before an error\n",
    "True or 1/0"
   ]
  },
  {
   "cell_type": "code",
   "execution_count": 14,
   "id": "eb346974",
   "metadata": {
    "slideshow": {
     "slide_type": "fragment"
    }
   },
   "outputs": [
    {
     "ename": "ZeroDivisionError",
     "evalue": "division by zero",
     "output_type": "error",
     "traceback": [
      "\u001b[0;31m---------------------------------------------------------------------------\u001b[0m",
      "\u001b[0;31mZeroDivisionError\u001b[0m                         Traceback (most recent call last)",
      "Cell \u001b[0;32mIn[14], line 2\u001b[0m\n\u001b[1;32m      1\u001b[0m \u001b[38;5;66;03m# and isn't a short circuit\u001b[39;00m\n\u001b[0;32m----> 2\u001b[0m \u001b[38;5;28;01mTrue\u001b[39;00m \u001b[38;5;129;01mand\u001b[39;00m \u001b[38;5;241;43m1\u001b[39;49m\u001b[38;5;241;43m/\u001b[39;49m\u001b[38;5;241;43m0\u001b[39;49m\n",
      "\u001b[0;31mZeroDivisionError\u001b[0m: division by zero"
     ]
    }
   ],
   "source": [
    "# and isn't a short circuit\n",
    "True and 1/0"
   ]
  },
  {
   "cell_type": "code",
   "execution_count": 26,
   "id": "afcb455e",
   "metadata": {
    "slideshow": {
     "slide_type": "slide"
    }
   },
   "outputs": [],
   "source": [
    "def shortcircuit(x):\n",
    "    return x\n",
    "    x/0\n",
    "def broken(x):\n",
    "    x/0\n",
    "    return x"
   ]
  },
  {
   "cell_type": "code",
   "execution_count": 27,
   "id": "ea8e130e",
   "metadata": {
    "slideshow": {
     "slide_type": "fragment"
    }
   },
   "outputs": [
    {
     "data": {
      "text/plain": [
       "5"
      ]
     },
     "execution_count": 27,
     "metadata": {},
     "output_type": "execute_result"
    }
   ],
   "source": [
    "shortcircuit(5)"
   ]
  },
  {
   "cell_type": "code",
   "execution_count": 28,
   "id": "99feb6a4",
   "metadata": {
    "slideshow": {
     "slide_type": "fragment"
    }
   },
   "outputs": [
    {
     "ename": "ZeroDivisionError",
     "evalue": "division by zero",
     "output_type": "error",
     "traceback": [
      "\u001b[0;31m---------------------------------------------------------------------------\u001b[0m",
      "\u001b[0;31mZeroDivisionError\u001b[0m                         Traceback (most recent call last)",
      "Cell \u001b[0;32mIn[28], line 1\u001b[0m\n\u001b[0;32m----> 1\u001b[0m \u001b[43mbroken\u001b[49m\u001b[43m(\u001b[49m\u001b[38;5;241;43m5\u001b[39;49m\u001b[43m)\u001b[49m\n",
      "Cell \u001b[0;32mIn[26], line 5\u001b[0m, in \u001b[0;36mbroken\u001b[0;34m(x)\u001b[0m\n\u001b[1;32m      4\u001b[0m \u001b[38;5;28;01mdef\u001b[39;00m \u001b[38;5;21mbroken\u001b[39m(x):\n\u001b[0;32m----> 5\u001b[0m     \u001b[43mx\u001b[49m\u001b[38;5;241;43m/\u001b[39;49m\u001b[38;5;241;43m0\u001b[39;49m\n\u001b[1;32m      6\u001b[0m     \u001b[38;5;28;01mreturn\u001b[39;00m x\n",
      "\u001b[0;31mZeroDivisionError\u001b[0m: division by zero"
     ]
    }
   ],
   "source": [
    "broken(5)"
   ]
  },
  {
   "cell_type": "markdown",
   "id": "6b9c441a",
   "metadata": {
    "slideshow": {
     "slide_type": "slide"
    }
   },
   "source": [
    "<center> <h3>Conditional Statements</h3> </center>\n",
    "\n",
    "if (boolean expression):\n",
    "\t<p> &emsp;<mark>//Do stuff</mark></p>\n",
    "    \n",
    "elif (other boolean expression):  \n",
    "\n",
    "<b>note: </b>elif is optional, can have as many elifs as necessary\n",
    "\t<p> &emsp;<mark>//Do other stuff</mark></p>\n",
    "    \n",
    "else: \n",
    "\n",
    "<b>note: </b>else is optional, will execute only if the conditions in the “if” and “elif” statements are not true. \"else\" is the final part of a chained conditional statement.\n",
    "\t<p> &emsp;<mark>//Do other other stuff</mark></p>\n",
    "\n"
   ]
  },
  {
   "cell_type": "markdown",
   "id": "faeded1c",
   "metadata": {
    "slideshow": {
     "slide_type": "slide"
    }
   },
   "source": [
    "<center> <h2>A few practice problems</h2> </center>"
   ]
  },
  {
   "cell_type": "markdown",
   "id": "d65ada9e",
   "metadata": {
    "slideshow": {
     "slide_type": "slide"
    }
   },
   "source": [
    "<center><h3>Question 1</h3></center>\n",
    "\n",
    "<center> Given the following code, what is the result of the function call? </center>"
   ]
  },
  {
   "cell_type": "code",
   "execution_count": 15,
   "id": "4f4efeb6",
   "metadata": {
    "slideshow": {
     "slide_type": "fragment"
    }
   },
   "outputs": [
    {
     "data": {
      "text/plain": [
       "2.0"
      ]
     },
     "execution_count": 15,
     "metadata": {},
     "output_type": "execute_result"
    }
   ],
   "source": [
    "def math(x, a):\n",
    "    return x - x ** a\n",
    "\n",
    "math(4,0.5) # <--- that one"
   ]
  },
  {
   "cell_type": "markdown",
   "id": "f4b1c276",
   "metadata": {
    "slideshow": {
     "slide_type": "fragment"
    }
   },
   "source": [
    "A) 0.0\n",
    "\n",
    "B) 2.0\n",
    "\n",
    "C) 4.0\n",
    "\n",
    "D) 6.0"
   ]
  },
  {
   "cell_type": "markdown",
   "id": "cab8c489",
   "metadata": {
    "slideshow": {
     "slide_type": "slide"
    }
   },
   "source": [
    "<center><h3>Question 2</h3></center>\n",
    "\n",
    "<center> Given the following code, what is the result of the boolean expression? </center>"
   ]
  },
  {
   "cell_type": "code",
   "execution_count": 16,
   "id": "37ee6e8a",
   "metadata": {
    "slideshow": {
     "slide_type": "fragment"
    }
   },
   "outputs": [
    {
     "data": {
      "text/plain": [
       "True"
      ]
     },
     "execution_count": 16,
     "metadata": {},
     "output_type": "execute_result"
    }
   ],
   "source": [
    "(True and True) or not 0 and 1/0 or True and not ''"
   ]
  },
  {
   "cell_type": "markdown",
   "id": "4d7cd460",
   "metadata": {
    "slideshow": {
     "slide_type": "fragment"
    }
   },
   "source": [
    "A) True\n",
    "\n",
    "B) False\n",
    "\n",
    "C) Error\n",
    "\n",
    "D) Nothing"
   ]
  },
  {
   "cell_type": "markdown",
   "id": "540001f0",
   "metadata": {
    "slideshow": {
     "slide_type": "slide"
    }
   },
   "source": [
    "<center><h3>Question 3</h3></center>\n",
    "\n",
    "<center> Given the following code, what numbers are displayed? </center>"
   ]
  },
  {
   "cell_type": "code",
   "execution_count": 20,
   "id": "f7934184",
   "metadata": {
    "slideshow": {
     "slide_type": "fragment"
    }
   },
   "outputs": [
    {
     "name": "stdout",
     "output_type": "stream",
     "text": [
      "2\n",
      "4\n"
     ]
    },
    {
     "data": {
      "text/plain": [
       "6"
      ]
     },
     "execution_count": 20,
     "metadata": {},
     "output_type": "execute_result"
    }
   ],
   "source": [
    "def foo(x):\n",
    "    print(x)\n",
    "    print(x*2)\n",
    "    return x*3\n",
    "    print(x*4)\n",
    "    return x*5\n",
    "\n",
    "foo(2) # <--- that one"
   ]
  },
  {
   "cell_type": "markdown",
   "id": "fe1bce2c",
   "metadata": {
    "slideshow": {
     "slide_type": "fragment"
    }
   },
   "source": [
    "A) 2\n",
    "\n",
    "B) 2, 4, 6\n",
    "\n",
    "C) 2, 4, 6, 8\n",
    "\n",
    "D) 2, 4, 6, 8, 10"
   ]
  },
  {
   "cell_type": "markdown",
   "id": "2fcc4a36",
   "metadata": {
    "slideshow": {
     "slide_type": "slide"
    }
   },
   "source": [
    "<center><h3>Question 4</h3></center>\n",
    "\n",
    "<center> Given the following code, what is the result? </center>"
   ]
  },
  {
   "cell_type": "code",
   "execution_count": 18,
   "id": "eb5d7400",
   "metadata": {
    "slideshow": {
     "slide_type": "fragment"
    }
   },
   "outputs": [
    {
     "data": {
      "text/plain": [
       "True"
      ]
     },
     "execution_count": 18,
     "metadata": {},
     "output_type": "execute_result"
    }
   ],
   "source": [
    "bool(-10)"
   ]
  },
  {
   "cell_type": "markdown",
   "id": "3d07802e",
   "metadata": {
    "slideshow": {
     "slide_type": "fragment"
    }
   },
   "source": [
    "A) True\n",
    "\n",
    "B) False\n",
    "\n",
    "C) Error\n",
    "\n",
    "D) Nothing"
   ]
  },
  {
   "cell_type": "markdown",
   "id": "75204e7a",
   "metadata": {
    "slideshow": {
     "slide_type": "slide"
    }
   },
   "source": [
    "<center><h2>Practice Feedback</h2></center>\n",
    "\n",
    "<center>Go to webclicker: https://webclicker.web.app or open on your phone</center>"
   ]
  },
  {
   "cell_type": "markdown",
   "id": "c2a7f20a",
   "metadata": {
    "slideshow": {
     "slide_type": "slide"
    }
   },
   "source": [
    "<center><h3>How long have you been coding?</h3></center>\n",
    "\n",
    "A. Less than 1 year\n",
    "\n",
    "B. 1-2 years\n",
    "\n",
    "C. 3-4 years\n",
    "\n",
    "D. 4+ years"
   ]
  },
  {
   "cell_type": "markdown",
   "id": "f5833594",
   "metadata": {
    "slideshow": {
     "slide_type": "slide"
    }
   },
   "source": [
    "<center><h3>How many of the questions did you get right?</h3></center>\n",
    "\n",
    "A. 0\n",
    "\n",
    "B. 1\n",
    "\n",
    "C. 2\n",
    "\n",
    "D. 3\n",
    "\n",
    "E. 4"
   ]
  },
  {
   "cell_type": "markdown",
   "id": "2db29a14",
   "metadata": {
    "slideshow": {
     "slide_type": "slide"
    }
   },
   "source": [
    "<center><h3> Skill Test Demo </h3></center>"
   ]
  },
  {
   "cell_type": "markdown",
   "id": "255af87a",
   "metadata": {
    "slideshow": {
     "slide_type": "slide"
    }
   },
   "source": [
    "<center><h3> PythonTutor - Debugging (demo) </h3></center>\n",
    "\n",
    "<center><a href = 'https://pythontutor.com/visualize.html#code=def%20list_sorter%28master_list%29%3A%0A%20%20%20%20odd_list%20%3D%20%5B%5D%0A%20%20%20%20even_list%20%3D%20%5B%5D%0A%20%20%20%20for%20num%20in%20master_list%3A%0A%20%20%20%20%20%20%20%20if%20num%252%20%3D%3D%201%3A%0A%20%20%20%20%20%20%20%20%20%20%20%20odd_list%2B%3Dnum%0A%20%20%20%20%20%20%20%20else%3A%0A%20%20%20%20%20%20%20%20%20%20%20%20even_list%2B%3Dnum%0A%20%20%20%20return%20%28odd_list,%20even_list%29%0A%0Alist_sorter%28%5B1,2,3,4,5,6,7,8%5D%29&cumulative=false&heapPrimitives=nevernest&mode=edit&origin=opt-frontend.js&py=3&rawInputLstJSON=%5B%5D&textReferences=false'>Python Tutor</a></center>"
   ]
  },
  {
   "cell_type": "markdown",
   "id": "8bcd7520",
   "metadata": {
    "slideshow": {
     "slide_type": "slide"
    }
   },
   "source": [
    "<center><h2>File Structure</h2></center>\n",
    "\n",
    "- Staying organized is crucial to your success in both this class and later on\n",
    "- Use a file structure that makes sense (we subtly enforce this)\n",
    "- Enables tutors to help you faster, makes it easier for you to track things\n",
    "- sample file structure:\n",
    "<center><img src='imgs/file_structure.png' width=600></center>\n",
    "\n",
    "note: make a new subfolder in your DSC20 one for skill tests :)"
   ]
  },
  {
   "cell_type": "markdown",
   "id": "1d5dcb86",
   "metadata": {
    "slideshow": {
     "slide_type": "slide"
    }
   },
   "source": [
    "<center><h2>Style</h2></center>\n",
    "<center>Why enforce style? - having poor style while coding is a death sentence if you run into a bug. Having clean code makes identifying break points easy and smooths out your workflow if you don't finish in one sitting.</center>\n",
    "\n",
    "1. limit lines to 79 characters or less (use the ruler feature in your IDE)\n",
    "\n",
    "2. avoid magic numbers (using a number randomly instead of identifying it) except for -1,0,1\n",
    "\n",
    "3. avoid meaningless variable names (ex. one=1)\n",
    "\n",
    "4. add docstrings to every function (inner, helper) you write!\n",
    "\n",
    "5. use snake_case for names\n",
    "\n",
    "\n",
    "<center><b>There are more rules, this is just a (very) brief overview. The entire ruleset can be found on the course website.</b></center>"
   ]
  },
  {
   "cell_type": "markdown",
   "id": "ae8bbde8",
   "metadata": {
    "slideshow": {
     "slide_type": "slide"
    }
   },
   "source": [
    "<center><h3>Doctests</h3></center>\n",
    "<ul>\n",
    "    <li> Tests to check that your function works as intended\n",
    "    <li> denoted by the '>>> ' symbol (space included)!\n",
    "    <li> the line right after the '>>> ' represents the intended output\n",
    "    <li> well written doctests make sure your code is logically sound\n",
    "</ul>\n",
    "\n",
    "to run doctests: terminal -> file location -> python -m doctest [filename].py\n",
    "\n",
    "<b>note</b>: if you want to see the doctests you passed when you run them, add a '-v' at the end."
   ]
  },
  {
   "cell_type": "markdown",
   "id": "acb6e366",
   "metadata": {
    "slideshow": {
     "slide_type": "slide"
    }
   },
   "source": [
    "<center><h2> Why bother learning how to code? </h2></center>\n",
    "\n",
    "- Coding is a transferrable skill (mindset, language)\n",
    "- Everything cool you see is a tool, not a solution"
   ]
  },
  {
   "cell_type": "markdown",
   "id": "7b7a039b",
   "metadata": {
    "slideshow": {
     "slide_type": "slide"
    }
   },
   "source": [
    "<center><h2> Things I would do if I were a student taking DSC20 now </h2></center>\n",
    "\n",
    "### 1. Utilize Resources\n",
    "### 2. Use Online Content, don't depend on them\n",
    "### 3. Useful Tools\n",
    "### 4. Practice\n",
    "### 5. Take a break!"
   ]
  },
  {
   "cell_type": "markdown",
   "id": "061f26f3",
   "metadata": {
    "slideshow": {
     "slide_type": "slide"
    }
   },
   "source": [
    "### 1. Utilize Resources\n",
    "- Office hours are great, not just for getting help on assignments or studying for the class, but as interpersonal resources. All the tutors are amazing and they're open to just talking as peers - they're people you can ask about future classes, career advice, etc. Some tutors will have more input than others, but don't be shy! We're still students and we were/are in your shoes.\n",
    "\n",
    "- Discussions are intended to be particuarly helpful. Rather than just reinforcing class concepts, they will also occassionally teach side topics that will help you become a strong programmer and help you adjust to exams (paper coding).\n",
    "\n",
    "- If you're ever struggling, don't be afraid to reach out to the staff for help. We do our best to support students."
   ]
  },
  {
   "cell_type": "markdown",
   "id": "e13236a6",
   "metadata": {
    "slideshow": {
     "slide_type": "slide"
    }
   },
   "source": [
    "### 2. Use Online Content, don't depend on them\n",
    "- Tools like ChatGPT are amazing, but abusing them will only hurt your own learning\n",
    "- Copying code from medium articles or w3school can get you a quick grade, but teaches you nothing and can get you AI'd\n",
    "- Asking friends for a question can get not only you AI'd, but also your friend\n",
    "- This class is best traversed with class content and staff support. You can consult your peers on programming ideas, but not the implementation itself"
   ]
  },
  {
   "cell_type": "markdown",
   "id": "e64ed24b",
   "metadata": {
    "slideshow": {
     "slide_type": "slide"
    }
   },
   "source": [
    "### 3. Useful Tools\n",
    "1. <a href = 'https://pythontutor.com/visualize.html#mode=edit'>Python Tutor</a> - Debugging\n",
    "    - invaluable for debugging, amazing for understanding why some code works, and why others don't\n",
    "\n",
    "2. w3school, geeksforgeeks, other documentation and example websites - Reference\n",
    "    - Stores documentation for what functions/methods do with examples\n",
    "    - Always includes examples so that you can understand what's actually happening\n",
    "\n",
    "3. Fig - File Navigation\n",
    "    - terminal plugin for mac that autocompletes file names\n",
    "    - can help you navigate your files much more easily\n",
    "\n",
    "4. Iterm2\n",
    "    - mac terminal alternative; has a lot of useful features\n",
    "\n",
    "5. oh my zsh / power level 10k\n",
    "    - framework to modify your terminal (enables plugins)\n",
    "    - powerlevel10k is a ohmyzsh plugin to beautify terminal\n",
    "    - makes things a lot more readable!(why my terminal looks nice^)"
   ]
  },
  {
   "cell_type": "markdown",
   "id": "21b80701",
   "metadata": {
    "slideshow": {
     "slide_type": "slide"
    }
   },
   "source": [
    "### 4. Practice\n",
    "- like all new skills, practice makes perfect\n",
    "- staring at code and not writing any will ultimately do nothing to make you a better coder\n",
    "- Websites such as <a href = 'https://codingbat.com/python'>coding bat</a> has practice problems for you to familiarize yourself with python\n",
    "- <a href='https://www.codecademy.com/'> codecademy</a> is something that I personally used with DSC20 to help learn coding. It walks you through the fundamental functions of python and always frames it in sample code\n",
    "- more challenging questions can be found on <a href='https://leetcode.com/'> leetcode</a>, though I don't recommend this for people new to coding.\n",
    "more can be found on course website"
   ]
  },
  {
   "cell_type": "markdown",
   "id": "a0dd7983",
   "metadata": {
    "slideshow": {
     "slide_type": "slide"
    }
   },
   "source": [
    "### 5. Take a break!\n",
    "- parking at the desk for 3+ hours and staring at a screen never helped anyone\n",
    "- remember to take breaks while coding, sometimes your brain just comes up with the solution\n",
    "- I personally have a lot of solutions come to me after a shower"
   ]
  },
  {
   "cell_type": "markdown",
   "id": "49030538",
   "metadata": {
    "slideshow": {
     "slide_type": "slide"
    }
   },
   "source": [
    "<center> <h1>Thanks for coming!</h1></center>"
   ]
  },
  {
   "cell_type": "code",
   "execution_count": null,
   "id": "1e60d5be",
   "metadata": {
    "slideshow": {
     "slide_type": "skip"
    }
   },
   "outputs": [],
   "source": []
  }
 ],
 "metadata": {
  "celltoolbar": "Slideshow",
  "kernelspec": {
   "display_name": "Python 3 (ipykernel)",
   "language": "python",
   "name": "python3"
  },
  "language_info": {
   "codemirror_mode": {
    "name": "ipython",
    "version": 3
   },
   "file_extension": ".py",
   "mimetype": "text/x-python",
   "name": "python",
   "nbconvert_exporter": "python",
   "pygments_lexer": "ipython3",
   "version": "3.10.8"
  },
  "rise": {
   "enable_chalkboard": true
  }
 },
 "nbformat": 4,
 "nbformat_minor": 5
}
