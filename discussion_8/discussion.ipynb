{
 "cells": [
  {
   "cell_type": "markdown",
   "id": "9ac70a89",
   "metadata": {
    "slideshow": {
     "slide_type": "skip"
    }
   },
   "source": [
    "**note**: for anyone trying to view this as a slideshow, run 'pip install rise', reload your notebook, then click on the button that looks like a bar graph to the right of the command palette at the top."
   ]
  },
  {
   "cell_type": "markdown",
   "id": "0aaa7f3e",
   "metadata": {
    "slideshow": {
     "slide_type": "slide"
    }
   },
   "source": [
    "<center><h1>Discussion 8</h1></center>\n",
    "<center><h2>DSC 20, Winter 2024</h2><center>"
   ]
  },
  {
   "cell_type": "markdown",
   "id": "172f9b03",
   "metadata": {
    "slideshow": {
     "slide_type": "slide"
    }
   },
   "source": [
    "<center><h3>Meme of the Week</h3></center>\n",
    "<br>\n",
    "\n",
    "<center><img src='imgs/meme.png' width = 550></center>"
   ]
  },
  {
   "cell_type": "markdown",
   "id": "c8f91290",
   "metadata": {
    "slideshow": {
     "slide_type": "slide"
    }
   },
   "source": [
    "<center><h3>Agenda</h3></center>\n",
    "\n",
    "- Classes\n",
    "- instance methods\n",
    "- class methods\n",
    "- static methods\n",
    "- Inheritance\n",
    "- super"
   ]
  },
  {
   "cell_type": "markdown",
   "id": "242665e0",
   "metadata": {
    "slideshow": {
     "slide_type": "slide"
    }
   },
   "source": [
    "<center><h3> Classes </h3></center>\n",
    "\n",
    "<center>Classes aggregate code together into a functional body. A lot of effective python code is written as classes (every time you install a new package, it's basically written as a lot of different classes). For example, recall the pandas dataframe. If you look at the source code for <a href='https://github.com/pandas-dev/pandas/blob/main/pandas/core/frame.py'>pandas</a>, you'll see that it's a very complicated class definition.</center>\n",
    "\n",
    "<center>Classes all generally have (at the minimum) a constructor (__init__) function and  other object related methods that are used.</center>"
   ]
  },
  {
   "cell_type": "code",
   "execution_count": 7,
   "id": "df85e9b2",
   "metadata": {
    "slideshow": {
     "slide_type": "fragment"
    }
   },
   "outputs": [],
   "source": [
    "class phone:\n",
    "    \"\"\"\n",
    "    Class representation of a regular phone.\n",
    "    \"\"\"\n",
    "    pass"
   ]
  },
  {
   "cell_type": "markdown",
   "id": "dae32a26",
   "metadata": {
    "slideshow": {
     "slide_type": "slide"
    }
   },
   "source": [
    "<center><h3> Constructors </h3></center>\n",
    "\n",
    "- denoted by \\_\\_init\\_\\_ (special function)\n",
    "- should ingest self as the first parameter (ALWAYS)\n",
    "- populates instance with attributes"
   ]
  },
  {
   "cell_type": "markdown",
   "id": "a64c283c",
   "metadata": {
    "slideshow": {
     "slide_type": "fragment"
    }
   },
   "source": [
    "<center><h3> Instances </h3></center>\n",
    "\n",
    "<center> When an object is created from a class, each individual unit is referred to as an instance.</center>\n",
    "\n",
    "<center> Think of it as \"one of x\" (for example, an instance of the iPhone class is \"1/my iPhone\")</center>"
   ]
  },
  {
   "cell_type": "markdown",
   "id": "e64b6cd2",
   "metadata": {
    "slideshow": {
     "slide_type": "slide"
    }
   },
   "source": [
    "<center><h3> Working with self </h3></center>\n",
    "\n",
    "- Think of classes as a blueprint and everytime you create an instance of one, you've produced a \"physical\" manifestation. \n",
    "- We use the self keyword to interact with THIS specific instance of the class. \n",
    "- Try to think of 'self' as referencing a <b>specific, singular</b> instance of the class. Every method that works with a specific instance's values must be passed in self as an argument.</center>"
   ]
  },
  {
   "cell_type": "code",
   "execution_count": 8,
   "id": "6834cabb",
   "metadata": {
    "slideshow": {
     "slide_type": "slide"
    }
   },
   "outputs": [],
   "source": [
    "class phone:\n",
    "    \"\"\"\n",
    "    Class representation of a regular phone.\n",
    "    \"\"\"\n",
    "    def __init__(self, maker, version, owner):\n",
    "        self.maker = maker\n",
    "        self.version = version\n",
    "        self.owner = owner\n",
    "        \n",
    "        self.apps = []\n",
    "        self.free_memory = 800"
   ]
  },
  {
   "cell_type": "code",
   "execution_count": 9,
   "id": "7da926e4",
   "metadata": {
    "slideshow": {
     "slide_type": "fragment"
    }
   },
   "outputs": [
    {
     "name": "stdout",
     "output_type": "stream",
     "text": [
      "Apple\n",
      "Nikki\n",
      "[]\n",
      "\n",
      "Google\n",
      "Sailesh\n",
      "[]\n"
     ]
    }
   ],
   "source": [
    "iphone = phone('Apple', 'XR', 'Nikki')\n",
    "pixel = phone('Google', 'P3', 'Sailesh')\n",
    "print(iphone.maker)\n",
    "print(iphone.owner)\n",
    "print(iphone.apps)\n",
    "print()\n",
    "print(pixel.maker)\n",
    "print(pixel.owner)\n",
    "print(pixel.apps)"
   ]
  },
  {
   "cell_type": "markdown",
   "id": "3134a4bc",
   "metadata": {
    "slideshow": {
     "slide_type": "slide"
    }
   },
   "source": [
    "<center><h3> Instance vs Class variables </h3></center>\n",
    "\n",
    "<center>Instance variables are attached to instances of a class by keyword self (usually done in the constructor). Class variables are variables attached to the class itself.</center>"
   ]
  },
  {
   "cell_type": "code",
   "execution_count": 10,
   "id": "49782c0f",
   "metadata": {
    "slideshow": {
     "slide_type": "slide"
    }
   },
   "outputs": [],
   "source": [
    "class phone:\n",
    "    \"\"\"\n",
    "    Class representation of a regular phone.\n",
    "    \"\"\"\n",
    "    id_num = 0 # class variable\n",
    "    o_type = 'phone' # class variable\n",
    "    def __init__(self, maker, version, owner):\n",
    "        self.maker = maker\n",
    "        self.version = version\n",
    "        self.owner = owner\n",
    "        self.id = phone.id_num\n",
    "        phone.id_num+=1\n",
    "        \n",
    "        self.apps = []\n",
    "        self.free_memory = 800"
   ]
  },
  {
   "cell_type": "code",
   "execution_count": 11,
   "id": "4867502a",
   "metadata": {
    "slideshow": {
     "slide_type": "fragment"
    }
   },
   "outputs": [
    {
     "name": "stdout",
     "output_type": "stream",
     "text": [
      "0\n",
      "phone\n",
      "\n",
      "1\n",
      "phone\n"
     ]
    }
   ],
   "source": [
    "iphone = phone('Apple', 'XR', 'Nikki')\n",
    "pixel = phone('Google', 'P3', 'Sailesh')\n",
    "print(iphone.id)\n",
    "print(iphone.o_type)\n",
    "print()\n",
    "print(pixel.id)\n",
    "print(pixel.o_type)"
   ]
  },
  {
   "cell_type": "markdown",
   "id": "8c819b79",
   "metadata": {
    "slideshow": {
     "slide_type": "slide"
    }
   },
   "source": [
    "<center><h3>Instance Methods</h3></center>\n",
    "\n",
    "Instance methods operate on an instance of the class (an object), allowing the method to read or modify the state of the instance. Each instance method automatically takes `self` as its first argument, which is a reference to the instance on which the method was called.\n",
    "\n",
    "- **Access to Instance and Class Data:** Instance methods can modify the object's state by accessing or updating instance attributes.\n",
    "\n",
    "- **Usage:** Primarily used to define the behaviors of an object. Most operations involving objects of a class will use instance methods because they can access and modify the data within those objects."
   ]
  },
  {
   "cell_type": "code",
   "execution_count": 12,
   "id": "780fa241",
   "metadata": {
    "slideshow": {
     "slide_type": "slide"
    }
   },
   "outputs": [],
   "source": [
    "class phone:\n",
    "    \"\"\"\n",
    "    Class representation of a regular phone.\n",
    "    \"\"\"\n",
    "    id_num = 0\n",
    "    def __init__(self, maker, version, owner):\n",
    "        self.maker = maker\n",
    "        self.version = version\n",
    "        self.owner = owner\n",
    "        self.id = phone.id_num\n",
    "        phone.id_num+=1\n",
    "        \n",
    "        self.apps = []\n",
    "        self.free_memory = 800\n",
    "    \n",
    "    def install_app(self, app, memory):\n",
    "        if self.free_memory - memory >= 0:\n",
    "            self.apps.append(app)\n",
    "            self.free_memory -= memory\n",
    "            return True\n",
    "        return False"
   ]
  },
  {
   "cell_type": "code",
   "execution_count": 13,
   "id": "902c0310",
   "metadata": {
    "slideshow": {
     "slide_type": "fragment"
    }
   },
   "outputs": [
    {
     "name": "stdout",
     "output_type": "stream",
     "text": [
      "True\n",
      "False\n",
      "['duolingo']\n"
     ]
    }
   ],
   "source": [
    "iphone = phone('Apple', 'XR', 'Nikki')\n",
    "print(iphone.install_app('duolingo', 600))\n",
    "print(iphone.install_app('genshin impact', 1000))\n",
    "print(iphone.apps)"
   ]
  },
  {
   "cell_type": "markdown",
   "id": "5597af2d",
   "metadata": {
    "slideshow": {
     "slide_type": "slide"
    }
   },
   "source": [
    "<center><h3 style = 'color:blue'> Checkpoint </h3></center>\n",
    "\n",
    "<center>Given the following code, what is the result of the final expression?</center>"
   ]
  },
  {
   "cell_type": "code",
   "execution_count": 4,
   "id": "38c925d8",
   "metadata": {
    "slideshow": {
     "slide_type": "fragment"
    }
   },
   "outputs": [],
   "source": [
    "class phone:\n",
    "    \"\"\"\n",
    "    Class representation of a regular phone.\n",
    "    \"\"\"\n",
    "    id_num = 0\n",
    "    def __init__(self, owner):\n",
    "        self.id = phone.id_num\n",
    "        phone.id_num+=1\n",
    "        self.apps = []\n",
    "        self.free_memory = 800\n",
    "    \n",
    "    def install_app(self, app, memory):\n",
    "        if self.free_memory - memory >= 0:\n",
    "            self.apps.append(app)\n",
    "            self.free_memory -= memory\n",
    "            return True\n",
    "        return False"
   ]
  },
  {
   "cell_type": "code",
   "execution_count": 5,
   "id": "41aa43a3",
   "metadata": {
    "slideshow": {
     "slide_type": "fragment"
    }
   },
   "outputs": [],
   "source": [
    "phone1 = phone('Anish')\n",
    "phone2 = phone('TQ')"
   ]
  },
  {
   "cell_type": "code",
   "execution_count": 6,
   "id": "717ac750",
   "metadata": {
    "slideshow": {
     "slide_type": "fragment"
    }
   },
   "outputs": [
    {
     "data": {
      "text/plain": [
       "2"
      ]
     },
     "execution_count": 6,
     "metadata": {},
     "output_type": "execute_result"
    }
   ],
   "source": [
    "phone.id_num"
   ]
  },
  {
   "cell_type": "markdown",
   "id": "b3f97c13",
   "metadata": {
    "slideshow": {
     "slide_type": "fragment"
    }
   },
   "source": [
    "A. 0\n",
    "\n",
    "B. 1\n",
    "\n",
    "C. 2\n",
    "\n",
    "D. 3"
   ]
  },
  {
   "cell_type": "markdown",
   "id": "1c55703b",
   "metadata": {
    "slideshow": {
     "slide_type": "slide"
    }
   },
   "source": [
    "<center><h3 style = 'color:blue'> Checkpoint Solution </h3></center>"
   ]
  },
  {
   "cell_type": "code",
   "execution_count": 5,
   "id": "ef806100",
   "metadata": {
    "slideshow": {
     "slide_type": "fragment"
    }
   },
   "outputs": [
    {
     "data": {
      "text/plain": [
       "2"
      ]
     },
     "execution_count": 5,
     "metadata": {},
     "output_type": "execute_result"
    }
   ],
   "source": [
    "phone.id_num"
   ]
  },
  {
   "cell_type": "markdown",
   "id": "7f904fe6",
   "metadata": {
    "slideshow": {
     "slide_type": "slide"
    }
   },
   "source": [
    "<center><h3 style = 'color:blue'> Checkpoint </h3></center>\n",
    "\n",
    "<center>Given the following code, what is the result of the final expression?</center>"
   ]
  },
  {
   "cell_type": "code",
   "execution_count": null,
   "id": "1d85a859",
   "metadata": {
    "slideshow": {
     "slide_type": "fragment"
    }
   },
   "outputs": [],
   "source": [
    "class phone:\n",
    "    \"\"\"\n",
    "    Class representation of a regular phone.\n",
    "    \"\"\"\n",
    "    id_num = 0\n",
    "    def __init__(self, owner):\n",
    "        self.id = phone.id_num\n",
    "        phone.id_num+=1\n",
    "        self.apps = []\n",
    "        self.free_memory = 800\n",
    "    \n",
    "    def install_app(self, app, memory):\n",
    "        if self.free_memory - memory >= 0:\n",
    "            self.apps.append(app)\n",
    "            self.free_memory -= memory\n",
    "            return True\n",
    "        return False"
   ]
  },
  {
   "cell_type": "code",
   "execution_count": 7,
   "id": "69a125cc",
   "metadata": {
    "slideshow": {
     "slide_type": "fragment"
    }
   },
   "outputs": [],
   "source": [
    "phone1 = phone('Anish')\n",
    "phone2 = phone('TQ')\n",
    "phone1.install_app('tiktok', 1000);"
   ]
  },
  {
   "cell_type": "code",
   "execution_count": null,
   "id": "0be3c3f0",
   "metadata": {
    "slideshow": {
     "slide_type": "fragment"
    }
   },
   "outputs": [],
   "source": [
    "phone1.free_memory == phone2.free_memory"
   ]
  },
  {
   "cell_type": "markdown",
   "id": "763ce691",
   "metadata": {
    "slideshow": {
     "slide_type": "fragment"
    }
   },
   "source": [
    "A. True\n",
    "\n",
    "B. False"
   ]
  },
  {
   "cell_type": "markdown",
   "id": "cae24f85",
   "metadata": {
    "slideshow": {
     "slide_type": "slide"
    }
   },
   "source": [
    "<center><h3 style = 'color:blue'> Checkpoint Solution </h3></center>"
   ]
  },
  {
   "cell_type": "code",
   "execution_count": 9,
   "id": "5bd13c64",
   "metadata": {
    "slideshow": {
     "slide_type": "fragment"
    }
   },
   "outputs": [
    {
     "data": {
      "text/plain": [
       "True"
      ]
     },
     "execution_count": 9,
     "metadata": {},
     "output_type": "execute_result"
    }
   ],
   "source": [
    "phone1.free_memory == phone2.free_memory"
   ]
  },
  {
   "cell_type": "markdown",
   "id": "ef8ddfb0",
   "metadata": {
    "slideshow": {
     "slide_type": "slide"
    }
   },
   "source": [
    "<center><h3>@classmethod</h3></center>\n",
    "\n",
    "The `@classmethod` decorator modifies a method to become a class method. Class methods affect the class itself and are called on the class rather than its instances. This means that they receive the class as their first argument (`cls`) instead of the instance (`self`).\n",
    "\n",
    "- **Class-Level Operation:** `@classmethod` allows a method to modify class state that applies across all instances or to call other class methods.\n",
    "\n",
    "- **Access to Instance Variables:** While class methods can access class attributes, they do not have direct access to instance variables unless explicitly passed an instance. This is because they are not bound to a specific instance but to the class itself.\n"
   ]
  },
  {
   "cell_type": "code",
   "execution_count": 18,
   "id": "5b520c86",
   "metadata": {
    "slideshow": {
     "slide_type": "slide"
    }
   },
   "outputs": [],
   "source": [
    "class phone:\n",
    "    \"\"\"\n",
    "    Class representation of a regular phone.\n",
    "    \"\"\"\n",
    "    id_num = 0\n",
    "    def __init__(self, maker, version, owner):\n",
    "        self.maker = maker\n",
    "        self.version = version\n",
    "        self.owner = owner\n",
    "        self.id = phone.id_num\n",
    "        phone.id_num+=1\n",
    "        \n",
    "        self.apps = []\n",
    "        self.free_memory = 800\n",
    "    \n",
    "    @classmethod\n",
    "    def get_idnum(cls):\n",
    "        return cls.id_num\n",
    "phone.get_idnum()"
   ]
  },
  {
   "cell_type": "code",
   "execution_count": 20,
   "id": "6ebfade6",
   "metadata": {
    "slideshow": {
     "slide_type": "fragment"
    }
   },
   "outputs": [
    {
     "data": {
      "text/plain": [
       "1"
      ]
     },
     "execution_count": 20,
     "metadata": {},
     "output_type": "execute_result"
    }
   ],
   "source": [
    "iphone = phone('Apple', 'XR', 'Nikki')\n",
    "iphone.get_idnum()"
   ]
  },
  {
   "cell_type": "code",
   "execution_count": 21,
   "id": "a7c6a5cb",
   "metadata": {
    "slideshow": {
     "slide_type": "fragment"
    }
   },
   "outputs": [
    {
     "data": {
      "text/plain": [
       "2"
      ]
     },
     "execution_count": 21,
     "metadata": {},
     "output_type": "execute_result"
    }
   ],
   "source": [
    "pixel = phone('Google', 'P3', 'Sailesh')\n",
    "pixel.get_idnum()"
   ]
  },
  {
   "cell_type": "markdown",
   "id": "721a6634",
   "metadata": {
    "slideshow": {
     "slide_type": "slide"
    }
   },
   "source": [
    "<center><h3 style = 'color:blue'> Checkpoint </h3></center>\n",
    "\n",
    "<center>Given the following code, what is the result of the final expression?</center>"
   ]
  },
  {
   "cell_type": "code",
   "execution_count": 32,
   "id": "bae1da6a",
   "metadata": {
    "slideshow": {
     "slide_type": "fragment"
    }
   },
   "outputs": [],
   "source": [
    "class phone:\n",
    "    \"\"\"\n",
    "    Class representation of a regular phone.\n",
    "    \"\"\"\n",
    "    total_memory_used = 0\n",
    "    total_apps_installed = 0\n",
    "\n",
    "    def __init__(self, owner):\n",
    "        self.owner = owner\n",
    "        self.apps = []\n",
    "        self.free_memory = 800\n",
    "    \n",
    "    def install_app(self, app, memory):\n",
    "        if self.free_memory >= memory:\n",
    "            self.apps.append(app)\n",
    "            self.free_memory -= memory\n",
    "            phone.total_memory_used += memory\n",
    "            phone.total_apps_installed += 1\n",
    "    \n",
    "    @classmethod\n",
    "    def average_app_size(cls):\n",
    "        if cls.total_apps_installed == 0:\n",
    "            return 0\n",
    "        return cls.total_memory_used / cls.total_apps_installed"
   ]
  },
  {
   "cell_type": "code",
   "execution_count": 19,
   "id": "30ddacf7",
   "metadata": {
    "slideshow": {
     "slide_type": "slide"
    }
   },
   "outputs": [],
   "source": [
    "phone1 = phone('Anish')\n",
    "phone2 = phone('TQ')\n",
    "phone1.install_app('tiktok', 1000)\n",
    "phone1.install_app('IG', 300)\n",
    "phone2.install_app('pokego', 500)\n",
    "phone2.install_app('youtube', 100)"
   ]
  },
  {
   "cell_type": "code",
   "execution_count": null,
   "id": "9501148e",
   "metadata": {
    "slideshow": {
     "slide_type": "fragment"
    }
   },
   "outputs": [],
   "source": [
    "phone.average_app_size()"
   ]
  },
  {
   "cell_type": "markdown",
   "id": "1b31ad82",
   "metadata": {
    "slideshow": {
     "slide_type": "fragment"
    }
   },
   "source": [
    "A. 0\n",
    "\n",
    "B. 200\n",
    "\n",
    "C. 475\n",
    "\n",
    "D. 300"
   ]
  },
  {
   "cell_type": "markdown",
   "id": "31813ac4",
   "metadata": {
    "slideshow": {
     "slide_type": "slide"
    }
   },
   "source": [
    "<center><h3 style = 'color:blue'> Checkpoint Solution </h3></center>"
   ]
  },
  {
   "cell_type": "code",
   "execution_count": 22,
   "id": "2a9bc632",
   "metadata": {
    "slideshow": {
     "slide_type": "fragment"
    }
   },
   "outputs": [
    {
     "data": {
      "text/plain": [
       "300.0"
      ]
     },
     "execution_count": 22,
     "metadata": {},
     "output_type": "execute_result"
    }
   ],
   "source": [
    "phone.average_app_size()"
   ]
  },
  {
   "cell_type": "markdown",
   "id": "86f09813",
   "metadata": {
    "slideshow": {
     "slide_type": "slide"
    }
   },
   "source": [
    "<center><h3>@staticmethod</h3></center>\n",
    "\n",
    "The `@staticmethod` decorator transforms a method into a static method. Static methods, unlike class methods or instance methods, do not require a reference to the instance (`self`) or class (`cls`). This makes them behave more like plain functions that happen to reside within the class.\n",
    "\n",
    "- **No Automatic Arguments:** `@staticmethod` functions do not automatically receive the `cls` or `self` arguments. They behave like regular functions but belong to the class's scope.\n",
    "\n",
    "- **Use Cases:** Static methods are used when some processing is related to the class but does not require the class or its instances to perform its task. They can be called on the class itself or on instances of the class and are usually utility or helper functions."
   ]
  },
  {
   "cell_type": "code",
   "execution_count": 22,
   "id": "455f3740",
   "metadata": {
    "slideshow": {
     "slide_type": "slide"
    }
   },
   "outputs": [],
   "source": [
    "class phone:\n",
    "    \"\"\"\n",
    "    Class representation of a regular phone.\n",
    "    \"\"\"\n",
    "    id_num = 0\n",
    "    def __init__(self, maker, version, owner):\n",
    "        self.maker = maker\n",
    "        self.version = version\n",
    "        self.owner = owner\n",
    "        self.id = phone.id_num\n",
    "        phone.id_num += 1\n",
    "        \n",
    "        self.apps = []\n",
    "        self.free_memory = 800\n",
    "\n",
    "    @staticmethod\n",
    "    def calculate_memory_required(num_apps, memory_per_app=50):\n",
    "        return num_apps * memory_per_app"
   ]
  },
  {
   "cell_type": "code",
   "execution_count": 25,
   "id": "c38dedcf",
   "metadata": {
    "slideshow": {
     "slide_type": "fragment"
    }
   },
   "outputs": [
    {
     "data": {
      "text/plain": [
       "100"
      ]
     },
     "execution_count": 25,
     "metadata": {},
     "output_type": "execute_result"
    }
   ],
   "source": [
    "phone.calculate_memory_required(2, 50)"
   ]
  },
  {
   "cell_type": "markdown",
   "id": "8e9de68b",
   "metadata": {
    "slideshow": {
     "slide_type": "slide"
    }
   },
   "source": [
    "<center><h3 style = 'color:blue'> Checkpoint </h3></center>\n",
    "\n",
    "<center>Given the following code, what is the result of the final expression?</center>"
   ]
  },
  {
   "cell_type": "code",
   "execution_count": 24,
   "id": "55aa7979",
   "metadata": {
    "slideshow": {
     "slide_type": "fragment"
    }
   },
   "outputs": [],
   "source": [
    "class phone:\n",
    "    \"\"\"\n",
    "    Class representation of a regular phone.\n",
    "    \"\"\"\n",
    "    id_num = 0\n",
    "    def __init__(self, owner):\n",
    "        self.owner = owner\n",
    "        self.id = phone.id_num\n",
    "        phone.id_num += 1\n",
    "        self.apps = []\n",
    "        self.free_memory = 800\n",
    "\n",
    "    @staticmethod\n",
    "    def validate_phone_number(number):\n",
    "        if len(number) != 12:\n",
    "            return False\n",
    "        for i, char in enumerate(number):\n",
    "            if i in [3, 7]:\n",
    "                if char != '-':\n",
    "                    return False\n",
    "            elif not char.isdigit():\n",
    "                return False\n",
    "        return True"
   ]
  },
  {
   "cell_type": "code",
   "execution_count": 29,
   "id": "31fbd443",
   "metadata": {
    "slideshow": {
     "slide_type": "fragment"
    }
   },
   "outputs": [],
   "source": [
    "num1 = '123-456-7890'\n",
    "num2 = '1234567890'\n",
    "myphone = phone('ben')\n",
    "print(myphone.validate_phone_number(num1))\n",
    "print(phone.validate_phone_number(num2))"
   ]
  },
  {
   "cell_type": "markdown",
   "id": "b738378c",
   "metadata": {
    "slideshow": {
     "slide_type": "fragment"
    }
   },
   "source": [
    "A. True, True\n",
    "\n",
    "B. False, False\n",
    "\n",
    "C. True, False\n",
    "\n",
    "D. Error, Error\n",
    "\n",
    "E. Error, False"
   ]
  },
  {
   "cell_type": "markdown",
   "id": "549a022a",
   "metadata": {
    "slideshow": {
     "slide_type": "slide"
    }
   },
   "source": [
    "<center><h3 style = 'color:blue'> Checkpoint Solution</h3></center>"
   ]
  },
  {
   "cell_type": "code",
   "execution_count": 31,
   "id": "3936219e",
   "metadata": {
    "slideshow": {
     "slide_type": "fragment"
    }
   },
   "outputs": [
    {
     "name": "stdout",
     "output_type": "stream",
     "text": [
      "True\n",
      "False\n"
     ]
    }
   ],
   "source": [
    "print(myphone.validate_phone_number(num1))\n",
    "print(phone.validate_phone_number(num2))"
   ]
  },
  {
   "cell_type": "markdown",
   "id": "561ec712",
   "metadata": {
    "slideshow": {
     "slide_type": "slide"
    }
   },
   "source": [
    "<center><h3>All Together</h3></center>"
   ]
  },
  {
   "cell_type": "code",
   "execution_count": 33,
   "id": "52f6a695",
   "metadata": {
    "slideshow": {
     "slide_type": "fragment"
    }
   },
   "outputs": [],
   "source": [
    "class phone:\n",
    "    \"\"\"\n",
    "    Class representation of a regular phone.\n",
    "    \"\"\"\n",
    "    id_num = 0\n",
    "    def __init__(self, maker, version, owner):\n",
    "        self.maker = maker\n",
    "        self.version = version\n",
    "        self.owner = owner\n",
    "        self.id = phone.id_num\n",
    "        phone.id_num+=1\n",
    "        \n",
    "        self.apps = []\n",
    "        self.free_memory = 800\n",
    "        \n",
    "    @staticmethod\n",
    "    def calculate_memory_required(num_apps, memory_per_app=50):\n",
    "        return num_apps * memory_per_app\n",
    "    \n",
    "    @classmethod\n",
    "    def get_idnum(cls):\n",
    "        return cls.id_num\n",
    "    \n",
    "    def install_apps(self, *apps, memory=50):\n",
    "        mem_req = phone.calculate_memory_required(len(apps), memory)\n",
    "        if mem_req <= self.free_memory:\n",
    "            self.free_memory -= mem_req\n",
    "            self.apps+=apps\n",
    "            return True\n",
    "        return False"
   ]
  },
  {
   "cell_type": "code",
   "execution_count": 82,
   "id": "41dde7c3",
   "metadata": {
    "slideshow": {
     "slide_type": "fragment"
    }
   },
   "outputs": [
    {
     "name": "stdout",
     "output_type": "stream",
     "text": [
      "1\n",
      "True\n",
      "['genshin', 'honkai', 'league']\n"
     ]
    }
   ],
   "source": [
    "iphone = phone('Apple', 'X', 'Nikki')\n",
    "print(iphone.get_idnum())\n",
    "print(iphone.install_apps('genshin','honkai','league',memory=100))\n",
    "print(iphone.apps)"
   ]
  },
  {
   "cell_type": "markdown",
   "id": "ba96da0d",
   "metadata": {
    "slideshow": {
     "slide_type": "slide"
    }
   },
   "source": [
    "<center><h3> Inheritance </h3></center>\n",
    "\n",
    "- classes can have a \"parent-child\" relationship\n",
    "- child class(es) \"inherit\" methods from their parent class\n",
    "- use \"is-a\" paradigm to distinguish; given a parent class phone and a child class pearphone:\n",
    "    - pearphones are phones (child is a parent)\n",
    "    - but not all phones are pearphones (parents are not children)"
   ]
  },
  {
   "cell_type": "code",
   "execution_count": 83,
   "id": "4f92d893",
   "metadata": {
    "slideshow": {
     "slide_type": "fragment"
    }
   },
   "outputs": [],
   "source": [
    "class pearphone(phone):\n",
    "    pass\n",
    "    # since nothing is changed in my pearphone class,\n",
    "    # it is currently just another name for phone class"
   ]
  },
  {
   "cell_type": "code",
   "execution_count": 84,
   "id": "ab967026",
   "metadata": {
    "slideshow": {
     "slide_type": "fragment"
    }
   },
   "outputs": [
    {
     "name": "stdout",
     "output_type": "stream",
     "text": [
      "True\n",
      "True\n",
      "False\n",
      "True\n"
     ]
    }
   ],
   "source": [
    "pear = pearphone('pear', '9', 'Tim Raw')\n",
    "print(isinstance(pear, pearphone))\n",
    "print(isinstance(pear, phone))\n",
    "print(isinstance(iphone, pearphone))\n",
    "print(isinstance(iphone, phone))"
   ]
  },
  {
   "cell_type": "markdown",
   "id": "6713ce0a",
   "metadata": {
    "slideshow": {
     "slide_type": "slide"
    }
   },
   "source": [
    "<center><h3> Inheritance (cont.)</h3></center>\n",
    "\n",
    "- Though not required, child classes can **overwrite** methods of their parent class\n",
    "- if certain things are to be retained, super() is a useful function to use\n",
    "\n",
    "note: super refers to the direct parent of a class"
   ]
  },
  {
   "cell_type": "code",
   "execution_count": 85,
   "id": "e41f607c",
   "metadata": {
    "slideshow": {
     "slide_type": "fragment"
    }
   },
   "outputs": [],
   "source": [
    "class pearphone(phone):\n",
    "    def __init__(self, maker, version, owner, age):\n",
    "        self.maker = maker\n",
    "        self.version = version\n",
    "        self.age = age\n",
    "        self.id = phone.id_num\n",
    "        phone.id_num+=1\n",
    "        # notice how I can still use ID from phone!\n",
    "        \n",
    "        self.apps = []\n",
    "        self.free_memory = 800"
   ]
  },
  {
   "cell_type": "code",
   "execution_count": 86,
   "id": "2f53d6a5",
   "metadata": {
    "slideshow": {
     "slide_type": "slide"
    }
   },
   "outputs": [
    {
     "name": "stdout",
     "output_type": "stream",
     "text": [
      "age of pear: 2\n",
      "True\n",
      "['duolingo']\n",
      "pear id number: 2\n"
     ]
    }
   ],
   "source": [
    "pear = pearphone('pear', '9', 'Tim Cooked', 2)\n",
    "print(f'age of pear: {pear.age}')\n",
    "print(pear.install_apps('duolingo', memory=600))\n",
    "print(pear.apps)\n",
    "print(f'pear id number: {pear.id}')"
   ]
  },
  {
   "cell_type": "markdown",
   "id": "edc620cd",
   "metadata": {
    "slideshow": {
     "slide_type": "slide"
    }
   },
   "source": [
    "<center><h3 style = 'color:blue'> Checkpoint </h3></center>\n",
    "\n",
    "<center>Given the following code, what is the result of the final expression?</center>"
   ]
  },
  {
   "cell_type": "code",
   "execution_count": 34,
   "id": "18642881",
   "metadata": {
    "slideshow": {
     "slide_type": "fragment"
    }
   },
   "outputs": [],
   "source": [
    "class pearphone(phone):\n",
    "    def __init__(self, maker, version, owner, age):\n",
    "        self.maker = maker\n",
    "        self.version = version\n",
    "        self.age = age\n",
    "        self.id = phone.id_num\n",
    "        phone.id_num+=1\n",
    "        self.apps = []\n",
    "        self.free_memory = 800"
   ]
  },
  {
   "cell_type": "code",
   "execution_count": null,
   "id": "4261d38c",
   "metadata": {
    "slideshow": {
     "slide_type": "fragment"
    }
   },
   "outputs": [],
   "source": [
    "my_phone = pearphone('pear', 'Y', 'ben', 12)\n",
    "my_phone.install_apps('chrome', 'youtube', 'instagram', memory=100)\n",
    "my_phone.apps"
   ]
  },
  {
   "cell_type": "markdown",
   "id": "82c1e08b",
   "metadata": {
    "slideshow": {
     "slide_type": "fragment"
    }
   },
   "source": [
    "A. ['chrome', 'youtube', 'instagram']\n",
    "\n",
    "B. []\n",
    "\n",
    "C. ['youtube', 'instagram']\n",
    "\n",
    "D. Error"
   ]
  },
  {
   "cell_type": "markdown",
   "id": "69ca76a4",
   "metadata": {
    "slideshow": {
     "slide_type": "slide"
    }
   },
   "source": [
    "<center><h3 style = 'color:blue'> Checkpoint Solution </h3></center>"
   ]
  },
  {
   "cell_type": "code",
   "execution_count": 37,
   "id": "8b7647e3",
   "metadata": {
    "slideshow": {
     "slide_type": "fragment"
    }
   },
   "outputs": [
    {
     "data": {
      "text/plain": [
       "['chrome', 'youtube', 'instagram']"
      ]
     },
     "execution_count": 37,
     "metadata": {},
     "output_type": "execute_result"
    }
   ],
   "source": [
    "my_phone = pearphone('pear', 'Y', 'ben', 12)\n",
    "my_phone.install_apps('chrome', 'youtube', 'instagram', memory=100)\n",
    "my_phone.apps"
   ]
  },
  {
   "cell_type": "markdown",
   "id": "8013cd9d",
   "metadata": {
    "slideshow": {
     "slide_type": "slide"
    }
   },
   "source": [
    "<center><h3>super()</h3></center>\n",
    "\n",
    "<center>In pearphone, even though we want a different constructor, you can see that we actually reused a lot of the same code as the constructor for its parent class, phone. To avoid this, we can directly access the parent method using super(), and then add parameters we need.</center>\n",
    "\n",
    "<center> explore super() more on your own :) </center>"
   ]
  },
  {
   "cell_type": "code",
   "execution_count": 87,
   "id": "24693c23",
   "metadata": {
    "slideshow": {
     "slide_type": "slide"
    }
   },
   "outputs": [],
   "source": [
    "class pearphone(phone):\n",
    "    def __init__(self, maker, version, owner, age):\n",
    "        # self is implicitly passed with super()\n",
    "        super().__init__(maker, version, owner)\n",
    "        self.age = age #2"
   ]
  },
  {
   "cell_type": "code",
   "execution_count": 88,
   "id": "65f9bcc6",
   "metadata": {
    "slideshow": {
     "slide_type": "fragment"
    }
   },
   "outputs": [
    {
     "name": "stdout",
     "output_type": "stream",
     "text": [
      "age of pear: 2\n",
      "True\n",
      "['duolingo', 600]\n",
      "pear id number: 3\n"
     ]
    }
   ],
   "source": [
    "pear = pearphone('pear', '9', 'Tim Raw', 2)\n",
    "print(f'age of pear: {pear.age}')\n",
    "print(pear.install_apps('duolingo', 600))\n",
    "print(pear.apps)\n",
    "print(f'pear id number: {pear.id}')"
   ]
  },
  {
   "cell_type": "markdown",
   "id": "51721465",
   "metadata": {
    "slideshow": {
     "slide_type": "slide"
    }
   },
   "source": [
    "<center><h3>Overwriting inherited methods</h3></center>\n"
   ]
  },
  {
   "cell_type": "code",
   "execution_count": 89,
   "id": "112fca98",
   "metadata": {
    "slideshow": {
     "slide_type": "fragment"
    }
   },
   "outputs": [],
   "source": [
    "class pearphone(phone):\n",
    "    def __init__(self, maker, version, owner, age):\n",
    "        # self is implicitly passed with super()\n",
    "        super().__init__(maker, version, owner)\n",
    "        self.age = age\n",
    "        \n",
    "        self.apps = []\n",
    "        self.free_memory = 800\n",
    "        \n",
    "    def install_app(self, app, memory):\n",
    "        '''install_app but better (whoo pear phones!)'''\n",
    "        if self.free_memory - memory//2 >= 0:\n",
    "            self.apps.append(app)\n",
    "            self.free_memory -= memory//2\n",
    "            return True\n",
    "        return False"
   ]
  },
  {
   "cell_type": "code",
   "execution_count": 90,
   "id": "3ead15d1",
   "metadata": {
    "slideshow": {
     "slide_type": "fragment"
    }
   },
   "outputs": [
    {
     "name": "stdout",
     "output_type": "stream",
     "text": [
      "pear id number: 4\n",
      "True\n"
     ]
    }
   ],
   "source": [
    "pear = pearphone('pear', '9', 'Tim Raw', 2)\n",
    "print(f'pear id number: {pear.id}')\n",
    "print(pear.install_app('duolingo', 1600))"
   ]
  },
  {
   "cell_type": "markdown",
   "id": "32e28051",
   "metadata": {
    "slideshow": {
     "slide_type": "slide"
    }
   },
   "source": [
    "<center><h3>Using super...</h3></center>"
   ]
  },
  {
   "cell_type": "code",
   "execution_count": 91,
   "id": "086eed93",
   "metadata": {
    "slideshow": {
     "slide_type": "fragment"
    }
   },
   "outputs": [],
   "source": [
    "class pearphone(phone):\n",
    "    def __init__(self, maker, version, owner, age):\n",
    "        # self is implicitly passed with super()\n",
    "        # if you pass inself again, will result in an error\n",
    "        super().__init__(maker, version, owner)\n",
    "        self.age = age\n",
    "        \n",
    "        self.apps = []\n",
    "        self.free_memory = 800\n",
    "        \n",
    "    def install_app(self, app, memory):\n",
    "        '''install_app but cheaper (whoo pear phones!)'''\n",
    "        return super().install_app(app,memory//2)"
   ]
  },
  {
   "cell_type": "code",
   "execution_count": 92,
   "id": "6b612033",
   "metadata": {
    "slideshow": {
     "slide_type": "fragment"
    }
   },
   "outputs": [
    {
     "name": "stdout",
     "output_type": "stream",
     "text": [
      "pear id number: 5\n",
      "True\n"
     ]
    }
   ],
   "source": [
    "pear = pearphone('pear', '9', 'Tim Raw', 2)\n",
    "print(f'pear id number: {pear.id}')\n",
    "print(pear.install_apps('duolingo', 1600))"
   ]
  },
  {
   "cell_type": "markdown",
   "id": "64b7cc89",
   "metadata": {
    "slideshow": {
     "slide_type": "slide"
    }
   },
   "source": [
    "<center><h2>practice questions</h2></center>"
   ]
  },
  {
   "cell_type": "markdown",
   "id": "112159c4",
   "metadata": {
    "slideshow": {
     "slide_type": "slide"
    }
   },
   "source": [
    "<center><h2>practice question Solutions</h2></center>"
   ]
  },
  {
   "cell_type": "code",
   "execution_count": 9,
   "id": "6f3aa20f",
   "metadata": {
    "slideshow": {
     "slide_type": "slide"
    }
   },
   "outputs": [],
   "source": [
    "class CircleVoid:\n",
    "    def __init__(self, website_type, domain):\n",
    "        self.website_type = website_type\n",
    "        self.domain = domain\n",
    "    \n",
    "    def check_cost(self):\n",
    "        \"\"\"Check the cost of the current website.\"\"\"\n",
    "        return CircleVoid.estimate_cost(self.website_type)\n",
    "        \n",
    "    @staticmethod\n",
    "    def estimate_cost(website_type):\n",
    "        \"\"\"Estimate the annual cost based on the template type.\"\"\"\n",
    "        pricing = {\n",
    "            'business': 120,\n",
    "            'portfolio': 100,\n",
    "            'blog': 80\n",
    "        }\n",
    "        return pricing.get(website_type,  200)\n",
    "\n",
    "    @classmethod\n",
    "    def from_domain(cls, domain, website_type = 'business'):\n",
    "        \"\"\"Create a SquareSpace instance with a default template for a given domain.\"\"\"\n",
    "        return cls(website_type, domain)"
   ]
  },
  {
   "cell_type": "code",
   "execution_count": 20,
   "id": "0a1e9e68",
   "metadata": {
    "slideshow": {
     "slide_type": "fragment"
    }
   },
   "outputs": [
    {
     "name": "stdout",
     "output_type": "stream",
     "text": [
      "120\n",
      "squarespace.org\n"
     ]
    }
   ],
   "source": [
    "squarespace = CircleVoid('business', 'squarespace.com')\n",
    "print(squarespace.check_cost())\n",
    "squarespace_copy = squarespace.from_domain('squarespace.org')\n",
    "print(squarespace_copy.domain)"
   ]
  },
  {
   "cell_type": "code",
   "execution_count": 17,
   "id": "7e5d88c6",
   "metadata": {
    "slideshow": {
     "slide_type": "slide"
    }
   },
   "outputs": [],
   "source": [
    "class TriangleSpan(CircleVoid):\n",
    "    @staticmethod\n",
    "    def estimate_cost(website_type):\n",
    "        return CircleVoid.estimate_cost(website_type) + 20"
   ]
  },
  {
   "cell_type": "code",
   "execution_count": 18,
   "id": "bd05c2ac",
   "metadata": {
    "slideshow": {
     "slide_type": "fragment"
    }
   },
   "outputs": [
    {
     "data": {
      "text/plain": [
       "100"
      ]
     },
     "execution_count": 18,
     "metadata": {},
     "output_type": "execute_result"
    }
   ],
   "source": [
    "triangle = TriangleSpan('business', 'idk.com')\n",
    "triangle.estimate_cost('blog')"
   ]
  },
  {
   "cell_type": "markdown",
   "id": "49030538",
   "metadata": {
    "slideshow": {
     "slide_type": "slide"
    }
   },
   "source": [
    "<center> <h1>Thanks for coming!</h1></center>"
   ]
  },
  {
   "cell_type": "code",
   "execution_count": null,
   "id": "acbd5cdb",
   "metadata": {
    "slideshow": {
     "slide_type": "skip"
    }
   },
   "outputs": [],
   "source": []
  }
 ],
 "metadata": {
  "celltoolbar": "Slideshow",
  "kernelspec": {
   "display_name": "Python 3 (ipykernel)",
   "language": "python",
   "name": "python3"
  },
  "language_info": {
   "codemirror_mode": {
    "name": "ipython",
    "version": 3
   },
   "file_extension": ".py",
   "mimetype": "text/x-python",
   "name": "python",
   "nbconvert_exporter": "python",
   "pygments_lexer": "ipython3",
   "version": "3.10.8"
  },
  "rise": {
   "enable_chalkboard": true
  }
 },
 "nbformat": 4,
 "nbformat_minor": 5
}
