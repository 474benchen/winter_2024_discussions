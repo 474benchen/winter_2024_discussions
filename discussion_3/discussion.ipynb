{
 "cells": [
  {
   "cell_type": "markdown",
   "id": "9ac70a89",
   "metadata": {
    "slideshow": {
     "slide_type": "skip"
    }
   },
   "source": [
    "**note**: for anyone trying to view this as a slideshow, run 'pip install rise', reload your notebook, then click on the button that looks like a bar graph to the right of the command palette at the top."
   ]
  },
  {
   "cell_type": "markdown",
   "id": "0aaa7f3e",
   "metadata": {
    "slideshow": {
     "slide_type": "slide"
    }
   },
   "source": [
    "<center><h1>Discussion 3</h1></center>\n",
    "<center><h2>DSC 20, Winter 2024</h2><center>"
   ]
  },
  {
   "cell_type": "markdown",
   "id": "da8e7259",
   "metadata": {
    "slideshow": {
     "slide_type": "slide"
    }
   },
   "source": [
    "<center><h2>Meme of the week</h2></center>\n",
    "\n",
    "<center><img src='imgs/meme_dragon.png' width=275></center>"
   ]
  },
  {
   "cell_type": "markdown",
   "id": "c8f91290",
   "metadata": {
    "slideshow": {
     "slide_type": "slide"
    }
   },
   "source": [
    "<center><h2>Agenda</h2></center>\n",
    "<ul>\n",
    "    <li> Homework Autograder </li>\n",
    "    <li> Homework Redemption Policy </li>\n",
    "    <li> <b>Content</b> </li>\n",
    "    <ul>\n",
    "        <li> Files\n",
    "        <li> Text Processing\n",
    "        <li> List Comprehension\n",
    "        <li> Dictionary Comprehension\n",
    "        <li> Assert Statements\n",
    "    </ul>\n",
    "    <li> Practice Questions </li>\n",
    "</ul>"
   ]
  },
  {
   "cell_type": "markdown",
   "id": "1533dd95",
   "metadata": {
    "slideshow": {
     "slide_type": "slide"
    }
   },
   "source": [
    "<center><h2>General Feedback</h2></center>\n",
    "\n",
    "- Save the file after making an edit to reflect the changes in testing\n",
    "- name files without spaces (use \\_) or use quotes around file names when changing directories\n",
    "- your tab key can autocomplete file names (avoid mistypes)\n",
    "- up key will pull up the last command you ran (don't need to keep typing doctets)\n",
    "- Read the instructions carefully for skill tests. Some people go straight into the terminal and start debugging. Skill test doc is the basis we use for grading – if you missed some key concepts in the document, you might lose points."
   ]
  },
  {
   "cell_type": "markdown",
   "id": "6d184c5f",
   "metadata": {
    "slideshow": {
     "slide_type": "slide"
    }
   },
   "source": [
    "<center><h2>Homework Autograder</h2></center>\n",
    "<br>\n",
    "<center> PSA: Make sure that your code runs against our autograder after you submit on Gradescope. The autograder has an additional function as the logic check for the code you submit; if it cannot complete running your code, you will get a 0. If your code fails our autograder, make sure to fix your code and resubmit. </center>\n",
    "\n",
    "<u>Cases that may break autograder:</u>\n",
    "- fatal syntax errors\n",
    "- infinite loops"
   ]
  },
  {
   "cell_type": "markdown",
   "id": "87600ea9",
   "metadata": {
    "slideshow": {
     "slide_type": "slide"
    }
   },
   "source": [
    "<center><h2>Homework Redemption Policy</h2></center>\n",
    "<center><img src='imgs/regrade.png' width=800></center>\n",
    "\n",
    "<center> For those who want to fix some basic errors that caused a lot of errors in their homework, refer to Homework Redemption Policy on the course website for more detail </center>"
   ]
  },
  {
   "cell_type": "markdown",
   "id": "a59f5516",
   "metadata": {
    "slideshow": {
     "slide_type": "slide"
    }
   },
   "source": [
    "<center><h2> Content</h2></center>"
   ]
  },
  {
   "cell_type": "markdown",
   "id": "d3238a8c",
   "metadata": {
    "slideshow": {
     "slide_type": "slide"
    }
   },
   "source": [
    "<center><h3> Files </h3></center>\n",
    "<ul>\n",
    "    <li> storage for data (think csv's from DSC10, txt's from assignments, etc.)\n",
    "    <li> unique methods to access within code\n",
    "</ul>\n",
    "\n",
    "<u> Access Modes </u>\n",
    "\n",
    "<b> Write </b>: 'w' -> every time the file is opened in write mode, the file is wiped. Calling file.write() will add in your data.\n",
    "\n",
    "<b> Append </b>: 'a' -> file.write() will append your data to what existed in the file beforehand.\n",
    "\n",
    "<b> Read </b>: 'r' -> no writing privilege, can only pull the data from the file with relevant methods.\n",
    "\n",
    "<b>note</b>: If you try to open a file in write mode that doesn't exist, python will create it.\n",
    "\n",
    "<b>note</b>: you should almost NEVER use the eval() function when opening files you don't trust -> eval() automatically runs any code without protections (you could get a virus, or worse)."
   ]
  },
  {
   "cell_type": "code",
   "execution_count": 51,
   "id": "be1bc79e",
   "metadata": {
    "slideshow": {
     "slide_type": "fragment"
    }
   },
   "outputs": [],
   "source": [
    "with open('files/data.txt', 'w') as f:\n",
    "    f.write('Marina Langlois is the DSC20 professor\\nSuraj Rampure is the DSC180A professor')"
   ]
  },
  {
   "cell_type": "markdown",
   "id": "c3abcc98",
   "metadata": {
    "slideshow": {
     "slide_type": "slide"
    }
   },
   "source": [
    "<center><h3>Text Processing</h3></center>\n",
    "\n",
    "<u>reading data</u>:\n",
    "- file.read() -> reads in all the data as a single string\n",
    "- file.readline() -> reads in data line by line (has to be recalled)\n",
    "- file.readlines() -> reads in all the data as a list where each line is another element of the list\n",
    "\n",
    "<center> After reading in the data, you can transform it however you'd like, and then rewrite it back into the file using .write() (if this is relevant).</center>"
   ]
  },
  {
   "cell_type": "code",
   "execution_count": 52,
   "id": "fb4692d5",
   "metadata": {
    "slideshow": {
     "slide_type": "slide"
    }
   },
   "outputs": [
    {
     "name": "stdout",
     "output_type": "stream",
     "text": [
      "the data in the file currently is: \n",
      "Marina Langlois is the DSC20 professor\n",
      "Suraj Rampure is the DSC180A professor\n"
     ]
    }
   ],
   "source": [
    "with open('files/data.txt', 'r') as f:\n",
    "    # notice to read the data, I have to open in 'r' mode first\n",
    "    data = f.read() \n",
    "print(\"the data in the file currently is: \")\n",
    "print(data)"
   ]
  },
  {
   "cell_type": "code",
   "execution_count": 53,
   "id": "88e67ce4",
   "metadata": {
    "slideshow": {
     "slide_type": "fragment"
    }
   },
   "outputs": [
    {
     "name": "stdout",
     "output_type": "stream",
     "text": [
      "the data in the file is now: \n",
      "Marina Langlois is the DSC20 professor\n",
      "Suraj Rampure is the DSC10 professor\n"
     ]
    }
   ],
   "source": [
    "with open('files/data.txt', 'w') as f:\n",
    "    data = data.replace('DSC180A', 'DSC10')\n",
    "    f.write(data)\n",
    "print(\"the data in the file is now: \")\n",
    "with open('files/data.txt', 'r') as f: print(f.read())"
   ]
  },
  {
   "cell_type": "code",
   "execution_count": 7,
   "id": "62807558",
   "metadata": {
    "slideshow": {
     "slide_type": "slide"
    }
   },
   "outputs": [
    {
     "name": "stdout",
     "output_type": "stream",
     "text": [
      "First Name,Last Name\n",
      "Emily,Wilson\n",
      "Jennifer,Sanchez\n",
      "Denise,Ramos\n",
      "Manuel,Barnett\n",
      "Ashley,Hampton\n"
     ]
    }
   ],
   "source": [
    "# how can I ingest the data without the column names?\n",
    "with open('files/names.csv', 'r') as f:\n",
    "    print(f.read())"
   ]
  },
  {
   "cell_type": "code",
   "execution_count": 8,
   "id": "ceb591ff",
   "metadata": {
    "slideshow": {
     "slide_type": "fragment"
    }
   },
   "outputs": [
    {
     "name": "stdout",
     "output_type": "stream",
     "text": [
      "Emily,Wilson\n",
      "Jennifer,Sanchez\n",
      "Denise,Ramos\n",
      "Manuel,Barnett\n",
      "Ashley,Hampton\n"
     ]
    }
   ],
   "source": [
    "with open('files/names.csv', 'r') as f:\n",
    "    f.readline() # use readline to skip the first line\n",
    "    print(f.read())"
   ]
  },
  {
   "cell_type": "code",
   "execution_count": 10,
   "id": "971afac8",
   "metadata": {
    "slideshow": {
     "slide_type": "slide"
    }
   },
   "outputs": [
    {
     "data": {
      "text/plain": [
       "['First Name,Last Name\\n',\n",
       " 'Emily,Wilson\\n',\n",
       " 'Jennifer,Sanchez\\n',\n",
       " 'Denise,Ramos\\n',\n",
       " 'Manuel,Barnett\\n',\n",
       " 'Ashley,Hampton']"
      ]
     },
     "execution_count": 10,
     "metadata": {},
     "output_type": "execute_result"
    }
   ],
   "source": [
    "# If I want to ingest data in a more interpretable format\n",
    "with open('files/names.csv', 'r') as f:\n",
    "    data = f.readlines()\n",
    "data"
   ]
  },
  {
   "cell_type": "markdown",
   "id": "caa2b3eb",
   "metadata": {
    "slideshow": {
     "slide_type": "slide"
    }
   },
   "source": [
    "<center><h3 style = 'color:blue'> Checkpoint </h3></center>\n",
    "\n",
    "<center>What happens when I try to open a file that doesn't exist in read mode?</center>\n",
    "\n",
    "A. Python will create the file\n",
    "\n",
    "B. Nothing\n",
    "\n",
    "C. Error\n",
    "\n",
    "D. idk\n",
    "\n"
   ]
  },
  {
   "cell_type": "markdown",
   "id": "1790784b",
   "metadata": {
    "slideshow": {
     "slide_type": "slide"
    }
   },
   "source": [
    "<center><h3 style = 'color:blue'> Checkpoint Solution </h3></center>"
   ]
  },
  {
   "cell_type": "code",
   "execution_count": 20,
   "id": "350ea6f8",
   "metadata": {
    "slideshow": {
     "slide_type": "fragment"
    }
   },
   "outputs": [],
   "source": [
    "with open('files/nonexistent.txt', 'w') as f:\n",
    "    pass"
   ]
  },
  {
   "cell_type": "code",
   "execution_count": 19,
   "id": "1a5521a3",
   "metadata": {
    "slideshow": {
     "slide_type": "fragment"
    }
   },
   "outputs": [
    {
     "ename": "FileNotFoundError",
     "evalue": "[Errno 2] No such file or directory: 'files/nonexistent.txt'",
     "output_type": "error",
     "traceback": [
      "\u001b[0;31m---------------------------------------------------------------------------\u001b[0m",
      "\u001b[0;31mFileNotFoundError\u001b[0m                         Traceback (most recent call last)",
      "Cell \u001b[0;32mIn[19], line 1\u001b[0m\n\u001b[0;32m----> 1\u001b[0m \u001b[38;5;28;01mwith\u001b[39;00m \u001b[38;5;28;43mopen\u001b[39;49m\u001b[43m(\u001b[49m\u001b[38;5;124;43m'\u001b[39;49m\u001b[38;5;124;43mfiles/nonexistent.txt\u001b[39;49m\u001b[38;5;124;43m'\u001b[39;49m\u001b[43m,\u001b[49m\u001b[43m \u001b[49m\u001b[38;5;124;43m'\u001b[39;49m\u001b[38;5;124;43mr\u001b[39;49m\u001b[38;5;124;43m'\u001b[39;49m\u001b[43m)\u001b[49m \u001b[38;5;28;01mas\u001b[39;00m f:\n\u001b[1;32m      2\u001b[0m     \u001b[38;5;28;01mpass\u001b[39;00m\n",
      "File \u001b[0;32m/opt/anaconda3/envs/tutor/lib/python3.10/site-packages/IPython/core/interactiveshell.py:284\u001b[0m, in \u001b[0;36m_modified_open\u001b[0;34m(file, *args, **kwargs)\u001b[0m\n\u001b[1;32m    277\u001b[0m \u001b[38;5;28;01mif\u001b[39;00m file \u001b[38;5;129;01min\u001b[39;00m {\u001b[38;5;241m0\u001b[39m, \u001b[38;5;241m1\u001b[39m, \u001b[38;5;241m2\u001b[39m}:\n\u001b[1;32m    278\u001b[0m     \u001b[38;5;28;01mraise\u001b[39;00m \u001b[38;5;167;01mValueError\u001b[39;00m(\n\u001b[1;32m    279\u001b[0m         \u001b[38;5;124mf\u001b[39m\u001b[38;5;124m\"\u001b[39m\u001b[38;5;124mIPython won\u001b[39m\u001b[38;5;124m'\u001b[39m\u001b[38;5;124mt let you open fd=\u001b[39m\u001b[38;5;132;01m{\u001b[39;00mfile\u001b[38;5;132;01m}\u001b[39;00m\u001b[38;5;124m by default \u001b[39m\u001b[38;5;124m\"\u001b[39m\n\u001b[1;32m    280\u001b[0m         \u001b[38;5;124m\"\u001b[39m\u001b[38;5;124mas it is likely to crash IPython. If you know what you are doing, \u001b[39m\u001b[38;5;124m\"\u001b[39m\n\u001b[1;32m    281\u001b[0m         \u001b[38;5;124m\"\u001b[39m\u001b[38;5;124myou can use builtins\u001b[39m\u001b[38;5;124m'\u001b[39m\u001b[38;5;124m open.\u001b[39m\u001b[38;5;124m\"\u001b[39m\n\u001b[1;32m    282\u001b[0m     )\n\u001b[0;32m--> 284\u001b[0m \u001b[38;5;28;01mreturn\u001b[39;00m \u001b[43mio_open\u001b[49m\u001b[43m(\u001b[49m\u001b[43mfile\u001b[49m\u001b[43m,\u001b[49m\u001b[43m \u001b[49m\u001b[38;5;241;43m*\u001b[39;49m\u001b[43margs\u001b[49m\u001b[43m,\u001b[49m\u001b[43m \u001b[49m\u001b[38;5;241;43m*\u001b[39;49m\u001b[38;5;241;43m*\u001b[39;49m\u001b[43mkwargs\u001b[49m\u001b[43m)\u001b[49m\n",
      "\u001b[0;31mFileNotFoundError\u001b[0m: [Errno 2] No such file or directory: 'files/nonexistent.txt'"
     ]
    }
   ],
   "source": [
    "with open('files/nonexistent.txt', 'r') as f:\n",
    "    pass"
   ]
  },
  {
   "cell_type": "markdown",
   "id": "7f9f3ccb",
   "metadata": {
    "slideshow": {
     "slide_type": "slide"
    }
   },
   "source": [
    "<center><h3> List Comprehension </h3> </center>\n",
    "<ul>\n",
    "    <li> Fancy, shorthand method of writing for loops\n",
    "    <li> Syntax changes depending on use case\n",
    "    <li> can be nested in each other, just like lists\n",
    "    <li> Can contain multiple for loops in one list comp\n",
    "    <li> Can also be a nested loop\n",
    "        \n",
    "<br>\n",
    "<b style='color:blue'>Syntax</b>\n",
    "<ul>\n",
    "    <li> [x for x in iterable]\n",
    "    <li> [x for x in iterable if (condition)]\n",
    "    <li> [x if (condition) else y for x in iterable]\n",
    "    <li> [x if (condition) else y if (condition) else z for x in iterable]"
   ]
  },
  {
   "cell_type": "code",
   "execution_count": 17,
   "id": "dc0cb423",
   "metadata": {
    "slideshow": {
     "slide_type": "fragment"
    }
   },
   "outputs": [
    {
     "data": {
      "text/plain": [
       "['Emily,Wilson',\n",
       " 'Jennifer,Sanchez',\n",
       " 'Denise,Ramos',\n",
       " 'Manuel,Barnett',\n",
       " 'Ashley,Hampton']"
      ]
     },
     "execution_count": 17,
     "metadata": {},
     "output_type": "execute_result"
    }
   ],
   "source": [
    "# If I want to remove the newline from the previous output\n",
    "data = [name.strip() for name in data[1:]]\n",
    "data"
   ]
  },
  {
   "cell_type": "code",
   "execution_count": 9,
   "id": "65b6ebc0",
   "metadata": {
    "slideshow": {
     "slide_type": "slide"
    }
   },
   "outputs": [
    {
     "data": {
      "text/plain": [
       "[2, 4, 6, 8]"
      ]
     },
     "execution_count": 9,
     "metadata": {},
     "output_type": "execute_result"
    }
   ],
   "source": [
    "data= [[1,2], [3,4]]\n",
    "\n",
    "[x*2 for lst in data for x in lst]\n",
    "\n",
    "for lst in data:\n",
    "    for x in lst:\n",
    "        lst.append(x*2)"
   ]
  },
  {
   "cell_type": "markdown",
   "id": "a9c406f2",
   "metadata": {
    "slideshow": {
     "slide_type": "slide"
    }
   },
   "source": [
    "<center><h3 style = 'color:blue'> Checkpoint </h3></center>\n",
    "\n",
    "<center>What is the result of the following list comp?</center>"
   ]
  },
  {
   "cell_type": "code",
   "execution_count": null,
   "id": "a90cb3ce",
   "metadata": {
    "slideshow": {
     "slide_type": "fragment"
    }
   },
   "outputs": [],
   "source": [
    "[(x*2, x**2) for x in range(0,10) if x**2 % 2 == 1]"
   ]
  },
  {
   "cell_type": "markdown",
   "id": "b8ef1718",
   "metadata": {
    "slideshow": {
     "slide_type": "fragment"
    }
   },
   "source": [
    "A.[(0, 0), (2, 1), (4, 4), (6, 9), (8, 16), (10, 25), (12, 36), (14, 49), (16, 64), (18, 81)]\n",
    "\n",
    "B. [(0, 0), (4, 4), (8, 16), (12, 36), (16, 64)]\n",
    "\n",
    "C. [(2, 1), (6, 9), (10, 25), (14, 49), (18, 81)]\n",
    "\n",
    "D. []"
   ]
  },
  {
   "cell_type": "markdown",
   "id": "10227eb1",
   "metadata": {
    "slideshow": {
     "slide_type": "slide"
    }
   },
   "source": [
    "<center><h3 style = 'color:blue'> Checkpoint Solution </h3></center>"
   ]
  },
  {
   "cell_type": "code",
   "execution_count": 19,
   "id": "adf22e0d",
   "metadata": {
    "slideshow": {
     "slide_type": "fragment"
    }
   },
   "outputs": [
    {
     "data": {
      "text/plain": [
       "[(2, 1), (6, 9), (10, 25), (14, 49), (18, 81)]"
      ]
     },
     "execution_count": 19,
     "metadata": {},
     "output_type": "execute_result"
    }
   ],
   "source": [
    "# C\n",
    "[(x*2, x**2) for x in range(0,10) if x**2 % 2 == 1]"
   ]
  },
  {
   "cell_type": "markdown",
   "id": "789def9c",
   "metadata": {
    "slideshow": {
     "slide_type": "slide"
    }
   },
   "source": [
    "<center><h3>Dictionary Comprehension</h3></center>\n",
    "\n",
    "<ul>\n",
    "    <li> Fancy, shorthand method of populating dictionaries\n",
    "    <li> Syntax changes depending on use case\n",
    "</ul>\n",
    "\n",
    "<b style='color:blue'>Syntax</b>\n",
    "\n",
    "- basically the same as list comp, but now it expects key:value\n",
    "- can include a list comp!"
   ]
  },
  {
   "cell_type": "code",
   "execution_count": 20,
   "id": "f1ac45e1",
   "metadata": {
    "slideshow": {
     "slide_type": "fragment"
    }
   },
   "outputs": [
    {
     "data": {
      "text/plain": [
       "{'Emily': 'Wilson',\n",
       " 'Jennifer': 'Sanchez',\n",
       " 'Denise': 'Ramos',\n",
       " 'Manuel': 'Barnett',\n",
       " 'Ashley': 'Hampton'}"
      ]
     },
     "execution_count": 20,
     "metadata": {},
     "output_type": "execute_result"
    }
   ],
   "source": [
    "# If I want to now create a dictionary of first name:last name\n",
    "{x.split(',')[0]:x.split(',')[1] for x in data}"
   ]
  },
  {
   "cell_type": "markdown",
   "id": "136dfa8d",
   "metadata": {
    "slideshow": {
     "slide_type": "slide"
    }
   },
   "source": [
    "<center><h3 style = 'color:blue'> Checkpoint </h3></center>\n",
    "\n",
    "<center>What is the result of the following dict comp?</center>"
   ]
  },
  {
   "cell_type": "code",
   "execution_count": null,
   "id": "5dc634f3",
   "metadata": {
    "slideshow": {
     "slide_type": "fragment"
    }
   },
   "outputs": [],
   "source": [
    "{x:[x + 2 for x in range(x)] for x in range(0,5) if x%2==0}"
   ]
  },
  {
   "cell_type": "markdown",
   "id": "0050536a",
   "metadata": {
    "slideshow": {
     "slide_type": "fragment"
    }
   },
   "source": [
    "A. {0: [], 2: [2, 3], 4: [2, 3, 4, 5]}\n",
    "\n",
    "B. {1: [2], 3: [2, 3, 4], 5: [2, 3, 4, 5, 6]}\n",
    "\n",
    "C. {}"
   ]
  },
  {
   "cell_type": "markdown",
   "id": "9332b05e",
   "metadata": {
    "slideshow": {
     "slide_type": "slide"
    }
   },
   "source": [
    "<center><h3 style = 'color:blue'> Checkpoint Solution </h3></center>"
   ]
  },
  {
   "cell_type": "code",
   "execution_count": 13,
   "id": "52188ded",
   "metadata": {
    "slideshow": {
     "slide_type": "fragment"
    }
   },
   "outputs": [
    {
     "data": {
      "text/plain": [
       "{0: [], 2: [2, 3], 4: [2, 3, 4, 5]}"
      ]
     },
     "execution_count": 13,
     "metadata": {},
     "output_type": "execute_result"
    }
   ],
   "source": [
    "{x:[x + 2 for x in range(x)] for x in range(0,5) if x%2==0}"
   ]
  },
  {
   "cell_type": "markdown",
   "id": "bbc539bf",
   "metadata": {
    "slideshow": {
     "slide_type": "slide"
    }
   },
   "source": [
    "<center><h3>Assert Statements</h3></center>\n",
    "<ul>\n",
    "    <li> Used to evaluate written code\n",
    "    <li> <b style='color:blue'>asserts</b> -> input validation (are the arguments the correct types?)\n",
    "    <li> Often combined with boolean functions (any(), all(), etc.)"
   ]
  },
  {
   "cell_type": "code",
   "execution_count": 54,
   "id": "110f0106",
   "metadata": {
    "slideshow": {
     "slide_type": "fragment"
    }
   },
   "outputs": [],
   "source": [
    "def check_inputs(lst, word, number):\n",
    "    assert isinstance(lst, list)\n",
    "    assert isinstance(word, str)\n",
    "    assert isinstance(number,int)"
   ]
  },
  {
   "cell_type": "code",
   "execution_count": 55,
   "id": "a32738f5",
   "metadata": {
    "slideshow": {
     "slide_type": "fragment"
    }
   },
   "outputs": [],
   "source": [
    "check_inputs([], 'a', 2)"
   ]
  },
  {
   "cell_type": "code",
   "execution_count": 56,
   "id": "5b5c43c0",
   "metadata": {
    "slideshow": {
     "slide_type": "fragment"
    }
   },
   "outputs": [
    {
     "ename": "AssertionError",
     "evalue": "",
     "output_type": "error",
     "traceback": [
      "\u001b[0;31m---------------------------------------------------------------------------\u001b[0m",
      "\u001b[0;31mAssertionError\u001b[0m                            Traceback (most recent call last)",
      "Cell \u001b[0;32mIn[56], line 1\u001b[0m\n\u001b[0;32m----> 1\u001b[0m \u001b[43mcheck_inputs\u001b[49m\u001b[43m(\u001b[49m\u001b[38;5;124;43m'\u001b[39;49m\u001b[38;5;124;43ma\u001b[39;49m\u001b[38;5;124;43m'\u001b[39;49m\u001b[43m,\u001b[49m\u001b[43m \u001b[49m\u001b[38;5;124;43m'\u001b[39;49m\u001b[38;5;124;43ma\u001b[39;49m\u001b[38;5;124;43m'\u001b[39;49m\u001b[43m,\u001b[49m\u001b[43m \u001b[49m\u001b[38;5;241;43m2\u001b[39;49m\u001b[43m)\u001b[49m\n",
      "Cell \u001b[0;32mIn[54], line 2\u001b[0m, in \u001b[0;36mcheck_inputs\u001b[0;34m(lst, word, number)\u001b[0m\n\u001b[1;32m      1\u001b[0m \u001b[38;5;28;01mdef\u001b[39;00m \u001b[38;5;21mcheck_inputs\u001b[39m(lst, word, number):\n\u001b[0;32m----> 2\u001b[0m     \u001b[38;5;28;01massert\u001b[39;00m \u001b[38;5;28misinstance\u001b[39m(lst, \u001b[38;5;28mlist\u001b[39m)\n\u001b[1;32m      3\u001b[0m     \u001b[38;5;28;01massert\u001b[39;00m \u001b[38;5;28misinstance\u001b[39m(word, \u001b[38;5;28mstr\u001b[39m)\n\u001b[1;32m      4\u001b[0m     \u001b[38;5;28;01massert\u001b[39;00m \u001b[38;5;28misinstance\u001b[39m(number,\u001b[38;5;28mint\u001b[39m)\n",
      "\u001b[0;31mAssertionError\u001b[0m: "
     ]
    }
   ],
   "source": [
    "check_inputs('a', 'a', 2)"
   ]
  },
  {
   "cell_type": "markdown",
   "id": "1ac372d6",
   "metadata": {
    "slideshow": {
     "slide_type": "slide"
    }
   },
   "source": [
    "<center><h3 style = 'color:blue'> Checkpoint </h3></center>\n",
    "\n",
    "<center>Given the following  code, select all assert statements that logically check the input</center>"
   ]
  },
  {
   "cell_type": "code",
   "execution_count": 12,
   "id": "335d1b04",
   "metadata": {
    "slideshow": {
     "slide_type": "fragment"
    }
   },
   "outputs": [
    {
     "data": {
      "text/plain": [
       "['a', 'b', 'c']"
      ]
     },
     "execution_count": 12,
     "metadata": {},
     "output_type": "execute_result"
    }
   ],
   "source": [
    "def foo(input_lst):\n",
    "    \"\"\"\n",
    "    function to flatten a nested list of strings\n",
    "    \"\"\"\n",
    "    return [x for lst in input_lst for x in lst]\n",
    "foo([['a'], ['b'], ['c']])"
   ]
  },
  {
   "cell_type": "markdown",
   "id": "d6d01e8e",
   "metadata": {
    "slideshow": {
     "slide_type": "fragment"
    }
   },
   "source": [
    "A. assert isinstance(input_lst, list)\n",
    "\n",
    "B. assert all([isinstance(lst, list) for lst in input_lst])\n",
    "\n",
    "C. assert all([isinstance(x, str) for x in input_lst])\n",
    "\n",
    "D. assert all([isinstance(x, str) for lst in input_lst for x in lst])"
   ]
  },
  {
   "cell_type": "markdown",
   "id": "4ffb04b3",
   "metadata": {
    "slideshow": {
     "slide_type": "slide"
    }
   },
   "source": [
    "<center><h3 style = 'color:blue'> Checkpoint Solution </h3></center>"
   ]
  },
  {
   "cell_type": "code",
   "execution_count": 15,
   "id": "19d587a1",
   "metadata": {
    "slideshow": {
     "slide_type": "fragment"
    }
   },
   "outputs": [
    {
     "ename": "AssertionError",
     "evalue": "",
     "output_type": "error",
     "traceback": [
      "\u001b[0;31m---------------------------------------------------------------------------\u001b[0m",
      "\u001b[0;31mAssertionError\u001b[0m                            Traceback (most recent call last)",
      "Cell \u001b[0;32mIn[15], line 4\u001b[0m\n\u001b[1;32m      1\u001b[0m \u001b[38;5;66;03m# A B D\u001b[39;00m\n\u001b[1;32m      2\u001b[0m input_lst \u001b[38;5;241m=\u001b[39m \u001b[38;5;124m'\u001b[39m\u001b[38;5;124ma\u001b[39m\u001b[38;5;124m'\u001b[39m\n\u001b[0;32m----> 4\u001b[0m \u001b[38;5;28;01massert\u001b[39;00m \u001b[38;5;28misinstance\u001b[39m(input_lst, \u001b[38;5;28mlist\u001b[39m)\n\u001b[1;32m      5\u001b[0m \u001b[38;5;28;01massert\u001b[39;00m \u001b[38;5;28mall\u001b[39m([\u001b[38;5;28misinstance\u001b[39m(lst, \u001b[38;5;28mlist\u001b[39m) \u001b[38;5;28;01mfor\u001b[39;00m lst \u001b[38;5;129;01min\u001b[39;00m input_lst])\n\u001b[1;32m      6\u001b[0m \u001b[38;5;28;01massert\u001b[39;00m \u001b[38;5;28mall\u001b[39m([\u001b[38;5;28misinstance\u001b[39m(x, \u001b[38;5;28mstr\u001b[39m) \u001b[38;5;28;01mfor\u001b[39;00m lst \u001b[38;5;129;01min\u001b[39;00m input_lst \u001b[38;5;28;01mfor\u001b[39;00m x \u001b[38;5;129;01min\u001b[39;00m lst])\n",
      "\u001b[0;31mAssertionError\u001b[0m: "
     ]
    }
   ],
   "source": [
    "# A B D\n",
    "input_lst = 'a'\n",
    "\n",
    "assert isinstance(input_lst, list)\n",
    "assert all([isinstance(lst, list) for lst in input_lst])\n",
    "assert all([isinstance(x, str) for lst in input_lst for x in lst])"
   ]
  },
  {
   "cell_type": "markdown",
   "id": "b40a280b",
   "metadata": {
    "slideshow": {
     "slide_type": "slide"
    }
   },
   "source": [
    "<center><h2>practice questions</h2></center>"
   ]
  },
  {
   "cell_type": "code",
   "execution_count": 41,
   "id": "f15ea8c1",
   "metadata": {
    "slideshow": {
     "slide_type": "skip"
    }
   },
   "outputs": [],
   "source": [
    "def convert_negs(lsts):\n",
    "    \"\"\"\n",
    "    Write a function that uses list comprehension to\n",
    "    convert negative numbers to positive and \n",
    "    multiplies positive numbers by 2.\n",
    "    \n",
    "    >>> lsts = [[1,3,-11,6], [2,-5,-9,12], [3,19,-42]]\n",
    "    >>> convert_negs(lsts)\n",
    "    [[2, 6, 11, 12], [4, 5, 9, 24], [6, 38, 42]]\n",
    "    \"\"\"\n",
    "    # Write your implementation here\n",
    "    return\n",
    "\n",
    "def dict_comp(key_lst, val_lst):\n",
    "    \"\"\"\n",
    "    Write a function that takes in 2 lists\n",
    "    and transforms them before converting them\n",
    "    into a dictionary using dict comp.\n",
    "    Transformations:\n",
    "        1) keys should all be upper case\n",
    "        2) values should be the square root of the\n",
    "            original value\n",
    "    \n",
    "    >>> dict_comp(['max','ben','nikki'],[4,16,64])\n",
    "    {'MAX': 2.0, 'BEN': 4.0, 'NIKKI': 8.0}\n",
    "    \"\"\"\n",
    "    # Write your implementation here\n",
    "    return\n",
    "\n",
    "def class_reviews(reviews_filepath):\n",
    "    \"\"\"\n",
    "    Write a function that finds all reviews that mention \"DSC20\".\n",
    "    Each review is separated by a newline character \"\\n\". Return\n",
    "    the number of reviews that include \"DSC20\".\n",
    "    \n",
    "    >>> class_reviews('files/raw_reviews.txt')\n",
    "    3\n",
    "    \"\"\"\n",
    "    # Write your implementation here\n",
    "    return \n",
    "\n",
    "def populate_csv(data, filepath):\n",
    "    \"\"\"\n",
    "    Write a function that takes in a dictionary of data and writes\n",
    "    out a CSV to the provided filepath. CSV = Comma Separated Values.\n",
    "    \n",
    "    >>> data = {'columns':['a','b','c'], 'marina':[1,2,3], 'ben':[4,5,6]}\n",
    "    >>> populate_csv(data, 'files/class.csv')\n",
    "    \"\"\"\n",
    "    # Write your implementation here\n",
    "    return "
   ]
  },
  {
   "cell_type": "markdown",
   "id": "fb1e47a3",
   "metadata": {
    "slideshow": {
     "slide_type": "slide"
    }
   },
   "source": [
    "<center><h2>practice question solutions</h2></center>"
   ]
  },
  {
   "cell_type": "code",
   "execution_count": 16,
   "id": "2f9a5a1b",
   "metadata": {
    "slideshow": {
     "slide_type": "slide"
    }
   },
   "outputs": [
    {
     "data": {
      "text/plain": [
       "[[2, 6, 11, 12], [4, 5, 9, 24], [6, 38, 42]]"
      ]
     },
     "execution_count": 16,
     "metadata": {},
     "output_type": "execute_result"
    }
   ],
   "source": [
    "def convert_negs(lsts):\n",
    "    \"\"\"\n",
    "    Write a function that uses list comprehension to\n",
    "    convert negative numbers to positive and \n",
    "    multiplies positive numbers by 2.\n",
    "    \n",
    "    >>> lsts = [[1,3,-11,6], [2,-5,-9,12], [3,19,-42]]\n",
    "    >>> convert_negs(lsts)\n",
    "    [[2, 6, 11, 12], [4, 5, 9, 24], [6, 38, 42]]\n",
    "    \"\"\"\n",
    "    return [[element * -1 if element < 0 else element * 2 for element in sublist] for sublist in lsts]\n",
    "\n",
    "lsts = [[1,3,-11,6], [2,-5,-9,12], [3,19,-42]]\n",
    "convert_negs(lsts)"
   ]
  },
  {
   "cell_type": "markdown",
   "id": "a8973383",
   "metadata": {
    "slideshow": {
     "slide_type": "slide"
    }
   },
   "source": [
    "Write 3 assert statements for the previous function that validate the input"
   ]
  },
  {
   "cell_type": "code",
   "execution_count": 27,
   "id": "5ffbd6f8",
   "metadata": {
    "slideshow": {
     "slide_type": "fragment"
    }
   },
   "outputs": [],
   "source": [
    "lsts = [[1]]\n",
    "assert isinstance(lsts, list)\n",
    "assert all([isinstance(sublist, list) for sublist in lsts])\n",
    "assert all([isinstance(element, int) for sublist in lsts for element in sublist])"
   ]
  },
  {
   "cell_type": "code",
   "execution_count": 22,
   "id": "be2375a5",
   "metadata": {
    "slideshow": {
     "slide_type": "slide"
    }
   },
   "outputs": [
    {
     "data": {
      "text/plain": [
       "{'MAX': 2.0, 'BEN': 4.0, 'NIKKI': 8.0}"
      ]
     },
     "execution_count": 22,
     "metadata": {},
     "output_type": "execute_result"
    }
   ],
   "source": [
    "def dict_comp(key_lst, val_lst):\n",
    "    \"\"\"\n",
    "    Write a function that takes in 2 lists\n",
    "    and transforms them before converting them\n",
    "    into a dictionary using dict comp.\n",
    "    Transformations:\n",
    "        1) keys should all be upper case\n",
    "        2) values should be the square root of the\n",
    "            original value\n",
    "    \n",
    "    >>> dict_comp(['max','ben','nikki'],[4,16,64])\n",
    "    {'MAX': 2.0, 'BEN': 4.0, 'NIKKI': 8.0}\n",
    "    \"\"\"\n",
    "    return {key.upper():val**0.5 for key,val in zip(key_lst,val_lst)}\n",
    "dict_comp(['max','ben','nikki'],[4,16,64])"
   ]
  },
  {
   "cell_type": "code",
   "execution_count": 4,
   "id": "10588d26",
   "metadata": {
    "slideshow": {
     "slide_type": "slide"
    }
   },
   "outputs": [
    {
     "data": {
      "text/plain": [
       "{'MAX': 2.0, 'BEN': 4.0, 'NIKKI': 8.0}"
      ]
     },
     "execution_count": 4,
     "metadata": {},
     "output_type": "execute_result"
    }
   ],
   "source": [
    "def dict_comp(key_lst, val_lst):\n",
    "    \"\"\"\n",
    "    Write a function that takes in 2 lists\n",
    "    and transforms them before converting them\n",
    "    into a dictionary using dict comp.\n",
    "    Transformations:\n",
    "        1) keys should all be upper case\n",
    "        2) values should be the square root of the\n",
    "            original value\n",
    "    \n",
    "    >>> dict_comp(['max','ben','nikki'],[4,16,64])\n",
    "    {'MAX': 2.0, 'BEN': 4.0, 'NIKKI': 8.0}\n",
    "    \"\"\"\n",
    "    return {key_lst[i].upper():val_lst[i]**0.5 for i in range(len(key_lst))}\n",
    "dict_comp(['max','ben','nikki'],[4,16,64])"
   ]
  },
  {
   "cell_type": "code",
   "execution_count": 40,
   "id": "e51caee6",
   "metadata": {
    "slideshow": {
     "slide_type": "slide"
    }
   },
   "outputs": [
    {
     "data": {
      "text/plain": [
       "2"
      ]
     },
     "execution_count": 40,
     "metadata": {},
     "output_type": "execute_result"
    }
   ],
   "source": [
    "def class_reviews(reviews_filepath):\n",
    "    \"\"\"\n",
    "    Write a function that finds all reviews that mention \"DSC20\".\n",
    "    Each review is separated by a newline character \"\\n\". Return\n",
    "    the number of reviews that include \"DSC20\".\n",
    "    \n",
    "    >>> class_reviews('files/raw_reviews.txt')\n",
    "    2\n",
    "    \"\"\"\n",
    "    with open(reviews_filepath, 'r') as f:\n",
    "        data = f.read()\n",
    "        \n",
    "    data = data.split('\\n')\n",
    "    return len([x for x in data if 'DSC20' in x])\n",
    "class_reviews('files/raw_reviews.txt')"
   ]
  },
  {
   "cell_type": "code",
   "execution_count": 49,
   "id": "b45f138d",
   "metadata": {
    "slideshow": {
     "slide_type": "slide"
    }
   },
   "outputs": [],
   "source": [
    "def populate_csv(data, columns, filepath):\n",
    "    \"\"\"\n",
    "    Write a function that takes in a dictionary of data and writes\n",
    "    out a CSV to the provided filepath. CSV = Comma Separated Values.\n",
    "    \n",
    "    >>> data = ['marina langlois', 'ben chen']\n",
    "    >>> columns = ['first name', 'last name']\n",
    "    >>> populate_csv(data, 'files/class.csv')\n",
    "    \"\"\"\n",
    "    with open(filepath, 'w') as f:\n",
    "        write_in = ','.join(columns)\n",
    "        strung_data = [','.join(name.split()) for name in data]\n",
    "        write_in+='\\n'\n",
    "        write_in+=('\\n'.join(strung_data))\n",
    "        f.write(write_in)\n",
    "        \n",
    "data = ['marina langlois', 'ben chen']\n",
    "columns = ['first name', 'last name']\n",
    "populate_csv(data, columns, 'files/class.csv')"
   ]
  },
  {
   "cell_type": "code",
   "execution_count": 50,
   "id": "5d5a3f3a",
   "metadata": {
    "slideshow": {
     "slide_type": "fragment"
    }
   },
   "outputs": [
    {
     "name": "stdout",
     "output_type": "stream",
     "text": [
      "first name,last name\n",
      "marina,langlois\n",
      "ben,chen\n"
     ]
    }
   ],
   "source": [
    "with open('files/class.csv', 'r') as f:\n",
    "    print(f.read())"
   ]
  },
  {
   "cell_type": "markdown",
   "id": "49030538",
   "metadata": {
    "slideshow": {
     "slide_type": "slide"
    }
   },
   "source": [
    "<center> <h1>Thanks for coming!</h1></center>"
   ]
  },
  {
   "cell_type": "code",
   "execution_count": null,
   "id": "1e60d5be",
   "metadata": {
    "slideshow": {
     "slide_type": "skip"
    }
   },
   "outputs": [],
   "source": []
  }
 ],
 "metadata": {
  "celltoolbar": "Slideshow",
  "kernelspec": {
   "display_name": "Python 3 (ipykernel)",
   "language": "python",
   "name": "python3"
  },
  "language_info": {
   "codemirror_mode": {
    "name": "ipython",
    "version": 3
   },
   "file_extension": ".py",
   "mimetype": "text/x-python",
   "name": "python",
   "nbconvert_exporter": "python",
   "pygments_lexer": "ipython3",
   "version": "3.10.8"
  },
  "rise": {
   "enable_chalkboard": true
  }
 },
 "nbformat": 4,
 "nbformat_minor": 5
}
