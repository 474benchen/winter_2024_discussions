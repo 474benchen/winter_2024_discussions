{
 "cells": [
  {
   "cell_type": "markdown",
   "id": "9ac70a89",
   "metadata": {
    "slideshow": {
     "slide_type": "skip"
    }
   },
   "source": [
    "**note**: for anyone trying to view this as a slideshow, run 'pip install rise', reload your notebook, then click on the button that looks like a bar graph to the right of the command palette at the top."
   ]
  },
  {
   "cell_type": "markdown",
   "id": "0aaa7f3e",
   "metadata": {
    "slideshow": {
     "slide_type": "slide"
    }
   },
   "source": [
    "<center><h1>Midterm 2 Review</h1></center>\n",
    "<center><h2>DSC 20, Fall 2023</h2><center>"
   ]
  },
  {
   "cell_type": "markdown",
   "id": "c8f91290",
   "metadata": {
    "slideshow": {
     "slide_type": "slide"
    }
   },
   "source": [
    "<center><h3>Topics</h3></center>\n",
    "\n",
    "- lambda\n",
    "- Iterators, Map, Filter\n",
    "- HOF\n",
    "- Advanced Argument Passing\n",
    "- Time Complexity\n",
    "- Recursion\n",
    "\n",
    "<center><b>note</b>: Though not explicitly covered, you are still expected to be able to apply concepts from midterm 1.</center>\n"
   ]
  },
  {
   "cell_type": "markdown",
   "id": "6263a16f",
   "metadata": {
    "slideshow": {
     "slide_type": "slide"
    }
   },
   "source": [
    "<center><h3> Lambda Functions </h3></center>\n",
    "<ul>\n",
    "    <li> known as anonymous functions (their functions are so simple, they don't need a name)\n",
    "    <li> syntax: lambda (input): (some operation)\n",
    "    <li> within the scope of this course, lambda is used in conjunction with map and filter"
   ]
  },
  {
   "cell_type": "markdown",
   "id": "18725f73",
   "metadata": {
    "slideshow": {
     "slide_type": "slide"
    }
   },
   "source": [
    "<center><h3>Map</h3></center>\n",
    "Map -\n",
    "<b>Syntax: map(function, iterable)</b>\n",
    "<ul>\n",
    "    <li> Map allows you to apply a function to all elements to an iterable input\n",
    "    <li> very common to use a lambda function as the function to apply\n",
    "    <li> returns an iterator through the iterable object, applying the function as it traverses\n",
    "</ul>"
   ]
  },
  {
   "cell_type": "code",
   "execution_count": 1,
   "id": "87b80810",
   "metadata": {
    "slideshow": {
     "slide_type": "slide"
    }
   },
   "outputs": [
    {
     "data": {
      "text/plain": [
       "[3, 4, 5, 6, 7]"
      ]
     },
     "execution_count": 1,
     "metadata": {},
     "output_type": "execute_result"
    }
   ],
   "source": [
    "data = [1,2,3,4,5]\n",
    "list(map(lambda x:x+2, data))"
   ]
  },
  {
   "cell_type": "markdown",
   "id": "e6002011",
   "metadata": {
    "slideshow": {
     "slide_type": "slide"
    }
   },
   "source": [
    "<center><h3>Filter</h3></center>\n",
    "\n",
    "Filter - \n",
    "<b>Syntax: filter(function, iterable)</b>\n",
    "<ul>\n",
    "    <li> Filter takes in a function that returns a boolean and only keeps elements that satisfy the function (i.e. return True).\n",
    "    <li> Very common to use a lambda function as the function to apply, but keep in mind the function <b>must return a boolean</b>.\n",
    "    <li> Returns an iterator through the iterable object that only yields values that pass the function.\n",
    "</ul>"
   ]
  },
  {
   "cell_type": "code",
   "execution_count": 2,
   "id": "714056ad",
   "metadata": {
    "slideshow": {
     "slide_type": "slide"
    }
   },
   "outputs": [
    {
     "data": {
      "text/plain": [
       "[2, 4]"
      ]
     },
     "execution_count": 2,
     "metadata": {},
     "output_type": "execute_result"
    }
   ],
   "source": [
    "data = [1,2,3,4,5]\n",
    "list(filter(lambda x:x%2==0,data))"
   ]
  },
  {
   "cell_type": "markdown",
   "id": "e4b9c45a",
   "metadata": {
    "slideshow": {
     "slide_type": "slide"
    }
   },
   "source": [
    "<center><h3 style = 'color:blue'> Checkpoint </h3></center>\n",
    "<center>Which of the following pieces of code retains odd numbers from a given list?</center>"
   ]
  },
  {
   "cell_type": "code",
   "execution_count": null,
   "id": "ca4124fa",
   "metadata": {
    "slideshow": {
     "slide_type": "fragment"
    }
   },
   "outputs": [],
   "source": [
    "1. list(filter(lambda x: x%2==1, lst))\n",
    "2. list(filter(lambda y: y, map(lambda x:x%2==1, lst)))\n",
    "3. filter(lambda x: x%2==1, lst)\n",
    "4. list(filter(lambda x: x == 1,map(lambda x:x%2, lst)))"
   ]
  },
  {
   "cell_type": "markdown",
   "id": "08ec7816",
   "metadata": {
    "slideshow": {
     "slide_type": "slide"
    }
   },
   "source": [
    "<center><h3 style = 'color:blue'> Checkpoint Solution </h3></center>"
   ]
  },
  {
   "cell_type": "code",
   "execution_count": 7,
   "id": "da2b3f5d",
   "metadata": {
    "slideshow": {
     "slide_type": "fragment"
    }
   },
   "outputs": [],
   "source": [
    "lst = [1,2,3,4,5]"
   ]
  },
  {
   "cell_type": "code",
   "execution_count": 8,
   "id": "d8261592",
   "metadata": {
    "slideshow": {
     "slide_type": "fragment"
    }
   },
   "outputs": [
    {
     "data": {
      "text/plain": [
       "[1, 3, 5]"
      ]
     },
     "execution_count": 8,
     "metadata": {},
     "output_type": "execute_result"
    }
   ],
   "source": [
    "list(filter(lambda x: x%2==1, lst))"
   ]
  },
  {
   "cell_type": "code",
   "execution_count": 9,
   "id": "a196c392",
   "metadata": {
    "slideshow": {
     "slide_type": "fragment"
    }
   },
   "outputs": [
    {
     "data": {
      "text/plain": [
       "[True, True, True]"
      ]
     },
     "execution_count": 9,
     "metadata": {},
     "output_type": "execute_result"
    }
   ],
   "source": [
    "list(filter(lambda y: y, map(lambda x:x%2==1, lst)))"
   ]
  },
  {
   "cell_type": "code",
   "execution_count": 10,
   "id": "1962177b",
   "metadata": {
    "slideshow": {
     "slide_type": "fragment"
    }
   },
   "outputs": [
    {
     "data": {
      "text/plain": [
       "<filter at 0x7fa8c00370d0>"
      ]
     },
     "execution_count": 10,
     "metadata": {},
     "output_type": "execute_result"
    }
   ],
   "source": [
    "filter(lambda x: x%2==1, lst)"
   ]
  },
  {
   "cell_type": "code",
   "execution_count": 11,
   "id": "665c6ce3",
   "metadata": {
    "slideshow": {
     "slide_type": "fragment"
    }
   },
   "outputs": [
    {
     "data": {
      "text/plain": [
       "[1, 1, 1]"
      ]
     },
     "execution_count": 11,
     "metadata": {},
     "output_type": "execute_result"
    }
   ],
   "source": [
    "list(filter(lambda x: x == 1,map(lambda x:x%2, lst)))"
   ]
  },
  {
   "cell_type": "markdown",
   "id": "8177f808",
   "metadata": {
    "slideshow": {
     "slide_type": "slide"
    }
   },
   "source": [
    "<center><h3>HOF</h3></center>\n",
    "\n",
    "- Algorithm design framework to create generalized code\n",
    "\n",
    "- Functions that either return functions or use other functions\n",
    "\n",
    "- Helper functions!\n",
    "\n",
    "- Many uses, including abstraction, scope protection, etc."
   ]
  },
  {
   "cell_type": "code",
   "execution_count": 14,
   "id": "ce507281",
   "metadata": {
    "slideshow": {
     "slide_type": "fragment"
    }
   },
   "outputs": [
    {
     "data": {
      "text/plain": [
       "9"
      ]
     },
     "execution_count": 14,
     "metadata": {},
     "output_type": "execute_result"
    }
   ],
   "source": [
    "def calculator(arg, num1, num2):\n",
    "    def mean(num1, num2):\n",
    "        return (num1 + num2) / 2\n",
    "    def abs_diff(num1, num2):\n",
    "        return abs(num1-num2)\n",
    "    if arg=='mean':\n",
    "        return mean(num1,num2)\n",
    "    if arg=='abs_diff':\n",
    "        return abs_diff(num1,num2)\n",
    "    \n",
    "calculator('abs_diff', 1, 10)"
   ]
  },
  {
   "cell_type": "markdown",
   "id": "933128b3",
   "metadata": {
    "slideshow": {
     "slide_type": "slide"
    }
   },
   "source": [
    "<center><h3 style = 'color:blue'> Checkpoint </h3></center>\n",
    "\n",
    "<center>What is the result of the following call?</center>"
   ]
  },
  {
   "cell_type": "code",
   "execution_count": null,
   "id": "5d7c9820",
   "metadata": {
    "slideshow": {
     "slide_type": "fragment"
    }
   },
   "outputs": [],
   "source": [
    "# previous code\n",
    "def calculator(arg, num1, num2):\n",
    "    def mean(num1, num2):\n",
    "        return (num1 + num2) / 2\n",
    "    def abs_diff(num1, num2):\n",
    "        return abs(num1-num2)\n",
    "    if arg=='mean':\n",
    "        return mean(num1,num2)\n",
    "    if arg=='abs_diff':\n",
    "        return abs_diff(num1,num2)"
   ]
  },
  {
   "cell_type": "code",
   "execution_count": null,
   "id": "1028fb6e",
   "metadata": {
    "slideshow": {
     "slide_type": "fragment"
    }
   },
   "outputs": [],
   "source": [
    "print(calculator('median', 1, 10))"
   ]
  },
  {
   "cell_type": "markdown",
   "id": "8c4418fa",
   "metadata": {
    "slideshow": {
     "slide_type": "slide"
    }
   },
   "source": [
    "<center><h3 style = 'color:blue'> Checkpoint Solution </h3></center>"
   ]
  },
  {
   "cell_type": "code",
   "execution_count": 17,
   "id": "ba2b224f",
   "metadata": {
    "slideshow": {
     "slide_type": "fragment"
    }
   },
   "outputs": [
    {
     "name": "stdout",
     "output_type": "stream",
     "text": [
      "None\n"
     ]
    }
   ],
   "source": [
    "print(calculator('median', 1, 10))"
   ]
  },
  {
   "cell_type": "markdown",
   "id": "0bf0071c",
   "metadata": {
    "slideshow": {
     "slide_type": "slide"
    }
   },
   "source": [
    "<center><h3>*args</h3></center>\n",
    "\n",
    "<ul>\n",
    "    <li> Used when an unknown number of arguments will be passed into a function\n",
    "    <li> Denoted by * in the method header (IMPORTANT)\n",
    "    <li> processed in a similar manner to a list\n",
    "</ul>"
   ]
  },
  {
   "cell_type": "code",
   "execution_count": 4,
   "id": "27a046e2",
   "metadata": {
    "slideshow": {
     "slide_type": "fragment"
    }
   },
   "outputs": [
    {
     "name": "stdout",
     "output_type": "stream",
     "text": [
      "0\n",
      "15\n"
     ]
    }
   ],
   "source": [
    "def summation(*nums):\n",
    "    return sum(nums)\n",
    "print(summation())\n",
    "print(summation(1,2,3,4,5))"
   ]
  },
  {
   "cell_type": "markdown",
   "id": "3dda2904",
   "metadata": {
    "slideshow": {
     "slide_type": "slide"
    }
   },
   "source": [
    "<center><h3>**kwargs</h3></center>\n",
    "\n",
    "<ul>\n",
    "    <li> Used when an unknown number of <b>keyworded</b> arguments will be passed into a function\n",
    "    <li> Denoted by ** in the method header (IMPORTANT)\n",
    "    <li> processed in a similar manner to a dictionary\n",
    "</ul>"
   ]
  },
  {
   "cell_type": "code",
   "execution_count": 19,
   "id": "9c89723f",
   "metadata": {
    "slideshow": {
     "slide_type": "fragment"
    }
   },
   "outputs": [
    {
     "name": "stdout",
     "output_type": "stream",
     "text": [
      "{}\n",
      "{'marina': 1, 'langlois': 2}\n"
     ]
    }
   ],
   "source": [
    "def create_dct(**entry):\n",
    "    return dict(entry)\n",
    "print(create_dct())\n",
    "print(create_dct(marina=1, langlois=2))"
   ]
  },
  {
   "cell_type": "markdown",
   "id": "ddbc85a4",
   "metadata": {
    "slideshow": {
     "slide_type": "slide"
    }
   },
   "source": [
    "<center><h3 style = 'color:blue'> Checkpoint </h3></center>\n",
    "\n",
    "<center>What is the valid order of complex arguments in a method header?</center>"
   ]
  },
  {
   "cell_type": "code",
   "execution_count": null,
   "id": "f8e2fbd1",
   "metadata": {
    "slideshow": {
     "slide_type": "fragment"
    }
   },
   "outputs": [],
   "source": [
    "1. def foo(*a, b, **c)\n",
    "\n",
    "2. def boo(a,b*,c**)\n",
    "\n",
    "3. def zoo(a,*b,**c)"
   ]
  },
  {
   "cell_type": "markdown",
   "id": "4d427388",
   "metadata": {
    "slideshow": {
     "slide_type": "slide"
    }
   },
   "source": [
    "<center><h3 style = 'color:blue'> Checkpoint Solution</h3></center>"
   ]
  },
  {
   "cell_type": "code",
   "execution_count": 20,
   "id": "6a5a2c63",
   "metadata": {
    "slideshow": {
     "slide_type": "fragment"
    }
   },
   "outputs": [],
   "source": [
    "def zoo(a, *b, **c):\n",
    "    pass"
   ]
  },
  {
   "cell_type": "markdown",
   "id": "3794880c",
   "metadata": {
    "slideshow": {
     "slide_type": "slide"
    }
   },
   "source": [
    "<center><h3>default_arguments</h3></center>\n",
    "\n",
    "<ul>\n",
    "    <li> Basically normal arguments, but with a default value\n",
    "    <li> if no value is passed, default value is set\n",
    "    <li> if a value is passed, default value is overwritten\n",
    "</ul>\n",
    "\n",
    "note: <a href='https://pythontutor.com/visualize.html#code=def%20my_function%28a,%20b%3D2,%20c%3D3,%20*args,%20**kwargs%29%3A%0A%20%20%20%20print%28%22a%3A%22,%20a%29%0A%20%20%20%20print%28%22b%3A%22,%20b%29%0A%20%20%20%20print%28%22c%3A%22,%20c%29%0A%20%20%20%20print%28%22args%3A%22,%20args%29%0A%20%20%20%20print%28%22kwargs%3A%22,%20kwargs%29%0Amy_function%281,%20%22demo%22,%20%22q%22,%20kw%20%3D%20%22args%22%29&cumulative=false&heapPrimitives=nevernest&mode=edit&origin=opt-frontend.js&py=3&rawInputLstJSON=%5B%5D&textReferences=false'> lecture order </a>"
   ]
  },
  {
   "cell_type": "code",
   "execution_count": 6,
   "id": "bf0e359d",
   "metadata": {
    "slideshow": {
     "slide_type": "fragment"
    }
   },
   "outputs": [
    {
     "name": "stdout",
     "output_type": "stream",
     "text": [
      "False\n",
      "True\n"
     ]
    }
   ],
   "source": [
    "def check_legal_age(age=18):\n",
    "    return age>=21\n",
    "print(check_legal_age())\n",
    "print(check_legal_age(21))"
   ]
  },
  {
   "cell_type": "markdown",
   "id": "e3366964",
   "metadata": {
    "slideshow": {
     "slide_type": "slide"
    }
   },
   "source": [
    "<center><h3>Complexity Fundamentals</h3></center>\n",
    "\n",
    "1. Code should be quantified into big O values\n",
    "\n",
    "2. Nested code will have compounded big O values\n",
    "\n",
    "3. The largest term dictates the growth rate (i.e. only largest term matters)\n",
    "\n",
    "4. Constants are irrelevant\n",
    "\n",
    "5. big O analysis uses similar ideas to calculus and limits - reference your math knowledge\n"
   ]
  },
  {
   "cell_type": "markdown",
   "id": "a48779fc",
   "metadata": {
    "slideshow": {
     "slide_type": "slide"
    }
   },
   "source": [
    "<center><h3>Time Complexity</h3></center>\n",
    "\n",
    "<center>Utilize mathematical principles to classify code as runtime families to quantify their relative efficiency</center>\n",
    "\n",
    "<b style='color:blue'>tips</b>:\n",
    "1. Always look for \"hallmark features\" (ex. if I see i // 2, there's probably log involved)\n",
    "2. If there are loops, check the iteration count AND the inside operations (don't assume n runtime)\n",
    "3. Order of Growth follows mathematical principles. Only consider the largest term (without constants)\n",
    "\n",
    "<center><img src='imgs/graph_ref.png' width = 600></center>\n",
    "<center><a href='https://www.bigocheatsheet.com/'>source</a></center>"
   ]
  },
  {
   "cell_type": "markdown",
   "id": "f5a164fa",
   "metadata": {
    "slideshow": {
     "slide_type": "slide"
    }
   },
   "source": [
    "<center><h3 style = 'color:blue'> Checkpoint </h3></center>\n",
    "\n",
    "<center>What is the runtime of the following expression?</center>"
   ]
  },
  {
   "cell_type": "code",
   "execution_count": null,
   "id": "d63ef4c8",
   "metadata": {
    "slideshow": {
     "slide_type": "fragment"
    }
   },
   "outputs": [],
   "source": [
    "# assume each subsequent sublist will increase in size by 1\n",
    "data = [[1], [2,3], [4,5,6]]\n",
    "map(lambda x: sum(x), data)"
   ]
  },
  {
   "cell_type": "markdown",
   "id": "84f31694",
   "metadata": {
    "slideshow": {
     "slide_type": "fragment"
    }
   },
   "source": [
    "1. $O(1)$\n",
    "2. $O(logn)$\n",
    "3. $O(n)$\n",
    "4. $O(n^2)$"
   ]
  },
  {
   "cell_type": "markdown",
   "id": "4f0c5cda",
   "metadata": {
    "slideshow": {
     "slide_type": "slide"
    }
   },
   "source": [
    "<center><h3 style = 'color:blue'> Checkpoint Solution </h3></center>"
   ]
  },
  {
   "cell_type": "markdown",
   "id": "45603ae3",
   "metadata": {
    "slideshow": {
     "slide_type": "fragment"
    }
   },
   "source": [
    "<center>$O(1)$ -> an iterator does not execute any functionality until explicitly called.</center>"
   ]
  },
  {
   "cell_type": "code",
   "execution_count": 24,
   "id": "333fe77d",
   "metadata": {
    "slideshow": {
     "slide_type": "fragment"
    }
   },
   "outputs": [
    {
     "data": {
      "text/plain": [
       "<map at 0x7fa8c00f5c60>"
      ]
     },
     "execution_count": 24,
     "metadata": {},
     "output_type": "execute_result"
    }
   ],
   "source": [
    "map(lambda x: sum(x), data) # nothing happened, an iterator was created!"
   ]
  },
  {
   "cell_type": "markdown",
   "id": "3e3ae53d",
   "metadata": {
    "slideshow": {
     "slide_type": "slide"
    }
   },
   "source": [
    "<center><h3>Recursion - Base Case</h3></center>\n",
    "\n",
    "<center> Base case(s) are regarded as the most important part of a recursive function. They determine the stop point for recursion and begin the argument passing up the \"stack\" of recursive calls. Without a well written base case, recursion will either never end or end incorrectly. When writing recursion questions, always start with determining the base case. </center>"
   ]
  },
  {
   "cell_type": "markdown",
   "id": "ced5281c",
   "metadata": {
    "slideshow": {
     "slide_type": "slide"
    }
   },
   "source": [
    "<center><h3>Recursion - Recursive Calls</h3></center>\n",
    "\n",
    "<center>The crux of a recursive function working is the recursive calls. These calls will repeat until the base case is reached, creating the \"stack\" of recursive calls that will begin resolving at the base case. Keep in mind when writing recursive calls that every call needs to trend towards the base case.</center>"
   ]
  },
  {
   "cell_type": "markdown",
   "id": "1a84e256",
   "metadata": {
    "slideshow": {
     "slide_type": "slide"
    }
   },
   "source": [
    "<center><h3 style = 'color:blue'> Checkpoint </h3></center>\n",
    "\n",
    "<center>Is the following recursive function working correctly? It should calculate the number of 1's that represent a given number.</center>"
   ]
  },
  {
   "cell_type": "code",
   "execution_count": 25,
   "id": "ffd31c48",
   "metadata": {
    "slideshow": {
     "slide_type": "fragment"
    }
   },
   "outputs": [],
   "source": [
    "def foo(x):\n",
    "    if not x:\n",
    "        return 1\n",
    "    return 1 + foo(x-1)"
   ]
  },
  {
   "cell_type": "markdown",
   "id": "d74988ba",
   "metadata": {
    "slideshow": {
     "slide_type": "slide"
    }
   },
   "source": [
    "<center><h3 style = 'color:blue'> Checkpoint Solution</h3></center>"
   ]
  },
  {
   "cell_type": "code",
   "execution_count": 27,
   "id": "13d8cdaf",
   "metadata": {
    "slideshow": {
     "slide_type": "fragment"
    }
   },
   "outputs": [
    {
     "data": {
      "text/plain": [
       "11"
      ]
     },
     "execution_count": 27,
     "metadata": {},
     "output_type": "execute_result"
    }
   ],
   "source": [
    "foo(10)"
   ]
  },
  {
   "cell_type": "code",
   "execution_count": 28,
   "id": "e651dfda",
   "metadata": {
    "slideshow": {
     "slide_type": "fragment"
    }
   },
   "outputs": [
    {
     "data": {
      "text/plain": [
       "10"
      ]
     },
     "execution_count": 28,
     "metadata": {},
     "output_type": "execute_result"
    }
   ],
   "source": [
    "def boo(x):\n",
    "    if not x:\n",
    "        return 0\n",
    "    return 1 + boo(x-1)\n",
    "boo(10)"
   ]
  },
  {
   "cell_type": "markdown",
   "id": "6b03f807",
   "metadata": {
    "slideshow": {
     "slide_type": "slide"
    }
   },
   "source": [
    "<center><h3> Practice Questions </h3></center>"
   ]
  },
  {
   "cell_type": "markdown",
   "id": "a632eeba",
   "metadata": {
    "slideshow": {
     "slide_type": "slide"
    }
   },
   "source": [
    "<center><h3>Question 1</h3></center>\n",
    "\n",
    "<center> What is the output?</center>\n",
    "\n",
    "1. apple\n",
    "2. y\n",
    "3. yh\n",
    "4. h"
   ]
  },
  {
   "cell_type": "code",
   "execution_count": 30,
   "id": "eedcaecc",
   "metadata": {
    "slideshow": {
     "slide_type": "fragment"
    }
   },
   "outputs": [],
   "source": [
    "def trace(n):\n",
    "    if n=='':\n",
    "        return 'h'\n",
    "    if n[0] == 'a':\n",
    "        return 'y' + trace(n[1:])\n",
    "    return trace(n[1:])\n",
    "print(trace('apple'))"
   ]
  },
  {
   "cell_type": "markdown",
   "id": "84da6bbc",
   "metadata": {
    "slideshow": {
     "slide_type": "slide"
    }
   },
   "source": [
    "<center><h3>Question 1 Solution</h3></center>"
   ]
  },
  {
   "cell_type": "code",
   "execution_count": 31,
   "id": "bb17e3ee",
   "metadata": {
    "slideshow": {
     "slide_type": "fragment"
    }
   },
   "outputs": [
    {
     "name": "stdout",
     "output_type": "stream",
     "text": [
      "yh\n"
     ]
    }
   ],
   "source": [
    "print(trace('apple'))"
   ]
  },
  {
   "cell_type": "markdown",
   "id": "9bac3502",
   "metadata": {
    "slideshow": {
     "slide_type": "slide"
    }
   },
   "source": [
    "<center><h3>Question 2</h3></center>\n",
    "\n",
    "<center> What is the time complexity of the following code?</center>\n",
    "\n",
    "1. $O(1)$\n",
    "2. $O(logn)$\n",
    "3. $O(n)$\n",
    "4. $O(n^2)$"
   ]
  },
  {
   "cell_type": "code",
   "execution_count": 32,
   "id": "fadb2e86",
   "metadata": {
    "slideshow": {
     "slide_type": "fragment"
    }
   },
   "outputs": [],
   "source": [
    "def mod_10(n):\n",
    "    if n%10 == 0:\n",
    "        return 10\n",
    "    else:\n",
    "        return mod_10(n-1)"
   ]
  },
  {
   "cell_type": "markdown",
   "id": "3fbddb8e",
   "metadata": {
    "slideshow": {
     "slide_type": "slide"
    }
   },
   "source": [
    "<center><h3>Question 2 Solution</h3></center>\n",
    "\n",
    "<center>$O(1)$ - how many times can a number be subtracted before its remainder with 10 is 0?</center>"
   ]
  },
  {
   "cell_type": "markdown",
   "id": "b6c024a6",
   "metadata": {
    "slideshow": {
     "slide_type": "slide"
    }
   },
   "source": [
    "<center><h3>Question 3</h3></center>\n",
    "\n",
    "<center>What does the following recursive code do?</center>"
   ]
  },
  {
   "cell_type": "code",
   "execution_count": 35,
   "id": "160a113e",
   "metadata": {
    "slideshow": {
     "slide_type": "slide"
    }
   },
   "outputs": [],
   "source": [
    "def random(lst): #([1,1,1,2,3,3,4,4,5,1,2])\n",
    "    if not lst:\n",
    "        return []\n",
    "    curr = random(lst[1:]) # [] # [1] # [2,1]\n",
    "    if lst[0] not in curr:\n",
    "        curr.append(lst[0]) #[1] # [2,1] # [1,2,1]\n",
    "    return curr #[2, 1] # [2,1]"
   ]
  },
  {
   "cell_type": "markdown",
   "id": "27e85da1",
   "metadata": {
    "slideshow": {
     "slide_type": "slide"
    }
   },
   "source": [
    "<center><h3>Question 3 Solution</h3></center>"
   ]
  },
  {
   "cell_type": "markdown",
   "id": "766cf6d9",
   "metadata": {
    "slideshow": {
     "slide_type": "fragment"
    }
   },
   "source": [
    "<center> mimics built in set cast method! </center>"
   ]
  },
  {
   "cell_type": "code",
   "execution_count": 2,
   "id": "8ad851cb",
   "metadata": {
    "slideshow": {
     "slide_type": "fragment"
    }
   },
   "outputs": [
    {
     "data": {
      "text/plain": [
       "{1, 2, 3, 4, 5}"
      ]
     },
     "execution_count": 2,
     "metadata": {},
     "output_type": "execute_result"
    }
   ],
   "source": [
    "# random([1,1,1,2,3,3,4,4,5,1,2])\n",
    "set([1,1,1,2,3,3,4,4,5,1,2])"
   ]
  },
  {
   "cell_type": "markdown",
   "id": "481f1c00",
   "metadata": {
    "slideshow": {
     "slide_type": "slide"
    }
   },
   "source": [
    "<center><h3>Question 4</h3></center>\n",
    "\n",
    "<center>What is returned by the following function?</center>"
   ]
  },
  {
   "cell_type": "code",
   "execution_count": 39,
   "id": "1442da28",
   "metadata": {
    "slideshow": {
     "slide_type": "fragment"
    }
   },
   "outputs": [],
   "source": [
    "def foo(x,d,r):\n",
    "    return filter(lambda v: v%d==r, x)\n",
    "foo([1,2,3,4,5,6], 2, 1)"
   ]
  },
  {
   "cell_type": "markdown",
   "id": "c79734fc",
   "metadata": {
    "slideshow": {
     "slide_type": "slide"
    }
   },
   "source": [
    "<center><h3>Question 4 Solution</h3></center>"
   ]
  },
  {
   "cell_type": "code",
   "execution_count": 40,
   "id": "ed767830",
   "metadata": {
    "slideshow": {
     "slide_type": "fragment"
    }
   },
   "outputs": [
    {
     "data": {
      "text/plain": [
       "<filter at 0x7fa8c0037310>"
      ]
     },
     "execution_count": 40,
     "metadata": {},
     "output_type": "execute_result"
    }
   ],
   "source": [
    "foo([1,2,3,4,5,6], 2, 1)"
   ]
  },
  {
   "cell_type": "markdown",
   "id": "258e2068",
   "metadata": {
    "slideshow": {
     "slide_type": "slide"
    }
   },
   "source": [
    "<center><h3>Good luck on midterm 2!</h3></center>"
   ]
  },
  {
   "cell_type": "code",
   "execution_count": null,
   "id": "aecf0425",
   "metadata": {
    "slideshow": {
     "slide_type": "skip"
    }
   },
   "outputs": [],
   "source": []
  }
 ],
 "metadata": {
  "celltoolbar": "Slideshow",
  "kernelspec": {
   "display_name": "Python 3 (ipykernel)",
   "language": "python",
   "name": "python3"
  },
  "language_info": {
   "codemirror_mode": {
    "name": "ipython",
    "version": 3
   },
   "file_extension": ".py",
   "mimetype": "text/x-python",
   "name": "python",
   "nbconvert_exporter": "python",
   "pygments_lexer": "ipython3",
   "version": "3.10.8"
  },
  "rise": {
   "enable_chalkboard": true
  }
 },
 "nbformat": 4,
 "nbformat_minor": 5
}
