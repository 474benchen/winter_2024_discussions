{
 "cells": [
  {
   "cell_type": "markdown",
   "id": "9ac70a89",
   "metadata": {
    "slideshow": {
     "slide_type": "skip"
    }
   },
   "source": [
    "**note**: for anyone trying to view this as a slideshow, run 'pip install rise', reload your notebook, then click on the button that looks like a bar graph to the right of the command palette at the top."
   ]
  },
  {
   "cell_type": "markdown",
   "id": "0aaa7f3e",
   "metadata": {
    "slideshow": {
     "slide_type": "slide"
    }
   },
   "source": [
    "<center><h1>Discussion 2</h1></center>\n",
    "<center><h2>DSC 20, Winter 2024</h2><center>"
   ]
  },
  {
   "cell_type": "markdown",
   "id": "c0998204",
   "metadata": {
    "slideshow": {
     "slide_type": "slide"
    }
   },
   "source": [
    "<center><h2>Meme of the week</h2></center>\n",
    "\n",
    "<center><img src='imgs/meme.png' width=400></center>\n",
    "\n",
    "<center>Courtesy of DALL-E</center>"
   ]
  },
  {
   "cell_type": "markdown",
   "id": "70e9bf69",
   "metadata": {
    "slideshow": {
     "slide_type": "slide"
    }
   },
   "source": [
    "<center><h3>Did you enjoy this week's meme?</h3></center>\n",
    "\n",
    "A. Yes\n",
    "\n",
    "B. No\n",
    "\n",
    "C. What's a meme\n",
    "\n",
    "D. It's pronouncd /mi-mi/ not /mēm/"
   ]
  },
  {
   "cell_type": "markdown",
   "id": "c8f91290",
   "metadata": {
    "slideshow": {
     "slide_type": "slide"
    }
   },
   "source": [
    "<center><h2>Agenda</h2></center>\n",
    "<ul>\n",
    "    <li> imports </li>\n",
    "    <li> escape character / following style\n",
    "    <li> <b>Content</b> </li>\n",
    "    <ul>\n",
    "        <li> loops\n",
    "        <li> Mutability\n",
    "        <li> lists, tuples, sets\n",
    "        <li> in-place vs not\n",
    "        <li> Indexing\n",
    "        <li> List Methods\n",
    "        <li> String Methods\n",
    "        <li> Dictionaries\n",
    "    </ul>\n",
    "    <li> Practice Questions </li>\n",
    "</ul>"
   ]
  },
  {
   "cell_type": "markdown",
   "id": "f3b3c9e7",
   "metadata": {
    "slideshow": {
     "slide_type": "slide"
    }
   },
   "source": [
    "<center><h2> About Imports </h2></center>\n",
    "\n",
    "<center>\"import\" is another special keyword in python that has a unique function - it makes code from one body available in another. This can be something like a function from a different file or a whole package (ex. Pandas)</center>\n",
    "\n",
    "- We \"ban\" import in this class because many packages are too powerful (and out of the scope of this course)\n",
    "    - ex. If we asked you to calculate Mean Squared Error on a dataset, you could just import a package for it\n",
    "- When an import is necessary, we will explicitly import the package/module for you in the starter\n",
    "\n",
    "<center> Packages are powerful tools that you'll be using nonstop after this class, but for now they are a whole different beast that you will have to deal with later. </center>"
   ]
  },
  {
   "cell_type": "code",
   "execution_count": 7,
   "id": "3514f637",
   "metadata": {
    "slideshow": {
     "slide_type": "slide"
    }
   },
   "outputs": [
    {
     "data": {
      "text/plain": [
       "0.21606"
      ]
     },
     "execution_count": 7,
     "metadata": {},
     "output_type": "execute_result"
    }
   ],
   "source": [
    "def MSE(y_1, y_2):\n",
    "    sq_error = [(y_2[i] - y_1[i])**2 for i in range(len(y_1))]\n",
    "    return sum(sq_error) / len(y_1)\n",
    "MSE([1,1,2,2,4], [0.6,1.29,1.99,2.69,3.4])"
   ]
  },
  {
   "cell_type": "code",
   "execution_count": 8,
   "id": "c30b6ed8",
   "metadata": {
    "slideshow": {
     "slide_type": "fragment"
    }
   },
   "outputs": [
    {
     "data": {
      "text/plain": [
       "0.21606"
      ]
     },
     "execution_count": 8,
     "metadata": {},
     "output_type": "execute_result"
    }
   ],
   "source": [
    "from sklearn.metrics import mean_squared_error\n",
    "mean_squared_error([1,1,2,2,4], [0.6,1.29,1.99,2.69,3.4])"
   ]
  },
  {
   "cell_type": "markdown",
   "id": "2b188a09",
   "metadata": {
    "slideshow": {
     "slide_type": "slide"
    }
   },
   "source": [
    "<center><h2> Escape Character / Following Style </h2></center>\n",
    "\n",
    "- \\ is the escape \"operator\"\n",
    "- bypasses the next character for some functionality"
   ]
  },
  {
   "cell_type": "code",
   "execution_count": 13,
   "id": "b165dc0b",
   "metadata": {
    "slideshow": {
     "slide_type": "fragment"
    }
   },
   "outputs": [
    {
     "name": "stdout",
     "output_type": "stream",
     "text": [
      "a \n",
      "b\n"
     ]
    }
   ],
   "source": [
    "# instead of n being printed, using \\ changed it to \"newline character\"\n",
    "print('a \\nb')"
   ]
  },
  {
   "cell_type": "markdown",
   "id": "7e360144",
   "metadata": {
    "slideshow": {
     "slide_type": "fragment"
    }
   },
   "source": [
    "<center> If I have a line of code that is way too long, I can use the escape character to retain functionality while reducing making it more readable </center>"
   ]
  },
  {
   "cell_type": "code",
   "execution_count": 28,
   "id": "ecaa1b4f",
   "metadata": {
    "slideshow": {
     "slide_type": "fragment"
    }
   },
   "outputs": [
    {
     "data": {
      "text/plain": [
       "0.12"
      ]
     },
     "execution_count": 28,
     "metadata": {},
     "output_type": "execute_result"
    }
   ],
   "source": [
    "import math\n",
    "x,y,z = 1,2,3\n",
    "round(abs(((x ** 2) + (2 * y) - (3 * z)) / (math.sqrt(x) + math.exp(y) * math.log(z)) * (math.sin(x) + math.cos(y) + math.tan(z))), 2)"
   ]
  },
  {
   "cell_type": "code",
   "execution_count": 29,
   "id": "009c27c9",
   "metadata": {
    "slideshow": {
     "slide_type": "fragment"
    }
   },
   "outputs": [
    {
     "data": {
      "text/plain": [
       "0.12"
      ]
     },
     "execution_count": 29,
     "metadata": {},
     "output_type": "execute_result"
    }
   ],
   "source": [
    "round(abs(((x ** 2) + (2 * y) - (3 * z)) / \\\n",
    "          (math.sqrt(x) + math.exp(y) * math.log(z)) * \\\n",
    "          (math.sin(x) + math.cos(y) + math.tan(z))), 2)"
   ]
  },
  {
   "cell_type": "markdown",
   "id": "ed3bd04c",
   "metadata": {
    "slideshow": {
     "slide_type": "slide"
    }
   },
   "source": [
    "<center><h2>doctest output lengths</h2></center>"
   ]
  },
  {
   "cell_type": "code",
   "execution_count": 1,
   "id": "118ad48f",
   "metadata": {
    "slideshow": {
     "slide_type": "fragment"
    }
   },
   "outputs": [],
   "source": [
    "def some_function(x):\n",
    "    \"\"\"\n",
    "    >>> some_function('marina langlois')\n",
    "    'marina langloismarina langloismarina langloismarina langloismarina langlois'\n",
    "    \"\"\"\n",
    "    return x*5"
   ]
  },
  {
   "cell_type": "code",
   "execution_count": null,
   "id": "8bc47e32",
   "metadata": {
    "slideshow": {
     "slide_type": "fragment"
    }
   },
   "outputs": [],
   "source": [
    "def some_function(x):\n",
    "    \"\"\"\n",
    "    >>> some_function('marina langlois')\n",
    "    'marina langloismarina langloismarina \\\n",
    "    langloismarina langloismarina langlois'\n",
    "    \"\"\"\n",
    "    return x*5"
   ]
  },
  {
   "cell_type": "code",
   "execution_count": null,
   "id": "611e155f",
   "metadata": {
    "slideshow": {
     "slide_type": "fragment"
    }
   },
   "outputs": [],
   "source": [
    "# The correct one!\n",
    "def some_function(x):\n",
    "    \"\"\"\n",
    "    >>> some_function('marina langlois')\n",
    "    'marina langloismarina langloismarina \\\n",
    "langloismarina langloismarina langlois'\n",
    "    \"\"\"\n",
    "    return x*5"
   ]
  },
  {
   "cell_type": "markdown",
   "id": "c27b42c9",
   "metadata": {
    "slideshow": {
     "slide_type": "slide"
    }
   },
   "source": [
    "<center><h2> Content</h2></center>"
   ]
  },
  {
   "cell_type": "markdown",
   "id": "a10a84c4",
   "metadata": {
    "slideshow": {
     "slide_type": "slide"
    }
   },
   "source": [
    "<center> <h3>Loops</h3> </center>\n",
    "\n",
    "<center>Loops are used to <b style = 'color:blue'>repeat computations</b> many times.</center>\n",
    "\n",
    "- Two types of loops:\n",
    "    - <mark style= \"color:blue; background-color: white\" >While loop</mark>: Uses  logical conditions, useful for when the number of iterations is unknown (as long as a condition is true, code will run).\n",
    "    - <mark style= \"color:blue; background-color: white\" >For loop </mark>: Uses an iterable object (ex. list), usually for when the number repetition is known."
   ]
  },
  {
   "cell_type": "code",
   "execution_count": null,
   "id": "09df7d64",
   "metadata": {
    "slideshow": {
     "slide_type": "fragment"
    }
   },
   "outputs": [],
   "source": [
    "while x is True: # watch out for infinite loop!\n",
    "    # do something\n",
    "for value in x:\n",
    "    # do something"
   ]
  },
  {
   "cell_type": "markdown",
   "id": "f4a58656",
   "metadata": {
    "slideshow": {
     "slide_type": "slide"
    }
   },
   "source": [
    "<center> <h3>Lists, Tuples, Sets</h3> </center>\n",
    "\n",
    "<u>List</u>\n",
    "- Mutable vector of values\n",
    "- Can store any data type, multiple types at a time\n",
    "- Elements are acccessed via indexing\n",
    "\n",
    "<u>Tuple</u>\n",
    "- <b>Immutable</b> vector of values\n",
    "- all else equal to list\n",
    "\n",
    "<u>Set</u>\n",
    "- Mutable vector of values\n",
    "- Only stores unique elements (removes duplicates)\n",
    "- otherwise, list like behavior"
   ]
  },
  {
   "cell_type": "code",
   "execution_count": 3,
   "id": "d1ac69f0",
   "metadata": {
    "slideshow": {
     "slide_type": "fragment"
    }
   },
   "outputs": [],
   "source": [
    "to_5_list = [1,2,3,4,5]\n",
    "to_5_tup = (1,2,3,4,5)\n",
    "to_5_set = {1,2,3,4,5}"
   ]
  },
  {
   "cell_type": "markdown",
   "id": "ff56a08a",
   "metadata": {
    "slideshow": {
     "slide_type": "slide"
    }
   },
   "source": [
    "<center> <h3>Mutability</h3> </center>\n",
    "\n",
    "<ul>\n",
    "    <li> Object is mutable if it can be directly changed after it is created\n",
    "    <li> If it can't, it is immutable\n",
    "    <li> Lists are <b style='color:blue'>mutable</b>\n",
    "    <li> strings, tuples, and numbers are <b style='color:red'>immutable</b>\n",
    "</ul>"
   ]
  },
  {
   "cell_type": "code",
   "execution_count": 1,
   "id": "85b6ca27",
   "metadata": {
    "slideshow": {
     "slide_type": "slide"
    }
   },
   "outputs": [
    {
     "ename": "TypeError",
     "evalue": "'str' object does not support item assignment",
     "output_type": "error",
     "traceback": [
      "\u001b[0;31m---------------------------------------------------------------------------\u001b[0m",
      "\u001b[0;31mTypeError\u001b[0m                                 Traceback (most recent call last)",
      "Cell \u001b[0;32mIn[1], line 2\u001b[0m\n\u001b[1;32m      1\u001b[0m test_str \u001b[38;5;241m=\u001b[39m \u001b[38;5;124m'\u001b[39m\u001b[38;5;124mDSC20\u001b[39m\u001b[38;5;124m'\u001b[39m\n\u001b[0;32m----> 2\u001b[0m \u001b[43mtest_str\u001b[49m\u001b[43m[\u001b[49m\u001b[38;5;241;43m-\u001b[39;49m\u001b[38;5;241;43m2\u001b[39;49m\u001b[43m]\u001b[49m \u001b[38;5;241m=\u001b[39m \u001b[38;5;124m'\u001b[39m\u001b[38;5;124m3\u001b[39m\u001b[38;5;124m'\u001b[39m\n\u001b[1;32m      3\u001b[0m test_str\n",
      "\u001b[0;31mTypeError\u001b[0m: 'str' object does not support item assignment"
     ]
    }
   ],
   "source": [
    "test_str = 'DSC20'\n",
    "test_str[-2] = '3'\n",
    "test_str"
   ]
  },
  {
   "cell_type": "code",
   "execution_count": 2,
   "id": "cfe6e23e",
   "metadata": {
    "slideshow": {
     "slide_type": "fragment"
    }
   },
   "outputs": [
    {
     "data": {
      "text/plain": [
       "['D', 'S', 'C', '3', '0']"
      ]
     },
     "execution_count": 2,
     "metadata": {},
     "output_type": "execute_result"
    }
   ],
   "source": [
    "test_lst = ['D','S','C','2','0']\n",
    "test_lst[-2] = '3'\n",
    "test_lst"
   ]
  },
  {
   "cell_type": "markdown",
   "id": "99893d83",
   "metadata": {
    "slideshow": {
     "slide_type": "slide"
    }
   },
   "source": [
    "<center><h3>Indexing/Slicing</h3></center>\n",
    "\n",
    "<center> Indexing/slicing refers to accessing specific element(s) from an iterable object. Two of the most common cases for this are lists and strings. Indexing results in a copy (unless reasssigned)!</center>\n",
    "\n",
    "- iterable[start:stop:skip] (start:inclusive, stop: NOT inclusive)\n",
    "- not every section needs to be specified (can just use start or stop or skip)\n",
    "- sub indexes can be applied (ex. lst[0][0] -> takes the first element of the first element)\n",
    "- Trying to access an index that doesn't exist in the list will result in an error"
   ]
  },
  {
   "cell_type": "code",
   "execution_count": 2,
   "id": "4dcb9070",
   "metadata": {
    "slideshow": {
     "slide_type": "fragment"
    }
   },
   "outputs": [
    {
     "name": "stdout",
     "output_type": "stream",
     "text": [
      "original list: [2, 3, 4, 5, 6, 7, 8, 9, 10, 11, 12]\n",
      "reversed list: [12, 11, 10, 9, 8, 7, 6, 5, 4, 3, 2]\n",
      "the 2nd to 4th element: [4, 5]\n",
      "every third element from the 1st to 10th element: [3, 6, 9]\n",
      "If I try to slice outside of range: [2, 3, 4, 5, 6, 7, 8, 9, 10, 11, 12]\n"
     ]
    }
   ],
   "source": [
    "lst = list(range(2,13))\n",
    "print(\"original list: \" + str(lst))\n",
    "print(\"reversed list: \" + str(lst[::-1]))\n",
    "print(\"the 2nd to 4th element: \" + str(lst[2:4]))\n",
    "print(\"every third element from the 1st to 10th element: \" + str(lst[1:10:3]))\n",
    "print(\"If I try to slice outside of range: \" + str(lst[-100:100]))"
   ]
  },
  {
   "cell_type": "markdown",
   "id": "63d7978f",
   "metadata": {
    "slideshow": {
     "slide_type": "slide"
    }
   },
   "source": [
    "<center><h3>in-place operations</h3></center>\n",
    "\n",
    "<center>Before we start exploring functions, it's important to understand what in-place operations are.</center>\n",
    "<br>\n",
    "\n",
    "<center><b style='color:blue'>Definition</b>: an operation is in-place if the result occurs directly on the original object, rather than a copy. Many in-place functions return None for an output. </center>\n",
    "<br>\n",
    "\n",
    "<center>What does this actually mean?\n",
    "The result of a not in-place function is a copy, the original object is not modified and the result has to be assigned to a variable to be retained. In-place functions modify the actual object passed in. </center>"
   ]
  },
  {
   "cell_type": "code",
   "execution_count": 25,
   "id": "8595d0aa",
   "metadata": {
    "slideshow": {
     "slide_type": "slide"
    }
   },
   "outputs": [
    {
     "name": "stdout",
     "output_type": "stream",
     "text": [
      "This result is temporary - unless I reassign lst to it, lst is not modified: [1, 2, 3, 4, 5, 6]\n",
      "lst's current state: [1, 2, 3, 4, 5]\n",
      "the reassigned lst -> lst_new[1, 2, 3, 4, 5, 6]\n"
     ]
    }
   ],
   "source": [
    "lst = [1,2,3,4,5]\n",
    "print('This result is temporary - unless I reassign \\\n",
    "lst to it, lst is not modified: ' + str(lst + [6]))\n",
    "print(\"lst's current state: \" + str(lst))\n",
    "lst_new = lst + [6] # reassigning the result retains the output\n",
    "print(\"the reassigned lst -> lst_new\" + str(lst_new))"
   ]
  },
  {
   "cell_type": "code",
   "execution_count": 21,
   "id": "7a5c61c3",
   "metadata": {
    "slideshow": {
     "slide_type": "fragment"
    }
   },
   "outputs": [
    {
     "name": "stdout",
     "output_type": "stream",
     "text": [
      "The result of .append() is: None\n",
      "but we can see that the original lst is modified: [1, 2, 3, 4, 5, 6]\n"
     ]
    }
   ],
   "source": [
    "lst = [1,2,3,4,5] # compare that to .append\n",
    "print(\"The result of .append() is: \" + str(lst.append(6))) # .append() is inplace\n",
    "print(\"but we can see that the original lst is modified: \" + str(lst))"
   ]
  },
  {
   "cell_type": "markdown",
   "id": "30ecf6d7",
   "metadata": {
    "slideshow": {
     "slide_type": "slide"
    }
   },
   "source": [
    "<center><h3>List Methods</h3></center>\n",
    "\n",
    "- list.pop(index) -> removes the element at index. in-place operation; returns the value removed\n",
    "\n",
    "- list.append(element) -> adds the element to the end of the list. in-place operation\n",
    "\n",
    "- list.sort() -> sorts the list (as name implies). Can specify ascending or descending"
   ]
  },
  {
   "cell_type": "code",
   "execution_count": 13,
   "id": "4725426d",
   "metadata": {
    "slideshow": {
     "slide_type": "fragment"
    }
   },
   "outputs": [
    {
     "name": "stdout",
     "output_type": "stream",
     "text": [
      "result of pop first element: 5\n",
      "after appending 19: [4, 3, 2, 1, 0, 0, 19]\n",
      "after sorting list: [0, 0, 1, 2, 3, 4, 19]\n"
     ]
    }
   ],
   "source": [
    "lst = [5,4,3,2,1,0,0]\n",
    "print(\"result of pop first element: \" + str(lst.pop(0)))\n",
    "lst.append(19)\n",
    "print(\"after appending 19: \"+ str(lst))\n",
    "lst.sort()\n",
    "print(\"after sorting list: \" + str(lst))"
   ]
  },
  {
   "cell_type": "markdown",
   "id": "726260cf",
   "metadata": {
    "slideshow": {
     "slide_type": "slide"
    }
   },
   "source": [
    "<center><h3 style = 'color:blue'> Checkpoint </h3></center>\n",
    "\n",
    "<center>Assume the following code has been ran:</center>"
   ]
  },
  {
   "cell_type": "code",
   "execution_count": 5,
   "id": "30ad8e7f",
   "metadata": {
    "slideshow": {
     "slide_type": "fragment"
    }
   },
   "outputs": [],
   "source": [
    "lst = [10, [12,13,11,10], (2,3,10,4), [4,6, 10, [10,11]], 1]"
   ]
  },
  {
   "cell_type": "markdown",
   "id": "9861a617",
   "metadata": {
    "slideshow": {
     "slide_type": "fragment"
    }
   },
   "source": [
    "<center>Which statement will extract 10 from the list? Select any that apply.</center>\n",
    "\n",
    "A. lst[-1]\n",
    "\n",
    "B. lst[1][-1]\n",
    "\n",
    "C. lst[2][3]\n",
    "\n",
    "D. lst[-2][-1][0]\n"
   ]
  },
  {
   "cell_type": "markdown",
   "id": "f71d8637",
   "metadata": {
    "slideshow": {
     "slide_type": "slide"
    }
   },
   "source": [
    "<center><h3 style = 'color:blue'> Checkpoint Solution </h3></center>"
   ]
  },
  {
   "cell_type": "code",
   "execution_count": 6,
   "id": "4028a479",
   "metadata": {
    "slideshow": {
     "slide_type": "fragment"
    }
   },
   "outputs": [
    {
     "name": "stdout",
     "output_type": "stream",
     "text": [
      "1\n",
      "10\n",
      "4\n",
      "10\n"
     ]
    }
   ],
   "source": [
    "print(lst[-1])\n",
    "print(lst[1][-1])\n",
    "print(lst[2][3])\n",
    "print(lst[-2][-1][0])"
   ]
  },
  {
   "cell_type": "markdown",
   "id": "f705a269",
   "metadata": {
    "slideshow": {
     "slide_type": "slide"
    }
   },
   "source": [
    "<center><h3>String Methods</h3></center>\n",
    "\n",
    "- string.split(separator) -> splits a string into a list of elements on each separator\n",
    "\n",
    "- \"[string]\".join(iterable) -> returns the iterable \"joined\" with the [string] in between each element\n",
    "\n",
    "- string.lower()/string.upper() -> lowers/uppers all elements in a string\n",
    "\n",
    "- string.strip() -> removes whitespace from beginning and end of the string"
   ]
  },
  {
   "cell_type": "code",
   "execution_count": 14,
   "id": "7c4c8096",
   "metadata": {
    "slideshow": {
     "slide_type": "fragment"
    }
   },
   "outputs": [
    {
     "name": "stdout",
     "output_type": "stream",
     "text": [
      "['Professor', 'Marina', 'Langlois']\n",
      "Professor-Marina-Langlois\n",
      "PROFESSOR MARINA LANGLOIS\n"
     ]
    }
   ],
   "source": [
    "string = \"Professor Marina Langlois\"\n",
    "print(string.split())\n",
    "print('-'.join(string.split()))\n",
    "print(string.upper())"
   ]
  },
  {
   "cell_type": "markdown",
   "id": "f6fbdcc6",
   "metadata": {
    "slideshow": {
     "slide_type": "slide"
    }
   },
   "source": [
    "<center><h3 style = 'color:blue'> Checkpoint </h3></center>\n",
    "\n",
    "<center>Assume the following code has been ran:</center>"
   ]
  },
  {
   "cell_type": "code",
   "execution_count": 4,
   "id": "1a7884dc",
   "metadata": {
    "slideshow": {
     "slide_type": "fragment"
    }
   },
   "outputs": [],
   "source": [
    "statement = \"Marina Langlois is the best DSC20 professor ever.\"\n",
    "temp = ' '.join(statement.split())"
   ]
  },
  {
   "cell_type": "markdown",
   "id": "d3696155",
   "metadata": {
    "slideshow": {
     "slide_type": "fragment"
    }
   },
   "source": [
    "<center>Is the following statement True or False? temp is equal to statement</center>\n",
    "\n",
    "A. True\n",
    "\n",
    "B. False"
   ]
  },
  {
   "cell_type": "markdown",
   "id": "ded32790",
   "metadata": {
    "slideshow": {
     "slide_type": "slide"
    }
   },
   "source": [
    "<center><h3 style = 'color:blue'> Checkpoint Solution </h3></center>"
   ]
  },
  {
   "cell_type": "code",
   "execution_count": 5,
   "id": "9376ac26",
   "metadata": {
    "slideshow": {
     "slide_type": "fragment"
    }
   },
   "outputs": [
    {
     "data": {
      "text/plain": [
       "'Marina Langlois is the best DSC20 professor ever.'"
      ]
     },
     "execution_count": 5,
     "metadata": {},
     "output_type": "execute_result"
    }
   ],
   "source": [
    "temp"
   ]
  },
  {
   "cell_type": "code",
   "execution_count": 6,
   "id": "1ed6a13e",
   "metadata": {
    "slideshow": {
     "slide_type": "fragment"
    }
   },
   "outputs": [
    {
     "data": {
      "text/plain": [
       "'Marina Langlois is the best DSC20 professor ever.'"
      ]
     },
     "execution_count": 6,
     "metadata": {},
     "output_type": "execute_result"
    }
   ],
   "source": [
    "statement"
   ]
  },
  {
   "cell_type": "code",
   "execution_count": 7,
   "id": "05556b50",
   "metadata": {
    "slideshow": {
     "slide_type": "fragment"
    }
   },
   "outputs": [
    {
     "data": {
      "text/plain": [
       "True"
      ]
     },
     "execution_count": 7,
     "metadata": {},
     "output_type": "execute_result"
    }
   ],
   "source": [
    "temp == statement"
   ]
  },
  {
   "cell_type": "markdown",
   "id": "0ec08d50",
   "metadata": {
    "slideshow": {
     "slide_type": "slide"
    }
   },
   "source": [
    "<center><h3> Dictionaries </h3></center>\n",
    "<ul>\n",
    "    <li> Mutable storage of key, value pairs\n",
    "    <li> Can store any data type, multiple at a time\n",
    "    <li> Elements are acccessed via keys\n",
    "    <li> keys must be <b style = 'color:blue'>hashable</b> and <b style = 'color:blue'>unique</b>\n",
    "</ul>\n",
    "\n",
    "<u> methods </u>\n",
    "- accessing keys (as a list) -> dict.keys()\n",
    "- accessing values (as a list) -> dict.values()\n",
    "- accessing key,value pairs (as a list of tuples) -> dict.items()\n",
    "\n",
    "<center>\n",
    "<b style = 'color:blue'>note</b>: hashablility correlates to the stability of the data - essentially, <b>data that <b style = 'color:blue'>can't</b> change is hashable</b> (int, str, tuple, etc.) while <b>data that <b style = 'color:blue'>can</b> change is not hashable (list, dictionary). Basically, it's all about mutability!</b> </center>"
   ]
  },
  {
   "cell_type": "code",
   "execution_count": 6,
   "id": "ed900092",
   "metadata": {
    "slideshow": {
     "slide_type": "slide"
    }
   },
   "outputs": [],
   "source": [
    "temp = {}"
   ]
  },
  {
   "cell_type": "code",
   "execution_count": 7,
   "id": "84de947d",
   "metadata": {
    "slideshow": {
     "slide_type": "fragment"
    }
   },
   "outputs": [],
   "source": [
    "temp['marina langlois'] = 1"
   ]
  },
  {
   "cell_type": "code",
   "execution_count": 5,
   "id": "8f3422fe",
   "metadata": {
    "slideshow": {
     "slide_type": "fragment"
    }
   },
   "outputs": [
    {
     "data": {
      "text/plain": [
       "2102949250031902339"
      ]
     },
     "execution_count": 5,
     "metadata": {},
     "output_type": "execute_result"
    }
   ],
   "source": [
    "hash('marina langlois')"
   ]
  },
  {
   "cell_type": "code",
   "execution_count": 6,
   "id": "26fa807e",
   "metadata": {
    "slideshow": {
     "slide_type": "fragment"
    }
   },
   "outputs": [
    {
     "ename": "TypeError",
     "evalue": "unhashable type: 'list'",
     "output_type": "error",
     "traceback": [
      "\u001b[0;31m---------------------------------------------------------------------------\u001b[0m",
      "\u001b[0;31mTypeError\u001b[0m                                 Traceback (most recent call last)",
      "Cell \u001b[0;32mIn[6], line 1\u001b[0m\n\u001b[0;32m----> 1\u001b[0m \u001b[43mtemp\u001b[49m\u001b[43m[\u001b[49m\u001b[43m[\u001b[49m\u001b[38;5;241;43m1\u001b[39;49m\u001b[43m,\u001b[49m\u001b[38;5;241;43m2\u001b[39;49m\u001b[43m,\u001b[49m\u001b[38;5;241;43m3\u001b[39;49m\u001b[43m]\u001b[49m\u001b[43m]\u001b[49m \u001b[38;5;241m=\u001b[39m \u001b[38;5;241m2\u001b[39m\n",
      "\u001b[0;31mTypeError\u001b[0m: unhashable type: 'list'"
     ]
    }
   ],
   "source": [
    "temp[[1,2,3]] = 2"
   ]
  },
  {
   "cell_type": "code",
   "execution_count": 2,
   "id": "2ab68e90",
   "metadata": {
    "slideshow": {
     "slide_type": "fragment"
    }
   },
   "outputs": [
    {
     "ename": "TypeError",
     "evalue": "unhashable type: 'list'",
     "output_type": "error",
     "traceback": [
      "\u001b[0;31m---------------------------------------------------------------------------\u001b[0m",
      "\u001b[0;31mTypeError\u001b[0m                                 Traceback (most recent call last)",
      "Cell \u001b[0;32mIn[2], line 1\u001b[0m\n\u001b[0;32m----> 1\u001b[0m \u001b[38;5;28;43mhash\u001b[39;49m\u001b[43m(\u001b[49m\u001b[43m[\u001b[49m\u001b[38;5;241;43m1\u001b[39;49m\u001b[43m,\u001b[49m\u001b[38;5;241;43m2\u001b[39;49m\u001b[43m,\u001b[49m\u001b[38;5;241;43m3\u001b[39;49m\u001b[43m]\u001b[49m\u001b[43m)\u001b[49m\n",
      "\u001b[0;31mTypeError\u001b[0m: unhashable type: 'list'"
     ]
    }
   ],
   "source": [
    "hash([1,2,3])"
   ]
  },
  {
   "cell_type": "code",
   "execution_count": 16,
   "id": "c7801feb",
   "metadata": {
    "slideshow": {
     "slide_type": "fragment"
    }
   },
   "outputs": [
    {
     "data": {
      "text/plain": [
       "'marina langlois'"
      ]
     },
     "execution_count": 16,
     "metadata": {},
     "output_type": "execute_result"
    }
   ],
   "source": [
    "list(temp.keys())[0]"
   ]
  },
  {
   "cell_type": "markdown",
   "id": "d81caa9a",
   "metadata": {
    "slideshow": {
     "slide_type": "slide"
    }
   },
   "source": [
    "<center><h3 style = 'color:blue'> Checkpoint </h3></center>\n",
    "\n",
    "<center>Assume the following code has been ran:</center>"
   ]
  },
  {
   "cell_type": "code",
   "execution_count": 8,
   "id": "0d2e9a1a",
   "metadata": {
    "slideshow": {
     "slide_type": "fragment"
    }
   },
   "outputs": [],
   "source": [
    "dct = {\"nikki\":\"nikki\", ('a','b','c'):[1,2,3], 'max':'nikki'}"
   ]
  },
  {
   "cell_type": "markdown",
   "id": "cde60540",
   "metadata": {
    "slideshow": {
     "slide_type": "fragment"
    }
   },
   "source": [
    "<center>Which of the following statements will extract \"nikki\" from the dictionary? Select any that apply.</center>\n",
    "\n",
    "A. dct.items()[0][1]\n",
    "\n",
    "B. dct.keys[0]\n",
    "\n",
    "C. list(dct.values())[-1]\n",
    "\n",
    "D. dct['max']"
   ]
  },
  {
   "cell_type": "markdown",
   "id": "44d0e5b6",
   "metadata": {
    "slideshow": {
     "slide_type": "slide"
    }
   },
   "source": [
    "<center><h3 style = 'color:blue'> Checkpoint Solution </h3></center>"
   ]
  },
  {
   "cell_type": "code",
   "execution_count": 9,
   "id": "f5c63567",
   "metadata": {
    "slideshow": {
     "slide_type": "fragment"
    }
   },
   "outputs": [
    {
     "name": "stdout",
     "output_type": "stream",
     "text": [
      "nikki\n",
      "nikki\n"
     ]
    }
   ],
   "source": [
    "print(list(dct.values())[-1])\n",
    "print(dct['max'])"
   ]
  },
  {
   "cell_type": "code",
   "execution_count": 10,
   "id": "31baacc1",
   "metadata": {
    "slideshow": {
     "slide_type": "fragment"
    }
   },
   "outputs": [
    {
     "ename": "TypeError",
     "evalue": "'dict_items' object is not subscriptable",
     "output_type": "error",
     "traceback": [
      "\u001b[0;31m---------------------------------------------------------------------------\u001b[0m",
      "\u001b[0;31mTypeError\u001b[0m                                 Traceback (most recent call last)",
      "Cell \u001b[0;32mIn[10], line 1\u001b[0m\n\u001b[0;32m----> 1\u001b[0m \u001b[43mdct\u001b[49m\u001b[38;5;241;43m.\u001b[39;49m\u001b[43mitems\u001b[49m\u001b[43m(\u001b[49m\u001b[43m)\u001b[49m\u001b[43m[\u001b[49m\u001b[38;5;241;43m0\u001b[39;49m\u001b[43m]\u001b[49m[\u001b[38;5;241m1\u001b[39m]\n",
      "\u001b[0;31mTypeError\u001b[0m: 'dict_items' object is not subscriptable"
     ]
    }
   ],
   "source": [
    "dct.items()[0][1]"
   ]
  },
  {
   "cell_type": "code",
   "execution_count": 11,
   "id": "e770a8fa",
   "metadata": {
    "slideshow": {
     "slide_type": "fragment"
    }
   },
   "outputs": [
    {
     "ename": "TypeError",
     "evalue": "'dict_keys' object is not subscriptable",
     "output_type": "error",
     "traceback": [
      "\u001b[0;31m---------------------------------------------------------------------------\u001b[0m",
      "\u001b[0;31mTypeError\u001b[0m                                 Traceback (most recent call last)",
      "Cell \u001b[0;32mIn[11], line 1\u001b[0m\n\u001b[0;32m----> 1\u001b[0m \u001b[43mdct\u001b[49m\u001b[38;5;241;43m.\u001b[39;49m\u001b[43mkeys\u001b[49m\u001b[43m(\u001b[49m\u001b[43m)\u001b[49m\u001b[43m[\u001b[49m\u001b[38;5;241;43m0\u001b[39;49m\u001b[43m]\u001b[49m\n",
      "\u001b[0;31mTypeError\u001b[0m: 'dict_keys' object is not subscriptable"
     ]
    }
   ],
   "source": [
    "dct.keys()[0]"
   ]
  },
  {
   "cell_type": "code",
   "execution_count": 15,
   "id": "5b3be9f1",
   "metadata": {
    "slideshow": {
     "slide_type": "fragment"
    }
   },
   "outputs": [
    {
     "data": {
      "text/plain": [
       "dict_keys(['nikki', ('a', 'b', 'c'), 'max'])"
      ]
     },
     "execution_count": 15,
     "metadata": {},
     "output_type": "execute_result"
    }
   ],
   "source": [
    "dct.keys()"
   ]
  },
  {
   "cell_type": "markdown",
   "id": "b40a280b",
   "metadata": {
    "slideshow": {
     "slide_type": "slide"
    }
   },
   "source": [
    "<center><h2>practice questions</h2></center>\n",
    "<br>\n",
    "<center>Time to do some practice questions! Take about 10-15 minutes to work on the questions. Feel free to flag me down if you need help/clarification.</center>\n",
    "<br>\n",
    "<center>Make sure to handwrite! This is practice for your own sake.</center>\n",
    "<br>\n",
    "<center>YOU MAY KEEP YOUR WORKSHEETS!!</center>"
   ]
  },
  {
   "cell_type": "code",
   "execution_count": 48,
   "id": "f15ea8c1",
   "metadata": {
    "slideshow": {
     "slide_type": "skip"
    }
   },
   "outputs": [],
   "source": [
    "def power(x, a):\n",
    "    \"\"\"\n",
    "    Write a function that calculates x^a.\n",
    "    Assume both x and a are positive numbers.\n",
    "    You may not use the in-built power operator.\n",
    "    \n",
    "    >>> power(2, 4)\n",
    "    16\n",
    "    >>> power(9,2)\n",
    "    81\n",
    "    \"\"\"\n",
    "    # Write your implementation here\n",
    "    \n",
    "def yield_even_palindromes(lst):\n",
    "    \"\"\"\n",
    "    Write a function that returns the strings at even indices\n",
    "    that are also palindromes. Palindromes are words that are\n",
    "    the same spelled backwards.\n",
    "    \n",
    "    >>> yield_even_palindromes(['121', '232', '01', '443'])\n",
    "    ['121']\n",
    "    >>> yield_even_palindromes(['racecar', '0', '0', '1'])\n",
    "    ['racecar', '0']\n",
    "    \"\"\"\n",
    "    # Write your implementation here\n",
    "\n",
    "def strictly_increasing(lst):\n",
    "    \"\"\"\n",
    "    Write a function that takes in a list of integers and \n",
    "    returns a new list containing only the numbers that are\n",
    "    in increasing order. Numbers should appear in the same \n",
    "    order in the input and output list.\n",
    "    \n",
    "    >>> increasing([1, 3, 2, 4, 5, 8, 7, 6, 9])\n",
    "    [1, 3, 4, 5, 8, 9]\n",
    "    \"\"\"\n",
    "    # Write your implementation here\n",
    "    \n",
    "def process_string(word):\n",
    "    \"\"\"\n",
    "    Write a function that takes in a string and returns\n",
    "    the first 3 characters if its length is odd and\n",
    "    decomposes the string as a list of characters otherwise.\n",
    "    \n",
    "    >>> process_string('abcde')\n",
    "    'abc'\n",
    "    >>> process_string('nicole')\n",
    "    ['n', 'i', 'c', 'o', 'l', 'e']\n",
    "    \"\"\"\n",
    "    # Write your implementation here"
   ]
  },
  {
   "cell_type": "markdown",
   "id": "fb1e47a3",
   "metadata": {
    "slideshow": {
     "slide_type": "slide"
    }
   },
   "source": [
    "<center><h2>practice question solutions</h2></center>"
   ]
  },
  {
   "cell_type": "code",
   "execution_count": 42,
   "id": "9bb8ab82",
   "metadata": {
    "slideshow": {
     "slide_type": "slide"
    }
   },
   "outputs": [
    {
     "name": "stdout",
     "output_type": "stream",
     "text": [
      "16\n",
      "81\n"
     ]
    }
   ],
   "source": [
    "def power(x, a):\n",
    "    \"\"\"\n",
    "    Write a function that calculates x^a.\n",
    "    Assume both x and a are positive numbers.\n",
    "    You may not use the in-built power operator.\n",
    "    \n",
    "    >>> power(2, 4)\n",
    "    16\n",
    "    >>> power(9,2)\n",
    "    81\n",
    "    \"\"\"\n",
    "    output = 1\n",
    "    while a > 0:\n",
    "        output *= x\n",
    "        a-=1\n",
    "    return output\n",
    "print(power(2, 4))\n",
    "print(power(9,2))"
   ]
  },
  {
   "cell_type": "code",
   "execution_count": 44,
   "id": "740301f0",
   "metadata": {
    "slideshow": {
     "slide_type": "slide"
    }
   },
   "outputs": [
    {
     "name": "stdout",
     "output_type": "stream",
     "text": [
      "16\n",
      "81\n"
     ]
    }
   ],
   "source": [
    "# for loop solution\n",
    "def power(x,a):\n",
    "    output = 1\n",
    "    for _ in range(a): # can use i instead of _\n",
    "        output *= x\n",
    "    return output\n",
    "print(power(2, 4))\n",
    "print(power(9,2))"
   ]
  },
  {
   "cell_type": "code",
   "execution_count": 46,
   "id": "01dc3d13",
   "metadata": {
    "slideshow": {
     "slide_type": "slide"
    }
   },
   "outputs": [
    {
     "name": "stdout",
     "output_type": "stream",
     "text": [
      "['121']\n",
      "['racecar', '0']\n"
     ]
    }
   ],
   "source": [
    "def yield_even_palindromes(lst):\n",
    "    \"\"\"\n",
    "    Write a function that returns the strings at even indices\n",
    "    that are also palindromes. Palindromes are words that are\n",
    "    the same spelled backwards.\n",
    "    \n",
    "    >>> yield_even_palindromes(['121', '232', '01', '443'])\n",
    "    ['121']\n",
    "    >>> yield_even_palindromes(['racecar', '0', '0', '1'])\n",
    "    ['racecar', '0']\n",
    "    \"\"\"\n",
    "    output = []\n",
    "    even_indexed = lst[::2]\n",
    "    for val in even_indexed:\n",
    "        if val == val[::-1]:\n",
    "            output.append(val)\n",
    "    return output\n",
    "print(yield_even_palindromes(['121', '232', '01', '443']))\n",
    "print(yield_even_palindromes(['racecar', '0', '0', '1']))"
   ]
  },
  {
   "cell_type": "code",
   "execution_count": 47,
   "id": "94e8d377",
   "metadata": {
    "slideshow": {
     "slide_type": "slide"
    }
   },
   "outputs": [
    {
     "name": "stdout",
     "output_type": "stream",
     "text": [
      "[1, 3, 4, 5, 8, 9]\n"
     ]
    }
   ],
   "source": [
    "def strictly_increasing(lst):\n",
    "    \"\"\"\n",
    "    Write a function that takes in a list of integers and \n",
    "    returns a new list containing only the numbers that are\n",
    "    in increasing order. Numbers should appear in the same \n",
    "    order in the input and output list.\n",
    "    \n",
    "    >>> increasing([1, 3, 2, 4, 5, 8, 7, 6, 9])\n",
    "    [1, 3, 4, 5, 8, 9]\n",
    "    \"\"\"\n",
    "    output = []\n",
    "    for num in lst:\n",
    "        if len(output) == 0:\n",
    "            output.append(num)\n",
    "        elif num > output[-1]:\n",
    "            output.append(num)\n",
    "    return output\n",
    "print(strictly_increasing([1, 3, 2, 4, 5, 8, 7, 6, 9]))"
   ]
  },
  {
   "cell_type": "code",
   "execution_count": 50,
   "id": "0e0269d4",
   "metadata": {
    "slideshow": {
     "slide_type": "slide"
    }
   },
   "outputs": [
    {
     "name": "stdout",
     "output_type": "stream",
     "text": [
      "abc\n",
      "['n', 'i', 'c', 'o', 'l', 'e']\n"
     ]
    }
   ],
   "source": [
    "def process_string(word):\n",
    "    \"\"\"\n",
    "    Write a function that takes in a string and returns\n",
    "    the first 3 characters if its length is odd and\n",
    "    decomposes the string as a list of characters otherwise.\n",
    "    \n",
    "    >>> process_string('abcde')\n",
    "    'abc'\n",
    "    >>> process_string('nicole')\n",
    "    ['n', 'i', 'c', 'o', 'l', 'e']\n",
    "    \"\"\"\n",
    "    if len(word)%2==1:\n",
    "        return word[:3]\n",
    "    else:\n",
    "        output = []\n",
    "        for c in word:\n",
    "            output.append(c)\n",
    "        return output\n",
    "    \n",
    "print(process_string('abcde'))\n",
    "print(process_string('nicole'))"
   ]
  },
  {
   "cell_type": "code",
   "execution_count": 51,
   "id": "5b50486b",
   "metadata": {
    "slideshow": {
     "slide_type": "slide"
    }
   },
   "outputs": [
    {
     "name": "stdout",
     "output_type": "stream",
     "text": [
      "abc\n",
      "['n', 'i', 'c', 'o', 'l', 'e']\n"
     ]
    }
   ],
   "source": [
    "# alternative\n",
    "def process_string(word):\n",
    "    \"\"\"\n",
    "    Write a function that takes in a string and returns\n",
    "    the first 3 characters if its length is odd and\n",
    "    decomposes the string as a list of characters otherwise.\n",
    "    \n",
    "    >>> process_string('abcde')\n",
    "    'abc'\n",
    "    >>> process_string('nicole')\n",
    "    ['n', 'i', 'c', 'o', 'l', 'e']\n",
    "    \"\"\"\n",
    "    if len(word)%2==1:\n",
    "        return word[:3]\n",
    "    else:\n",
    "        return list(word)\n",
    "    \n",
    "print(process_string('abcde'))\n",
    "print(process_string('nicole'))"
   ]
  },
  {
   "cell_type": "markdown",
   "id": "d259886a",
   "metadata": {
    "slideshow": {
     "slide_type": "slide"
    }
   },
   "source": [
    "<center><h3>How many of the questions could you complete?</h3></center>\n",
    "\n",
    "A. 0\n",
    "\n",
    "B. 1\n",
    "\n",
    "C. 2\n",
    "\n",
    "D. 3\n",
    "\n",
    "E. 4"
   ]
  },
  {
   "cell_type": "markdown",
   "id": "49030538",
   "metadata": {
    "slideshow": {
     "slide_type": "slide"
    }
   },
   "source": [
    "## <center> <h1>Thanks for coming!</h1></center>"
   ]
  },
  {
   "cell_type": "code",
   "execution_count": null,
   "id": "1e60d5be",
   "metadata": {
    "slideshow": {
     "slide_type": "skip"
    }
   },
   "outputs": [],
   "source": []
  }
 ],
 "metadata": {
  "celltoolbar": "Slideshow",
  "kernelspec": {
   "display_name": "Python 3 (ipykernel)",
   "language": "python",
   "name": "python3"
  },
  "language_info": {
   "codemirror_mode": {
    "name": "ipython",
    "version": 3
   },
   "file_extension": ".py",
   "mimetype": "text/x-python",
   "name": "python",
   "nbconvert_exporter": "python",
   "pygments_lexer": "ipython3",
   "version": "3.10.8"
  },
  "rise": {
   "enable_chalkboard": true
  }
 },
 "nbformat": 4,
 "nbformat_minor": 5
}
