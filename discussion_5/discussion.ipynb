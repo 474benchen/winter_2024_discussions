{
 "cells": [
  {
   "cell_type": "markdown",
   "id": "9ac70a89",
   "metadata": {
    "slideshow": {
     "slide_type": "skip"
    }
   },
   "source": [
    "**note**: for anyone trying to view this as a slideshow, run 'pip install rise', reload your notebook, then click on the button that looks like a bar graph to the right of the command palette at the top."
   ]
  },
  {
   "cell_type": "code",
   "execution_count": 29,
   "id": "abd2ba1c",
   "metadata": {
    "slideshow": {
     "slide_type": "skip"
    }
   },
   "outputs": [
    {
     "name": "stdout",
     "output_type": "stream",
     "text": [
      "Intel MKL WARNING: Support of Intel(R) Streaming SIMD Extensions 4.2 (Intel(R) SSE4.2) enabled only processors has been deprecated. Intel oneAPI Math Kernel Library 2025.0 will require Intel(R) Advanced Vector Extensions (Intel(R) AVX) instructions.\n",
      "Intel MKL WARNING: Support of Intel(R) Streaming SIMD Extensions 4.2 (Intel(R) SSE4.2) enabled only processors has been deprecated. Intel oneAPI Math Kernel Library 2025.0 will require Intel(R) Advanced Vector Extensions (Intel(R) AVX) instructions.\n"
     ]
    },
    {
     "name": "stderr",
     "output_type": "stream",
     "text": [
      "/opt/anaconda3/envs/tutor/lib/python3.10/site-packages/scipy/__init__.py:155: UserWarning: A NumPy version >=1.18.5 and <1.26.0 is required for this version of SciPy (detected version 1.26.0\n",
      "  warnings.warn(f\"A NumPy version >={np_minversion} and <{np_maxversion}\"\n"
     ]
    }
   ],
   "source": [
    "import numpy as np\n",
    "import pandas as pd\n",
    "import matplotlib.pyplot as plt\n",
    "import seaborn as sns\n",
    "\n",
    "sns.set_theme(style = 'darkgrid')\n",
    "\n",
    "from sklearn.neighbors import KNeighborsClassifier as knn\n",
    "from sklearn.linear_model import LinearRegression\n",
    "from sklearn.svm import SVC\n",
    "from sklearn.model_selection import train_test_split\n",
    "from sklearn.metrics import mean_squared_error as MSE"
   ]
  },
  {
   "cell_type": "code",
   "execution_count": 30,
   "id": "ab3c8393",
   "metadata": {
    "slideshow": {
     "slide_type": "skip"
    }
   },
   "outputs": [
    {
     "data": {
      "text/html": [
       "\n",
       "<style>\n",
       ".output_png {\n",
       "    display: table-cell;\n",
       "    text-align: center;\n",
       "    vertical-align: middle;\n",
       "}\n",
       "</style>\n"
      ],
      "text/plain": [
       "<IPython.core.display.HTML object>"
      ]
     },
     "execution_count": 30,
     "metadata": {},
     "output_type": "execute_result"
    }
   ],
   "source": [
    "from IPython.core.display import HTML\n",
    "HTML(\"\"\"\n",
    "<style>\n",
    ".output_png {\n",
    "    display: table-cell;\n",
    "    text-align: center;\n",
    "    vertical-align: middle;\n",
    "}\n",
    "</style>\n",
    "\"\"\")"
   ]
  },
  {
   "cell_type": "markdown",
   "id": "0aaa7f3e",
   "metadata": {
    "slideshow": {
     "slide_type": "slide"
    }
   },
   "source": [
    "<center><h1>Discussion 5</h1></center>\n",
    "<center><h2>DSC 20, Winter 2024</h2><center>"
   ]
  },
  {
   "cell_type": "markdown",
   "id": "54229441",
   "metadata": {
    "slideshow": {
     "slide_type": "slide"
    }
   },
   "source": [
    "<center><h2>Meme of the week</h2></center>\n",
    "\n",
    "<center><img src='imgs/meme.png' width=800></center>"
   ]
  },
  {
   "cell_type": "markdown",
   "id": "c8f91290",
   "metadata": {
    "slideshow": {
     "slide_type": "slide"
    }
   },
   "source": [
    "<center><h2>Agenda</h2></center>\n",
    "<ul>\n",
    "    <li> Skill test </li>\n",
    "    <li> <b>Content</b> </li>\n",
    "    <ul>\n",
    "        <li> HOF\n",
    "        <li> Time Complexity\n",
    "    </ul>\n",
    "    <li> (if we have time) project foreshadowing: machine learning </li>\n",
    "    <li> Practice Questions </li>\n",
    "    \n",
    "</ul>"
   ]
  },
  {
   "cell_type": "markdown",
   "id": "a5286ddf",
   "metadata": {
    "slideshow": {
     "slide_type": "slide"
    }
   },
   "source": [
    "<center><h3> Skill 1 (Read Existing File)</h3></center>\n",
    "\n",
    "<center>Given an existing, non-empty file, write the function get_line that returns the content on the last line of the file. You may assume that the last line of the file has no new line character attached at the end.</center>"
   ]
  },
  {
   "cell_type": "code",
   "execution_count": 1,
   "id": "6b208df9",
   "metadata": {
    "slideshow": {
     "slide_type": "fragment"
    }
   },
   "outputs": [],
   "source": [
    "def get_line(file_path):\n",
    "    \"\"\"\n",
    "    >>> get_line('infile.txt')\n",
    "    'wassup'\n",
    "    \"\"\"\n",
    "    with open(file_path, 'r') as f:\n",
    "        return f.readlines()[-1]"
   ]
  },
  {
   "cell_type": "code",
   "execution_count": 1,
   "id": "a54f054c",
   "metadata": {
    "slideshow": {
     "slide_type": "skip"
    }
   },
   "outputs": [],
   "source": [
    "def get_line(file_path):\n",
    "    \"\"\"\n",
    "    >>> get_line('infile.txt')\n",
    "    'wassup'\n",
    "    \"\"\"\n",
    "    with open(file_path, 'r') as f:\n",
    "        return f.readlines()[-1]"
   ]
  },
  {
   "cell_type": "code",
   "execution_count": 2,
   "id": "015f0e95",
   "metadata": {
    "slideshow": {
     "slide_type": "fragment"
    }
   },
   "outputs": [
    {
     "data": {
      "text/plain": [
       "'wassup'"
      ]
     },
     "execution_count": 2,
     "metadata": {},
     "output_type": "execute_result"
    }
   ],
   "source": [
    "get_line('files/infile.txt')"
   ]
  },
  {
   "cell_type": "markdown",
   "id": "f7e19889",
   "metadata": {
    "slideshow": {
     "slide_type": "slide"
    }
   },
   "source": [
    "<center><h3>Skill 2 (Write a File)</h3></center>\n",
    "\n",
    "<center>Given a file path and a string, implement the function write_char that writes each character in the given string to the file, in order and one on each line. The file should end with the newline character.</center>"
   ]
  },
  {
   "cell_type": "code",
   "execution_count": null,
   "id": "c3f3002d",
   "metadata": {
    "slideshow": {
     "slide_type": "skip"
    }
   },
   "outputs": [],
   "source": [
    "def write_char(file_path, string):\n",
    "    \"\"\"\n",
    "    >>> write_char('out.txt', 'abcd')\n",
    "    >>> with open('out.txt', 'r') as f:\n",
    "    ...     content = f.read()\n",
    "    >>> print(content)\n",
    "    a\n",
    "    b\n",
    "    c\n",
    "    d\n",
    "    <BLANKLINE>\n",
    "    \"\"\""
   ]
  },
  {
   "cell_type": "code",
   "execution_count": 3,
   "id": "81c48e8a",
   "metadata": {
    "slideshow": {
     "slide_type": "fragment"
    }
   },
   "outputs": [],
   "source": [
    "def write_char(file_path, string):\n",
    "    \"\"\"\n",
    "    >>> write_char('out.txt', 'abcd')\n",
    "    >>> with open('out.txt', 'r') as f:\n",
    "    ...     content = f.read()\n",
    "    >>> print(content)\n",
    "    a\n",
    "    b\n",
    "    c\n",
    "    d\n",
    "    <BLANKLINE>\n",
    "    \"\"\"\n",
    "    with open(file_path, 'w') as f:\n",
    "        data = list(string)\n",
    "        f.write('\\n'.join(data))\n",
    "        f.write('\\n')"
   ]
  },
  {
   "cell_type": "code",
   "execution_count": 4,
   "id": "0744ddfc",
   "metadata": {
    "slideshow": {
     "slide_type": "fragment"
    }
   },
   "outputs": [
    {
     "name": "stdout",
     "output_type": "stream",
     "text": [
      "a\n",
      "b\n",
      "c\n",
      "d\n",
      "\n"
     ]
    }
   ],
   "source": [
    "write_char('files/out.txt', 'abcd')\n",
    "with open('files/out.txt', 'r') as f:\n",
    "     print(f.read())"
   ]
  },
  {
   "cell_type": "markdown",
   "id": "6fe4e3a5",
   "metadata": {
    "slideshow": {
     "slide_type": "slide"
    }
   },
   "source": [
    "<center><h3>Skill 3 (Append)</h3></center>\n",
    "<center>Given an input file, a string, a start index and an end index, implement the function append_char that writes a function that appends the characters starting from the start index (inclusive) to the end index (inclusive) on one new line to the input file. The file should end with the newline character.</center>"
   ]
  },
  {
   "cell_type": "code",
   "execution_count": null,
   "id": "95de31a9",
   "metadata": {
    "slideshow": {
     "slide_type": "skip"
    }
   },
   "outputs": [],
   "source": [
    "def append_char(file_path, string, start_idx, end_idx):\n",
    "    \"\"\"\n",
    "    >>> append_char('task3.txt', 'dsc!!', 0, 2)\n",
    "    >>> with open('task3.txt', 'r') as f:\n",
    "    ...     content = f.read()\n",
    "    >>> print(content)\n",
    "    this class is fun\n",
    "    dsc\n",
    "    <BLANKLINE>\n",
    "    \"\"\""
   ]
  },
  {
   "cell_type": "code",
   "execution_count": 5,
   "id": "f8ced9f6",
   "metadata": {
    "slideshow": {
     "slide_type": "fragment"
    }
   },
   "outputs": [],
   "source": [
    "def append_char(file_path, string, start_idx, end_idx):\n",
    "    \"\"\"\n",
    "    >>> append_char('task3.txt', 'dsc!!', 0, 2)\n",
    "    >>> with open('task3.txt', 'r') as f:\n",
    "    ...     content = f.read()\n",
    "    >>> print(content)\n",
    "    this class is fun\n",
    "    dsc\n",
    "    <BLANKLINE>\n",
    "    \"\"\"\n",
    "    with open(file_path, 'a') as f:\n",
    "        f.write('\\n')\n",
    "        f.write(string[start_idx:end_idx+1])\n",
    "        f.write('\\n')"
   ]
  },
  {
   "cell_type": "code",
   "execution_count": 6,
   "id": "85af6b78",
   "metadata": {
    "slideshow": {
     "slide_type": "fragment"
    }
   },
   "outputs": [
    {
     "name": "stdout",
     "output_type": "stream",
     "text": [
      "this class is fun\n",
      "dsc\n",
      "\n"
     ]
    }
   ],
   "source": [
    "append_char('files/task3.txt', 'dsc!!', 0, 2)\n",
    "with open('files/task3.txt', 'r') as f: print(f.read())"
   ]
  },
  {
   "cell_type": "markdown",
   "id": "7e29289c",
   "metadata": {
    "slideshow": {
     "slide_type": "slide"
    }
   },
   "source": [
    "<center><h3>Skill 4 (Read then Write)</h3></center>\n",
    "<center>Write a function read_write that reads the content from an input file and writes each line in reverse (as in reverse all the characters in the line) to a new file. The order of the lines should be the same as they are in the input file. The file should end with a new line.</center>"
   ]
  },
  {
   "cell_type": "code",
   "execution_count": null,
   "id": "fd53166a",
   "metadata": {
    "slideshow": {
     "slide_type": "skip"
    }
   },
   "outputs": [],
   "source": [
    "def read_write(read_file, write_file):\n",
    "    \"\"\"\"\n",
    "    >>> read_write('task4_input.txt', 'task4_output.txt')\n",
    "    >>> with open('task4_output.txt', 'r') as f:\n",
    "    ...     content = f.read()\n",
    "    >>> print(content)\n",
    "    you are almost done\n",
    "    this class is fun\n",
    "    i love dsc\n",
    "    <BLANKLINE>\n",
    "    \"\"\""
   ]
  },
  {
   "cell_type": "code",
   "execution_count": 7,
   "id": "91f96be8",
   "metadata": {
    "slideshow": {
     "slide_type": "fragment"
    }
   },
   "outputs": [],
   "source": [
    "def read_write(read_file, write_file):\n",
    "    \"\"\"\"\n",
    "    >>> read_write('task4_input.txt', 'task4_output.txt')\n",
    "    >>> with open('task4_output.txt', 'r') as f:\n",
    "    ...     content = f.read()\n",
    "    >>> print(content)\n",
    "    you are almost done\n",
    "    this class is fun\n",
    "    i love dsc\n",
    "    <BLANKLINE>\n",
    "    \"\"\"\n",
    "    with open(read_file ,'r') as f:\n",
    "        data = f.readlines()\n",
    "        with open(write_file, 'w') as g:\n",
    "            for line in data:\n",
    "                g.write(line.strip()[::-1])\n",
    "                g.write('\\n')"
   ]
  },
  {
   "cell_type": "code",
   "execution_count": 8,
   "id": "78942938",
   "metadata": {
    "slideshow": {
     "slide_type": "fragment"
    }
   },
   "outputs": [
    {
     "name": "stdout",
     "output_type": "stream",
     "text": [
      "you are almost done\n",
      "this class is fun\n",
      "i love dsc\n",
      "\n"
     ]
    }
   ],
   "source": [
    "read_write('files/task4_input.txt', 'files/task4_output.txt')\n",
    "with open('files/task4_output.txt', 'r') as f: print(f.read())"
   ]
  },
  {
   "cell_type": "markdown",
   "id": "a8c1b45f",
   "metadata": {
    "slideshow": {
     "slide_type": "slide"
    }
   },
   "source": [
    "<center><h3>HOF</h3></center>\n",
    "\n",
    "- Algorithm design framework to create generalized code\n",
    "\n",
    "- Functions that either return functions or use other functions\n",
    "\n",
    "- Helper functions!\n",
    "\n",
    "- Many uses, including abstraction, scope protection, etc."
   ]
  },
  {
   "cell_type": "markdown",
   "id": "1cb60eed",
   "metadata": {
    "slideshow": {
     "slide_type": "slide"
    }
   },
   "source": [
    "<center><h3>HOF example: summation $i$</h3></center>"
   ]
  },
  {
   "cell_type": "markdown",
   "id": "d21b22ae",
   "metadata": {
    "slideshow": {
     "slide_type": "fragment"
    }
   },
   "source": [
    "<center><img src = 'imgs/summation.png' width=300></center>"
   ]
  },
  {
   "cell_type": "code",
   "execution_count": 11,
   "id": "010ec5c9",
   "metadata": {
    "slideshow": {
     "slide_type": "fragment"
    }
   },
   "outputs": [
    {
     "data": {
      "text/plain": [
       "30.0"
      ]
     },
     "execution_count": 11,
     "metadata": {},
     "output_type": "execute_result"
    }
   ],
   "source": [
    "def summation_i(n):\n",
    "    return (n*(n+1)) / 2\n",
    "\n",
    "def summation_i2(n):\n",
    "    return (n*(n+1)*(2*n+1)) / 6\n",
    "\n",
    "def summation_formulas(n, form):\n",
    "    if form=='i':\n",
    "        return summation_i(n)\n",
    "    if form=='i^2':\n",
    "        return summation_i2(n)\n",
    "\n",
    "summation_formulas(4, 'i^2')"
   ]
  },
  {
   "cell_type": "markdown",
   "id": "be8cc402",
   "metadata": {
    "slideshow": {
     "slide_type": "slide"
    }
   },
   "source": [
    "<center><h3>HOF (cont.)</h3></center>"
   ]
  },
  {
   "cell_type": "code",
   "execution_count": 13,
   "id": "f06cf4ce",
   "metadata": {
    "slideshow": {
     "slide_type": "fragment"
    }
   },
   "outputs": [
    {
     "data": {
      "text/plain": [
       "<function __main__.add_1(x)>"
      ]
     },
     "execution_count": 13,
     "metadata": {},
     "output_type": "execute_result"
    }
   ],
   "source": [
    "def add_1(x):\n",
    "    return x + 1\n",
    "def minus_1(x):\n",
    "    return x - 1\n",
    "\n",
    "def operate(op_type):\n",
    "    if op_type == 'add':\n",
    "        return add_1\n",
    "    else:\n",
    "        return minus_1\n",
    "operate('add')"
   ]
  },
  {
   "cell_type": "markdown",
   "id": "3e5cfc19",
   "metadata": {
    "slideshow": {
     "slide_type": "slide"
    }
   },
   "source": [
    "<center><h3 style = 'color:blue'> Checkpoint </h3></center>\n",
    "\n",
    "<center>Given the previous code, what is the result of the function call?</center>"
   ]
  },
  {
   "cell_type": "code",
   "execution_count": 31,
   "id": "cb8dfcfe",
   "metadata": {
    "slideshow": {
     "slide_type": "fragment"
    }
   },
   "outputs": [],
   "source": [
    "def add_1(x): # code from last slide\n",
    "    return x + 1\n",
    "def minus_1(x):\n",
    "    return x - 1\n",
    "\n",
    "def operate(op_type):\n",
    "    if op_type == 'add':\n",
    "        return add_1\n",
    "    else:\n",
    "        return minus_1"
   ]
  },
  {
   "cell_type": "code",
   "execution_count": null,
   "id": "9bc1093a",
   "metadata": {
    "slideshow": {
     "slide_type": "fragment"
    }
   },
   "outputs": [],
   "source": [
    "operate('add')(1)"
   ]
  },
  {
   "cell_type": "markdown",
   "id": "65f26199",
   "metadata": {
    "slideshow": {
     "slide_type": "fragment"
    }
   },
   "source": [
    "A. 1\n",
    "\n",
    "B. 2\n",
    "\n",
    "C. <function __main__.add_1(x)>\n",
    "\n",
    "D. Error"
   ]
  },
  {
   "cell_type": "markdown",
   "id": "44abf01e",
   "metadata": {
    "slideshow": {
     "slide_type": "slide"
    }
   },
   "source": [
    "<center><h3 style = 'color:blue'> Checkpoint Solution</h3></center>"
   ]
  },
  {
   "cell_type": "code",
   "execution_count": 17,
   "id": "d9a22872",
   "metadata": {
    "slideshow": {
     "slide_type": "fragment"
    }
   },
   "outputs": [
    {
     "data": {
      "text/plain": [
       "2"
      ]
     },
     "execution_count": 17,
     "metadata": {},
     "output_type": "execute_result"
    }
   ],
   "source": [
    "operate('add')(1) # B"
   ]
  },
  {
   "cell_type": "markdown",
   "id": "f87d30ae",
   "metadata": {
    "slideshow": {
     "slide_type": "slide"
    }
   },
   "source": [
    "<center><h3>Complexity</h3></center>\n",
    "<br>\n",
    "\n",
    "<center>Time complexity is an empirical method to measure the efficiency of code. Since everyone's computer is different, we can't compare code with actual numbers. Instead, we classify them into different runtime categories that allow us to infer its runtime relative to our input.</center>\n",
    "<br>\n",
    "\n",
    "<center><img src = 'imgs/cat_math.gif' width=500></center>"
   ]
  },
  {
   "cell_type": "markdown",
   "id": "1bd97e06",
   "metadata": {
    "slideshow": {
     "slide_type": "slide"
    }
   },
   "source": [
    "<center><h3>Complexity Fundamentals</h3></center>\n",
    "\n",
    "1. Code should be quantified into big O values\n",
    "\n",
    "2. Nested code will have compounded big O values\n",
    "\n",
    "3. The largest term dictates the growth rate (i.e. only largest term matters)\n",
    "\n",
    "4. Constants are irrelevant\n",
    "\n",
    "5. big O analysis uses similar ideas to calculus and limits - reference your math knowledge\n"
   ]
  },
  {
   "cell_type": "markdown",
   "id": "bc6b31c7",
   "metadata": {
    "slideshow": {
     "slide_type": "slide"
    }
   },
   "source": [
    "<center><h3>Complexity - Basic Interpretation</h3></center>"
   ]
  },
  {
   "cell_type": "markdown",
   "id": "26d8411c",
   "metadata": {
    "slideshow": {
     "slide_type": "fragment"
    }
   },
   "source": [
    "Operations that take a <b>constant</b> time to run and run at the same speed regardless of input size -> $O(1)$"
   ]
  },
  {
   "cell_type": "code",
   "execution_count": null,
   "id": "b2f1c1c9",
   "metadata": {
    "slideshow": {
     "slide_type": "fragment"
    }
   },
   "outputs": [],
   "source": [
    "lst = [1,2,3]\n",
    "len(lst) # <- len is constant!"
   ]
  },
  {
   "cell_type": "markdown",
   "id": "a7039dd2",
   "metadata": {
    "slideshow": {
     "slide_type": "fragment"
    }
   },
   "source": [
    "A statement that takes <b>linear</b> time to run will increase linearly with the size of input -> $O(n)$"
   ]
  },
  {
   "cell_type": "code",
   "execution_count": null,
   "id": "e1f69f6f",
   "metadata": {
    "slideshow": {
     "slide_type": "fragment"
    }
   },
   "outputs": [],
   "source": [
    "sum(lst) # <- sum is linear!"
   ]
  },
  {
   "cell_type": "markdown",
   "id": "7aa7c7eb",
   "metadata": {
    "slideshow": {
     "slide_type": "slide"
    }
   },
   "source": [
    "<center><h3>Complexity - Basic Interpretation (Cont.)</h3></center>"
   ]
  },
  {
   "cell_type": "markdown",
   "id": "739a4695",
   "metadata": {
    "slideshow": {
     "slide_type": "fragment"
    }
   },
   "source": [
    "A statement that takes <b>quadratic</b> time to run will increase quadratically with the size of input -> $O(n^2)$"
   ]
  },
  {
   "cell_type": "code",
   "execution_count": null,
   "id": "b741f5b5",
   "metadata": {
    "slideshow": {
     "slide_type": "fragment"
    }
   },
   "outputs": [],
   "source": [
    "for i in range(len(lst)): # O(n^2)\n",
    "    for j in range(len(lst)): \n",
    "        print(i + j)"
   ]
  },
  {
   "cell_type": "markdown",
   "id": "e072a85f",
   "metadata": {
    "slideshow": {
     "slide_type": "fragment"
    }
   },
   "source": [
    "A statement that takes <b>logarithmic</b> time to run will increase logarithmically with the size of input -> $O(logn)$"
   ]
  },
  {
   "cell_type": "code",
   "execution_count": null,
   "id": "83af3eb0",
   "metadata": {
    "slideshow": {
     "slide_type": "fragment"
    }
   },
   "outputs": [],
   "source": [
    "i = n\n",
    "while i > 0: # O(log(n))\n",
    "    i = i // 2"
   ]
  },
  {
   "cell_type": "markdown",
   "id": "e2cbb20a",
   "metadata": {
    "slideshow": {
     "slide_type": "slide"
    }
   },
   "source": [
    "<center><h3>Complexity - Basic Interpretation (Cont.)</h3></center>\n",
    "\n",
    "<center>These are very basic examples. Just because there's a nested for loop does not necessarily mean that the runtime is O(n^2). Runtime depends on the number of iterations happening and the cost of each calculation. For example, every function you've used in this class so far has a specific runtime -> sorting is usually $O(nlogn)$\n",
    "    </center>"
   ]
  },
  {
   "cell_type": "markdown",
   "id": "508f38c1",
   "metadata": {
    "slideshow": {
     "slide_type": "slide"
    }
   },
   "source": [
    "<center><h3 style='color:blue'>Checkpoint</h3></center>\n",
    "<center> What is the runtime of the following function?</center>"
   ]
  },
  {
   "cell_type": "code",
   "execution_count": 3,
   "id": "9c9d1cf1",
   "metadata": {
    "slideshow": {
     "slide_type": "fragment"
    }
   },
   "outputs": [],
   "source": [
    "def boo(lst):\n",
    "    for i in lst:\n",
    "        for j in range(1000): #O(1000n) = O(n)\n",
    "            print(i + j)"
   ]
  },
  {
   "cell_type": "markdown",
   "id": "a18e32f3",
   "metadata": {
    "slideshow": {
     "slide_type": "fragment"
    }
   },
   "source": [
    "A. $O(1)$\n",
    "\n",
    "B. $O(logn)$\n",
    "\n",
    "C. $O(n)$\n",
    "\n",
    "D. $O(n^2)$\n",
    "\n",
    "E. Other"
   ]
  },
  {
   "cell_type": "markdown",
   "id": "cbf548e4",
   "metadata": {
    "slideshow": {
     "slide_type": "slide"
    }
   },
   "source": [
    "<center><h3 style='color:blue'>Checkpoint Solution</h3></center>"
   ]
  },
  {
   "cell_type": "markdown",
   "id": "5ca0be8e",
   "metadata": {
    "slideshow": {
     "slide_type": "fragment"
    }
   },
   "source": [
    "<center><b style = 'color:blue'>Solution:</b> $O(n)$</center>\n",
    "<br>\n",
    "<center>The second for loop is a bait! The outer loop grows linearly with the input, but the second loop is constant.</center>"
   ]
  },
  {
   "cell_type": "code",
   "execution_count": 5,
   "id": "b60f8d3a",
   "metadata": {
    "slideshow": {
     "slide_type": "fragment"
    }
   },
   "outputs": [],
   "source": [
    "def boo(lst):\n",
    "    for i in lst: # O(n)\n",
    "        for j in range(1000): # O(1)\n",
    "            print(i + j) # O(1)"
   ]
  },
  {
   "cell_type": "markdown",
   "id": "25b2bd97",
   "metadata": {
    "slideshow": {
     "slide_type": "fragment"
    }
   },
   "source": [
    "<center>$O$(boo) = $O(n*1000*1) = O(n)$</center>"
   ]
  },
  {
   "cell_type": "markdown",
   "id": "41bef1d3",
   "metadata": {
    "slideshow": {
     "slide_type": "slide"
    }
   },
   "source": [
    "<center><h3>Complexity - Calculation</h3></center>\n",
    "\n",
    "<b style='color:blue'>tips</b>:\n",
    "1. Always look for \"hallmark features\" (ex. if I see i // 2, there's probably log involved)\n",
    "2. If there are loops, check the iteration count (don't assume n runtime)\n",
    "3. Order of Growth follows mathematical principles. Only consider the largest term\n",
    "\n",
    "<center><img src='imgs/graph_ref.png' width = 600></center>\n",
    "<center><a href='https://www.bigocheatsheet.com/'>source</a></center>"
   ]
  },
  {
   "cell_type": "markdown",
   "id": "b1574b4e",
   "metadata": {
    "slideshow": {
     "slide_type": "slide"
    }
   },
   "source": [
    "<center><h3 style='color:blue'>Checkpoint</h3></center>\n",
    "\n",
    "<center>What is the runtime of the following function?</center>"
   ]
  },
  {
   "cell_type": "code",
   "execution_count": 4,
   "id": "1efc9956",
   "metadata": {
    "slideshow": {
     "slide_type": "fragment"
    }
   },
   "outputs": [],
   "source": [
    "def bubble_sort(arr):\n",
    "    \"\"\"\n",
    "    function that sorts a list of values.\n",
    "    \"\"\"\n",
    "    n = len(arr)\n",
    "    for i in range(n):\n",
    "        for j in range(n - 1):\n",
    "            if arr[j] > arr[j + 1]:\n",
    "                arr[j], arr[j + 1] = arr[j + 1], arr[j]\n",
    "    return arr"
   ]
  },
  {
   "cell_type": "markdown",
   "id": "5389ea72",
   "metadata": {
    "slideshow": {
     "slide_type": "fragment"
    }
   },
   "source": [
    "A. $O(1)$\n",
    "\n",
    "B. $O(logn)$\n",
    "\n",
    "C. $O(n)$\n",
    "\n",
    "D. $O(n^2)$\n",
    "\n",
    "E. Other"
   ]
  },
  {
   "cell_type": "markdown",
   "id": "5d06e4cd",
   "metadata": {
    "slideshow": {
     "slide_type": "slide"
    }
   },
   "source": [
    "<center><h3 style='color:blue'>Checkpoint Solution</h3></center>"
   ]
  },
  {
   "cell_type": "markdown",
   "id": "98fedcf4",
   "metadata": {
    "slideshow": {
     "slide_type": "fragment"
    }
   },
   "source": [
    "<center><b style = 'color:blue'>Solution:</b> $O(n^2)$</center>\n",
    "<br>\n",
    "<center>Outer for loop, which runs $n$ times. Inner for loop that runs $n-1$ times. Within these 2 for loops, operations are all constant.</center>"
   ]
  },
  {
   "cell_type": "code",
   "execution_count": null,
   "id": "3bb117bb",
   "metadata": {
    "slideshow": {
     "slide_type": "fragment"
    }
   },
   "outputs": [],
   "source": [
    "def bubble_sort(arr):\n",
    "    n = len(arr) # O(1)\n",
    "    for i in range(n): # O(n)\n",
    "        for j in range(n - 1): # O(n-1)\n",
    "            if arr[j] > arr[j + 1]: # O(1)\n",
    "                arr[j], arr[j + 1] = arr[j + 1], arr[j]\n",
    "    return arr"
   ]
  },
  {
   "cell_type": "markdown",
   "id": "09ad3f54",
   "metadata": {
    "slideshow": {
     "slide_type": "fragment"
    }
   },
   "source": [
    "<center>$O$(bubble_sort) = $O(1 + n*(n-1)*1) = O(n^2 - n + 1) = O(n^2)$</center>"
   ]
  },
  {
   "cell_type": "markdown",
   "id": "4f613660",
   "metadata": {
    "slideshow": {
     "slide_type": "slide"
    }
   },
   "source": [
    "<center><h3 style='color:blue'>Checkpoint</h3></center>\n",
    "\n",
    "<center>What is the runtime of the following function?</center>"
   ]
  },
  {
   "cell_type": "code",
   "execution_count": 8,
   "id": "52ebda01",
   "metadata": {
    "slideshow": {
     "slide_type": "fragment"
    }
   },
   "outputs": [],
   "source": [
    "def foo(lst):\n",
    "    output = []\n",
    "    for i in lst:\n",
    "        if i%2==0:\n",
    "            output.append(i)\n",
    "            \n",
    "    for i in range(len(output)):\n",
    "        output[i] *= 2\n",
    "    return output"
   ]
  },
  {
   "cell_type": "markdown",
   "id": "6d6f1e26",
   "metadata": {
    "slideshow": {
     "slide_type": "fragment"
    }
   },
   "source": [
    "A. $O(1)$\n",
    "\n",
    "B. $O(logn)$\n",
    "\n",
    "C. $O(n)$\n",
    "\n",
    "D. $O(n^2)$\n",
    "\n",
    "E. Other"
   ]
  },
  {
   "cell_type": "markdown",
   "id": "2760075a",
   "metadata": {
    "slideshow": {
     "slide_type": "slide"
    }
   },
   "source": [
    "<center><h3 style='color:blue'>Checkpoint Solution</h3></center>"
   ]
  },
  {
   "cell_type": "markdown",
   "id": "30417dbc",
   "metadata": {
    "slideshow": {
     "slide_type": "fragment"
    }
   },
   "source": [
    "<center><b style = 'color:blue'>Solution:</b> $O(n)$</center>\n",
    "<br>\n",
    "<center>First for loop, which runs $n$ times. Second for loop that runs $n$ times. Within these 2 for loops, operations are all constant.</center>"
   ]
  },
  {
   "cell_type": "code",
   "execution_count": null,
   "id": "0cf1d426",
   "metadata": {
    "slideshow": {
     "slide_type": "fragment"
    }
   },
   "outputs": [],
   "source": [
    "def foo(lst):\n",
    "    output = []\n",
    "    for i in lst: #O(n)\n",
    "        if i%2==0:\n",
    "            output.append(i) #O(1)\n",
    "            \n",
    "    for i in range(len(output)): #O(n)\n",
    "        output[i] *= 2 #O(1)\n",
    "    return output"
   ]
  },
  {
   "cell_type": "markdown",
   "id": "7130e5fa",
   "metadata": {
    "slideshow": {
     "slide_type": "fragment"
    }
   },
   "source": [
    "<center>$O$(foo) = $O(n + 1) + O(n + 1) = O(2n + 2) = O(n)$</center>"
   ]
  },
  {
   "cell_type": "markdown",
   "id": "b40a280b",
   "metadata": {
    "slideshow": {
     "slide_type": "slide"
    }
   },
   "source": [
    "<center><h2>practice questions</h2></center>"
   ]
  },
  {
   "cell_type": "code",
   "execution_count": 32,
   "id": "f15ea8c1",
   "metadata": {
    "slideshow": {
     "slide_type": "skip"
    }
   },
   "outputs": [],
   "source": [
    "def median(vals):\n",
    "    \"\"\"\n",
    "    Write a function to calculate the median of an iterable.\n",
    "    \n",
    "    >>> median([1,2,3,4])\n",
    "    2.5\n",
    "    >>> median([1,2,3])\n",
    "    2\n",
    "    \"\"\"\n",
    "    # Your code here\n",
    "    return \n",
    "    \n",
    "def spread(vals):\n",
    "    \"\"\"\n",
    "    Write a function to calculate the spread of an iterable.\n",
    "    \n",
    "    >>> spread([1,2,3,4])\n",
    "    3\n",
    "    >>> spread([1,10,8])\n",
    "    9\n",
    "    \"\"\"\n",
    "    # Your code here\n",
    "    return\n",
    "\n",
    "def summary_stat(operation):\n",
    "    \"\"\"\n",
    "    Write a function that takes in a specified operation \n",
    "    and returns a function that will take in a set of \n",
    "    numbers and calculate the operation accordingly.\n",
    "    \n",
    "    possible operations:\n",
    "        min -> finds the minimum value\n",
    "        max -> finds the maximum value\n",
    "        spread -> finds the spread of the values\n",
    "        median -> finds the median of the values\n",
    "\n",
    "    >>> med = summary_stat('median')\n",
    "    >>> med([1,2,3,4,5,6])\n",
    "    3.5\n",
    "    >>> ran = summary_stat('range')\n",
    "    >>> ran([1,2,3,4,5,6])\n",
    "    5\n",
    "    \"\"\"\n",
    "    # Your code here\n",
    "    return"
   ]
  },
  {
   "cell_type": "code",
   "execution_count": null,
   "id": "c07d3194",
   "metadata": {},
   "outputs": [],
   "source": [
    "def foo(n):\n",
    "    for i in range(n): \n",
    "        for j in range(i): #O(n^2)\n",
    "            print(i,j)\n"
   ]
  },
  {
   "cell_type": "markdown",
   "id": "fb1e47a3",
   "metadata": {
    "slideshow": {
     "slide_type": "slide"
    }
   },
   "source": [
    "<center><h2>practice question solutions</h2></center>"
   ]
  },
  {
   "cell_type": "code",
   "execution_count": 11,
   "id": "3a038f21",
   "metadata": {
    "slideshow": {
     "slide_type": "slide"
    }
   },
   "outputs": [],
   "source": [
    "def median(vals):\n",
    "    length = len(vals)\n",
    "    data = sorted(vals)\n",
    "    if length%2==0:\n",
    "        return (data[(length-1)//2] + data[length//2])/2\n",
    "    return data[length//2]"
   ]
  },
  {
   "cell_type": "markdown",
   "id": "3df3e264",
   "metadata": {
    "slideshow": {
     "slide_type": "fragment"
    }
   },
   "source": [
    "<center><b style = 'color:blue'>Solution:</b> $O(nlog(n))$</center>\n",
    "<br>\n",
    "<center>Most expensive operation is sorting - as previously stated, python's default sorting mechanisms are $O(nlog(n))$ runtime complexity. All other operations are constant time.</center>"
   ]
  },
  {
   "cell_type": "code",
   "execution_count": null,
   "id": "0f38b8ca",
   "metadata": {
    "slideshow": {
     "slide_type": "slide"
    }
   },
   "outputs": [],
   "source": [
    "def spread(vals):\n",
    "    return max(vals) - min(vals)"
   ]
  },
  {
   "cell_type": "markdown",
   "id": "2d390bee",
   "metadata": {
    "slideshow": {
     "slide_type": "fragment"
    }
   },
   "source": [
    "<center><b style = 'color:blue'>Solution:</b> $O(n)$</center>\n",
    "<br>\n",
    "<center>both max and min have a runtime of $O(n)$, resulting in a runtime of $O(2n)$ since each are caleld once.</center>"
   ]
  },
  {
   "cell_type": "code",
   "execution_count": 39,
   "id": "2a4a557c",
   "metadata": {
    "slideshow": {
     "slide_type": "slide"
    }
   },
   "outputs": [
    {
     "name": "stdout",
     "output_type": "stream",
     "text": [
      "3.5\n",
      "5\n"
     ]
    }
   ],
   "source": [
    "def summary_stat(operation):\n",
    "    \"\"\"\n",
    "    Write a function that takes in a specified operation \n",
    "    and returns a function that will take in a set of \n",
    "    numbers and calculate the operation accordingly.\n",
    "    \n",
    "    possible operations:\n",
    "        min -> finds the minimum value\n",
    "        max -> finds the maximum value\n",
    "        spread -> finds the spread of the values\n",
    "        median -> finds the median of the values\n",
    "\n",
    "    >>> med = summary_stat('median')\n",
    "    >>> med([1,4,3,2,6,5])\n",
    "    3.5\n",
    "    >>> ran = summary_stat('range')\n",
    "    >>> ran([1,4,3,2,6,5])\n",
    "    5\n",
    "    \"\"\"\n",
    "    if operation=='min':\n",
    "        return min\n",
    "    if operation=='max':\n",
    "        return max\n",
    "    if operation=='median':\n",
    "        return median\n",
    "    else:\n",
    "        return spread\n",
    "print(summary_stat('median')([1,4,3,2,6,5]))\n",
    "print(summary_stat('range')([1,4,3,2,6,5]))"
   ]
  },
  {
   "cell_type": "markdown",
   "id": "5e5fc952",
   "metadata": {
    "slideshow": {
     "slide_type": "slide"
    }
   },
   "source": [
    "<center><h2>Machine Learning</h2></center>"
   ]
  },
  {
   "cell_type": "markdown",
   "id": "c7e88bbf",
   "metadata": {
    "slideshow": {
     "slide_type": "slide"
    }
   },
   "source": [
    "<center><h3>Time for some actual data science!</h3></center>\n",
    "\n",
    "\n",
    "<center> Learning always starts with data. Without having some \"ground truth\" to base your learning on, whatever you learn is ultimately meaningless. For today's discussion, we'll take a look at a hallmark dataset for data science, penguins: </center>\n",
    "\n",
    "<center> To simplify the problem, we will not be using all features. Instead, we will only consider <b>'body_mass_g', 'flipper_length', and 'species'</b>.</center>\n",
    "\n",
    "<center><img src='imgs/penguins_set.png' width=400></center>"
   ]
  },
  {
   "cell_type": "code",
   "execution_count": 31,
   "id": "8f7fcde8",
   "metadata": {
    "slideshow": {
     "slide_type": "skip"
    }
   },
   "outputs": [],
   "source": [
    "data = pd.read_csv('data/penguins.csv')\n",
    "data = data.dropna()[['flipper_length_mm', 'body_mass_g','species']]"
   ]
  },
  {
   "cell_type": "code",
   "execution_count": 33,
   "id": "c27d597a",
   "metadata": {
    "slideshow": {
     "slide_type": "skip"
    }
   },
   "outputs": [],
   "source": [
    "X = data[['flipper_length_mm', 'body_mass_g']]\n",
    "y = data['species']\n",
    "X_train, X_test, y_train, y_test = train_test_split(X, y, test_size=0.4, random_state=69)"
   ]
  },
  {
   "cell_type": "markdown",
   "id": "cbdd0efd",
   "metadata": {
    "slideshow": {
     "slide_type": "slide"
    }
   },
   "source": [
    "<center><h3>Classifiers</h3></center>\n",
    "\n",
    "<center>Classification is one of the major tasks in machine learning. Its goal (as its name implies) is to ingest data associated with a label and be able to predict the label of future unseen data by learning some sort of pattern. Within our penguins dataset, this would involve predicting the penguin species ('species') based on its 'flipper_length_mm' and 'body_mass_g'.</center>\n",
    "\n",
    "<center><img src='imgs/class_scatter.png' width=600></center>"
   ]
  },
  {
   "cell_type": "code",
   "execution_count": 35,
   "id": "18763702",
   "metadata": {
    "slideshow": {
     "slide_type": "fragment"
    }
   },
   "outputs": [],
   "source": [
    "clf = SVC()\n",
    "clf.fit(X_train, y_train);\n",
    "training_accuracy = (clf.predict(X_train) == y_train).mean()\n",
    "testing_accuracy = (clf.predict(X_test) == y_test).mean()"
   ]
  },
  {
   "cell_type": "markdown",
   "id": "6f95c9c9",
   "metadata": {
    "slideshow": {
     "slide_type": "fragment"
    }
   },
   "source": [
    "<center>training accuracy: 0.745</center>\n",
    "<center>testing accuracy: 0.6940298507462687</center>"
   ]
  },
  {
   "cell_type": "markdown",
   "id": "5faf0698",
   "metadata": {
    "slideshow": {
     "slide_type": "slide"
    }
   },
   "source": [
    "<center><h2>Why are we talking about this?</h2></center>\n",
    "\n",
    "<center>Foreshadowing! You may (or may not) need to apply some of this knowledge (relatively) soon! Possibly for your project</center>"
   ]
  },
  {
   "cell_type": "markdown",
   "id": "f99fdbbf",
   "metadata": {
    "slideshow": {
     "slide_type": "slide"
    }
   },
   "source": [
    "<center><h3>K Nearest Neighbors (KNN) for Classification</h3></center>\n",
    "\n",
    "<center><b style='color:blue'>idea</b>: Given an unseen value of flipper_length and body_mass, how can we determine what species of penguins it belongs to? </center>\n",
    "\n",
    "<center>The KNN approach is simple - if I look at the k nearest points to this new value, and I take the most common species among them, then this point is <b>most likely</b> the same species as the most common species among the neighbors. </center>\n",
    "\n",
    "<center><img src='imgs/class_scatter.png' width=600></center>"
   ]
  },
  {
   "cell_type": "markdown",
   "id": "fc93b7ae",
   "metadata": {
    "slideshow": {
     "slide_type": "slide"
    }
   },
   "source": [
    "<center><h3>Procedure</h3></center>\n",
    "<br>\n",
    "\n",
    "<center><b>Step 1</b>: Given a new point <i>X</i>, quantify the distance between all points and <i>X</i></center>\n",
    "\n",
    "<center><b>Step 2</b>: Take the <b style = 'color:blue'>k-nearest</b> points to <i>X</i> into consideration</center>\n",
    "\n",
    "<center><b>Step 3</b>: Classify <i>X</i> as the most common label among the neighbors</center>\n",
    "\n",
    "<br>\n",
    "\n",
    "<center><b>note: </b> As the name implies, the key parts of this algorithm are <b style = 'color:blue'>k</b> and <b style = 'color:blue'>nearest</b>. </center> \n",
    "    \n",
    "<center><b style = 'color:blue'>k</b> is often referred to as a <b>hyper-parameter</b>, or a value that you choose independently. There are often procedures to select a good k, but this varies depending on the context. </center>\n",
    "    \n",
    "<center><b style = 'color:blue'>Nearest</b> refers to quantifying distance - one such way is to use euclidian distance (distance formula), but there are many other \"distances\" that can be used (ex. Manhattan Distance).</center>"
   ]
  },
  {
   "cell_type": "markdown",
   "id": "0c047298",
   "metadata": {
    "slideshow": {
     "slide_type": "slide"
    }
   },
   "source": [
    "<center> <h2 style = \"color:blue\">Checkpoint</h2> </center>\n",
    "<center>Given the new data point (201, 4750), what would a KNN classifier classify the new point as for <b>k=1</b>? What about for <b>k=4</b>? What about for <b>k=10</b>?</center>\n",
    "<center><img src='imgs/knn_inject_new.png' width=600></center>"
   ]
  },
  {
   "cell_type": "markdown",
   "id": "41d11d97",
   "metadata": {
    "slideshow": {
     "slide_type": "slide"
    }
   },
   "source": [
    "<center> <h2 style = \"color:blue\">Checkpoint Solution</h2> </center>\n",
    "\n",
    "<b>for k=1</b>: Seems like the orange point is closest according to an eye test, so Chinstrap\n",
    "\n",
    "<b>for k=4</b>: The 3 closest points seem to all be from unique colors, the fourth point is hard to determine by eye. Could easily be Adelie or Chinstrap\n",
    "\n",
    "<b>for k=10</b>: The bulk of the points nearby are blue, so Adelie\n"
   ]
  },
  {
   "cell_type": "markdown",
   "id": "49030538",
   "metadata": {
    "slideshow": {
     "slide_type": "slide"
    }
   },
   "source": [
    "<center> <h1>Thanks for coming!</h1></center>"
   ]
  },
  {
   "cell_type": "code",
   "execution_count": null,
   "id": "1e60d5be",
   "metadata": {
    "slideshow": {
     "slide_type": "skip"
    }
   },
   "outputs": [],
   "source": []
  }
 ],
 "metadata": {
  "celltoolbar": "Slideshow",
  "kernelspec": {
   "display_name": "Python 3 (ipykernel)",
   "language": "python",
   "name": "python3"
  },
  "language_info": {
   "codemirror_mode": {
    "name": "ipython",
    "version": 3
   },
   "file_extension": ".py",
   "mimetype": "text/x-python",
   "name": "python",
   "nbconvert_exporter": "python",
   "pygments_lexer": "ipython3",
   "version": "3.10.8"
  },
  "rise": {
   "enable_chalkboard": true
  }
 },
 "nbformat": 4,
 "nbformat_minor": 5
}
