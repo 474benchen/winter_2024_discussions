{
 "cells": [
  {
   "cell_type": "markdown",
   "id": "9ac70a89",
   "metadata": {
    "slideshow": {
     "slide_type": "skip"
    }
   },
   "source": [
    "**note**: for anyone trying to view this as a slideshow, run 'pip install rise', reload your notebook, then click on the button that looks like a bar graph to the right of the command palette at the top."
   ]
  },
  {
   "cell_type": "markdown",
   "id": "0aaa7f3e",
   "metadata": {
    "slideshow": {
     "slide_type": "slide"
    }
   },
   "source": [
    "<center><h1>Discussion 4</h1></center>\n",
    "<center><h2>DSC 20, Winter 2024</h2><center>"
   ]
  },
  {
   "cell_type": "markdown",
   "id": "d3553d72",
   "metadata": {
    "slideshow": {
     "slide_type": "slide"
    }
   },
   "source": [
    "<center><h2>Meme of the week</h2></center>\n",
    "\n",
    "<center><img src='imgs/meme.png' width=500></center>"
   ]
  },
  {
   "cell_type": "markdown",
   "id": "0951272d",
   "metadata": {
    "slideshow": {
     "slide_type": "slide"
    }
   },
   "source": [
    "<center><h2>Agenda</h2></center>\n",
    "<ul>\n",
    "    <li> Skill Check</li>\n",
    "    <li> <b>Content</b> </li>\n",
    "    <ul>\n",
    "        <li> lambda\n",
    "        <li> iterators\n",
    "        <li> map\n",
    "        <li> filter\n",
    "    </ul>\n",
    "    <li> Practice Questions </li>\n",
    "</ul>"
   ]
  },
  {
   "cell_type": "markdown",
   "id": "9899c820",
   "metadata": {
    "slideshow": {
     "slide_type": "slide"
    }
   },
   "source": [
    "<center><h3>Skill Test 2</h3></center>\n",
    "\n",
    "<center>A fair amount of students complained to me that skill test #2 was too hard, let's take a look at that.</center>\n",
    "\n",
    "<center>note to self: chatgpt</center>"
   ]
  },
  {
   "cell_type": "markdown",
   "id": "80c5cd13",
   "metadata": {
    "slideshow": {
     "slide_type": "slide"
    }
   },
   "source": [
    "<center><h3> Skill 1 (Populate Dictionary)</h3></center>\n",
    "<center>Write a function populate_dict that takes in a list of tuples that each contain a key and a value (ex: [(key1, val1), (key2, val2)...]. The function should add each pair to the dictionary and return the final dictionary with all the key-value pairs.</center>"
   ]
  },
  {
   "cell_type": "code",
   "execution_count": 2,
   "id": "dc48df83",
   "metadata": {
    "slideshow": {
     "slide_type": "fragment"
    }
   },
   "outputs": [],
   "source": [
    "def populate_dict(lst):\n",
    "    \"\"\"\n",
    "    Function to add all elements in lst to a dictionary.\n",
    "\n",
    "    args:\n",
    "        lst (list): list of tuples containing (key, value) pairs\n",
    "    returns:\n",
    "        a dictionary populated with all key, value pairs\n",
    "\n",
    "    >>> populate_dict([('DSC20', 'Python'), ('DSC10', 'Baby pandas'), \\\n",
    "    ('DSC30', 'Java')])\n",
    "    {'DSC20': 'Python', 'DSC10': 'Baby pandas', 'DSC30': 'Java'}\n",
    "    \"\"\""
   ]
  },
  {
   "cell_type": "markdown",
   "id": "0d0ccbf3",
   "metadata": {
    "slideshow": {
     "slide_type": "slide"
    }
   },
   "source": [
    "<center><h3>Select the correct way to implement the above function</h3></center>\n",
    "\n",
    "A. \n",
    "```\n",
    "return dict(lst)\n",
    "```\n",
    "B.\n",
    "```\n",
    "output = {}\n",
    "for i in lst:\n",
    "    output[i[0]] = i[1]\n",
    "    return output\n",
    "```\n",
    "C.\n",
    "```\n",
    "output = {}\n",
    "for i in lst:\n",
    "    output[i[0]] = i[1]\n",
    "return output\n",
    "```\n",
    "D. \n",
    "```\n",
    "output = {}\n",
    "for i in lst:\n",
    "    for x,y in i:\n",
    "        output[x] = y\n",
    "return output\n",
    "```"
   ]
  },
  {
   "cell_type": "markdown",
   "id": "2739180e",
   "metadata": {
    "slideshow": {
     "slide_type": "slide"
    }
   },
   "source": [
    "<center><h3> Skill 1 Solution</h3></center>"
   ]
  },
  {
   "cell_type": "code",
   "execution_count": 4,
   "id": "51bb12c8",
   "metadata": {
    "slideshow": {
     "slide_type": "fragment"
    }
   },
   "outputs": [
    {
     "data": {
      "text/plain": [
       "{'DSC20': 'Python', 'DSC10': 'Baby pandas', 'DSC30': 'Java'}"
      ]
     },
     "execution_count": 4,
     "metadata": {},
     "output_type": "execute_result"
    }
   ],
   "source": [
    "def populate_dict(lst):\n",
    "    return dict(lst)\n",
    "populate_dict([('DSC20', 'Python'), ('DSC10', 'Baby pandas'), ('DSC30', 'Java')])"
   ]
  },
  {
   "cell_type": "code",
   "execution_count": 5,
   "id": "43051fb5",
   "metadata": {
    "slideshow": {
     "slide_type": "fragment"
    }
   },
   "outputs": [
    {
     "data": {
      "text/plain": [
       "{'DSC20': 'Python', 'DSC10': 'Baby pandas', 'DSC30': 'Java'}"
      ]
     },
     "execution_count": 5,
     "metadata": {},
     "output_type": "execute_result"
    }
   ],
   "source": [
    "def populate_dict(lst):\n",
    "    output = {}\n",
    "    for i in lst:\n",
    "        output[i[0]] = i[1]\n",
    "    return output\n",
    "populate_dict([('DSC20', 'Python'), ('DSC10', 'Baby pandas'), ('DSC30', 'Java')])"
   ]
  },
  {
   "cell_type": "code",
   "execution_count": 6,
   "id": "d6ef9561",
   "metadata": {
    "slideshow": {
     "slide_type": "fragment"
    }
   },
   "outputs": [
    {
     "data": {
      "text/plain": [
       "{'DSC20': 'Python'}"
      ]
     },
     "execution_count": 6,
     "metadata": {},
     "output_type": "execute_result"
    }
   ],
   "source": [
    "def populate_dict(lst):\n",
    "    output = {}\n",
    "    for i in lst:\n",
    "        output[i[0]] = i[1]\n",
    "        return output\n",
    "populate_dict([('DSC20', 'Python'), ('DSC10', 'Baby pandas'), ('DSC30', 'Java')])"
   ]
  },
  {
   "cell_type": "code",
   "execution_count": 7,
   "id": "3b6a5cb3",
   "metadata": {
    "slideshow": {
     "slide_type": "fragment"
    }
   },
   "outputs": [
    {
     "ename": "ValueError",
     "evalue": "too many values to unpack (expected 2)",
     "output_type": "error",
     "traceback": [
      "\u001b[0;31m---------------------------------------------------------------------------\u001b[0m",
      "\u001b[0;31mValueError\u001b[0m                                Traceback (most recent call last)",
      "Cell \u001b[0;32mIn[7], line 7\u001b[0m\n\u001b[1;32m      5\u001b[0m             output[x] \u001b[38;5;241m=\u001b[39m y\n\u001b[1;32m      6\u001b[0m     \u001b[38;5;28;01mreturn\u001b[39;00m output\n\u001b[0;32m----> 7\u001b[0m \u001b[43mpopulate_dict\u001b[49m\u001b[43m(\u001b[49m\u001b[43m[\u001b[49m\u001b[43m(\u001b[49m\u001b[38;5;124;43m'\u001b[39;49m\u001b[38;5;124;43mDSC20\u001b[39;49m\u001b[38;5;124;43m'\u001b[39;49m\u001b[43m,\u001b[49m\u001b[43m \u001b[49m\u001b[38;5;124;43m'\u001b[39;49m\u001b[38;5;124;43mPython\u001b[39;49m\u001b[38;5;124;43m'\u001b[39;49m\u001b[43m)\u001b[49m\u001b[43m,\u001b[49m\u001b[43m \u001b[49m\u001b[43m(\u001b[49m\u001b[38;5;124;43m'\u001b[39;49m\u001b[38;5;124;43mDSC10\u001b[39;49m\u001b[38;5;124;43m'\u001b[39;49m\u001b[43m,\u001b[49m\u001b[43m \u001b[49m\u001b[38;5;124;43m'\u001b[39;49m\u001b[38;5;124;43mBaby pandas\u001b[39;49m\u001b[38;5;124;43m'\u001b[39;49m\u001b[43m)\u001b[49m\u001b[43m,\u001b[49m\u001b[43m \u001b[49m\u001b[43m(\u001b[49m\u001b[38;5;124;43m'\u001b[39;49m\u001b[38;5;124;43mDSC30\u001b[39;49m\u001b[38;5;124;43m'\u001b[39;49m\u001b[43m,\u001b[49m\u001b[43m \u001b[49m\u001b[38;5;124;43m'\u001b[39;49m\u001b[38;5;124;43mJava\u001b[39;49m\u001b[38;5;124;43m'\u001b[39;49m\u001b[43m)\u001b[49m\u001b[43m]\u001b[49m\u001b[43m)\u001b[49m\n",
      "Cell \u001b[0;32mIn[7], line 4\u001b[0m, in \u001b[0;36mpopulate_dict\u001b[0;34m(lst)\u001b[0m\n\u001b[1;32m      2\u001b[0m output \u001b[38;5;241m=\u001b[39m {}\n\u001b[1;32m      3\u001b[0m \u001b[38;5;28;01mfor\u001b[39;00m i \u001b[38;5;129;01min\u001b[39;00m lst:\n\u001b[0;32m----> 4\u001b[0m     \u001b[38;5;28;01mfor\u001b[39;00m x,y \u001b[38;5;129;01min\u001b[39;00m i:\n\u001b[1;32m      5\u001b[0m         output[x] \u001b[38;5;241m=\u001b[39m y\n\u001b[1;32m      6\u001b[0m \u001b[38;5;28;01mreturn\u001b[39;00m output\n",
      "\u001b[0;31mValueError\u001b[0m: too many values to unpack (expected 2)"
     ]
    }
   ],
   "source": [
    "def populate_dict(lst):\n",
    "    output = {}\n",
    "    for i in lst:\n",
    "        for x,y in i:\n",
    "            output[x] = y\n",
    "    return output\n",
    "populate_dict([('DSC20', 'Python'), ('DSC10', 'Baby pandas'), ('DSC30', 'Java')])"
   ]
  },
  {
   "cell_type": "markdown",
   "id": "47852f68",
   "metadata": {
    "slideshow": {
     "slide_type": "slide"
    }
   },
   "source": [
    "<center><h3>Skill 2 (Update Dictionary)</h3></center>\n",
    "\n",
    "<center>Write a function update_dict that takes in a dictionary, a key, and a new value. The function should update the value for the specified key by adding the old value with the new value and return the updated dictionary. </center>"
   ]
  },
  {
   "cell_type": "code",
   "execution_count": null,
   "id": "80b1e4bc",
   "metadata": {
    "slideshow": {
     "slide_type": "fragment"
    }
   },
   "outputs": [],
   "source": [
    "def update_dict(original_dict, key, val):\n",
    "    \"\"\"\n",
    "    Function to update the value for the specified key.\n",
    "\n",
    "    args:\n",
    "        original_dict (dictionary): dictionary to be updated\n",
    "        key (string): preexisting key in the dictionary\n",
    "        val (int): new value to update with\n",
    "    returns:\n",
    "        the updated dictionary\n",
    "\n",
    "    >>> original_dict = {'apples': 3, 'bananas': 10, 'grapes': 6}\n",
    "    >>> new_dict = update_dict(original_dict, 'bananas', 4)\n",
    "    >>> new_dict\n",
    "    {'apples': 3, 'bananas': 14, 'grapes': 6}\n",
    "    \"\"\""
   ]
  },
  {
   "cell_type": "markdown",
   "id": "68813408",
   "metadata": {
    "slideshow": {
     "slide_type": "slide"
    }
   },
   "source": [
    "<center><h3>Select the correct way to implement the above function</h3></center>\n",
    "\n",
    "A. \n",
    "```\n",
    "return original_dict[key] += val\n",
    "```\n",
    "B.\n",
    "```\n",
    "for k in original_dict:\n",
    "    if k == key:\n",
    "        original_dict[k] += val\n",
    "return original_dict\n",
    "```\n",
    "C.\n",
    "```\n",
    "original_dict[key] += val\n",
    "return original_dict\n",
    "```\n",
    "D.\n",
    "```\n",
    "original_dict.update({key:val})\n",
    "return original_dict\n",
    "```"
   ]
  },
  {
   "cell_type": "markdown",
   "id": "c9ce1cea",
   "metadata": {
    "slideshow": {
     "slide_type": "slide"
    }
   },
   "source": [
    "<center><h3>Skill 2 Solution</h3></center>"
   ]
  },
  {
   "cell_type": "code",
   "execution_count": 25,
   "id": "cde3b5e9",
   "metadata": {
    "slideshow": {
     "slide_type": "skip"
    }
   },
   "outputs": [],
   "source": [
    "original_dict = {'apples': 3, 'bananas': 10, 'grapes': 6}"
   ]
  },
  {
   "cell_type": "code",
   "execution_count": 26,
   "id": "5361a303",
   "metadata": {
    "slideshow": {
     "slide_type": "fragment"
    }
   },
   "outputs": [
    {
     "data": {
      "text/plain": [
       "{'apples': 3, 'bananas': 14, 'grapes': 6}"
      ]
     },
     "execution_count": 26,
     "metadata": {},
     "output_type": "execute_result"
    }
   ],
   "source": [
    "def update_dict(original_dict, key, val):\n",
    "    original_dict[key] += val\n",
    "    return original_dict\n",
    "    \n",
    "update_dict(original_dict, 'bananas', 4)"
   ]
  },
  {
   "cell_type": "code",
   "execution_count": 27,
   "id": "f9a4e19e",
   "metadata": {
    "slideshow": {
     "slide_type": "skip"
    }
   },
   "outputs": [],
   "source": [
    "original_dict = {'apples': 3, 'bananas': 10, 'grapes': 6}"
   ]
  },
  {
   "cell_type": "code",
   "execution_count": 28,
   "id": "426bcd4c",
   "metadata": {
    "slideshow": {
     "slide_type": "fragment"
    }
   },
   "outputs": [
    {
     "data": {
      "text/plain": [
       "{'apples': 3, 'bananas': 14, 'grapes': 6}"
      ]
     },
     "execution_count": 28,
     "metadata": {},
     "output_type": "execute_result"
    }
   ],
   "source": [
    "def update_dict(original_dict, key, val):\n",
    "    for k in original_dict:\n",
    "        if k == key:\n",
    "            original_dict[k] += val\n",
    "    return original_dict\n",
    "update_dict(original_dict, 'bananas', 4)"
   ]
  },
  {
   "cell_type": "code",
   "execution_count": 29,
   "id": "7f9d4162",
   "metadata": {
    "slideshow": {
     "slide_type": "skip"
    }
   },
   "outputs": [],
   "source": [
    "original_dict = {'apples': 3, 'bananas': 10, 'grapes': 6}"
   ]
  },
  {
   "cell_type": "code",
   "execution_count": 32,
   "id": "c0eb564a",
   "metadata": {
    "slideshow": {
     "slide_type": "fragment"
    }
   },
   "outputs": [
    {
     "data": {
      "text/plain": [
       "{'apples': 3, 'bananas': 4, 'grapes': 6}"
      ]
     },
     "execution_count": 32,
     "metadata": {},
     "output_type": "execute_result"
    }
   ],
   "source": [
    "def update_dict(original_dict, key, val):\n",
    "    original_dict.update({key:val})\n",
    "    return original_dict\n",
    "update_dict(original_dict, 'bananas', 4)"
   ]
  },
  {
   "cell_type": "code",
   "execution_count": 30,
   "id": "c2484c1b",
   "metadata": {
    "slideshow": {
     "slide_type": "fragment"
    }
   },
   "outputs": [
    {
     "ename": "SyntaxError",
     "evalue": "invalid syntax (1337376701.py, line 2)",
     "output_type": "error",
     "traceback": [
      "\u001b[0;36m  Cell \u001b[0;32mIn[30], line 2\u001b[0;36m\u001b[0m\n\u001b[0;31m    return original_dict[key] += val\u001b[0m\n\u001b[0m                              ^\u001b[0m\n\u001b[0;31mSyntaxError\u001b[0m\u001b[0;31m:\u001b[0m invalid syntax\n"
     ]
    }
   ],
   "source": [
    "def update_dict(original_dict, key, val):\n",
    "    return original_dict[key] += val\n",
    "    \n",
    "update_dict(original_dict, 'bananas', 4)"
   ]
  },
  {
   "cell_type": "markdown",
   "id": "76c4137a",
   "metadata": {
    "slideshow": {
     "slide_type": "slide"
    }
   },
   "source": [
    "<center><h3>Skill 3 (Dictionary Keys/Values)</h3></center>\n",
    "\n",
    "<center>Complete the doctest for the function update_dict to get all the values of the dictionary.</center>"
   ]
  },
  {
   "cell_type": "code",
   "execution_count": 34,
   "id": "22bbf3ef",
   "metadata": {
    "slideshow": {
     "slide_type": "fragment"
    }
   },
   "outputs": [],
   "source": [
    "def update_dict(original_dict, key, val):\n",
    "    \"\"\"\n",
    "    Function to update the value for the specified key.\n",
    "\n",
    "    >>> original_dict = {'apples': 3, 'bananas': 10, 'grapes': 6}\n",
    "    >>> new_dict = update_dict(original_dict, 'bananas', 4)\n",
    "    >>> new_dict\n",
    "    {'apples': 3, 'bananas': 14, 'grapes': 6}\n",
    "\n",
    "\n",
    "    ### COMPLETE DOCTEST BELOW ###\n",
    "    >>> new_dict # finish this doctest so that the output matches the next line\n",
    "    [3, 14, 6]\n",
    "    \"\"\""
   ]
  },
  {
   "cell_type": "markdown",
   "id": "d1ec2f1d",
   "metadata": {
    "slideshow": {
     "slide_type": "fragment"
    }
   },
   "source": [
    "A. new_dict.values\n",
    "\n",
    "B. list(new_dict.values)\n",
    "\n",
    "C. [3,14,6]\n",
    "\n",
    "D. list(new_dict.values())"
   ]
  },
  {
   "cell_type": "markdown",
   "id": "557dbe91",
   "metadata": {
    "slideshow": {
     "slide_type": "slide"
    }
   },
   "source": [
    "<center><h3> Closing Thoughts </h3></center>\n",
    "\n",
    "- read the errors; if you don't know how to read them, go to office hours\n",
    "- don't permutation test code to pass doctests, think about what you're actually writing\n",
    "- remember that skill tests are intended to check **the most basic skills** of the topic possible; doing poorly on skill tests isn't the end, it means you need to shore up your basics\n",
    "- note: homework doctests"
   ]
  },
  {
   "cell_type": "markdown",
   "id": "92b91374",
   "metadata": {
    "slideshow": {
     "slide_type": "slide"
    }
   },
   "source": [
    "<center><h2> Content</h2></center>"
   ]
  },
  {
   "cell_type": "markdown",
   "id": "fb3ae858",
   "metadata": {
    "slideshow": {
     "slide_type": "slide"
    }
   },
   "source": [
    "<center><h3> Lambda Functions </h3></center>\n",
    "<ul>\n",
    "    <li> known as anonymous functions (their functions are so simple, they don't need a name)\n",
    "    <li> syntax: lambda (input): (some operation)\n",
    "    <li> within the scope of this course, lambda is used in conjunction with map and filter"
   ]
  },
  {
   "cell_type": "code",
   "execution_count": 4,
   "id": "f1f1d480",
   "metadata": {
    "slideshow": {
     "slide_type": "fragment"
    }
   },
   "outputs": [
    {
     "data": {
      "text/plain": [
       "3"
      ]
     },
     "execution_count": 4,
     "metadata": {},
     "output_type": "execute_result"
    }
   ],
   "source": [
    "def add_2(x):\n",
    "    return x+2\n",
    "add_2(1)"
   ]
  },
  {
   "cell_type": "code",
   "execution_count": 5,
   "id": "b09b0268",
   "metadata": {
    "slideshow": {
     "slide_type": "fragment"
    }
   },
   "outputs": [
    {
     "data": {
      "text/plain": [
       "3"
      ]
     },
     "execution_count": 5,
     "metadata": {},
     "output_type": "execute_result"
    }
   ],
   "source": [
    "func = lambda x: x+2\n",
    "func(1)"
   ]
  },
  {
   "cell_type": "markdown",
   "id": "53b40aaa",
   "metadata": {
    "slideshow": {
     "slide_type": "slide"
    }
   },
   "source": [
    "<center><h3 style = 'color:blue'> Checkpoint </h3></center>\n",
    "\n",
    "<center>Are the following 2 functions equivalent?</center>"
   ]
  },
  {
   "cell_type": "code",
   "execution_count": 6,
   "id": "3f8f355e",
   "metadata": {
    "slideshow": {
     "slide_type": "fragment"
    }
   },
   "outputs": [],
   "source": [
    "def strip_caps(string):\n",
    "    output = ''\n",
    "    for char in string:\n",
    "        if not char.isupper():\n",
    "            output+=char\n",
    "    return output"
   ]
  },
  {
   "cell_type": "code",
   "execution_count": 7,
   "id": "2e71cdae",
   "metadata": {
    "slideshow": {
     "slide_type": "fragment"
    }
   },
   "outputs": [],
   "source": [
    "lambda_strip = lambda x: x if x.isupper() else ''"
   ]
  },
  {
   "cell_type": "markdown",
   "id": "76e475d3",
   "metadata": {
    "slideshow": {
     "slide_type": "fragment"
    }
   },
   "source": [
    "A. Yes\n",
    "\n",
    "B. No"
   ]
  },
  {
   "cell_type": "markdown",
   "id": "9955a30c",
   "metadata": {
    "slideshow": {
     "slide_type": "slide"
    }
   },
   "source": [
    "<center><h3 style = 'color:blue'> Checkpoint Solution</h3></center>\n",
    "\n",
    "<center> nope! </center>"
   ]
  },
  {
   "cell_type": "code",
   "execution_count": 11,
   "id": "ef5620bf",
   "metadata": {
    "slideshow": {
     "slide_type": "fragment"
    }
   },
   "outputs": [],
   "source": [
    "example = 'MARINAlanglois'"
   ]
  },
  {
   "cell_type": "code",
   "execution_count": 12,
   "id": "a2671d34",
   "metadata": {
    "slideshow": {
     "slide_type": "fragment"
    }
   },
   "outputs": [
    {
     "data": {
      "text/plain": [
       "'langlois'"
      ]
     },
     "execution_count": 12,
     "metadata": {},
     "output_type": "execute_result"
    }
   ],
   "source": [
    "strip_caps(example)"
   ]
  },
  {
   "cell_type": "code",
   "execution_count": 13,
   "id": "7647b38d",
   "metadata": {
    "slideshow": {
     "slide_type": "fragment"
    }
   },
   "outputs": [
    {
     "data": {
      "text/plain": [
       "'MARINA'"
      ]
     },
     "execution_count": 13,
     "metadata": {},
     "output_type": "execute_result"
    }
   ],
   "source": [
    "''.join(list(map(lambda_strip, example)))"
   ]
  },
  {
   "cell_type": "markdown",
   "id": "383e61c6",
   "metadata": {
    "slideshow": {
     "slide_type": "slide"
    }
   },
   "source": [
    "<center><h3>Iterator</h3></center>\n",
    "Iterator -\n",
    "<b>Syntax: iter(iterable)</b>, <b>next(iterator)</b>\n",
    "<ul>\n",
    "    <li> An iterator in Python is an object that can be iterated upon, meaning that you can traverse through all the values.\n",
    "    <li> Typically, an iterator is created from an iterable using the <code>iter()</code> function and the elements are accessed via the <code>next()</code> function.\n",
    "    <li> Iterators remember the state as you traverse through them. The next call to <code>next()</code> starts off where the previous one stopped.\n",
    "</ul>\n"
   ]
  },
  {
   "cell_type": "code",
   "execution_count": 74,
   "id": "8a9a6409",
   "metadata": {
    "slideshow": {
     "slide_type": "fragment"
    }
   },
   "outputs": [
    {
     "name": "stdout",
     "output_type": "stream",
     "text": [
      "DSC20 is so hard. It's probably the hardest class I've taken! \n",
      "I have so many hard classes this quarter.\n"
     ]
    }
   ],
   "source": [
    "with open('files/review.txt', 'r') as f:\n",
    "    print(f.read())"
   ]
  },
  {
   "cell_type": "code",
   "execution_count": 75,
   "id": "b80ce8dc",
   "metadata": {
    "slideshow": {
     "slide_type": "fragment"
    }
   },
   "outputs": [
    {
     "name": "stdout",
     "output_type": "stream",
     "text": [
      "I have so many hard classes this quarter.\n"
     ]
    }
   ],
   "source": [
    "with open('files/review.txt', 'r') as f:\n",
    "    f.readline()\n",
    "    print(f.read())"
   ]
  },
  {
   "cell_type": "code",
   "execution_count": 78,
   "id": "7b8e0b68",
   "metadata": {
    "slideshow": {
     "slide_type": "fragment"
    }
   },
   "outputs": [
    {
     "name": "stdout",
     "output_type": "stream",
     "text": [
      "\n"
     ]
    }
   ],
   "source": [
    "with open('files/review.txt', 'r') as f:\n",
    "    f.readlines()\n",
    "    print(f.read())"
   ]
  },
  {
   "cell_type": "markdown",
   "id": "eb3fbe22",
   "metadata": {
    "slideshow": {
     "slide_type": "slide"
    }
   },
   "source": [
    "<center><h3>Map</h3></center>\n",
    "Map -\n",
    "<b>Syntax: map(function, iterable)</b>\n",
    "<ul>\n",
    "    <li> Map allows you to apply a function to all elements to an iterable input\n",
    "    <li> very common to use a lambda function as the function to apply\n",
    "    <li> returns a lazy iterator through the iterable object, applying the function as it traverses\n",
    "</ul>"
   ]
  },
  {
   "cell_type": "code",
   "execution_count": 12,
   "id": "2af93328",
   "metadata": {
    "slideshow": {
     "slide_type": "fragment"
    }
   },
   "outputs": [
    {
     "data": {
      "text/plain": [
       "[3, 4, 5, 6, 7]"
      ]
     },
     "execution_count": 12,
     "metadata": {},
     "output_type": "execute_result"
    }
   ],
   "source": [
    "data = [1,2,3,4,5]\n",
    "list(map(lambda x:x+2, data))"
   ]
  },
  {
   "cell_type": "markdown",
   "id": "d6de0e1f",
   "metadata": {
    "slideshow": {
     "slide_type": "slide"
    }
   },
   "source": [
    "<center><h3>Filter</h3></center>\n",
    "\n",
    "Filter - \n",
    "<b>Syntax: filter(function, iterable)</b>\n",
    "<ul>\n",
    "    <li> Filter takes in a function that returns a boolean and only keeps elements that satisfy the function (i.e. return True).\n",
    "    <li> Very common to use a lambda function as the function to apply, but keep in mind the function <b>must return a boolean</b>.\n",
    "    <li> Returns a lazy iterator through the iterable object that only yields values that pass the function.\n",
    "</ul>"
   ]
  },
  {
   "cell_type": "code",
   "execution_count": 14,
   "id": "d189c34f",
   "metadata": {
    "slideshow": {
     "slide_type": "fragment"
    }
   },
   "outputs": [
    {
     "data": {
      "text/plain": [
       "[2, 4]"
      ]
     },
     "execution_count": 14,
     "metadata": {},
     "output_type": "execute_result"
    }
   ],
   "source": [
    "data = [1,2,3,4,5]\n",
    "list(filter(lambda x:x%2==0,data))"
   ]
  },
  {
   "cell_type": "markdown",
   "id": "069ff821",
   "metadata": {
    "slideshow": {
     "slide_type": "slide"
    }
   },
   "source": [
    "<center><h3 style = 'color:blue'> Checkpoint </h3></center>\n",
    "\n",
    "<center>Are the following 2 statements equivalent?</center>"
   ]
  },
  {
   "cell_type": "code",
   "execution_count": 16,
   "id": "733ae2ff",
   "metadata": {
    "slideshow": {
     "slide_type": "fragment"
    }
   },
   "outputs": [],
   "source": [
    "data = list(range(0,101))"
   ]
  },
  {
   "cell_type": "code",
   "execution_count": null,
   "id": "1018e54e",
   "metadata": {
    "slideshow": {
     "slide_type": "fragment"
    }
   },
   "outputs": [],
   "source": [
    "lambda_map = lambda x: x*2 if x%2==0 else 0\n",
    "sum(map(lambda_map, data))"
   ]
  },
  {
   "cell_type": "code",
   "execution_count": null,
   "id": "af734be9",
   "metadata": {
    "slideshow": {
     "slide_type": "fragment"
    }
   },
   "outputs": [],
   "source": [
    "lambda_filter = lambda x: x%2==0\n",
    "sum(map(lambda_map, filter(lambda_filter, data)))"
   ]
  },
  {
   "cell_type": "markdown",
   "id": "6076b6dd",
   "metadata": {
    "slideshow": {
     "slide_type": "fragment"
    }
   },
   "source": [
    "A. Yes\n",
    "\n",
    "B. No"
   ]
  },
  {
   "cell_type": "markdown",
   "id": "4c114d9b",
   "metadata": {
    "slideshow": {
     "slide_type": "slide"
    }
   },
   "source": [
    "<center><h3 style = 'color:blue'> Checkpoint Solution</h3></center>\n",
    "\n",
    "<center> yep! </center>"
   ]
  },
  {
   "cell_type": "code",
   "execution_count": 19,
   "id": "eb96cda0",
   "metadata": {
    "slideshow": {
     "slide_type": "fragment"
    }
   },
   "outputs": [],
   "source": [
    "data = list(range(0,101))"
   ]
  },
  {
   "cell_type": "code",
   "execution_count": 20,
   "id": "e375b3ee",
   "metadata": {
    "slideshow": {
     "slide_type": "fragment"
    }
   },
   "outputs": [
    {
     "data": {
      "text/plain": [
       "5100"
      ]
     },
     "execution_count": 20,
     "metadata": {},
     "output_type": "execute_result"
    }
   ],
   "source": [
    "lambda_map = lambda x: x*2 if x%2==0 else 0\n",
    "sum(map(lambda_map, data))"
   ]
  },
  {
   "cell_type": "code",
   "execution_count": 21,
   "id": "61d04f6d",
   "metadata": {
    "slideshow": {
     "slide_type": "fragment"
    }
   },
   "outputs": [
    {
     "data": {
      "text/plain": [
       "5100"
      ]
     },
     "execution_count": 21,
     "metadata": {},
     "output_type": "execute_result"
    }
   ],
   "source": [
    "lambda_filter = lambda x: x%2==0\n",
    "sum(map(lambda_map, filter(lambda_filter, data)))"
   ]
  },
  {
   "cell_type": "markdown",
   "id": "beaf6979",
   "metadata": {
    "slideshow": {
     "slide_type": "slide"
    }
   },
   "source": [
    "<center><h3>Real Example</h3></center>\n",
    "\n",
    "<center> Students complained before that I should relate what we learn to real life data science (How I can do that with basic python is beyond me), but this is one of the few times where there's a direct application </center>"
   ]
  },
  {
   "cell_type": "code",
   "execution_count": 39,
   "id": "a1527ff4",
   "metadata": {
    "slideshow": {
     "slide_type": "fragment"
    }
   },
   "outputs": [],
   "source": [
    "import pandas as pd\n",
    "data = pd.read_csv('data/reviews.csv')"
   ]
  },
  {
   "cell_type": "code",
   "execution_count": 40,
   "id": "f1706ef7",
   "metadata": {
    "slideshow": {
     "slide_type": "fragment"
    }
   },
   "outputs": [
    {
     "data": {
      "text/plain": [
       "(568454, 10)"
      ]
     },
     "execution_count": 40,
     "metadata": {},
     "output_type": "execute_result"
    }
   ],
   "source": [
    "data.shape"
   ]
  },
  {
   "cell_type": "code",
   "execution_count": 41,
   "id": "275d11d3",
   "metadata": {
    "slideshow": {
     "slide_type": "fragment"
    }
   },
   "outputs": [
    {
     "data": {
      "text/html": [
       "<div>\n",
       "<style scoped>\n",
       "    .dataframe tbody tr th:only-of-type {\n",
       "        vertical-align: middle;\n",
       "    }\n",
       "\n",
       "    .dataframe tbody tr th {\n",
       "        vertical-align: top;\n",
       "    }\n",
       "\n",
       "    .dataframe thead th {\n",
       "        text-align: right;\n",
       "    }\n",
       "</style>\n",
       "<table border=\"1\" class=\"dataframe\">\n",
       "  <thead>\n",
       "    <tr style=\"text-align: right;\">\n",
       "      <th></th>\n",
       "      <th>Id</th>\n",
       "      <th>ProductId</th>\n",
       "      <th>UserId</th>\n",
       "      <th>ProfileName</th>\n",
       "      <th>HelpfulnessNumerator</th>\n",
       "      <th>HelpfulnessDenominator</th>\n",
       "      <th>Score</th>\n",
       "      <th>Time</th>\n",
       "      <th>Summary</th>\n",
       "      <th>Text</th>\n",
       "    </tr>\n",
       "  </thead>\n",
       "  <tbody>\n",
       "    <tr>\n",
       "      <th>0</th>\n",
       "      <td>1</td>\n",
       "      <td>B001E4KFG0</td>\n",
       "      <td>A3SGXH7AUHU8GW</td>\n",
       "      <td>delmartian</td>\n",
       "      <td>1</td>\n",
       "      <td>1</td>\n",
       "      <td>5</td>\n",
       "      <td>1303862400</td>\n",
       "      <td>Good Quality Dog Food</td>\n",
       "      <td>I have bought several of the Vitality canned d...</td>\n",
       "    </tr>\n",
       "    <tr>\n",
       "      <th>1</th>\n",
       "      <td>2</td>\n",
       "      <td>B00813GRG4</td>\n",
       "      <td>A1D87F6ZCVE5NK</td>\n",
       "      <td>dll pa</td>\n",
       "      <td>0</td>\n",
       "      <td>0</td>\n",
       "      <td>1</td>\n",
       "      <td>1346976000</td>\n",
       "      <td>Not as Advertised</td>\n",
       "      <td>Product arrived labeled as Jumbo Salted Peanut...</td>\n",
       "    </tr>\n",
       "    <tr>\n",
       "      <th>2</th>\n",
       "      <td>3</td>\n",
       "      <td>B000LQOCH0</td>\n",
       "      <td>ABXLMWJIXXAIN</td>\n",
       "      <td>Natalia Corres \"Natalia Corres\"</td>\n",
       "      <td>1</td>\n",
       "      <td>1</td>\n",
       "      <td>4</td>\n",
       "      <td>1219017600</td>\n",
       "      <td>\"Delight\" says it all</td>\n",
       "      <td>This is a confection that has been around a fe...</td>\n",
       "    </tr>\n",
       "    <tr>\n",
       "      <th>3</th>\n",
       "      <td>4</td>\n",
       "      <td>B000UA0QIQ</td>\n",
       "      <td>A395BORC6FGVXV</td>\n",
       "      <td>Karl</td>\n",
       "      <td>3</td>\n",
       "      <td>3</td>\n",
       "      <td>2</td>\n",
       "      <td>1307923200</td>\n",
       "      <td>Cough Medicine</td>\n",
       "      <td>If you are looking for the secret ingredient i...</td>\n",
       "    </tr>\n",
       "    <tr>\n",
       "      <th>4</th>\n",
       "      <td>5</td>\n",
       "      <td>B006K2ZZ7K</td>\n",
       "      <td>A1UQRSCLF8GW1T</td>\n",
       "      <td>Michael D. Bigham \"M. Wassir\"</td>\n",
       "      <td>0</td>\n",
       "      <td>0</td>\n",
       "      <td>5</td>\n",
       "      <td>1350777600</td>\n",
       "      <td>Great taffy</td>\n",
       "      <td>Great taffy at a great price.  There was a wid...</td>\n",
       "    </tr>\n",
       "  </tbody>\n",
       "</table>\n",
       "</div>"
      ],
      "text/plain": [
       "   Id   ProductId          UserId                      ProfileName  \\\n",
       "0   1  B001E4KFG0  A3SGXH7AUHU8GW                       delmartian   \n",
       "1   2  B00813GRG4  A1D87F6ZCVE5NK                           dll pa   \n",
       "2   3  B000LQOCH0   ABXLMWJIXXAIN  Natalia Corres \"Natalia Corres\"   \n",
       "3   4  B000UA0QIQ  A395BORC6FGVXV                             Karl   \n",
       "4   5  B006K2ZZ7K  A1UQRSCLF8GW1T    Michael D. Bigham \"M. Wassir\"   \n",
       "\n",
       "   HelpfulnessNumerator  HelpfulnessDenominator  Score        Time  \\\n",
       "0                     1                       1      5  1303862400   \n",
       "1                     0                       0      1  1346976000   \n",
       "2                     1                       1      4  1219017600   \n",
       "3                     3                       3      2  1307923200   \n",
       "4                     0                       0      5  1350777600   \n",
       "\n",
       "                 Summary                                               Text  \n",
       "0  Good Quality Dog Food  I have bought several of the Vitality canned d...  \n",
       "1      Not as Advertised  Product arrived labeled as Jumbo Salted Peanut...  \n",
       "2  \"Delight\" says it all  This is a confection that has been around a fe...  \n",
       "3         Cough Medicine  If you are looking for the secret ingredient i...  \n",
       "4            Great taffy  Great taffy at a great price.  There was a wid...  "
      ]
     },
     "execution_count": 41,
     "metadata": {},
     "output_type": "execute_result"
    }
   ],
   "source": [
    "data.head()"
   ]
  },
  {
   "cell_type": "markdown",
   "id": "bcef7e74",
   "metadata": {
    "slideshow": {
     "slide_type": "fragment"
    }
   },
   "source": [
    "<center>Let's say I want to filter the entries down to entries from 2012. The Time column seems to be in unix time, which is not very human interpretable. Let's write an expression to transform it into something else.</center>"
   ]
  },
  {
   "cell_type": "code",
   "execution_count": 42,
   "id": "d87989a5",
   "metadata": {
    "slideshow": {
     "slide_type": "slide"
    }
   },
   "outputs": [],
   "source": [
    "from datetime import datetime"
   ]
  },
  {
   "cell_type": "code",
   "execution_count": 43,
   "id": "096eb7a0",
   "metadata": {
    "slideshow": {
     "slide_type": "fragment"
    }
   },
   "outputs": [
    {
     "data": {
      "text/html": [
       "<div>\n",
       "<style scoped>\n",
       "    .dataframe tbody tr th:only-of-type {\n",
       "        vertical-align: middle;\n",
       "    }\n",
       "\n",
       "    .dataframe tbody tr th {\n",
       "        vertical-align: top;\n",
       "    }\n",
       "\n",
       "    .dataframe thead th {\n",
       "        text-align: right;\n",
       "    }\n",
       "</style>\n",
       "<table border=\"1\" class=\"dataframe\">\n",
       "  <thead>\n",
       "    <tr style=\"text-align: right;\">\n",
       "      <th></th>\n",
       "      <th>Id</th>\n",
       "      <th>ProductId</th>\n",
       "      <th>UserId</th>\n",
       "      <th>ProfileName</th>\n",
       "      <th>HelpfulnessNumerator</th>\n",
       "      <th>HelpfulnessDenominator</th>\n",
       "      <th>Score</th>\n",
       "      <th>Time</th>\n",
       "      <th>Summary</th>\n",
       "      <th>Text</th>\n",
       "    </tr>\n",
       "  </thead>\n",
       "  <tbody>\n",
       "    <tr>\n",
       "      <th>0</th>\n",
       "      <td>1</td>\n",
       "      <td>B001E4KFG0</td>\n",
       "      <td>A3SGXH7AUHU8GW</td>\n",
       "      <td>delmartian</td>\n",
       "      <td>1</td>\n",
       "      <td>1</td>\n",
       "      <td>5</td>\n",
       "      <td>2011-04-27</td>\n",
       "      <td>Good Quality Dog Food</td>\n",
       "      <td>I have bought several of the Vitality canned d...</td>\n",
       "    </tr>\n",
       "    <tr>\n",
       "      <th>1</th>\n",
       "      <td>2</td>\n",
       "      <td>B00813GRG4</td>\n",
       "      <td>A1D87F6ZCVE5NK</td>\n",
       "      <td>dll pa</td>\n",
       "      <td>0</td>\n",
       "      <td>0</td>\n",
       "      <td>1</td>\n",
       "      <td>2012-09-07</td>\n",
       "      <td>Not as Advertised</td>\n",
       "      <td>Product arrived labeled as Jumbo Salted Peanut...</td>\n",
       "    </tr>\n",
       "    <tr>\n",
       "      <th>2</th>\n",
       "      <td>3</td>\n",
       "      <td>B000LQOCH0</td>\n",
       "      <td>ABXLMWJIXXAIN</td>\n",
       "      <td>Natalia Corres \"Natalia Corres\"</td>\n",
       "      <td>1</td>\n",
       "      <td>1</td>\n",
       "      <td>4</td>\n",
       "      <td>2008-08-18</td>\n",
       "      <td>\"Delight\" says it all</td>\n",
       "      <td>This is a confection that has been around a fe...</td>\n",
       "    </tr>\n",
       "    <tr>\n",
       "      <th>3</th>\n",
       "      <td>4</td>\n",
       "      <td>B000UA0QIQ</td>\n",
       "      <td>A395BORC6FGVXV</td>\n",
       "      <td>Karl</td>\n",
       "      <td>3</td>\n",
       "      <td>3</td>\n",
       "      <td>2</td>\n",
       "      <td>2011-06-13</td>\n",
       "      <td>Cough Medicine</td>\n",
       "      <td>If you are looking for the secret ingredient i...</td>\n",
       "    </tr>\n",
       "    <tr>\n",
       "      <th>4</th>\n",
       "      <td>5</td>\n",
       "      <td>B006K2ZZ7K</td>\n",
       "      <td>A1UQRSCLF8GW1T</td>\n",
       "      <td>Michael D. Bigham \"M. Wassir\"</td>\n",
       "      <td>0</td>\n",
       "      <td>0</td>\n",
       "      <td>5</td>\n",
       "      <td>2012-10-21</td>\n",
       "      <td>Great taffy</td>\n",
       "      <td>Great taffy at a great price.  There was a wid...</td>\n",
       "    </tr>\n",
       "  </tbody>\n",
       "</table>\n",
       "</div>"
      ],
      "text/plain": [
       "   Id   ProductId          UserId                      ProfileName  \\\n",
       "0   1  B001E4KFG0  A3SGXH7AUHU8GW                       delmartian   \n",
       "1   2  B00813GRG4  A1D87F6ZCVE5NK                           dll pa   \n",
       "2   3  B000LQOCH0   ABXLMWJIXXAIN  Natalia Corres \"Natalia Corres\"   \n",
       "3   4  B000UA0QIQ  A395BORC6FGVXV                             Karl   \n",
       "4   5  B006K2ZZ7K  A1UQRSCLF8GW1T    Michael D. Bigham \"M. Wassir\"   \n",
       "\n",
       "   HelpfulnessNumerator  HelpfulnessDenominator  Score       Time  \\\n",
       "0                     1                       1      5 2011-04-27   \n",
       "1                     0                       0      1 2012-09-07   \n",
       "2                     1                       1      4 2008-08-18   \n",
       "3                     3                       3      2 2011-06-13   \n",
       "4                     0                       0      5 2012-10-21   \n",
       "\n",
       "                 Summary                                               Text  \n",
       "0  Good Quality Dog Food  I have bought several of the Vitality canned d...  \n",
       "1      Not as Advertised  Product arrived labeled as Jumbo Salted Peanut...  \n",
       "2  \"Delight\" says it all  This is a confection that has been around a fe...  \n",
       "3         Cough Medicine  If you are looking for the secret ingredient i...  \n",
       "4            Great taffy  Great taffy at a great price.  There was a wid...  "
      ]
     },
     "execution_count": 43,
     "metadata": {},
     "output_type": "execute_result"
    }
   ],
   "source": [
    "data['Time'] = data['Time'].apply(lambda x: datetime.utcfromtimestamp(x))\n",
    "data.head()"
   ]
  },
  {
   "cell_type": "code",
   "execution_count": 52,
   "id": "11716fe4",
   "metadata": {
    "slideshow": {
     "slide_type": "slide"
    }
   },
   "outputs": [],
   "source": [
    "data['Year'] = data['Time'].apply(lambda x: int(str(x)[:4]))"
   ]
  },
  {
   "cell_type": "code",
   "execution_count": 54,
   "id": "701224ae",
   "metadata": {
    "slideshow": {
     "slide_type": "fragment"
    }
   },
   "outputs": [
    {
     "data": {
      "text/html": [
       "<div>\n",
       "<style scoped>\n",
       "    .dataframe tbody tr th:only-of-type {\n",
       "        vertical-align: middle;\n",
       "    }\n",
       "\n",
       "    .dataframe tbody tr th {\n",
       "        vertical-align: top;\n",
       "    }\n",
       "\n",
       "    .dataframe thead th {\n",
       "        text-align: right;\n",
       "    }\n",
       "</style>\n",
       "<table border=\"1\" class=\"dataframe\">\n",
       "  <thead>\n",
       "    <tr style=\"text-align: right;\">\n",
       "      <th></th>\n",
       "      <th>Id</th>\n",
       "      <th>ProductId</th>\n",
       "      <th>UserId</th>\n",
       "      <th>ProfileName</th>\n",
       "      <th>HelpfulnessNumerator</th>\n",
       "      <th>HelpfulnessDenominator</th>\n",
       "      <th>Score</th>\n",
       "      <th>Time</th>\n",
       "      <th>Summary</th>\n",
       "      <th>Text</th>\n",
       "      <th>Year</th>\n",
       "    </tr>\n",
       "  </thead>\n",
       "  <tbody>\n",
       "    <tr>\n",
       "      <th>0</th>\n",
       "      <td>1</td>\n",
       "      <td>B001E4KFG0</td>\n",
       "      <td>A3SGXH7AUHU8GW</td>\n",
       "      <td>delmartian</td>\n",
       "      <td>1</td>\n",
       "      <td>1</td>\n",
       "      <td>5</td>\n",
       "      <td>2011-04-27</td>\n",
       "      <td>Good Quality Dog Food</td>\n",
       "      <td>I have bought several of the Vitality canned d...</td>\n",
       "      <td>2011</td>\n",
       "    </tr>\n",
       "    <tr>\n",
       "      <th>1</th>\n",
       "      <td>2</td>\n",
       "      <td>B00813GRG4</td>\n",
       "      <td>A1D87F6ZCVE5NK</td>\n",
       "      <td>dll pa</td>\n",
       "      <td>0</td>\n",
       "      <td>0</td>\n",
       "      <td>1</td>\n",
       "      <td>2012-09-07</td>\n",
       "      <td>Not as Advertised</td>\n",
       "      <td>Product arrived labeled as Jumbo Salted Peanut...</td>\n",
       "      <td>2012</td>\n",
       "    </tr>\n",
       "    <tr>\n",
       "      <th>2</th>\n",
       "      <td>3</td>\n",
       "      <td>B000LQOCH0</td>\n",
       "      <td>ABXLMWJIXXAIN</td>\n",
       "      <td>Natalia Corres \"Natalia Corres\"</td>\n",
       "      <td>1</td>\n",
       "      <td>1</td>\n",
       "      <td>4</td>\n",
       "      <td>2008-08-18</td>\n",
       "      <td>\"Delight\" says it all</td>\n",
       "      <td>This is a confection that has been around a fe...</td>\n",
       "      <td>2008</td>\n",
       "    </tr>\n",
       "    <tr>\n",
       "      <th>3</th>\n",
       "      <td>4</td>\n",
       "      <td>B000UA0QIQ</td>\n",
       "      <td>A395BORC6FGVXV</td>\n",
       "      <td>Karl</td>\n",
       "      <td>3</td>\n",
       "      <td>3</td>\n",
       "      <td>2</td>\n",
       "      <td>2011-06-13</td>\n",
       "      <td>Cough Medicine</td>\n",
       "      <td>If you are looking for the secret ingredient i...</td>\n",
       "      <td>2011</td>\n",
       "    </tr>\n",
       "    <tr>\n",
       "      <th>4</th>\n",
       "      <td>5</td>\n",
       "      <td>B006K2ZZ7K</td>\n",
       "      <td>A1UQRSCLF8GW1T</td>\n",
       "      <td>Michael D. Bigham \"M. Wassir\"</td>\n",
       "      <td>0</td>\n",
       "      <td>0</td>\n",
       "      <td>5</td>\n",
       "      <td>2012-10-21</td>\n",
       "      <td>Great taffy</td>\n",
       "      <td>Great taffy at a great price.  There was a wid...</td>\n",
       "      <td>2012</td>\n",
       "    </tr>\n",
       "  </tbody>\n",
       "</table>\n",
       "</div>"
      ],
      "text/plain": [
       "   Id   ProductId          UserId                      ProfileName  \\\n",
       "0   1  B001E4KFG0  A3SGXH7AUHU8GW                       delmartian   \n",
       "1   2  B00813GRG4  A1D87F6ZCVE5NK                           dll pa   \n",
       "2   3  B000LQOCH0   ABXLMWJIXXAIN  Natalia Corres \"Natalia Corres\"   \n",
       "3   4  B000UA0QIQ  A395BORC6FGVXV                             Karl   \n",
       "4   5  B006K2ZZ7K  A1UQRSCLF8GW1T    Michael D. Bigham \"M. Wassir\"   \n",
       "\n",
       "   HelpfulnessNumerator  HelpfulnessDenominator  Score       Time  \\\n",
       "0                     1                       1      5 2011-04-27   \n",
       "1                     0                       0      1 2012-09-07   \n",
       "2                     1                       1      4 2008-08-18   \n",
       "3                     3                       3      2 2011-06-13   \n",
       "4                     0                       0      5 2012-10-21   \n",
       "\n",
       "                 Summary                                               Text  \\\n",
       "0  Good Quality Dog Food  I have bought several of the Vitality canned d...   \n",
       "1      Not as Advertised  Product arrived labeled as Jumbo Salted Peanut...   \n",
       "2  \"Delight\" says it all  This is a confection that has been around a fe...   \n",
       "3         Cough Medicine  If you are looking for the secret ingredient i...   \n",
       "4            Great taffy  Great taffy at a great price.  There was a wid...   \n",
       "\n",
       "   Year  \n",
       "0  2011  \n",
       "1  2012  \n",
       "2  2008  \n",
       "3  2011  \n",
       "4  2012  "
      ]
     },
     "execution_count": 54,
     "metadata": {},
     "output_type": "execute_result"
    }
   ],
   "source": [
    "data.head()"
   ]
  },
  {
   "cell_type": "code",
   "execution_count": 56,
   "id": "4b320afe",
   "metadata": {
    "slideshow": {
     "slide_type": "fragment"
    }
   },
   "outputs": [
    {
     "data": {
      "text/plain": [
       "(198659, 11)"
      ]
     },
     "execution_count": 56,
     "metadata": {},
     "output_type": "execute_result"
    }
   ],
   "source": [
    "data[data['Year']==2012].shape"
   ]
  },
  {
   "cell_type": "markdown",
   "id": "1740b46f",
   "metadata": {
    "slideshow": {
     "slide_type": "slide"
    }
   },
   "source": [
    "<center><h2>practice questions</h2></center>"
   ]
  },
  {
   "cell_type": "code",
   "execution_count": 88,
   "id": "9112b342",
   "metadata": {
    "slideshow": {
     "slide_type": "skip"
    }
   },
   "outputs": [],
   "source": [
    "def create_iterator(data):\n",
    "    \"\"\"\n",
    "    Write a function that takes in a list of values and creates\n",
    "    a map instance that when called, will add 2 to each value\n",
    "    if they're an int and cast each value to upper case if\n",
    "    it's a string.\n",
    "    \n",
    "    args:\n",
    "        data(list): list of values of either int or str type\n",
    "    returns:\n",
    "        map instance\n",
    "    \"\"\"\n",
    "    \n",
    "def filter_entries(data):\n",
    "    \"\"\"\n",
    "    Write a function that filters the data according to these criteria:\n",
    "        1) retain only string type entries\n",
    "        2) each string entry needs to be even length\n",
    "    \n",
    "    args:\n",
    "        data(list): list of various elements to be filtered\n",
    "    returns:\n",
    "        the list, filtered according to the criteria above.\n",
    "        \n",
    "    >>> filter_entries([1,2,'ab','cde','nicole', 10])\n",
    "    ['ab', 'nicole']\n",
    "    \"\"\"\n",
    "    return\n",
    "    \n",
    "def map_transforms(data):\n",
    "    \"\"\"\n",
    "    Write a function that maps the following transformations:\n",
    "        1) each entry should be .title()'d\n",
    "        2) each entry should be reversed\n",
    "        \n",
    "    args:\n",
    "        data(list): list of strings to be transformed\n",
    "    returns:\n",
    "        the list with the above transformations applied.\n",
    "    \n",
    "    >>> map_transforms(['ab', 'nicole'])\n",
    "    ['bA', 'elociN']\n",
    "    \"\"\"\n",
    "    return\n",
    "\n",
    "def query_data(database, source, quality):\n",
    "    \"\"\"\n",
    "    Write a function that takes in a dictionary and returns a list \n",
    "    of items from source that are at least of quality level.\n",
    "    Requirement: map/filter/lambda only\n",
    "    args:\n",
    "        database(list): list of dictionary data entries\n",
    "        source (str): string for source of items to be pulled\n",
    "        quality(int): numerical representation of quality\n",
    "    returns:\n",
    "        a list of items from source that are at least of quality level\n",
    "    \n",
    "    >>> data = [\n",
    "    {'name':'a', 'quality':4, 'source':'dsc'}, \n",
    "    {'name':'b','quality':10, 'source':'lign'}, \n",
    "    {'name':'c','quality':2, 'source':'dsc'}, \n",
    "    {'name':'d','quality':5, 'source':'dsc'}\n",
    "    ]\n",
    "    >>> query_data(data, 'dsc', 4)\n",
    "    ['a','d']\n",
    "    \"\"\"\n",
    "    # Write your implementation here\n",
    "    return\n"
   ]
  },
  {
   "cell_type": "markdown",
   "id": "52aad9e9",
   "metadata": {
    "slideshow": {
     "slide_type": "slide"
    }
   },
   "source": [
    "<center><h2>practice question solutions</h2></center>"
   ]
  },
  {
   "cell_type": "code",
   "execution_count": 65,
   "id": "aba3fb45",
   "metadata": {
    "slideshow": {
     "slide_type": "slide"
    }
   },
   "outputs": [],
   "source": [
    "def create_iterator(data):\n",
    "    func = lambda x: x*2 if isinstance(x,int) else x.upper()\n",
    "    return map(func, data)"
   ]
  },
  {
   "cell_type": "code",
   "execution_count": 66,
   "id": "5fab7982",
   "metadata": {
    "slideshow": {
     "slide_type": "fragment"
    }
   },
   "outputs": [
    {
     "data": {
      "text/plain": [
       "<map at 0x7f9bd453a800>"
      ]
     },
     "execution_count": 66,
     "metadata": {},
     "output_type": "execute_result"
    }
   ],
   "source": [
    "temp = create_iterator(['a',2,3, 'cde'])\n",
    "temp"
   ]
  },
  {
   "cell_type": "code",
   "execution_count": 67,
   "id": "1e08a241",
   "metadata": {
    "slideshow": {
     "slide_type": "fragment"
    }
   },
   "outputs": [
    {
     "data": {
      "text/plain": [
       "'A'"
      ]
     },
     "execution_count": 67,
     "metadata": {},
     "output_type": "execute_result"
    }
   ],
   "source": [
    "next(temp)"
   ]
  },
  {
   "cell_type": "code",
   "execution_count": 68,
   "id": "b943f6c3",
   "metadata": {
    "slideshow": {
     "slide_type": "fragment"
    }
   },
   "outputs": [
    {
     "data": {
      "text/plain": [
       "[4, 6, 'CDE']"
      ]
     },
     "execution_count": 68,
     "metadata": {},
     "output_type": "execute_result"
    }
   ],
   "source": [
    "list(temp)"
   ]
  },
  {
   "cell_type": "code",
   "execution_count": 90,
   "id": "2eb707d0",
   "metadata": {
    "slideshow": {
     "slide_type": "slide"
    }
   },
   "outputs": [
    {
     "data": {
      "text/plain": [
       "['ab', 'nicole']"
      ]
     },
     "execution_count": 90,
     "metadata": {},
     "output_type": "execute_result"
    }
   ],
   "source": [
    "def filter_entries(data):\n",
    "    \"\"\"\n",
    "    Write a function that filters the data according to these criteria:\n",
    "        1) retain only string type entries\n",
    "        2) each string entry needs to be even length\n",
    "    \"\"\"\n",
    "    func = lambda x: isinstance(x,str) and len(x)%2==0\n",
    "    return list(filter(func, data))\n",
    "\n",
    "filter_entries([1,2,'ab','cde','nicole', 10])"
   ]
  },
  {
   "cell_type": "code",
   "execution_count": 7,
   "id": "681c0d18",
   "metadata": {
    "slideshow": {
     "slide_type": "slide"
    }
   },
   "outputs": [
    {
     "data": {
      "text/plain": [
       "['bA', 'elociN']"
      ]
     },
     "execution_count": 7,
     "metadata": {},
     "output_type": "execute_result"
    }
   ],
   "source": [
    "def map_transforms(data):\n",
    "    \"\"\"\n",
    "    Write a function that maps the following transformations:\n",
    "        1) each entry should be .title()'d\n",
    "        2) each entry should be reversed\n",
    "    \"\"\"\n",
    "    func = lambda x: x.title()[::-1]\n",
    "    return list(map(func, data))\n",
    "\n",
    "temp = ['ab', 'nicole']\n",
    "map_transforms(temp)"
   ]
  },
  {
   "cell_type": "code",
   "execution_count": 9,
   "id": "fdce861a",
   "metadata": {
    "slideshow": {
     "slide_type": "skip"
    }
   },
   "outputs": [],
   "source": [
    "data = [{'name':'a', 'quality':4, 'source':'dsc'}, \n",
    "    {'name':'b','quality':10, 'source':'lign'}, \n",
    "    {'name':'c','quality':2, 'source':'dsc'}, \n",
    "    {'name':'d','quality':5, 'source':'dsc'}]"
   ]
  },
  {
   "cell_type": "code",
   "execution_count": 10,
   "id": "26495b4f",
   "metadata": {
    "slideshow": {
     "slide_type": "slide"
    }
   },
   "outputs": [
    {
     "data": {
      "text/plain": [
       "['a', 'd']"
      ]
     },
     "execution_count": 10,
     "metadata": {},
     "output_type": "execute_result"
    }
   ],
   "source": [
    "def query_data(database, source, quality):\n",
    "    \"\"\"\n",
    "    Write a function that takes in a dictionary \n",
    "    and returns a list of items from source that \n",
    "    are at least of quality level.\n",
    "\n",
    "    >>> data = [{'name':'a', 'quality':4, 'source':'dsc'}, \n",
    "    {'name':'b','quality':10, 'source':'lign'}, \n",
    "    {'name':'c','quality':2, 'source':'dsc'}, \n",
    "    {'name':'d','quality':5, 'source':'dsc'}]\n",
    "    >>> query_data(data, 'dsc', 4)\n",
    "    ['a','d']\n",
    "    \"\"\"\n",
    "    data_check = lambda x: x['source']==source and x['quality']>=quality\n",
    "    filtered = filter(data_check, database)\n",
    "    data_yield = lambda x:x['name']\n",
    "    return list(map(data_yield, filtered))\n",
    "query_data(data, 'dsc', 4)"
   ]
  },
  {
   "cell_type": "markdown",
   "id": "49030538",
   "metadata": {
    "slideshow": {
     "slide_type": "slide"
    }
   },
   "source": [
    "<center> <h1>Thanks for coming!</h1></center>"
   ]
  },
  {
   "cell_type": "code",
   "execution_count": null,
   "id": "1e60d5be",
   "metadata": {
    "slideshow": {
     "slide_type": "skip"
    }
   },
   "outputs": [],
   "source": []
  }
 ],
 "metadata": {
  "celltoolbar": "Slideshow",
  "kernelspec": {
   "display_name": "Python 3 (ipykernel)",
   "language": "python",
   "name": "python3"
  },
  "language_info": {
   "codemirror_mode": {
    "name": "ipython",
    "version": 3
   },
   "file_extension": ".py",
   "mimetype": "text/x-python",
   "name": "python",
   "nbconvert_exporter": "python",
   "pygments_lexer": "ipython3",
   "version": "3.10.8"
  },
  "rise": {
   "enable_chalkboard": true
  }
 },
 "nbformat": 4,
 "nbformat_minor": 5
}
