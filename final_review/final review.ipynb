{
 "cells": [
  {
   "cell_type": "code",
   "execution_count": 5,
   "id": "727664c4",
   "metadata": {},
   "outputs": [
    {
     "name": "stdout",
     "output_type": "stream",
     "text": [
      "[1, 3, 9, 10]\n"
     ]
    }
   ],
   "source": [
    "def strictly_increasing(lst):\n",
    "    \"\"\"\n",
    "    Write a function that takes in a list of integers and \n",
    "    returns a new list containing only the numbers that are\n",
    "    in increasing order. Numbers should appear in the same \n",
    "    order in the input and output list.\n",
    "    \n",
    "    >>> increasing([1, 3, 2, 4, 5, 8, 7, 6, 9])\n",
    "    [1, 3, 4, 5, 8, 9]\n",
    "    >>> increasing([5, 4, 3, 2, 1])\n",
    "    [5]\n",
    "    \"\"\"\n",
    "    output = []\n",
    "    for num in lst:\n",
    "        if len(output) == 0:\n",
    "            output.append(num)\n",
    "        elif num > output[-1]:\n",
    "            output.append(num)\n",
    "    return output\n",
    "print(strictly_increasing([1, 3, 2, 9, 5, 8, 9, 6, 10]))"
   ]
  },
  {
   "cell_type": "code",
   "execution_count": 2,
   "id": "c50b881a",
   "metadata": {},
   "outputs": [
    {
     "data": {
      "text/plain": [
       "[5]"
      ]
     },
     "execution_count": 2,
     "metadata": {},
     "output_type": "execute_result"
    }
   ],
   "source": [
    "strictly_increasing([5,4,3,2,1])"
   ]
  },
  {
   "cell_type": "markdown",
   "id": "7e554ad2",
   "metadata": {},
   "source": [
    "Write a function that takes in a list of integers and uses a for loop to return a new list containing only the numbers that are in increasing order. Numbers should appear in the same  order in the input and output list."
   ]
  },
  {
   "cell_type": "code",
   "execution_count": 8,
   "id": "7a25845a",
   "metadata": {},
   "outputs": [],
   "source": [
    "def strictly_increasing(lst):\n",
    "    \"\"\"\n",
    "    >>> increasing([1, 3, 2, 4, 5, 8, 7, 6, 9])\n",
    "    [1, 3, 4, 5, 8, 9]\n",
    "    >>> strictly_increasing([5,4,3,2,1])\n",
    "    []\n",
    "    \"\"\""
   ]
  },
  {
   "cell_type": "code",
   "execution_count": 7,
   "id": "fe107f2f",
   "metadata": {},
   "outputs": [
    {
     "data": {
      "text/plain": [
       "[5]"
      ]
     },
     "execution_count": 7,
     "metadata": {},
     "output_type": "execute_result"
    }
   ],
   "source": [
    "def strictly_increasing_comp(lst):\n",
    "    \"\"\"\n",
    "    >>> strictly_increasing([1, 3, 2, 4, 5, 8, 7, 6, 9])\n",
    "    [1, 3, 4, 5, 8, 9]\n",
    "    >>> strictly_increasing([5,4,3,2,1])\n",
    "    []\n",
    "    \"\"\"\n",
    "    return [lst[0]] + [lst[i] for i in range(1, len(lst)) if lst[i] > lst[i-1]]\n",
    "strictly_increasing_comp([1, 3, 2, 9, 5, 8, 9, 6, 10])"
   ]
  },
  {
   "cell_type": "code",
   "execution_count": 8,
   "id": "da751a4d",
   "metadata": {},
   "outputs": [],
   "source": [
    "lst = [2,4,9, 'str', 'temp']"
   ]
  },
  {
   "cell_type": "code",
   "execution_count": 9,
   "id": "821c3543",
   "metadata": {},
   "outputs": [
    {
     "data": {
      "text/plain": [
       "[9, 'str']"
      ]
     },
     "execution_count": 9,
     "metadata": {},
     "output_type": "execute_result"
    }
   ],
   "source": [
    "[x for x in lst if (isinstance(x,int) and x%3==0) or (isinstance(x, str) and len(x)%3==0)]"
   ]
  },
  {
   "cell_type": "markdown",
   "id": "1e3fcdc8",
   "metadata": {},
   "source": [
    "Write a function that takes in a list of integers and uses\n",
    "a <b>list comprehension</b> to\n",
    "return a new list containing only the numbers that are\n",
    "in increasing order. Numbers should appear in the same \n",
    "order in the input and output list."
   ]
  },
  {
   "cell_type": "code",
   "execution_count": 7,
   "id": "f1235be2",
   "metadata": {},
   "outputs": [],
   "source": [
    "def strictly_increasing_comp(lst):\n",
    "    \"\"\"\n",
    "    >>> strictly_increasing([1, 3, 2, 4, 5, 8, 7, 6, 9])\n",
    "    [1, 3, 4, 5, 8, 9]\n",
    "    >>> strictly_increasing([5,4,3,2,1])\n",
    "    []\n",
    "    \"\"\""
   ]
  },
  {
   "cell_type": "markdown",
   "id": "38338cba",
   "metadata": {},
   "source": [
    "Given the following dictionary, write an expression that results in 'white'"
   ]
  },
  {
   "cell_type": "code",
   "execution_count": 13,
   "id": "f04ccdb2",
   "metadata": {},
   "outputs": [],
   "source": [
    "nested_dict = {\"ocean\": {\"waves\": \"calm\", \"island\": {\"beach\": {\"sand\": \"white\"}},\"climate\": \"tropical\"}}"
   ]
  },
  {
   "cell_type": "code",
   "execution_count": 18,
   "id": "a5be3d0a",
   "metadata": {},
   "outputs": [
    {
     "data": {
      "text/plain": [
       "'white'"
      ]
     },
     "execution_count": 18,
     "metadata": {},
     "output_type": "execute_result"
    }
   ],
   "source": [
    "nested_dict['ocean']['island']['beach']['sand']"
   ]
  },
  {
   "cell_type": "code",
   "execution_count": 19,
   "id": "78e8e0c2",
   "metadata": {},
   "outputs": [
    {
     "name": "stdout",
     "output_type": "stream",
     "text": [
      "True\n",
      "False\n"
     ]
    }
   ],
   "source": [
    "def recursive_palindrome(word):\n",
    "    \"\"\"\n",
    "    >>> recursive_palindrome('racecar')\n",
    "    True\n",
    "    >>> recursive_palindrome('chatgpt')\n",
    "    False\n",
    "    \"\"\"\n",
    "    # Write your implementation here\n",
    "    if len(word) <= 1:\n",
    "        return True\n",
    "    else:\n",
    "        return all([recursive_palindrome(word[1:-1]), word[0] == word[-1]])\n",
    "\n",
    "print(recursive_palindrome('racecar'))\n",
    "print(recursive_palindrome('chatgpt'))"
   ]
  },
  {
   "cell_type": "markdown",
   "id": "99b62c29",
   "metadata": {},
   "source": [
    "given the following file, process the data into a dictionary. The dictionary should have the bookstore name as keys and the remaining values in a list."
   ]
  },
  {
   "cell_type": "code",
   "execution_count": 84,
   "id": "aee71cfd",
   "metadata": {},
   "outputs": [
    {
     "name": "stdout",
     "output_type": "stream",
     "text": [
      "name,city,year,books\n",
      "Bright Books,New York,1995,4500\n",
      "Page Turners,San Francisco,2001,6000\n",
      "Literary Haven,Chicago,1980,7000\n",
      "The Reading Room,Boston,2005,5300\n",
      "Bookworm's Paradise,Los Angeles,1975,4800\n",
      "Novel Ideas,Seattle,2001,7000\n"
     ]
    }
   ],
   "source": [
    "with open('data.txt', 'r') as f:\n",
    "    print(f.read())"
   ]
  },
  {
   "cell_type": "code",
   "execution_count": 3,
   "id": "355818a7",
   "metadata": {},
   "outputs": [],
   "source": [
    "def process_bookstores(filepath):\n",
    "    \"\"\"\n",
    "    >>> proces_bookstores('data'txt)\n",
    "    {'Bright Books': ['New York', '1995', '4500'],\n",
    "    'Page Turners': ['San Francisco', '2001', '6000'],\n",
    "    'Literary Haven': ['Chicago', '1980', '7000'],\n",
    "    'The Reading Room': ['Boston', '2005', '5300'],\n",
    "    \"Bookworm's Paradise\": ['Los Angeles', '1975', '4800'],\n",
    "    'Novel Ideas': ['Seattle', '2001', '7000']}\n",
    "    \"\"\"\n",
    "    \n",
    "    with open(filepath, 'r') as f:\n",
    "        f.readline()\n",
    "        data = f.readlines()\n",
    "        return {store.strip().split(',')[0]:store.strip().split(',')[1:] for store in data}"
   ]
  },
  {
   "cell_type": "code",
   "execution_count": 11,
   "id": "c285fbb5",
   "metadata": {},
   "outputs": [],
   "source": [
    "def process_bookstores(filepath):\n",
    "    \"\"\"\n",
    "    >>> proces_bookstores('data'txt)\n",
    "    {'Bright Books': ['New York', '1995', '4500'],\n",
    "    'Page Turners': ['San Francisco', '2001', '6000'],\n",
    "    'Literary Haven': ['Chicago', '1980', '7000'],\n",
    "    'The Reading Room': ['Boston', '2005', '5300'],\n",
    "    \"Bookworm's Paradise\": ['Los Angeles', '1975', '4800'],\n",
    "    'Novel Ideas': ['Seattle', '2001', '7000']}\n",
    "    \"\"\"\n",
    "    \n",
    "    with open(filepath, 'r') as f:\n",
    "        f.readline()\n",
    "        data = f.read().strip().split('\\n')\n",
    "        return {store.split(',')[0]:store.split(',')[1:] for store in data}"
   ]
  },
  {
   "cell_type": "code",
   "execution_count": 12,
   "id": "d5cbef04",
   "metadata": {},
   "outputs": [
    {
     "data": {
      "text/plain": [
       "{'Bright Books': ['New York', '1995', '4500'],\n",
       " 'Page Turners': ['San Francisco', '2001', '6000'],\n",
       " 'Literary Haven': ['Chicago', '1980', '7000'],\n",
       " 'The Reading Room': ['Boston', '2005', '5300'],\n",
       " \"Bookworm's Paradise\": ['Los Angeles', '1975', '4800'],\n",
       " 'Novel Ideas': ['Seattle', '2001', '7000']}"
      ]
     },
     "execution_count": 12,
     "metadata": {},
     "output_type": "execute_result"
    }
   ],
   "source": [
    "output = process_bookstores('data.txt')\n",
    "output"
   ]
  },
  {
   "cell_type": "markdown",
   "id": "0b00d31d",
   "metadata": {},
   "source": [
    "Given this result, use a map/filter/lambda expression to pull out the cities in which there's a bookstore that was opened after 2000 and has more than 5500 books sold."
   ]
  },
  {
   "cell_type": "code",
   "execution_count": 87,
   "id": "6e37d6b9",
   "metadata": {},
   "outputs": [],
   "source": [
    "def process_data(dct):\n",
    "    \"\"\"\n",
    "    >>> process_data(process_bookstores('data.txt'))\n",
    "    ['San Francisco', 'Seattle']\n",
    "    \"\"\"\n",
    "    \n",
    "    year_filter = filter(lambda x: int(dct[x][1]) > 2000, dct)\n",
    "    book_filter = filter(lambda x: int(dct[x][2]) > 5500, year_filter)\n",
    "    \n",
    "    return list(map(lambda x: dct[x][0], book_filter))"
   ]
  },
  {
   "cell_type": "code",
   "execution_count": 88,
   "id": "e37ac2cd",
   "metadata": {},
   "outputs": [
    {
     "data": {
      "text/plain": [
       "['San Francisco', 'Seattle']"
      ]
     },
     "execution_count": 88,
     "metadata": {},
     "output_type": "execute_result"
    }
   ],
   "source": [
    "process_data(output)"
   ]
  },
  {
   "cell_type": "markdown",
   "id": "60bc59a5",
   "metadata": {},
   "source": [
    "Write a function that processes an unknown number of inputs and keyworded inputs. It should return the sum, count, and mean of the regular inputs and create a dictionary with the keyworded inputs"
   ]
  },
  {
   "cell_type": "code",
   "execution_count": 92,
   "id": "b630237e",
   "metadata": {},
   "outputs": [],
   "source": [
    "def ingest_data(*nums, **vals):\n",
    "    \"\"\"\n",
    "    >>> ingest_data(1,2,3,4,marina='1',nikki='2')\n",
    "    (10, 4, 2.5, {'marina': '1', 'nikki': '2'})\n",
    "    \"\"\"\n",
    "    \n",
    "    return sum(nums), len(nums), sum(nums)/len(nums), dict(vals)"
   ]
  },
  {
   "cell_type": "code",
   "execution_count": 93,
   "id": "ad2da0db",
   "metadata": {},
   "outputs": [
    {
     "data": {
      "text/plain": [
       "(10, 4, 2.5, {'marina': 1, 'nikki': 2})"
      ]
     },
     "execution_count": 93,
     "metadata": {},
     "output_type": "execute_result"
    }
   ],
   "source": [
    "ingest_data(1,2,3,4,marina=1,nikki=2)"
   ]
  },
  {
   "cell_type": "markdown",
   "id": "d0211dc3",
   "metadata": {},
   "source": [
    "Write a function that can validate the inputs to ingest_data"
   ]
  },
  {
   "cell_type": "code",
   "execution_count": 95,
   "id": "7a24b397",
   "metadata": {},
   "outputs": [],
   "source": [
    "def data_validator(nums,vals):\n",
    "    \n",
    "    \n",
    "    assert all([(isinstance(x, int) or isinstance(x, float)) for x in nums])\n",
    "    assert all([isinstance(k,str) for k in vals]) and all([isinstance(v, str) for v in vals.values()])\n",
    "    return 'passed!'"
   ]
  },
  {
   "cell_type": "code",
   "execution_count": 98,
   "id": "dccd6179",
   "metadata": {},
   "outputs": [],
   "source": [
    "def ingest_data(*nums, **vals):\n",
    "    data_validator(nums, vals)\n",
    "    return sum(nums), len(nums), sum(nums)/len(nums), dict(vals)"
   ]
  },
  {
   "cell_type": "code",
   "execution_count": 102,
   "id": "671471b4",
   "metadata": {},
   "outputs": [
    {
     "data": {
      "text/plain": [
       "(10, 4, 2.5, {'marina': '1', 'nikki': '2'})"
      ]
     },
     "execution_count": 102,
     "metadata": {},
     "output_type": "execute_result"
    }
   ],
   "source": [
    "ingest_data(1,2,3,4,marina='1',nikki='2')"
   ]
  },
  {
   "cell_type": "markdown",
   "id": "00873273",
   "metadata": {},
   "source": [
    "Create a python class to represent a book."
   ]
  },
  {
   "cell_type": "code",
   "execution_count": 1,
   "id": "1e79af80",
   "metadata": {},
   "outputs": [],
   "source": [
    "class book:\n",
    "    def __init__(self, title, author, year):\n",
    "        self.title = title\n",
    "        self.author = author\n",
    "        self.year = year\n",
    "\n",
    "    def __str__(self):\n",
    "        return f\"{self.title} by {self.author} ({self.year})\"\n",
    "\n",
    "    def __repr__(self):\n",
    "        return f\"Book('{self.title}', '{self.author}', {self.year})\"\n",
    "    \n",
    "    def __lt__(self, other_book):\n",
    "        return self.year < other_book.year"
   ]
  },
  {
   "cell_type": "code",
   "execution_count": 2,
   "id": "df4fdb9d",
   "metadata": {},
   "outputs": [],
   "source": [
    "class horror(book):\n",
    "    def __init__(self,title,author,year,genre='horror'):\n",
    "        super().__init__(title,author,year)\n",
    "        self.genre = genre\n",
    "    def __str__(self):\n",
    "        return f'{self.title} says boo!'"
   ]
  },
  {
   "cell_type": "code",
   "execution_count": 14,
   "id": "d76d11ed",
   "metadata": {},
   "outputs": [],
   "source": [
    "book1 = Book(\"1984\", \"George Orwell\", 1949)\n",
    "book2 = horror(\"IT\", \"Stephen King\", 1986)\n",
    "book3 = book1"
   ]
  },
  {
   "cell_type": "code",
   "execution_count": 19,
   "id": "09b0d84b",
   "metadata": {},
   "outputs": [
    {
     "ename": "AttributeError",
     "evalue": "'Book' object has no attribute 'genre'",
     "output_type": "error",
     "traceback": [
      "\u001b[0;31m---------------------------------------------------------------------------\u001b[0m",
      "\u001b[0;31mAttributeError\u001b[0m                            Traceback (most recent call last)",
      "Cell \u001b[0;32mIn[19], line 2\u001b[0m\n\u001b[1;32m      1\u001b[0m \u001b[38;5;66;03m# what is the output?\u001b[39;00m\n\u001b[0;32m----> 2\u001b[0m \u001b[43mbook1\u001b[49m\u001b[38;5;241;43m.\u001b[39;49m\u001b[43mgenre\u001b[49m \u001b[38;5;241m==\u001b[39m book2\u001b[38;5;241m.\u001b[39mgenre\n",
      "\u001b[0;31mAttributeError\u001b[0m: 'Book' object has no attribute 'genre'"
     ]
    }
   ],
   "source": [
    "# what is the output?\n",
    "book1.genre == book2.genre"
   ]
  },
  {
   "cell_type": "code",
   "execution_count": 15,
   "id": "3ada0d9b",
   "metadata": {},
   "outputs": [
    {
     "data": {
      "text/plain": [
       "True"
      ]
     },
     "execution_count": 15,
     "metadata": {},
     "output_type": "execute_result"
    }
   ],
   "source": [
    "# what is the output?\n",
    "book1 < book2"
   ]
  },
  {
   "cell_type": "code",
   "execution_count": 16,
   "id": "f21a4a07",
   "metadata": {},
   "outputs": [
    {
     "data": {
      "text/plain": [
       "True"
      ]
     },
     "execution_count": 16,
     "metadata": {},
     "output_type": "execute_result"
    }
   ],
   "source": [
    "# what is the output?\n",
    "isinstance(book2, book)"
   ]
  },
  {
   "cell_type": "code",
   "execution_count": 17,
   "id": "45f2a743",
   "metadata": {},
   "outputs": [
    {
     "data": {
      "text/plain": [
       "True"
      ]
     },
     "execution_count": 17,
     "metadata": {},
     "output_type": "execute_result"
    }
   ],
   "source": [
    "book3 is book1"
   ]
  },
  {
   "cell_type": "code",
   "execution_count": 18,
   "id": "cee94e6e",
   "metadata": {},
   "outputs": [
    {
     "data": {
      "text/plain": [
       "True"
      ]
     },
     "execution_count": 18,
     "metadata": {},
     "output_type": "execute_result"
    }
   ],
   "source": [
    "book3 == book1"
   ]
  },
  {
   "cell_type": "code",
   "execution_count": 21,
   "id": "95c12065",
   "metadata": {},
   "outputs": [],
   "source": [
    "def safe_divide(a,b):\n",
    "    try:\n",
    "        output = a/b\n",
    "    except ZeroDivisionError as e:\n",
    "        return 'divided by zero'\n",
    "    except TypeError as e:\n",
    "        return 'dividing by a non-number'\n",
    "    else:\n",
    "        return output"
   ]
  },
  {
   "cell_type": "code",
   "execution_count": 22,
   "id": "dd338772",
   "metadata": {},
   "outputs": [
    {
     "data": {
      "text/plain": [
       "0.5"
      ]
     },
     "execution_count": 22,
     "metadata": {},
     "output_type": "execute_result"
    }
   ],
   "source": [
    "safe_divide(1,2)"
   ]
  },
  {
   "cell_type": "code",
   "execution_count": 23,
   "id": "76f66d79",
   "metadata": {},
   "outputs": [
    {
     "data": {
      "text/plain": [
       "'divided by zero'"
      ]
     },
     "execution_count": 23,
     "metadata": {},
     "output_type": "execute_result"
    }
   ],
   "source": [
    "safe_divide(1,0)"
   ]
  },
  {
   "cell_type": "code",
   "execution_count": 25,
   "id": "04ee2f29",
   "metadata": {},
   "outputs": [
    {
     "data": {
      "text/plain": [
       "'dividing by a non-number'"
      ]
     },
     "execution_count": 25,
     "metadata": {},
     "output_type": "execute_result"
    }
   ],
   "source": [
    "safe_divide(1,'a')"
   ]
  },
  {
   "cell_type": "code",
   "execution_count": 26,
   "id": "47aa7288",
   "metadata": {},
   "outputs": [
    {
     "data": {
      "text/plain": [
       "'write doctests for this function'"
      ]
     },
     "execution_count": 26,
     "metadata": {},
     "output_type": "execute_result"
    }
   ],
   "source": [
    "'write doctests for this function'"
   ]
  },
  {
   "cell_type": "markdown",
   "id": "e00a96eb",
   "metadata": {},
   "source": [
    "Why are assert statements alone insufficient? I.E. Why do we use try-except?"
   ]
  },
  {
   "cell_type": "markdown",
   "id": "835a499d",
   "metadata": {},
   "source": [
    "I want to run my written doctests from a file named ```homework.py```. Write the command I'd use."
   ]
  },
  {
   "cell_type": "code",
   "execution_count": 5,
   "id": "9137b21b",
   "metadata": {},
   "outputs": [],
   "source": [
    "def squared_lst(*nums):\n",
    "    return map(lambda x: x**2, nums)"
   ]
  },
  {
   "cell_type": "code",
   "execution_count": 7,
   "id": "da126ac6",
   "metadata": {},
   "outputs": [
    {
     "data": {
      "text/plain": [
       "[1, 4, 9]"
      ]
     },
     "execution_count": 7,
     "metadata": {},
     "output_type": "execute_result"
    }
   ],
   "source": [
    "list(squared_lst(1,2,3))"
   ]
  },
  {
   "cell_type": "code",
   "execution_count": null,
   "id": "39af3995",
   "metadata": {},
   "outputs": [],
   "source": []
  }
 ],
 "metadata": {
  "kernelspec": {
   "display_name": "Python 3 (ipykernel)",
   "language": "python",
   "name": "python3"
  },
  "language_info": {
   "codemirror_mode": {
    "name": "ipython",
    "version": 3
   },
   "file_extension": ".py",
   "mimetype": "text/x-python",
   "name": "python",
   "nbconvert_exporter": "python",
   "pygments_lexer": "ipython3",
   "version": "3.10.8"
  }
 },
 "nbformat": 4,
 "nbformat_minor": 5
}
